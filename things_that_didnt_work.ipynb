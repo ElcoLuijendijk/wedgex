{
 "cells": [
  {
   "cell_type": "code",
   "execution_count": null,
   "metadata": {},
   "outputs": [],
   "source": []
  },
  {
   "cell_type": "markdown",
   "metadata": {},
   "source": [
    "## Complicated form with correct velocity at the bottom:\n",
    "\n",
    "**Note: this is probably not needed, the slope of the wedge (beta) tends to be very low, ~5%, and therefore the approximation that vy=0 at the base of the wedge is probably ok**\n",
    "\n",
    "\n",
    "Instead of assuming a zero vertical velocity at the bottom of the wedge, we assume that the vertical velocity at any point (x,y) increases linearly from v_b at the bottom of the wedge (y=b) to vyt at the top of the wedge:\n",
    "\n",
    "$$v_y = \\dfrac{(y-b)}{h} (v_{yt} - v_{yb}) + v_{yb}$$\n",
    "\n",
    "The velocity at the bottom of the wedge must be parallel to the detachment, and therefore:\n",
    "\n",
    "$$v_yb = \\beta v_x$$\n",
    "\n",
    "We assume that vx increases linearly from 0 at the left hand side to vc at the right hand side:\n",
    "$$v_x = \\dfrac{x}{L} v_c$$\n",
    "\n",
    "$$v_{yb} = \\beta \\dfrac{x}{L} v_c$$\n",
    "\n",
    "Inserting this in the first eq.:\n",
    "\n",
    "$$v_{yt} = (v_y - \\beta x v_c / L) \\dfrac{h}{y - b} + \\beta x v_c / L$$\n",
    "\n",
    "where h is the height of the wedge\n",
    "\n",
    "inserting this back into eq:\n",
    "\n",
    "$$v_{yt} = -2 \\dfrac{H}{L^2} x v_c$$\n",
    "\n",
    "which yields:\n",
    "\n",
    "$$(v_y - \\beta x v_c / L) \\dfrac{h}{y - b} + \\beta x v_c / L = -2 \\dfrac{H}{L^2} x v_c$$\n",
    "\n",
    "redifining \n",
    "\n",
    "$$c = v_c / L$$\n",
    "\n",
    "and\n",
    "$$ b = \\beta x$$\n",
    "\n",
    "and the aspect ratio of the wedge, which is assumed constant:\n",
    "$$H/L = \\eta$$\n",
    "\n",
    "$$(v_y - c b) \\dfrac{h}{y - b} + c b = -2 \\eta c x$$\n",
    "\n",
    "which after rewriting yields\n",
    "\n",
    "$$v_y = (-2 \\eta c x - b c) \\dfrac{y - b}{h} + c b$$\n",
    "\n",
    "which can be somewhat simplified to:\n",
    "\n",
    "$$v_y = \\dfrac{c}{h} \\left(b^2 + b h + 2 b \\eta x - b y - 2 \\eta x y \\right)$$\n",
    "\n",
    "not sure if this is still workable. For integration y should be separated from t, which appears as a substitution for x. However, this seems not possible with this version of the eq."
   ]
  }
 ],
 "metadata": {
  "kernelspec": {
   "display_name": "Python 3",
   "language": "python",
   "name": "python3"
  },
  "language_info": {
   "codemirror_mode": {
    "name": "ipython",
    "version": 3
   },
   "file_extension": ".py",
   "mimetype": "text/x-python",
   "name": "python",
   "nbconvert_exporter": "python",
   "pygments_lexer": "ipython3",
   "version": "3.6.8"
  }
 },
 "nbformat": 4,
 "nbformat_minor": 2
}
