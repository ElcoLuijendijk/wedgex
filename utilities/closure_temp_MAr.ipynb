{
 "cells": [
  {
   "cell_type": "code",
   "execution_count": null,
   "id": "069dd132-bd62-4a1d-ab4a-81d518a35ada",
   "metadata": {},
   "outputs": [],
   "source": []
  },
  {
   "cell_type": "code",
   "execution_count": 1,
   "id": "825ad07f-c5c0-49b8-9f30-ed583d40afe3",
   "metadata": {},
   "outputs": [],
   "source": [
    "import astropy.units as u\n",
    "import numpy as np\n",
    "import matplotlib.pyplot as pl"
   ]
  },
  {
   "cell_type": "code",
   "execution_count": null,
   "id": "ebb96e70-35cd-4eb4-a9b4-1614892789b1",
   "metadata": {},
   "outputs": [],
   "source": []
  },
  {
   "cell_type": "code",
   "execution_count": 42,
   "id": "08909c77-9175-472e-bfb2-856f382837ee",
   "metadata": {},
   "outputs": [],
   "source": [
    "r = 8.314 * u.J / (u.K * u.mol)\n",
    "\n",
    "# here are Ea and D0/a2 values for mus from hames&bowring1994,robbins72\n",
    "# taken from reiners 2004\n",
    "#energy = 180 * 1e3 * u.J / u.mol\n",
    "#geom = 1\n",
    "#diff = 3.91 / u.s\n",
    "\n",
    "energy = 263592 * u.J / u.mol\n",
    "geom = 1\n",
    "D0 = 2.3e-4 * u.m**2 / u.s\n",
    "a = 100.0 * 1e-6 * u.m\n",
    "diff = D0 / a**2"
   ]
  },
  {
   "cell_type": "code",
   "execution_count": null,
   "id": "c1b2f8fe-54ee-471a-99ab-0483380573ac",
   "metadata": {},
   "outputs": [],
   "source": []
  },
  {
   "cell_type": "code",
   "execution_count": 43,
   "id": "2ace539d-dfa9-414e-93b1-2a0dede04393",
   "metadata": {},
   "outputs": [],
   "source": [
    "cooling = np.linspace(0.1, 100, 1001) / 1e6 * u.K / u.year\n"
   ]
  },
  {
   "cell_type": "code",
   "execution_count": 44,
   "id": "aba2c8b5-9f0d-4699-a155-dfa94c777bd9",
   "metadata": {},
   "outputs": [],
   "source": [
    "def guess_Tc(temp_guess, cooling, r, energy, geom, diff):\n",
    "\n",
    "    tau = r * temp_guess**2 / (energy * cooling)\n",
    "    \n",
    "    Tc = energy / (r * np.log(geom * tau * diff))\n",
    "    \n",
    "    return Tc"
   ]
  },
  {
   "cell_type": "code",
   "execution_count": 45,
   "id": "c8e3b119-52fa-462e-8838-7afc2d6cdae0",
   "metadata": {},
   "outputs": [
    {
     "name": "stdout",
     "output_type": "stream",
     "text": [
      "[703.8054822  714.79616429 721.38795981 ... 831.23340801 831.2552128\n",
      " 831.27699694] K [686.58164657 696.56237913 702.53476916 ... 800.52971898 800.54888218\n",
      " 800.56802712] K\n"
     ]
    }
   ],
   "source": [
    "\n",
    "\n",
    "\n",
    "Tc_final = np.zeros(cooling.shape) * u.K\n",
    "\n",
    "Tci = 400.0 * u.K\n",
    "\n",
    "n_iter = 10\n",
    "\n",
    "Tcis = []\n",
    "\n",
    "for i in range(n_iter):\n",
    "    \n",
    "    Tci = guess_Tc(Tci, cooling, r, energy, geom, diff)\n",
    "    \n",
    "    Tcis.append(Tci)\n",
    "    \n",
    "    Tc_final = np.array(Tcis)[-1]\n",
    "    \n",
    "print(Tcis[0], Tcis[1])"
   ]
  },
  {
   "cell_type": "code",
   "execution_count": 46,
   "id": "fb81b540-39ed-4a22-8128-310300b14eee",
   "metadata": {},
   "outputs": [
    {
     "data": {
      "text/plain": [
       "(600.0, 0.0)"
      ]
     },
     "execution_count": 46,
     "metadata": {},
     "output_type": "execute_result"
    },
    {
     "data": {
      "image/png": "[encoded data removed]",
      "text/plain": [
       "<Figure size 432x288 with 1 Axes>"
      ]
     },
     "metadata": {
      "needs_background": "light"
     },
     "output_type": "display_data"
    }
   ],
   "source": [
    "fig, ax = pl.subplots(1, 1, figsize=(6, 4))\n",
    "\n",
    "ax.plot(cooling * 1e6, Tc_final -273.15)\n",
    "\n",
    "ax.set_xscale('log')\n",
    "\n",
    "ax.set_xlabel(r'Cooling ($10^{-6}\\; ^{\\circ}C \\;a^{-1}$)')\n",
    "\n",
    "ax.set_ylabel(r'Closure temperature ($^{\\circ}C$)')\n",
    "\n",
    "ax.set_ylim(600, 0)"
   ]
  },
  {
   "cell_type": "code",
   "execution_count": 29,
   "id": "4783c576-1e24-4505-b8ba-7f01004cee60",
   "metadata": {},
   "outputs": [
    {
     "data": {
      "text/plain": [
       "(10, 1001)"
      ]
     },
     "execution_count": 29,
     "metadata": {},
     "output_type": "execute_result"
    }
   ],
   "source": [
    "np.array(Tcis).shape"
   ]
  },
  {
   "cell_type": "code",
   "execution_count": null,
   "id": "4f9e682c-f407-4ccc-ab93-9b0925618e17",
   "metadata": {},
   "outputs": [],
   "source": []
  }
 ],
 "metadata": {
  "kernelspec": {
   "display_name": "Python 3",
   "language": "python",
   "name": "python3"
  },
  "language_info": {
   "codemirror_mode": {
    "name": "ipython",
    "version": 3
   },
   "file_extension": ".py",
   "mimetype": "text/x-python",
   "name": "python",
   "nbconvert_exporter": "python",
   "pygments_lexer": "ipython3",
   "version": "3.8.8"
  }
 },
 "nbformat": 4,
 "nbformat_minor": 5
}
