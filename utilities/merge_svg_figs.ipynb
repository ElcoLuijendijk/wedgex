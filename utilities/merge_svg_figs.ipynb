{
 "cells": [
  {
   "cell_type": "code",
   "execution_count": 1,
   "metadata": {},
   "outputs": [],
   "source": [
    "# Merge two svg figures and convert to pdf format"
   ]
  },
  {
   "cell_type": "code",
   "execution_count": 2,
   "metadata": {},
   "outputs": [],
   "source": [
    "import os\n",
    "import subprocess\n",
    "from svglib.svglib import svg2rlg\n",
    "from reportlab.graphics import renderPDF, renderPM\n"
   ]
  },
  {
   "cell_type": "code",
   "execution_count": null,
   "metadata": {},
   "outputs": [],
   "source": []
  },
  {
   "cell_type": "code",
   "execution_count": 3,
   "metadata": {},
   "outputs": [],
   "source": [
    "svg_script_loc = 'svg_stack.py'\n",
    "#fn_comb = ['fig/error_simplified_solution_case1.svg', 'fig/error_simplified_solution_case2.svg']\n",
    "#fn_out_name = 'fig/error_simplified_solution_merged.svg'\n",
    "#direction = 'v'\n",
    "\n",
    "fn_comb = ['fig/wedgex_model_detachment_cal.svg', 'fig/wedgex_model_compression_cal.svg']\n",
    "fn_out_name = 'fig/wedgex_models_combined.svg'\n",
    "direction = 'v'\n",
    "\n",
    "#fn_comb = ['fig/wedgex_model_hor_accretion.svg', 'fig/wedgex_model_vert_accretion.svg']\n",
    "#fn_out_name = 'fig/wedgex_models_combined2.svg'\n",
    "#direction = 'h'\n",
    "\n",
    "#fn_comb = ['fig/wedgex_models_combined1.svg', 'fig/wedgex_models_combined2.svg']\n",
    "#fn_out_name = 'fig/wedgex_models_combined.svg'\n",
    "#direction = 'v'"
   ]
  },
  {
   "cell_type": "code",
   "execution_count": null,
   "metadata": {},
   "outputs": [],
   "source": []
  },
  {
   "cell_type": "code",
   "execution_count": 4,
   "metadata": {},
   "outputs": [
    {
     "name": "stdout",
     "output_type": "stream",
     "text": [
      "combining figure panels:\n",
      "merged  ['fig/wedgex_model_detachment_cal.svg', 'fig/wedgex_model_compression_cal.svg']\n",
      "and saved as fig/wedgex_models_combined.svg\n",
      "done combining plots\n"
     ]
    }
   ],
   "source": [
    "print('combining figure panels:')\n",
    "\n",
    "cwd = os.getcwd()\n",
    "\n",
    "call_command = ['python', svg_script_loc, '--direction=%s' % direction]\n",
    "call_command += [os.path.join(cwd, fn) for fn in fn_comb]\n",
    "call_command += [os.path.join(cwd, fn_out_name)]\n",
    "subprocess.call(call_command)\n",
    "\n",
    "print('merged ', fn_comb)\n",
    "print('and saved as %s' % fn_out_name)\n",
    "\n",
    "print('done combining plots')"
   ]
  },
  {
   "cell_type": "code",
   "execution_count": null,
   "metadata": {},
   "outputs": [],
   "source": []
  },
  {
   "cell_type": "code",
   "execution_count": 5,
   "metadata": {},
   "outputs": [],
   "source": [
    "\n",
    "drawing = svg2rlg(fn_out_name)\n",
    "renderPDF.drawToFile(drawing, fn_out_name[:-4] + '.pdf')\n"
   ]
  },
  {
   "cell_type": "code",
   "execution_count": null,
   "metadata": {},
   "outputs": [],
   "source": []
  }
 ],
 "metadata": {
  "kernelspec": {
   "display_name": "Python 3",
   "language": "python",
   "name": "python3"
  },
  "language_info": {
   "codemirror_mode": {
    "name": "ipython",
    "version": 3
   },
   "file_extension": ".py",
   "mimetype": "text/x-python",
   "name": "python",
   "nbconvert_exporter": "python",
   "pygments_lexer": "ipython3",
   "version": "3.7.0"
  }
 },
 "nbformat": 4,
 "nbformat_minor": 4
}
