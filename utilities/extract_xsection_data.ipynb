{
 "cells": [
  {
   "cell_type": "markdown",
   "metadata": {},
   "source": [
    "## Get thermochron data for cross-sections\n",
    "\n",
    "Read in shapefile with a cross-section and a database with themrochronology data, select the datapoints within x km of the xsection and project these points on the xsection line. The results are saved as a csv file."
   ]
  },
  {
   "cell_type": "markdown",
   "metadata": {},
   "source": [
    "## Import modules"
   ]
  },
  {
   "cell_type": "code",
   "execution_count": 12,
   "metadata": {},
   "outputs": [],
   "source": [
    "import math\n",
    "import pandas as pd\n",
    "import geopandas as gp\n",
    "import shapely\n",
    "\n",
    "import pyproj"
   ]
  },
  {
   "cell_type": "markdown",
   "metadata": {},
   "source": [
    "## Filenames"
   ]
  },
  {
   "cell_type": "code",
   "execution_count": 13,
   "metadata": {},
   "outputs": [],
   "source": [
    "xsection_file = '../data/xsections.shp'\n",
    "\n",
    "# name of the cross-section to use\n",
    "xsection_name = 'kuru_chu'\n",
    "\n",
    "thermochron_data_file = '../data/thermochron_data.csv'\n",
    "\n",
    "# maximum distance to cross-section (m)\n",
    "max_distance = 15e3"
   ]
  },
  {
   "cell_type": "markdown",
   "metadata": {},
   "source": [
    "## read xsection data"
   ]
  },
  {
   "cell_type": "code",
   "execution_count": 14,
   "metadata": {},
   "outputs": [],
   "source": [
    "dg = gp.read_file(xsection_file)"
   ]
  },
  {
   "cell_type": "code",
   "execution_count": 15,
   "metadata": {},
   "outputs": [
    {
     "data": {
      "text/html": [
       "<div>\n",
       "<style scoped>\n",
       "    .dataframe tbody tr th:only-of-type {\n",
       "        vertical-align: middle;\n",
       "    }\n",
       "\n",
       "    .dataframe tbody tr th {\n",
       "        vertical-align: top;\n",
       "    }\n",
       "\n",
       "    .dataframe thead th {\n",
       "        text-align: right;\n",
       "    }\n",
       "</style>\n",
       "<table border=\"1\" class=\"dataframe\">\n",
       "  <thead>\n",
       "    <tr style=\"text-align: right;\">\n",
       "      <th></th>\n",
       "      <th>id</th>\n",
       "      <th>name</th>\n",
       "      <th>reference</th>\n",
       "      <th>geometry</th>\n",
       "    </tr>\n",
       "  </thead>\n",
       "  <tbody>\n",
       "    <tr>\n",
       "      <th>0</th>\n",
       "      <td>1</td>\n",
       "      <td>kuru_chu</td>\n",
       "      <td>mcquarrie2015</td>\n",
       "      <td>LINESTRING (91.20377 26.78040, 91.20361 27.91714)</td>\n",
       "    </tr>\n",
       "  </tbody>\n",
       "</table>\n",
       "</div>"
      ],
      "text/plain": [
       "   id      name      reference  \\\n",
       "0   1  kuru_chu  mcquarrie2015   \n",
       "\n",
       "                                            geometry  \n",
       "0  LINESTRING (91.20377 26.78040, 91.20361 27.91714)  "
      ]
     },
     "execution_count": 15,
     "metadata": {},
     "output_type": "execute_result"
    }
   ],
   "source": [
    "dg"
   ]
  },
  {
   "cell_type": "markdown",
   "metadata": {},
   "source": [
    "## Select xsection"
   ]
  },
  {
   "cell_type": "code",
   "execution_count": 16,
   "metadata": {},
   "outputs": [
    {
     "data": {
      "image/svg+xml": [
       "<svg xmlns=\"http://www.w3.org/2000/svg\" xmlns:xlink=\"http://www.w3.org/1999/xlink\" width=\"100.0\" height=\"100.0\" viewBox=\"91.15814085919754 26.734929961768312 0.09109915401560897 1.2276749467418533\" preserveAspectRatio=\"xMinYMin meet\"><g transform=\"matrix(1,0,0,-1,0,54.697534870278474)\"><polyline fill=\"none\" stroke=\"#66cc99\" stroke-width=\"0.024553498934837065\" points=\"91.20377057074123,26.78039940424023 91.20361030166947,27.917135466038246\" opacity=\"0.8\" /></g></svg>"
      ],
      "text/plain": [
       "<shapely.geometry.linestring.LineString at 0x118d85b00>"
      ]
     },
     "execution_count": 16,
     "metadata": {},
     "output_type": "execute_result"
    }
   ],
   "source": [
    "ind = dg['name'] == xsection_name\n",
    "\n",
    "dgs = dg.loc[ind]\n",
    "\n",
    "xsect = dgs.iloc[0].geometry\n",
    "\n",
    "xsect"
   ]
  },
  {
   "cell_type": "markdown",
   "metadata": {},
   "source": [
    "## Convert xsection coordinates to UTM"
   ]
  },
  {
   "cell_type": "code",
   "execution_count": 17,
   "metadata": {},
   "outputs": [
    {
     "name": "stdout",
     "output_type": "stream",
     "text": [
      "converting to local projection  +proj=utm +zone=46R, +south +ellps=WGS84 +datum=WGS84 +units=m +no_defs\n"
     ]
    }
   ],
   "source": [
    "def find_utm_zone(lon, lat):\n",
    "\n",
    "    \"\"\"\n",
    "\n",
    "    find the utm zone for lat/long coordinates\n",
    "\n",
    "    :param lon:\n",
    "    :param lat:\n",
    "    :return:\n",
    "    \"\"\"\n",
    "\n",
    "    zone = int(math.floor(((lon + 180.0) / 6)) + 1)\n",
    "\n",
    "    bands = \"CDEFGHJKLMNPQRSTUVWXX\"\n",
    "\n",
    "    band = bands[int(math.floor(((lat+80) / 8)))]\n",
    "\n",
    "    return zone, band\n",
    "\n",
    "\n",
    "utm_zone, utm_band = find_utm_zone(xsect.centroid.x, xsect.centroid.y)\n",
    "\n",
    "# convert to utm\n",
    "# debugging, set utm band to N for testing\n",
    "#utm_band = ''\n",
    "proj_text = \"+proj=utm +zone=%i%s, +south +ellps=WGS84 +datum=WGS84 +units=m +no_defs\" % (utm_zone, utm_band)\n",
    "print('converting to local projection ', proj_text)\n",
    "projection = pyproj.Proj(proj_text)\n",
    "\n",
    "dgu = dgs.to_crs(proj_text)"
   ]
  },
  {
   "cell_type": "markdown",
   "metadata": {},
   "source": [
    "## Get UTM xsection"
   ]
  },
  {
   "cell_type": "code",
   "execution_count": 18,
   "metadata": {},
   "outputs": [
    {
     "data": {
      "image/svg+xml": [
       "<svg xmlns=\"http://www.w3.org/2000/svg\" xmlns:xlink=\"http://www.w3.org/1999/xlink\" width=\"300\" height=\"300\" viewBox=\"316386.5305782153 12958336.47979714 11874.450946674333 136022.22897383757\" preserveAspectRatio=\"xMinYMin meet\"><g transform=\"matrix(1,0,0,-1,0,26052695.188568115)\"><polyline fill=\"none\" stroke=\"#66cc99\" stroke-width=\"906.8148598255838\" points=\"321424.3909105797,12963374.340129504 323223.12119252526,13089320.848438613\" opacity=\"0.8\" /></g></svg>"
      ],
      "text/plain": [
       "<shapely.geometry.linestring.LineString at 0x11928fd68>"
      ]
     },
     "execution_count": 18,
     "metadata": {},
     "output_type": "execute_result"
    }
   ],
   "source": [
    "xsect_utm = dgu.iloc[0].geometry\n",
    "xsect_utm"
   ]
  },
  {
   "cell_type": "markdown",
   "metadata": {},
   "source": [
    "## Load thermochron data"
   ]
  },
  {
   "cell_type": "code",
   "execution_count": 22,
   "metadata": {},
   "outputs": [],
   "source": [
    "dft = pd.read_csv(thermochron_data_file) #, X_POSSIBLE_NAMES=\"longitude\", Y_POSSIBLE_NAMES=\"latitude\")"
   ]
  },
  {
   "cell_type": "code",
   "execution_count": 24,
   "metadata": {},
   "outputs": [],
   "source": [
    "# force numeric columns\n",
    "cols = ['longitude', 'latitude']\n",
    "dft[cols] = dft[cols].apply(pd.to_numeric, errors='coerce')"
   ]
  },
  {
   "cell_type": "code",
   "execution_count": 25,
   "metadata": {},
   "outputs": [],
   "source": [
    "dft['geometry'] = dft.apply(lambda z: shapely.geometry.Point(z['longitude'], z['latitude']), axis=1)\n",
    "dgt = gp.GeoDataFrame(dft)"
   ]
  },
  {
   "cell_type": "code",
   "execution_count": 26,
   "metadata": {},
   "outputs": [
    {
     "data": {
      "text/plain": [
       "0      91.480111\n",
       "1      91.480278\n",
       "2      91.547944\n",
       "3      91.547611\n",
       "4      91.530833\n",
       "         ...    \n",
       "741   -68.692600\n",
       "742   -68.692600\n",
       "743   -68.694400\n",
       "744   -68.694400\n",
       "745   -68.694400\n",
       "Name: longitude, Length: 746, dtype: float64"
      ]
     },
     "execution_count": 26,
     "metadata": {},
     "output_type": "execute_result"
    }
   ],
   "source": [
    "dft['longitude']"
   ]
  },
  {
   "cell_type": "code",
   "execution_count": 27,
   "metadata": {},
   "outputs": [
    {
     "data": {
      "text/plain": [
       "0        POINT (91.48011 26.86572)\n",
       "1        POINT (91.48028 26.87497)\n",
       "2        POINT (91.54794 26.93311)\n",
       "3        POINT (91.54761 26.95992)\n",
       "4        POINT (91.53083 26.97442)\n",
       "                  ...             \n",
       "741    POINT (-68.69260 -21.83800)\n",
       "742    POINT (-68.69260 -21.83800)\n",
       "743    POINT (-68.69440 -21.83380)\n",
       "744    POINT (-68.69440 -21.83380)\n",
       "745    POINT (-68.69440 -21.83380)\n",
       "Name: geometry, Length: 746, dtype: geometry"
      ]
     },
     "execution_count": 27,
     "metadata": {},
     "output_type": "execute_result"
    }
   ],
   "source": [
    "dgt.geometry"
   ]
  },
  {
   "cell_type": "code",
   "execution_count": 28,
   "metadata": {},
   "outputs": [],
   "source": [
    "all_pts = shapely.geometry.MultiPoint(dgt.geometry.tolist())"
   ]
  },
  {
   "cell_type": "code",
   "execution_count": 29,
   "metadata": {},
   "outputs": [
    {
     "data": {
      "image/svg+xml": [
       "<svg xmlns=\"http://www.w3.org/2000/svg\" xmlns:xlink=\"http://www.w3.org/1999/xlink\" width=\"207.4539492\" height=\"100.0\" viewBox=\"-78.1904696 -32.5742796 207.4539492 69.5224262\" preserveAspectRatio=\"xMinYMin meet\"><g transform=\"matrix(1,0,0,-1,0,4.373867000000004)\"><g><circle cx=\"91.48011111\" cy=\"26.86572222\" r=\"3.0\" stroke=\"#555555\" stroke-width=\"1.0\" fill=\"#ff3333\" opacity=\"0.6\" /><circle cx=\"91.48027778\" cy=\"26.87497222\" r=\"3.0\" stroke=\"#555555\" stroke-width=\"1.0\" fill=\"#ff3333\" opacity=\"0.6\" /><circle cx=\"91.54794444\" cy=\"26.93311111\" r=\"3.0\" stroke=\"#555555\" stroke-width=\"1.0\" fill=\"#ff3333\" opacity=\"0.6\" /><circle cx=\"91.54761111\" cy=\"26.95991667\" r=\"3.0\" stroke=\"#555555\" stroke-width=\"1.0\" fill=\"#ff3333\" opacity=\"0.6\" /><circle cx=\"91.53083333\" cy=\"26.97441667\" r=\"3.0\" stroke=\"#555555\" stroke-width=\"1.0\" fill=\"#ff3333\" opacity=\"0.6\" /><circle cx=\"91.52072\" cy=\"27.011999999999997\" r=\"3.0\" stroke=\"#555555\" stroke-width=\"1.0\" fill=\"#ff3333\" opacity=\"0.6\" /><circle cx=\"91.50141667\" cy=\"27.02675\" r=\"3.0\" stroke=\"#555555\" stroke-width=\"1.0\" fill=\"#ff3333\" opacity=\"0.6\" /><circle cx=\"91.52088889\" cy=\"27.08486111\" r=\"3.0\" stroke=\"#555555\" stroke-width=\"1.0\" fill=\"#ff3333\" opacity=\"0.6\" /><circle cx=\"91.56708333\" cy=\"27.1345\" r=\"3.0\" stroke=\"#555555\" stroke-width=\"1.0\" fill=\"#ff3333\" opacity=\"0.6\" /><circle cx=\"91.44655999999999\" cy=\"27.27869\" r=\"3.0\" stroke=\"#555555\" stroke-width=\"1.0\" fill=\"#ff3333\" opacity=\"0.6\" /><circle cx=\"91.52122222\" cy=\"27.24222222\" r=\"3.0\" stroke=\"#555555\" stroke-width=\"1.0\" fill=\"#ff3333\" opacity=\"0.6\" /><circle cx=\"91.63897\" cy=\"27.351440000000004\" r=\"3.0\" stroke=\"#555555\" stroke-width=\"1.0\" fill=\"#ff3333\" opacity=\"0.6\" /><circle cx=\"91.23983333\" cy=\"26.87802778\" r=\"3.0\" stroke=\"#555555\" stroke-width=\"1.0\" fill=\"#ff3333\" opacity=\"0.6\" /><circle cx=\"91.23072222\" cy=\"26.90566667\" r=\"3.0\" stroke=\"#555555\" stroke-width=\"1.0\" fill=\"#ff3333\" opacity=\"0.6\" /><circle cx=\"91.22816667\" cy=\"26.90827778\" r=\"3.0\" stroke=\"#555555\" stroke-width=\"1.0\" fill=\"#ff3333\" opacity=\"0.6\" /><circle cx=\"91.19019444\" cy=\"26.95358333\" r=\"3.0\" stroke=\"#555555\" stroke-width=\"1.0\" fill=\"#ff3333\" opacity=\"0.6\" /><circle cx=\"91.20627778\" cy=\"27.00844444\" r=\"3.0\" stroke=\"#555555\" stroke-width=\"1.0\" fill=\"#ff3333\" opacity=\"0.6\" /><circle cx=\"91.22197222\" cy=\"27.07247222\" r=\"3.0\" stroke=\"#555555\" stroke-width=\"1.0\" fill=\"#ff3333\" opacity=\"0.6\" /><circle cx=\"91.25686111\" cy=\"27.10705556\" r=\"3.0\" stroke=\"#555555\" stroke-width=\"1.0\" fill=\"#ff3333\" opacity=\"0.6\" /><circle cx=\"91.24\" cy=\"27.16608333\" r=\"3.0\" stroke=\"#555555\" stroke-width=\"1.0\" fill=\"#ff3333\" opacity=\"0.6\" /><circle cx=\"91.23341667\" cy=\"27.18844444\" r=\"3.0\" stroke=\"#555555\" stroke-width=\"1.0\" fill=\"#ff3333\" opacity=\"0.6\" /><circle cx=\"91.29907\" cy=\"27.26742\" r=\"3.0\" stroke=\"#555555\" stroke-width=\"1.0\" fill=\"#ff3333\" opacity=\"0.6\" /><circle cx=\"91.20288889\" cy=\"27.27808333\" r=\"3.0\" stroke=\"#555555\" stroke-width=\"1.0\" fill=\"#ff3333\" opacity=\"0.6\" /><circle cx=\"91.19339000000001\" cy=\"27.399690000000003\" r=\"3.0\" stroke=\"#555555\" stroke-width=\"1.0\" fill=\"#ff3333\" opacity=\"0.6\" /><circle cx=\"91.18111111\" cy=\"27.40255556\" r=\"3.0\" stroke=\"#555555\" stroke-width=\"1.0\" fill=\"#ff3333\" opacity=\"0.6\" /><circle cx=\"91.18354000000001\" cy=\"27.50625\" r=\"3.0\" stroke=\"#555555\" stroke-width=\"1.0\" fill=\"#ff3333\" opacity=\"0.6\" /><circle cx=\"91.21519444\" cy=\"27.59366667\" r=\"3.0\" stroke=\"#555555\" stroke-width=\"1.0\" fill=\"#ff3333\" opacity=\"0.6\" /><circle cx=\"91.10072\" cy=\"27.34133\" r=\"3.0\" stroke=\"#555555\" stroke-width=\"1.0\" fill=\"#ff3333\" opacity=\"0.6\" /><circle cx=\"91.05516999999999\" cy=\"27.329\" r=\"3.0\" stroke=\"#555555\" stroke-width=\"1.0\" fill=\"#ff3333\" opacity=\"0.6\" /><circle cx=\"90.93286111\" cy=\"27.4105\" r=\"3.0\" stroke=\"#555555\" stroke-width=\"1.0\" fill=\"#ff3333\" opacity=\"0.6\" /><circle cx=\"91.14425\" cy=\"27.540359999999996\" r=\"3.0\" stroke=\"#555555\" stroke-width=\"1.0\" fill=\"#ff3333\" opacity=\"0.6\" /><circle cx=\"91.20487\" cy=\"27.665490000000002\" r=\"3.0\" stroke=\"#555555\" stroke-width=\"1.0\" fill=\"#ff3333\" opacity=\"0.6\" /><circle cx=\"91.29827\" cy=\"27.98563\" r=\"3.0\" stroke=\"#555555\" stroke-width=\"1.0\" fill=\"#ff3333\" opacity=\"0.6\" /><circle cx=\"91.13331\" cy=\"27.768390000000004\" r=\"3.0\" stroke=\"#555555\" stroke-width=\"1.0\" fill=\"#ff3333\" opacity=\"0.6\" /><circle cx=\"91.13331\" cy=\"27.749609999999997\" r=\"3.0\" stroke=\"#555555\" stroke-width=\"1.0\" fill=\"#ff3333\" opacity=\"0.6\" /><circle cx=\"91.13753\" cy=\"27.742890000000003\" r=\"3.0\" stroke=\"#555555\" stroke-width=\"1.0\" fill=\"#ff3333\" opacity=\"0.6\" /><circle cx=\"91.54794444\" cy=\"26.93311111\" r=\"3.0\" stroke=\"#555555\" stroke-width=\"1.0\" fill=\"#ff3333\" opacity=\"0.6\" /><circle cx=\"91.54761111\" cy=\"26.95991667\" r=\"3.0\" stroke=\"#555555\" stroke-width=\"1.0\" fill=\"#ff3333\" opacity=\"0.6\" /><circle cx=\"91.50141667\" cy=\"27.02675\" r=\"3.0\" stroke=\"#555555\" stroke-width=\"1.0\" fill=\"#ff3333\" opacity=\"0.6\" /><circle cx=\"91.23983333\" cy=\"26.87802778\" r=\"3.0\" stroke=\"#555555\" stroke-width=\"1.0\" fill=\"#ff3333\" opacity=\"0.6\" /><circle cx=\"91.23072222\" cy=\"26.90566667\" r=\"3.0\" stroke=\"#555555\" stroke-width=\"1.0\" fill=\"#ff3333\" opacity=\"0.6\" /><circle cx=\"91.20288889\" cy=\"27.27808333\" r=\"3.0\" stroke=\"#555555\" stroke-width=\"1.0\" fill=\"#ff3333\" opacity=\"0.6\" /><circle cx=\"91.19339000000001\" cy=\"27.399690000000003\" r=\"3.0\" stroke=\"#555555\" stroke-width=\"1.0\" fill=\"#ff3333\" opacity=\"0.6\" /><circle cx=\"91.14425\" cy=\"27.540359999999996\" r=\"3.0\" stroke=\"#555555\" stroke-width=\"1.0\" fill=\"#ff3333\" opacity=\"0.6\" /><circle cx=\"91.51898\" cy=\"27.31485\" r=\"3.0\" stroke=\"#555555\" stroke-width=\"1.0\" fill=\"#ff3333\" opacity=\"0.6\" /><circle cx=\"91.32806\" cy=\"27.3046\" r=\"3.0\" stroke=\"#555555\" stroke-width=\"1.0\" fill=\"#ff3333\" opacity=\"0.6\" /><circle cx=\"91.29907\" cy=\"27.26742\" r=\"3.0\" stroke=\"#555555\" stroke-width=\"1.0\" fill=\"#ff3333\" opacity=\"0.6\" /><circle cx=\"91.30357\" cy=\"27.97318\" r=\"3.0\" stroke=\"#555555\" stroke-width=\"1.0\" fill=\"#ff3333\" opacity=\"0.6\" /><circle cx=\"91.29016\" cy=\"27.974159999999998\" r=\"3.0\" stroke=\"#555555\" stroke-width=\"1.0\" fill=\"#ff3333\" opacity=\"0.6\" /><circle cx=\"91.2987\" cy=\"27.99005\" r=\"3.0\" stroke=\"#555555\" stroke-width=\"1.0\" fill=\"#ff3333\" opacity=\"0.6\" /><circle cx=\"91.29827\" cy=\"27.98563\" r=\"3.0\" stroke=\"#555555\" stroke-width=\"1.0\" fill=\"#ff3333\" opacity=\"0.6\" /><circle cx=\"91.29901\" cy=\"27.9975\" r=\"3.0\" stroke=\"#555555\" stroke-width=\"1.0\" fill=\"#ff3333\" opacity=\"0.6\" /><circle cx=\"91.37263\" cy=\"27.969559999999998\" r=\"3.0\" stroke=\"#555555\" stroke-width=\"1.0\" fill=\"#ff3333\" opacity=\"0.6\" /><circle cx=\"91.20487\" cy=\"27.665490000000002\" r=\"3.0\" stroke=\"#555555\" stroke-width=\"1.0\" fill=\"#ff3333\" opacity=\"0.6\" /><circle cx=\"91.23065\" cy=\"27.26965\" r=\"3.0\" stroke=\"#555555\" stroke-width=\"1.0\" fill=\"#ff3333\" opacity=\"0.6\" /><circle cx=\"91.55466700000001\" cy=\"27.236056\" r=\"3.0\" stroke=\"#555555\" stroke-width=\"1.0\" fill=\"#ff3333\" opacity=\"0.6\" /><circle cx=\"91.54808299999999\" cy=\"27.237361\" r=\"3.0\" stroke=\"#555555\" stroke-width=\"1.0\" fill=\"#ff3333\" opacity=\"0.6\" /><circle cx=\"91.9237\" cy=\"27.27504\" r=\"3.0\" stroke=\"#555555\" stroke-width=\"1.0\" fill=\"#ff3333\" opacity=\"0.6\" /><circle cx=\"91.48066700000001\" cy=\"27.282360999999998\" r=\"3.0\" stroke=\"#555555\" stroke-width=\"1.0\" fill=\"#ff3333\" opacity=\"0.6\" /><circle cx=\"91.491\" cy=\"27.303417\" r=\"3.0\" stroke=\"#555555\" stroke-width=\"1.0\" fill=\"#ff3333\" opacity=\"0.6\" /><circle cx=\"91.153889\" cy=\"27.308806\" r=\"3.0\" stroke=\"#555555\" stroke-width=\"1.0\" fill=\"#ff3333\" opacity=\"0.6\" /><circle cx=\"91.792417\" cy=\"27.311806\" r=\"3.0\" stroke=\"#555555\" stroke-width=\"1.0\" fill=\"#ff3333\" opacity=\"0.6\" /><circle cx=\"91.055167\" cy=\"27.329\" r=\"3.0\" stroke=\"#555555\" stroke-width=\"1.0\" fill=\"#ff3333\" opacity=\"0.6\" /><circle cx=\"91.10072199999999\" cy=\"27.341333000000002\" r=\"3.0\" stroke=\"#555555\" stroke-width=\"1.0\" fill=\"#ff3333\" opacity=\"0.6\" /><circle cx=\"91.574528\" cy=\"27.344972\" r=\"3.0\" stroke=\"#555555\" stroke-width=\"1.0\" fill=\"#ff3333\" opacity=\"0.6\" /><circle cx=\"91.554472\" cy=\"27.350056\" r=\"3.0\" stroke=\"#555555\" stroke-width=\"1.0\" fill=\"#ff3333\" opacity=\"0.6\" /><circle cx=\"91.687556\" cy=\"27.362556\" r=\"3.0\" stroke=\"#555555\" stroke-width=\"1.0\" fill=\"#ff3333\" opacity=\"0.6\" /><circle cx=\"91.687556\" cy=\"27.362556\" r=\"3.0\" stroke=\"#555555\" stroke-width=\"1.0\" fill=\"#ff3333\" opacity=\"0.6\" /><circle cx=\"91.59683299999999\" cy=\"27.374360999999997\" r=\"3.0\" stroke=\"#555555\" stroke-width=\"1.0\" fill=\"#ff3333\" opacity=\"0.6\" /><circle cx=\"91.59983299999999\" cy=\"27.375333\" r=\"3.0\" stroke=\"#555555\" stroke-width=\"1.0\" fill=\"#ff3333\" opacity=\"0.6\" /><circle cx=\"91.919389\" cy=\"27.384417\" r=\"3.0\" stroke=\"#555555\" stroke-width=\"1.0\" fill=\"#ff3333\" opacity=\"0.6\" /><circle cx=\"90.996972\" cy=\"27.399139\" r=\"3.0\" stroke=\"#555555\" stroke-width=\"1.0\" fill=\"#ff3333\" opacity=\"0.6\" /><circle cx=\"91.563722\" cy=\"27.411389\" r=\"3.0\" stroke=\"#555555\" stroke-width=\"1.0\" fill=\"#ff3333\" opacity=\"0.6\" /><circle cx=\"91.89272199999999\" cy=\"27.415528000000002\" r=\"3.0\" stroke=\"#555555\" stroke-width=\"1.0\" fill=\"#ff3333\" opacity=\"0.6\" /><circle cx=\"91.554722\" cy=\"27.465\" r=\"3.0\" stroke=\"#555555\" stroke-width=\"1.0\" fill=\"#ff3333\" opacity=\"0.6\" /><circle cx=\"91.561139\" cy=\"27.551361\" r=\"3.0\" stroke=\"#555555\" stroke-width=\"1.0\" fill=\"#ff3333\" opacity=\"0.6\" /><circle cx=\"91.499528\" cy=\"27.584166999999997\" r=\"3.0\" stroke=\"#555555\" stroke-width=\"1.0\" fill=\"#ff3333\" opacity=\"0.6\" /><circle cx=\"91.23983333\" cy=\"26.87802778\" r=\"3.0\" stroke=\"#555555\" stroke-width=\"1.0\" fill=\"#ff3333\" opacity=\"0.6\" /><circle cx=\"91.20627778\" cy=\"27.00844444\" r=\"3.0\" stroke=\"#555555\" stroke-width=\"1.0\" fill=\"#ff3333\" opacity=\"0.6\" /><circle cx=\"91.22197222\" cy=\"27.07247222\" r=\"3.0\" stroke=\"#555555\" stroke-width=\"1.0\" fill=\"#ff3333\" opacity=\"0.6\" /><circle cx=\"91.20288889\" cy=\"27.27808333\" r=\"3.0\" stroke=\"#555555\" stroke-width=\"1.0\" fill=\"#ff3333\" opacity=\"0.6\" /><circle cx=\"91.19339000000001\" cy=\"27.399690000000003\" r=\"3.0\" stroke=\"#555555\" stroke-width=\"1.0\" fill=\"#ff3333\" opacity=\"0.6\" /><circle cx=\"91.18111111\" cy=\"27.40255556\" r=\"3.0\" stroke=\"#555555\" stroke-width=\"1.0\" fill=\"#ff3333\" opacity=\"0.6\" /><circle cx=\"91.18354000000001\" cy=\"27.50625\" r=\"3.0\" stroke=\"#555555\" stroke-width=\"1.0\" fill=\"#ff3333\" opacity=\"0.6\" /><circle cx=\"91.21519444\" cy=\"27.59366667\" r=\"3.0\" stroke=\"#555555\" stroke-width=\"1.0\" fill=\"#ff3333\" opacity=\"0.6\" /><circle cx=\"89.39319\" cy=\"26.85456\" r=\"3.0\" stroke=\"#555555\" stroke-width=\"1.0\" fill=\"#ff3333\" opacity=\"0.6\" /><circle cx=\"89.43621999999999\" cy=\"26.89172\" r=\"3.0\" stroke=\"#555555\" stroke-width=\"1.0\" fill=\"#ff3333\" opacity=\"0.6\" /><circle cx=\"89.5805\" cy=\"27.02925\" r=\"3.0\" stroke=\"#555555\" stroke-width=\"1.0\" fill=\"#ff3333\" opacity=\"0.6\" /><circle cx=\"89.54175\" cy=\"27.151999999999997\" r=\"3.0\" stroke=\"#555555\" stroke-width=\"1.0\" fill=\"#ff3333\" opacity=\"0.6\" /><circle cx=\"89.51678000000001\" cy=\"27.226059999999997\" r=\"3.0\" stroke=\"#555555\" stroke-width=\"1.0\" fill=\"#ff3333\" opacity=\"0.6\" /><circle cx=\"89.57497\" cy=\"27.33758\" r=\"3.0\" stroke=\"#555555\" stroke-width=\"1.0\" fill=\"#ff3333\" opacity=\"0.6\" /><circle cx=\"89.46921999999999\" cy=\"26.91692\" r=\"3.0\" stroke=\"#555555\" stroke-width=\"1.0\" fill=\"#ff3333\" opacity=\"0.6\" /><circle cx=\"89.11121999999999\" cy=\"26.899720000000002\" r=\"3.0\" stroke=\"#555555\" stroke-width=\"1.0\" fill=\"#ff3333\" opacity=\"0.6\" /><circle cx=\"89.12011\" cy=\"26.90158\" r=\"3.0\" stroke=\"#555555\" stroke-width=\"1.0\" fill=\"#ff3333\" opacity=\"0.6\" /><circle cx=\"89.14875\" cy=\"26.896140000000003\" r=\"3.0\" stroke=\"#555555\" stroke-width=\"1.0\" fill=\"#ff3333\" opacity=\"0.6\" /><circle cx=\"89.20083000000001\" cy=\"26.895190000000003\" r=\"3.0\" stroke=\"#555555\" stroke-width=\"1.0\" fill=\"#ff3333\" opacity=\"0.6\" /><circle cx=\"89.90786\" cy=\"26.85717\" r=\"3.0\" stroke=\"#555555\" stroke-width=\"1.0\" fill=\"#ff3333\" opacity=\"0.6\" /><circle cx=\"89.94411\" cy=\"26.794420000000002\" r=\"3.0\" stroke=\"#555555\" stroke-width=\"1.0\" fill=\"#ff3333\" opacity=\"0.6\" /><circle cx=\"89.86333\" cy=\"26.74447\" r=\"3.0\" stroke=\"#555555\" stroke-width=\"1.0\" fill=\"#ff3333\" opacity=\"0.6\" /><circle cx=\"89.58273\" cy=\"27.02924\" r=\"3.0\" stroke=\"#555555\" stroke-width=\"1.0\" fill=\"#ff3333\" opacity=\"0.6\" /><circle cx=\"89.5565\" cy=\"27.0663\" r=\"3.0\" stroke=\"#555555\" stroke-width=\"1.0\" fill=\"#ff3333\" opacity=\"0.6\" /><circle cx=\"89.41996\" cy=\"27.46156\" r=\"3.0\" stroke=\"#555555\" stroke-width=\"1.0\" fill=\"#ff3333\" opacity=\"0.6\" /><circle cx=\"89.42761999999999\" cy=\"27.38741\" r=\"3.0\" stroke=\"#555555\" stroke-width=\"1.0\" fill=\"#ff3333\" opacity=\"0.6\" /><circle cx=\"89.30901\" cy=\"27.362409999999997\" r=\"3.0\" stroke=\"#555555\" stroke-width=\"1.0\" fill=\"#ff3333\" opacity=\"0.6\" /><circle cx=\"89.47229\" cy=\"27.343390000000003\" r=\"3.0\" stroke=\"#555555\" stroke-width=\"1.0\" fill=\"#ff3333\" opacity=\"0.6\" /><circle cx=\"89.74973\" cy=\"27.490779999999997\" r=\"3.0\" stroke=\"#555555\" stroke-width=\"1.0\" fill=\"#ff3333\" opacity=\"0.6\" /><circle cx=\"89.99908\" cy=\"27.504\" r=\"3.0\" stroke=\"#555555\" stroke-width=\"1.0\" fill=\"#ff3333\" opacity=\"0.6\" /><circle cx=\"89.39972\" cy=\"27.442220000000002\" r=\"3.0\" stroke=\"#555555\" stroke-width=\"1.0\" fill=\"#ff3333\" opacity=\"0.6\" /><circle cx=\"89.409061\" cy=\"26.862184000000003\" r=\"3.0\" stroke=\"#555555\" stroke-width=\"1.0\" fill=\"#ff3333\" opacity=\"0.6\" /><circle cx=\"89.459331\" cy=\"26.907234000000003\" r=\"3.0\" stroke=\"#555555\" stroke-width=\"1.0\" fill=\"#ff3333\" opacity=\"0.6\" /><circle cx=\"89.552425\" cy=\"27.189090999999998\" r=\"3.0\" stroke=\"#555555\" stroke-width=\"1.0\" fill=\"#ff3333\" opacity=\"0.6\" /><circle cx=\"89.574151\" cy=\"27.02737\" r=\"3.0\" stroke=\"#555555\" stroke-width=\"1.0\" fill=\"#ff3333\" opacity=\"0.6\" /><circle cx=\"89.80578\" cy=\"28.1714\" r=\"3.0\" stroke=\"#555555\" stroke-width=\"1.0\" fill=\"#ff3333\" opacity=\"0.6\" /><circle cx=\"89.82001\" cy=\"27.52181\" r=\"3.0\" stroke=\"#555555\" stroke-width=\"1.0\" fill=\"#ff3333\" opacity=\"0.6\" /><circle cx=\"89.57415\" cy=\"27.02737\" r=\"3.0\" stroke=\"#555555\" stroke-width=\"1.0\" fill=\"#ff3333\" opacity=\"0.6\" /><circle cx=\"89.7222\" cy=\"28.07293\" r=\"3.0\" stroke=\"#555555\" stroke-width=\"1.0\" fill=\"#ff3333\" opacity=\"0.6\" /><circle cx=\"89.51971999999999\" cy=\"27.4652\" r=\"3.0\" stroke=\"#555555\" stroke-width=\"1.0\" fill=\"#ff3333\" opacity=\"0.6\" /><circle cx=\"89.52431999999999\" cy=\"27.44978\" r=\"3.0\" stroke=\"#555555\" stroke-width=\"1.0\" fill=\"#ff3333\" opacity=\"0.6\" /><circle cx=\"89.55662\" cy=\"27.42062\" r=\"3.0\" stroke=\"#555555\" stroke-width=\"1.0\" fill=\"#ff3333\" opacity=\"0.6\" /><circle cx=\"89.51371999999999\" cy=\"28.023329999999998\" r=\"3.0\" stroke=\"#555555\" stroke-width=\"1.0\" fill=\"#ff3333\" opacity=\"0.6\" /><circle cx=\"89.58878\" cy=\"28.06583\" r=\"3.0\" stroke=\"#555555\" stroke-width=\"1.0\" fill=\"#ff3333\" opacity=\"0.6\" /><circle cx=\"89.60956999999999\" cy=\"28.06222\" r=\"3.0\" stroke=\"#555555\" stroke-width=\"1.0\" fill=\"#ff3333\" opacity=\"0.6\" /><circle cx=\"89.80578\" cy=\"28.1714\" r=\"3.0\" stroke=\"#555555\" stroke-width=\"1.0\" fill=\"#ff3333\" opacity=\"0.6\" /><circle cx=\"89.72346999999999\" cy=\"28.14491\" r=\"3.0\" stroke=\"#555555\" stroke-width=\"1.0\" fill=\"#ff3333\" opacity=\"0.6\" /><circle cx=\"89.82001\" cy=\"27.52181\" r=\"3.0\" stroke=\"#555555\" stroke-width=\"1.0\" fill=\"#ff3333\" opacity=\"0.6\" /><circle cx=\"89.7538\" cy=\"27.50177\" r=\"3.0\" stroke=\"#555555\" stroke-width=\"1.0\" fill=\"#ff3333\" opacity=\"0.6\" /><circle cx=\"89.76088\" cy=\"27.483729999999998\" r=\"3.0\" stroke=\"#555555\" stroke-width=\"1.0\" fill=\"#ff3333\" opacity=\"0.6\" /><circle cx=\"89.41996\" cy=\"27.46156\" r=\"3.0\" stroke=\"#555555\" stroke-width=\"1.0\" fill=\"#ff3333\" opacity=\"0.6\" /><circle cx=\"89.41937\" cy=\"27.458029999999997\" r=\"3.0\" stroke=\"#555555\" stroke-width=\"1.0\" fill=\"#ff3333\" opacity=\"0.6\" /><circle cx=\"89.47229\" cy=\"27.343390000000003\" r=\"3.0\" stroke=\"#555555\" stroke-width=\"1.0\" fill=\"#ff3333\" opacity=\"0.6\" /><circle cx=\"89.74973\" cy=\"27.490779999999997\" r=\"3.0\" stroke=\"#555555\" stroke-width=\"1.0\" fill=\"#ff3333\" opacity=\"0.6\" /><circle cx=\"89.72231\" cy=\"27.47863\" r=\"3.0\" stroke=\"#555555\" stroke-width=\"1.0\" fill=\"#ff3333\" opacity=\"0.6\" /><circle cx=\"89.695\" cy=\"27.44078\" r=\"3.0\" stroke=\"#555555\" stroke-width=\"1.0\" fill=\"#ff3333\" opacity=\"0.6\" /><circle cx=\"89.42761999999999\" cy=\"27.38741\" r=\"3.0\" stroke=\"#555555\" stroke-width=\"1.0\" fill=\"#ff3333\" opacity=\"0.6\" /><circle cx=\"89.37143\" cy=\"27.37223\" r=\"3.0\" stroke=\"#555555\" stroke-width=\"1.0\" fill=\"#ff3333\" opacity=\"0.6\" /><circle cx=\"89.34159\" cy=\"27.37169\" r=\"3.0\" stroke=\"#555555\" stroke-width=\"1.0\" fill=\"#ff3333\" opacity=\"0.6\" /><circle cx=\"89.31352\" cy=\"27.37272\" r=\"3.0\" stroke=\"#555555\" stroke-width=\"1.0\" fill=\"#ff3333\" opacity=\"0.6\" /><circle cx=\"89.55313000000001\" cy=\"27.07518\" r=\"3.0\" stroke=\"#555555\" stroke-width=\"1.0\" fill=\"#ff3333\" opacity=\"0.6\" /><circle cx=\"89.55054\" cy=\"27.1306\" r=\"3.0\" stroke=\"#555555\" stroke-width=\"1.0\" fill=\"#ff3333\" opacity=\"0.6\" /><circle cx=\"89.54089\" cy=\"27.15421\" r=\"3.0\" stroke=\"#555555\" stroke-width=\"1.0\" fill=\"#ff3333\" opacity=\"0.6\" /><circle cx=\"89.29044\" cy=\"27.698620000000002\" r=\"3.0\" stroke=\"#555555\" stroke-width=\"1.0\" fill=\"#ff3333\" opacity=\"0.6\" /><circle cx=\"89.51613\" cy=\"27.97138\" r=\"3.0\" stroke=\"#555555\" stroke-width=\"1.0\" fill=\"#ff3333\" opacity=\"0.6\" /><circle cx=\"89.55855\" cy=\"28.03493\" r=\"3.0\" stroke=\"#555555\" stroke-width=\"1.0\" fill=\"#ff3333\" opacity=\"0.6\" /><circle cx=\"89.56281\" cy=\"28.047859999999996\" r=\"3.0\" stroke=\"#555555\" stroke-width=\"1.0\" fill=\"#ff3333\" opacity=\"0.6\" /><circle cx=\"89.58825999999999\" cy=\"28.064870000000003\" r=\"3.0\" stroke=\"#555555\" stroke-width=\"1.0\" fill=\"#ff3333\" opacity=\"0.6\" /><circle cx=\"89.62974\" cy=\"28.068620000000003\" r=\"3.0\" stroke=\"#555555\" stroke-width=\"1.0\" fill=\"#ff3333\" opacity=\"0.6\" /><circle cx=\"89.5485\" cy=\"27.3146\" r=\"3.0\" stroke=\"#555555\" stroke-width=\"1.0\" fill=\"#ff3333\" opacity=\"0.6\" /><circle cx=\"89.80645\" cy=\"27.78538\" r=\"3.0\" stroke=\"#555555\" stroke-width=\"1.0\" fill=\"#ff3333\" opacity=\"0.6\" /><circle cx=\"89.74823\" cy=\"27.73522\" r=\"3.0\" stroke=\"#555555\" stroke-width=\"1.0\" fill=\"#ff3333\" opacity=\"0.6\" /><circle cx=\"89.40906\" cy=\"26.86218\" r=\"3.0\" stroke=\"#555555\" stroke-width=\"1.0\" fill=\"#ff3333\" opacity=\"0.6\" /><circle cx=\"89.40906\" cy=\"26.86218\" r=\"3.0\" stroke=\"#555555\" stroke-width=\"1.0\" fill=\"#ff3333\" opacity=\"0.6\" /><circle cx=\"89.43518\" cy=\"26.891509999999997\" r=\"3.0\" stroke=\"#555555\" stroke-width=\"1.0\" fill=\"#ff3333\" opacity=\"0.6\" /><circle cx=\"89.45933000000001\" cy=\"26.90723\" r=\"3.0\" stroke=\"#555555\" stroke-width=\"1.0\" fill=\"#ff3333\" opacity=\"0.6\" /><circle cx=\"89.57415\" cy=\"27.02737\" r=\"3.0\" stroke=\"#555555\" stroke-width=\"1.0\" fill=\"#ff3333\" opacity=\"0.6\" /><circle cx=\"89.55721\" cy=\"27.06583\" r=\"3.0\" stroke=\"#555555\" stroke-width=\"1.0\" fill=\"#ff3333\" opacity=\"0.6\" /><circle cx=\"89.55243\" cy=\"27.189090000000004\" r=\"3.0\" stroke=\"#555555\" stroke-width=\"1.0\" fill=\"#ff3333\" opacity=\"0.6\" /><circle cx=\"89.33608000000001\" cy=\"27.795720000000003\" r=\"3.0\" stroke=\"#555555\" stroke-width=\"1.0\" fill=\"#ff3333\" opacity=\"0.6\" /><circle cx=\"89.39972\" cy=\"27.442220000000002\" r=\"3.0\" stroke=\"#555555\" stroke-width=\"1.0\" fill=\"#ff3333\" opacity=\"0.6\" /><circle cx=\"89.409061\" cy=\"26.862184000000003\" r=\"3.0\" stroke=\"#555555\" stroke-width=\"1.0\" fill=\"#ff3333\" opacity=\"0.6\" /><circle cx=\"89.459331\" cy=\"26.907234000000003\" r=\"3.0\" stroke=\"#555555\" stroke-width=\"1.0\" fill=\"#ff3333\" opacity=\"0.6\" /><circle cx=\"89.552425\" cy=\"27.189090999999998\" r=\"3.0\" stroke=\"#555555\" stroke-width=\"1.0\" fill=\"#ff3333\" opacity=\"0.6\" /><circle cx=\"89.557211\" cy=\"27.065828000000003\" r=\"3.0\" stroke=\"#555555\" stroke-width=\"1.0\" fill=\"#ff3333\" opacity=\"0.6\" /><circle cx=\"89.574151\" cy=\"27.02737\" r=\"3.0\" stroke=\"#555555\" stroke-width=\"1.0\" fill=\"#ff3333\" opacity=\"0.6\" /><circle cx=\"89.695204\" cy=\"27.441717999999998\" r=\"3.0\" stroke=\"#555555\" stroke-width=\"1.0\" fill=\"#ff3333\" opacity=\"0.6\" /><circle cx=\"89.748838\" cy=\"27.490287\" r=\"3.0\" stroke=\"#555555\" stroke-width=\"1.0\" fill=\"#ff3333\" opacity=\"0.6\" /><circle cx=\"89.77081\" cy=\"27.692940000000004\" r=\"3.0\" stroke=\"#555555\" stroke-width=\"1.0\" fill=\"#ff3333\" opacity=\"0.6\" /><circle cx=\"89.796\" cy=\"27.5124\" r=\"3.0\" stroke=\"#555555\" stroke-width=\"1.0\" fill=\"#ff3333\" opacity=\"0.6\" /><circle cx=\"89.906482\" cy=\"27.450639000000002\" r=\"3.0\" stroke=\"#555555\" stroke-width=\"1.0\" fill=\"#ff3333\" opacity=\"0.6\" /><circle cx=\"89.911594\" cy=\"27.363505\" r=\"3.0\" stroke=\"#555555\" stroke-width=\"1.0\" fill=\"#ff3333\" opacity=\"0.6\" /><circle cx=\"89.96202\" cy=\"27.506428999999997\" r=\"3.0\" stroke=\"#555555\" stroke-width=\"1.0\" fill=\"#ff3333\" opacity=\"0.6\" /><circle cx=\"89.98609499999999\" cy=\"27.29079\" r=\"3.0\" stroke=\"#555555\" stroke-width=\"1.0\" fill=\"#ff3333\" opacity=\"0.6\" /><circle cx=\"89.98609499999999\" cy=\"27.29079\" r=\"3.0\" stroke=\"#555555\" stroke-width=\"1.0\" fill=\"#ff3333\" opacity=\"0.6\" /><circle cx=\"90.036966\" cy=\"27.263109999999998\" r=\"3.0\" stroke=\"#555555\" stroke-width=\"1.0\" fill=\"#ff3333\" opacity=\"0.6\" /><circle cx=\"90.07618000000001\" cy=\"27.032042999999998\" r=\"3.0\" stroke=\"#555555\" stroke-width=\"1.0\" fill=\"#ff3333\" opacity=\"0.6\" /><circle cx=\"89.5565\" cy=\"27.0663\" r=\"3.0\" stroke=\"#555555\" stroke-width=\"1.0\" fill=\"#ff3333\" opacity=\"0.6\" /><circle cx=\"89.54356\" cy=\"27.14964\" r=\"3.0\" stroke=\"#555555\" stroke-width=\"1.0\" fill=\"#ff3333\" opacity=\"0.6\" /><circle cx=\"89.63\" cy=\"27.5945\" r=\"3.0\" stroke=\"#555555\" stroke-width=\"1.0\" fill=\"#ff3333\" opacity=\"0.6\" /><circle cx=\"89.6315\" cy=\"27.5888\" r=\"3.0\" stroke=\"#555555\" stroke-width=\"1.0\" fill=\"#ff3333\" opacity=\"0.6\" /><circle cx=\"89.6388\" cy=\"27.5728\" r=\"3.0\" stroke=\"#555555\" stroke-width=\"1.0\" fill=\"#ff3333\" opacity=\"0.6\" /><circle cx=\"89.6498\" cy=\"27.5363\" r=\"3.0\" stroke=\"#555555\" stroke-width=\"1.0\" fill=\"#ff3333\" opacity=\"0.6\" /><circle cx=\"89.6412\" cy=\"27.5007\" r=\"3.0\" stroke=\"#555555\" stroke-width=\"1.0\" fill=\"#ff3333\" opacity=\"0.6\" /><circle cx=\"89.51971999999999\" cy=\"27.4652\" r=\"3.0\" stroke=\"#555555\" stroke-width=\"1.0\" fill=\"#ff3333\" opacity=\"0.6\" /><circle cx=\"89.52431999999999\" cy=\"27.44978\" r=\"3.0\" stroke=\"#555555\" stroke-width=\"1.0\" fill=\"#ff3333\" opacity=\"0.6\" /><circle cx=\"89.55662\" cy=\"27.42062\" r=\"3.0\" stroke=\"#555555\" stroke-width=\"1.0\" fill=\"#ff3333\" opacity=\"0.6\" /><circle cx=\"89.52431999999999\" cy=\"27.44978\" r=\"3.0\" stroke=\"#555555\" stroke-width=\"1.0\" fill=\"#ff3333\" opacity=\"0.6\" /><circle cx=\"89.55662\" cy=\"27.42062\" r=\"3.0\" stroke=\"#555555\" stroke-width=\"1.0\" fill=\"#ff3333\" opacity=\"0.6\" /><circle cx=\"89.82001\" cy=\"27.52181\" r=\"3.0\" stroke=\"#555555\" stroke-width=\"1.0\" fill=\"#ff3333\" opacity=\"0.6\" /><circle cx=\"89.7538\" cy=\"27.50177\" r=\"3.0\" stroke=\"#555555\" stroke-width=\"1.0\" fill=\"#ff3333\" opacity=\"0.6\" /><circle cx=\"89.76088\" cy=\"27.483729999999998\" r=\"3.0\" stroke=\"#555555\" stroke-width=\"1.0\" fill=\"#ff3333\" opacity=\"0.6\" /><circle cx=\"89.41996\" cy=\"27.46156\" r=\"3.0\" stroke=\"#555555\" stroke-width=\"1.0\" fill=\"#ff3333\" opacity=\"0.6\" /><circle cx=\"89.41937\" cy=\"27.458029999999997\" r=\"3.0\" stroke=\"#555555\" stroke-width=\"1.0\" fill=\"#ff3333\" opacity=\"0.6\" /><circle cx=\"89.47229\" cy=\"27.343390000000003\" r=\"3.0\" stroke=\"#555555\" stroke-width=\"1.0\" fill=\"#ff3333\" opacity=\"0.6\" /><circle cx=\"89.74973\" cy=\"27.490779999999997\" r=\"3.0\" stroke=\"#555555\" stroke-width=\"1.0\" fill=\"#ff3333\" opacity=\"0.6\" /><circle cx=\"89.42761999999999\" cy=\"27.38741\" r=\"3.0\" stroke=\"#555555\" stroke-width=\"1.0\" fill=\"#ff3333\" opacity=\"0.6\" /><circle cx=\"89.37143\" cy=\"27.37223\" r=\"3.0\" stroke=\"#555555\" stroke-width=\"1.0\" fill=\"#ff3333\" opacity=\"0.6\" /><circle cx=\"89.84515\" cy=\"27.377\" r=\"3.0\" stroke=\"#555555\" stroke-width=\"1.0\" fill=\"#ff3333\" opacity=\"0.6\" /><circle cx=\"89.51971999999999\" cy=\"27.4652\" r=\"3.0\" stroke=\"#555555\" stroke-width=\"1.0\" fill=\"#ff3333\" opacity=\"0.6\" /><circle cx=\"89.52431999999999\" cy=\"27.44978\" r=\"3.0\" stroke=\"#555555\" stroke-width=\"1.0\" fill=\"#ff3333\" opacity=\"0.6\" /><circle cx=\"89.55662\" cy=\"27.42062\" r=\"3.0\" stroke=\"#555555\" stroke-width=\"1.0\" fill=\"#ff3333\" opacity=\"0.6\" /><circle cx=\"89.58878\" cy=\"28.06583\" r=\"3.0\" stroke=\"#555555\" stroke-width=\"1.0\" fill=\"#ff3333\" opacity=\"0.6\" /><circle cx=\"89.76088\" cy=\"27.483729999999998\" r=\"3.0\" stroke=\"#555555\" stroke-width=\"1.0\" fill=\"#ff3333\" opacity=\"0.6\" /><circle cx=\"89.58825999999999\" cy=\"28.064870000000003\" r=\"3.0\" stroke=\"#555555\" stroke-width=\"1.0\" fill=\"#ff3333\" opacity=\"0.6\" /><circle cx=\"89.51371999999999\" cy=\"28.023329999999998\" r=\"3.0\" stroke=\"#555555\" stroke-width=\"1.0\" fill=\"#ff3333\" opacity=\"0.6\" /><circle cx=\"89.45933000000001\" cy=\"26.90723\" r=\"3.0\" stroke=\"#555555\" stroke-width=\"1.0\" fill=\"#ff3333\" opacity=\"0.6\" /><circle cx=\"89.796\" cy=\"27.5124\" r=\"3.0\" stroke=\"#555555\" stroke-width=\"1.0\" fill=\"#ff3333\" opacity=\"0.6\" /><circle cx=\"89.5485\" cy=\"27.3146\" r=\"3.0\" stroke=\"#555555\" stroke-width=\"1.0\" fill=\"#ff3333\" opacity=\"0.6\" /><circle cx=\"89.74823\" cy=\"27.73522\" r=\"3.0\" stroke=\"#555555\" stroke-width=\"1.0\" fill=\"#ff3333\" opacity=\"0.6\" /><circle cx=\"89.7626\" cy=\"27.49077\" r=\"3.0\" stroke=\"#555555\" stroke-width=\"1.0\" fill=\"#ff3333\" opacity=\"0.6\" /><circle cx=\"89.54089\" cy=\"27.15421\" r=\"3.0\" stroke=\"#555555\" stroke-width=\"1.0\" fill=\"#ff3333\" opacity=\"0.6\" /><circle cx=\"89.55054\" cy=\"27.1306\" r=\"3.0\" stroke=\"#555555\" stroke-width=\"1.0\" fill=\"#ff3333\" opacity=\"0.6\" /><circle cx=\"89.72346999999999\" cy=\"28.14491\" r=\"3.0\" stroke=\"#555555\" stroke-width=\"1.0\" fill=\"#ff3333\" opacity=\"0.6\" /><circle cx=\"89.55313000000001\" cy=\"27.07518\" r=\"3.0\" stroke=\"#555555\" stroke-width=\"1.0\" fill=\"#ff3333\" opacity=\"0.6\" /><circle cx=\"89.80578\" cy=\"28.1714\" r=\"3.0\" stroke=\"#555555\" stroke-width=\"1.0\" fill=\"#ff3333\" opacity=\"0.6\" /><circle cx=\"89.68955\" cy=\"28.10946\" r=\"3.0\" stroke=\"#555555\" stroke-width=\"1.0\" fill=\"#ff3333\" opacity=\"0.6\" /><circle cx=\"89.695\" cy=\"27.44078\" r=\"3.0\" stroke=\"#555555\" stroke-width=\"1.0\" fill=\"#ff3333\" opacity=\"0.6\" /><circle cx=\"89.748838\" cy=\"27.490287\" r=\"3.0\" stroke=\"#555555\" stroke-width=\"1.0\" fill=\"#ff3333\" opacity=\"0.6\" /><circle cx=\"89.39972\" cy=\"27.442220000000002\" r=\"3.0\" stroke=\"#555555\" stroke-width=\"1.0\" fill=\"#ff3333\" opacity=\"0.6\" /><circle cx=\"89.42323\" cy=\"27.449\" r=\"3.0\" stroke=\"#555555\" stroke-width=\"1.0\" fill=\"#ff3333\" opacity=\"0.6\" /><circle cx=\"89.41937\" cy=\"27.458029999999997\" r=\"3.0\" stroke=\"#555555\" stroke-width=\"1.0\" fill=\"#ff3333\" opacity=\"0.6\" /><circle cx=\"90.58742\" cy=\"27.51336\" r=\"3.0\" stroke=\"#555555\" stroke-width=\"1.0\" fill=\"#ff3333\" opacity=\"0.6\" /><circle cx=\"90.57289\" cy=\"27.532390000000003\" r=\"3.0\" stroke=\"#555555\" stroke-width=\"1.0\" fill=\"#ff3333\" opacity=\"0.6\" /><circle cx=\"90.54692\" cy=\"27.5085\" r=\"3.0\" stroke=\"#555555\" stroke-width=\"1.0\" fill=\"#ff3333\" opacity=\"0.6\" /><circle cx=\"90.53558000000001\" cy=\"27.49989\" r=\"3.0\" stroke=\"#555555\" stroke-width=\"1.0\" fill=\"#ff3333\" opacity=\"0.6\" /><circle cx=\"90.52133\" cy=\"27.4935\" r=\"3.0\" stroke=\"#555555\" stroke-width=\"1.0\" fill=\"#ff3333\" opacity=\"0.6\" /><circle cx=\"90.48383000000001\" cy=\"27.504109999999997\" r=\"3.0\" stroke=\"#555555\" stroke-width=\"1.0\" fill=\"#ff3333\" opacity=\"0.6\" /><circle cx=\"90.45964000000001\" cy=\"27.520390000000003\" r=\"3.0\" stroke=\"#555555\" stroke-width=\"1.0\" fill=\"#ff3333\" opacity=\"0.6\" /><circle cx=\"90.72881\" cy=\"27.69694\" r=\"3.0\" stroke=\"#555555\" stroke-width=\"1.0\" fill=\"#ff3333\" opacity=\"0.6\" /><circle cx=\"90.74593\" cy=\"27.666140000000002\" r=\"3.0\" stroke=\"#555555\" stroke-width=\"1.0\" fill=\"#ff3333\" opacity=\"0.6\" /><circle cx=\"90.73758000000001\" cy=\"27.6455\" r=\"3.0\" stroke=\"#555555\" stroke-width=\"1.0\" fill=\"#ff3333\" opacity=\"0.6\" /><circle cx=\"90.50137\" cy=\"27.49695\" r=\"3.0\" stroke=\"#555555\" stroke-width=\"1.0\" fill=\"#ff3333\" opacity=\"0.6\" /><circle cx=\"91.006333\" cy=\"27.399139\" r=\"3.0\" stroke=\"#555555\" stroke-width=\"1.0\" fill=\"#ff3333\" opacity=\"0.6\" /><circle cx=\"90.43225\" cy=\"27.447416999999998\" r=\"3.0\" stroke=\"#555555\" stroke-width=\"1.0\" fill=\"#ff3333\" opacity=\"0.6\" /><circle cx=\"90.48136099999999\" cy=\"27.473000000000003\" r=\"3.0\" stroke=\"#555555\" stroke-width=\"1.0\" fill=\"#ff3333\" opacity=\"0.6\" /><circle cx=\"90.46825\" cy=\"27.507806\" r=\"3.0\" stroke=\"#555555\" stroke-width=\"1.0\" fill=\"#ff3333\" opacity=\"0.6\" /><circle cx=\"90.299306\" cy=\"27.524611\" r=\"3.0\" stroke=\"#555555\" stroke-width=\"1.0\" fill=\"#ff3333\" opacity=\"0.6\" /><circle cx=\"85.0925\" cy=\"27.5648\" r=\"3.0\" stroke=\"#555555\" stroke-width=\"1.0\" fill=\"#ff3333\" opacity=\"0.6\" /><circle cx=\"85.0878\" cy=\"27.5676\" r=\"3.0\" stroke=\"#555555\" stroke-width=\"1.0\" fill=\"#ff3333\" opacity=\"0.6\" /><circle cx=\"85.0856\" cy=\"27.5669\" r=\"3.0\" stroke=\"#555555\" stroke-width=\"1.0\" fill=\"#ff3333\" opacity=\"0.6\" /><circle cx=\"85.0774\" cy=\"27.5703\" r=\"3.0\" stroke=\"#555555\" stroke-width=\"1.0\" fill=\"#ff3333\" opacity=\"0.6\" /><circle cx=\"85.084\" cy=\"27.5901\" r=\"3.0\" stroke=\"#555555\" stroke-width=\"1.0\" fill=\"#ff3333\" opacity=\"0.6\" /><circle cx=\"84.18049\" cy=\"27.919659999999997\" r=\"3.0\" stroke=\"#555555\" stroke-width=\"1.0\" fill=\"#ff3333\" opacity=\"0.6\" /><circle cx=\"84.42011600000001\" cy=\"27.940690999999998\" r=\"3.0\" stroke=\"#555555\" stroke-width=\"1.0\" fill=\"#ff3333\" opacity=\"0.6\" /><circle cx=\"84.555083\" cy=\"27.943517\" r=\"3.0\" stroke=\"#555555\" stroke-width=\"1.0\" fill=\"#ff3333\" opacity=\"0.6\" /><circle cx=\"84.541333\" cy=\"28.074467\" r=\"3.0\" stroke=\"#555555\" stroke-width=\"1.0\" fill=\"#ff3333\" opacity=\"0.6\" /><circle cx=\"84.4588\" cy=\"28.023467\" r=\"3.0\" stroke=\"#555555\" stroke-width=\"1.0\" fill=\"#ff3333\" opacity=\"0.6\" /><circle cx=\"84.47166700000001\" cy=\"27.82145\" r=\"3.0\" stroke=\"#555555\" stroke-width=\"1.0\" fill=\"#ff3333\" opacity=\"0.6\" /><circle cx=\"80.592033\" cy=\"29.14835\" r=\"3.0\" stroke=\"#555555\" stroke-width=\"1.0\" fill=\"#ff3333\" opacity=\"0.6\" /><circle cx=\"80.608983\" cy=\"29.18245\" r=\"3.0\" stroke=\"#555555\" stroke-width=\"1.0\" fill=\"#ff3333\" opacity=\"0.6\" /><circle cx=\"80.623083\" cy=\"29.215483000000003\" r=\"3.0\" stroke=\"#555555\" stroke-width=\"1.0\" fill=\"#ff3333\" opacity=\"0.6\" /><circle cx=\"80.972483\" cy=\"29.264667\" r=\"3.0\" stroke=\"#555555\" stroke-width=\"1.0\" fill=\"#ff3333\" opacity=\"0.6\" /><circle cx=\"81.219883\" cy=\"29.2507\" r=\"3.0\" stroke=\"#555555\" stroke-width=\"1.0\" fill=\"#ff3333\" opacity=\"0.6\" /><circle cx=\"83.054733\" cy=\"28.19935\" r=\"3.0\" stroke=\"#555555\" stroke-width=\"1.0\" fill=\"#ff3333\" opacity=\"0.6\" /><circle cx=\"82.796283\" cy=\"28.248803000000002\" r=\"3.0\" stroke=\"#555555\" stroke-width=\"1.0\" fill=\"#ff3333\" opacity=\"0.6\" /><circle cx=\"83.455267\" cy=\"27.951\" r=\"3.0\" stroke=\"#555555\" stroke-width=\"1.0\" fill=\"#ff3333\" opacity=\"0.6\" /><circle cx=\"83.481667\" cy=\"28.228817\" r=\"3.0\" stroke=\"#555555\" stroke-width=\"1.0\" fill=\"#ff3333\" opacity=\"0.6\" /><circle cx=\"81.73648299999999\" cy=\"28.87445\" r=\"3.0\" stroke=\"#555555\" stroke-width=\"1.0\" fill=\"#ff3333\" opacity=\"0.6\" /><circle cx=\"81.94202\" cy=\"28.44908\" r=\"3.0\" stroke=\"#555555\" stroke-width=\"1.0\" fill=\"#ff3333\" opacity=\"0.6\" /><circle cx=\"85.47200000000001\" cy=\"27.906999999999996\" r=\"3.0\" stroke=\"#555555\" stroke-width=\"1.0\" fill=\"#ff3333\" opacity=\"0.6\" /><circle cx=\"85.412\" cy=\"28.070999999999998\" r=\"3.0\" stroke=\"#555555\" stroke-width=\"1.0\" fill=\"#ff3333\" opacity=\"0.6\" /><circle cx=\"85.445\" cy=\"28.0\" r=\"3.0\" stroke=\"#555555\" stroke-width=\"1.0\" fill=\"#ff3333\" opacity=\"0.6\" /><circle cx=\"85.353\" cy=\"27.846\" r=\"3.0\" stroke=\"#555555\" stroke-width=\"1.0\" fill=\"#ff3333\" opacity=\"0.6\" /><circle cx=\"85.31299999999999\" cy=\"27.801\" r=\"3.0\" stroke=\"#555555\" stroke-width=\"1.0\" fill=\"#ff3333\" opacity=\"0.6\" /><circle cx=\"85.294\" cy=\"27.965\" r=\"3.0\" stroke=\"#555555\" stroke-width=\"1.0\" fill=\"#ff3333\" opacity=\"0.6\" /><circle cx=\"85.368\" cy=\"27.94\" r=\"3.0\" stroke=\"#555555\" stroke-width=\"1.0\" fill=\"#ff3333\" opacity=\"0.6\" /><circle cx=\"85.536\" cy=\"27.849\" r=\"3.0\" stroke=\"#555555\" stroke-width=\"1.0\" fill=\"#ff3333\" opacity=\"0.6\" /><circle cx=\"85.266\" cy=\"27.496\" r=\"3.0\" stroke=\"#555555\" stroke-width=\"1.0\" fill=\"#ff3333\" opacity=\"0.6\" /><circle cx=\"84.999\" cy=\"27.781\" r=\"3.0\" stroke=\"#555555\" stroke-width=\"1.0\" fill=\"#ff3333\" opacity=\"0.6\" /><circle cx=\"85.47200000000001\" cy=\"27.906999999999996\" r=\"3.0\" stroke=\"#555555\" stroke-width=\"1.0\" fill=\"#ff3333\" opacity=\"0.6\" /><circle cx=\"85.45200000000001\" cy=\"28.05\" r=\"3.0\" stroke=\"#555555\" stroke-width=\"1.0\" fill=\"#ff3333\" opacity=\"0.6\" /><circle cx=\"85.412\" cy=\"28.070999999999998\" r=\"3.0\" stroke=\"#555555\" stroke-width=\"1.0\" fill=\"#ff3333\" opacity=\"0.6\" /><circle cx=\"85.445\" cy=\"28.0\" r=\"3.0\" stroke=\"#555555\" stroke-width=\"1.0\" fill=\"#ff3333\" opacity=\"0.6\" /><circle cx=\"85.353\" cy=\"27.846\" r=\"3.0\" stroke=\"#555555\" stroke-width=\"1.0\" fill=\"#ff3333\" opacity=\"0.6\" /><circle cx=\"85.31299999999999\" cy=\"27.801\" r=\"3.0\" stroke=\"#555555\" stroke-width=\"1.0\" fill=\"#ff3333\" opacity=\"0.6\" /><circle cx=\"85.318\" cy=\"28.039\" r=\"3.0\" stroke=\"#555555\" stroke-width=\"1.0\" fill=\"#ff3333\" opacity=\"0.6\" /><circle cx=\"85.294\" cy=\"27.965\" r=\"3.0\" stroke=\"#555555\" stroke-width=\"1.0\" fill=\"#ff3333\" opacity=\"0.6\" /><circle cx=\"85.368\" cy=\"27.94\" r=\"3.0\" stroke=\"#555555\" stroke-width=\"1.0\" fill=\"#ff3333\" opacity=\"0.6\" /><circle cx=\"85.40700000000001\" cy=\"27.936\" r=\"3.0\" stroke=\"#555555\" stroke-width=\"1.0\" fill=\"#ff3333\" opacity=\"0.6\" /><circle cx=\"85.536\" cy=\"27.849\" r=\"3.0\" stroke=\"#555555\" stroke-width=\"1.0\" fill=\"#ff3333\" opacity=\"0.6\" /><circle cx=\"85.266\" cy=\"27.496\" r=\"3.0\" stroke=\"#555555\" stroke-width=\"1.0\" fill=\"#ff3333\" opacity=\"0.6\" /><circle cx=\"84.818\" cy=\"27.747\" r=\"3.0\" stroke=\"#555555\" stroke-width=\"1.0\" fill=\"#ff3333\" opacity=\"0.6\" /><circle cx=\"84.999\" cy=\"27.781\" r=\"3.0\" stroke=\"#555555\" stroke-width=\"1.0\" fill=\"#ff3333\" opacity=\"0.6\" /><circle cx=\"85.015\" cy=\"27.758000000000003\" r=\"3.0\" stroke=\"#555555\" stroke-width=\"1.0\" fill=\"#ff3333\" opacity=\"0.6\" /><circle cx=\"85.228\" cy=\"27.791\" r=\"3.0\" stroke=\"#555555\" stroke-width=\"1.0\" fill=\"#ff3333\" opacity=\"0.6\" /><circle cx=\"85.21799999999999\" cy=\"27.767\" r=\"3.0\" stroke=\"#555555\" stroke-width=\"1.0\" fill=\"#ff3333\" opacity=\"0.6\" /><circle cx=\"85.54899999999999\" cy=\"27.718000000000004\" r=\"3.0\" stroke=\"#555555\" stroke-width=\"1.0\" fill=\"#ff3333\" opacity=\"0.6\" /><circle cx=\"85.53399999999999\" cy=\"27.712\" r=\"3.0\" stroke=\"#555555\" stroke-width=\"1.0\" fill=\"#ff3333\" opacity=\"0.6\" /><circle cx=\"85.559\" cy=\"27.729\" r=\"3.0\" stroke=\"#555555\" stroke-width=\"1.0\" fill=\"#ff3333\" opacity=\"0.6\" /><circle cx=\"85.564\" cy=\"27.76\" r=\"3.0\" stroke=\"#555555\" stroke-width=\"1.0\" fill=\"#ff3333\" opacity=\"0.6\" /><circle cx=\"85.568\" cy=\"27.764\" r=\"3.0\" stroke=\"#555555\" stroke-width=\"1.0\" fill=\"#ff3333\" opacity=\"0.6\" /><circle cx=\"85.559\" cy=\"27.779\" r=\"3.0\" stroke=\"#555555\" stroke-width=\"1.0\" fill=\"#ff3333\" opacity=\"0.6\" /><circle cx=\"85.537\" cy=\"27.781999999999996\" r=\"3.0\" stroke=\"#555555\" stroke-width=\"1.0\" fill=\"#ff3333\" opacity=\"0.6\" /><circle cx=\"85.37899999999999\" cy=\"27.775\" r=\"3.0\" stroke=\"#555555\" stroke-width=\"1.0\" fill=\"#ff3333\" opacity=\"0.6\" /><circle cx=\"85.35700000000001\" cy=\"27.779\" r=\"3.0\" stroke=\"#555555\" stroke-width=\"1.0\" fill=\"#ff3333\" opacity=\"0.6\" /><circle cx=\"85.363\" cy=\"27.788\" r=\"3.0\" stroke=\"#555555\" stroke-width=\"1.0\" fill=\"#ff3333\" opacity=\"0.6\" /><circle cx=\"85.506\" cy=\"27.795\" r=\"3.0\" stroke=\"#555555\" stroke-width=\"1.0\" fill=\"#ff3333\" opacity=\"0.6\" /><circle cx=\"85.625\" cy=\"27.874000000000002\" r=\"3.0\" stroke=\"#555555\" stroke-width=\"1.0\" fill=\"#ff3333\" opacity=\"0.6\" /><circle cx=\"85.641\" cy=\"27.944000000000003\" r=\"3.0\" stroke=\"#555555\" stroke-width=\"1.0\" fill=\"#ff3333\" opacity=\"0.6\" /><circle cx=\"85.679\" cy=\"27.971999999999998\" r=\"3.0\" stroke=\"#555555\" stroke-width=\"1.0\" fill=\"#ff3333\" opacity=\"0.6\" /><circle cx=\"85.535\" cy=\"27.871\" r=\"3.0\" stroke=\"#555555\" stroke-width=\"1.0\" fill=\"#ff3333\" opacity=\"0.6\" /><circle cx=\"85.53299999999999\" cy=\"27.878\" r=\"3.0\" stroke=\"#555555\" stroke-width=\"1.0\" fill=\"#ff3333\" opacity=\"0.6\" /><circle cx=\"85.539\" cy=\"27.896\" r=\"3.0\" stroke=\"#555555\" stroke-width=\"1.0\" fill=\"#ff3333\" opacity=\"0.6\" /><circle cx=\"85.54700000000001\" cy=\"27.914\" r=\"3.0\" stroke=\"#555555\" stroke-width=\"1.0\" fill=\"#ff3333\" opacity=\"0.6\" /><circle cx=\"85.54799999999999\" cy=\"27.939\" r=\"3.0\" stroke=\"#555555\" stroke-width=\"1.0\" fill=\"#ff3333\" opacity=\"0.6\" /><circle cx=\"85.545\" cy=\"27.945\" r=\"3.0\" stroke=\"#555555\" stroke-width=\"1.0\" fill=\"#ff3333\" opacity=\"0.6\" /><circle cx=\"85.54\" cy=\"27.951\" r=\"3.0\" stroke=\"#555555\" stroke-width=\"1.0\" fill=\"#ff3333\" opacity=\"0.6\" /><circle cx=\"85.53399999999999\" cy=\"27.961\" r=\"3.0\" stroke=\"#555555\" stroke-width=\"1.0\" fill=\"#ff3333\" opacity=\"0.6\" /><circle cx=\"85.529\" cy=\"27.974\" r=\"3.0\" stroke=\"#555555\" stroke-width=\"1.0\" fill=\"#ff3333\" opacity=\"0.6\" /><circle cx=\"85.527\" cy=\"27.987\" r=\"3.0\" stroke=\"#555555\" stroke-width=\"1.0\" fill=\"#ff3333\" opacity=\"0.6\" /><circle cx=\"85.525\" cy=\"28.0\" r=\"3.0\" stroke=\"#555555\" stroke-width=\"1.0\" fill=\"#ff3333\" opacity=\"0.6\" /><circle cx=\"85.512\" cy=\"28.008000000000003\" r=\"3.0\" stroke=\"#555555\" stroke-width=\"1.0\" fill=\"#ff3333\" opacity=\"0.6\" /><circle cx=\"85.46700000000001\" cy=\"27.959\" r=\"3.0\" stroke=\"#555555\" stroke-width=\"1.0\" fill=\"#ff3333\" opacity=\"0.6\" /><circle cx=\"85.48200000000001\" cy=\"27.91\" r=\"3.0\" stroke=\"#555555\" stroke-width=\"1.0\" fill=\"#ff3333\" opacity=\"0.6\" /><circle cx=\"85.473\" cy=\"27.885\" r=\"3.0\" stroke=\"#555555\" stroke-width=\"1.0\" fill=\"#ff3333\" opacity=\"0.6\" /><circle cx=\"85.46700000000001\" cy=\"27.88\" r=\"3.0\" stroke=\"#555555\" stroke-width=\"1.0\" fill=\"#ff3333\" opacity=\"0.6\" /><circle cx=\"85.454\" cy=\"27.869\" r=\"3.0\" stroke=\"#555555\" stroke-width=\"1.0\" fill=\"#ff3333\" opacity=\"0.6\" /><circle cx=\"85.449\" cy=\"27.865\" r=\"3.0\" stroke=\"#555555\" stroke-width=\"1.0\" fill=\"#ff3333\" opacity=\"0.6\" /><circle cx=\"85.43799999999999\" cy=\"27.865\" r=\"3.0\" stroke=\"#555555\" stroke-width=\"1.0\" fill=\"#ff3333\" opacity=\"0.6\" /><circle cx=\"85.411\" cy=\"27.874000000000002\" r=\"3.0\" stroke=\"#555555\" stroke-width=\"1.0\" fill=\"#ff3333\" opacity=\"0.6\" /><circle cx=\"85.396\" cy=\"27.87\" r=\"3.0\" stroke=\"#555555\" stroke-width=\"1.0\" fill=\"#ff3333\" opacity=\"0.6\" /><circle cx=\"85.39\" cy=\"27.874000000000002\" r=\"3.0\" stroke=\"#555555\" stroke-width=\"1.0\" fill=\"#ff3333\" opacity=\"0.6\" /><circle cx=\"85.38\" cy=\"27.866\" r=\"3.0\" stroke=\"#555555\" stroke-width=\"1.0\" fill=\"#ff3333\" opacity=\"0.6\" /><circle cx=\"85.369\" cy=\"27.873\" r=\"3.0\" stroke=\"#555555\" stroke-width=\"1.0\" fill=\"#ff3333\" opacity=\"0.6\" /><circle cx=\"85.329\" cy=\"27.866999999999997\" r=\"3.0\" stroke=\"#555555\" stroke-width=\"1.0\" fill=\"#ff3333\" opacity=\"0.6\" /><circle cx=\"85.241\" cy=\"27.874000000000002\" r=\"3.0\" stroke=\"#555555\" stroke-width=\"1.0\" fill=\"#ff3333\" opacity=\"0.6\" /><circle cx=\"85.23899999999999\" cy=\"27.868000000000002\" r=\"3.0\" stroke=\"#555555\" stroke-width=\"1.0\" fill=\"#ff3333\" opacity=\"0.6\" /><circle cx=\"85.427\" cy=\"28.068\" r=\"3.0\" stroke=\"#555555\" stroke-width=\"1.0\" fill=\"#ff3333\" opacity=\"0.6\" /><circle cx=\"85.40799999999999\" cy=\"28.081\" r=\"3.0\" stroke=\"#555555\" stroke-width=\"1.0\" fill=\"#ff3333\" opacity=\"0.6\" /><circle cx=\"85.37200000000001\" cy=\"28.087\" r=\"3.0\" stroke=\"#555555\" stroke-width=\"1.0\" fill=\"#ff3333\" opacity=\"0.6\" /><circle cx=\"85.359\" cy=\"28.090999999999998\" r=\"3.0\" stroke=\"#555555\" stroke-width=\"1.0\" fill=\"#ff3333\" opacity=\"0.6\" /><circle cx=\"85.34700000000001\" cy=\"28.096999999999998\" r=\"3.0\" stroke=\"#555555\" stroke-width=\"1.0\" fill=\"#ff3333\" opacity=\"0.6\" /><circle cx=\"85.33\" cy=\"28.101\" r=\"3.0\" stroke=\"#555555\" stroke-width=\"1.0\" fill=\"#ff3333\" opacity=\"0.6\" /><circle cx=\"85.324\" cy=\"28.107\" r=\"3.0\" stroke=\"#555555\" stroke-width=\"1.0\" fill=\"#ff3333\" opacity=\"0.6\" /><circle cx=\"85.314\" cy=\"28.1\" r=\"3.0\" stroke=\"#555555\" stroke-width=\"1.0\" fill=\"#ff3333\" opacity=\"0.6\" /><circle cx=\"85.307\" cy=\"28.093000000000004\" r=\"3.0\" stroke=\"#555555\" stroke-width=\"1.0\" fill=\"#ff3333\" opacity=\"0.6\" /><circle cx=\"nan\" cy=\"nan\" r=\"3.0\" stroke=\"#555555\" stroke-width=\"1.0\" fill=\"#ff3333\" opacity=\"0.6\" /><circle cx=\"nan\" cy=\"nan\" r=\"3.0\" stroke=\"#555555\" stroke-width=\"1.0\" fill=\"#ff3333\" opacity=\"0.6\" /><circle cx=\"85.37899999999999\" cy=\"27.793000000000003\" r=\"3.0\" stroke=\"#555555\" stroke-width=\"1.0\" fill=\"#ff3333\" opacity=\"0.6\" /><circle cx=\"85.417\" cy=\"27.758000000000003\" r=\"3.0\" stroke=\"#555555\" stroke-width=\"1.0\" fill=\"#ff3333\" opacity=\"0.6\" /><circle cx=\"85.34\" cy=\"27.793000000000003\" r=\"3.0\" stroke=\"#555555\" stroke-width=\"1.0\" fill=\"#ff3333\" opacity=\"0.6\" /><circle cx=\"85.473\" cy=\"27.698\" r=\"3.0\" stroke=\"#555555\" stroke-width=\"1.0\" fill=\"#ff3333\" opacity=\"0.6\" /><circle cx=\"85.488\" cy=\"27.701\" r=\"3.0\" stroke=\"#555555\" stroke-width=\"1.0\" fill=\"#ff3333\" opacity=\"0.6\" /><circle cx=\"85.508\" cy=\"27.705\" r=\"3.0\" stroke=\"#555555\" stroke-width=\"1.0\" fill=\"#ff3333\" opacity=\"0.6\" /><circle cx=\"85.618\" cy=\"27.631\" r=\"3.0\" stroke=\"#555555\" stroke-width=\"1.0\" fill=\"#ff3333\" opacity=\"0.6\" /><circle cx=\"85.071\" cy=\"27.495\" r=\"3.0\" stroke=\"#555555\" stroke-width=\"1.0\" fill=\"#ff3333\" opacity=\"0.6\" /><circle cx=\"85.09\" cy=\"27.506\" r=\"3.0\" stroke=\"#555555\" stroke-width=\"1.0\" fill=\"#ff3333\" opacity=\"0.6\" /><circle cx=\"84.89299999999999\" cy=\"27.554000000000002\" r=\"3.0\" stroke=\"#555555\" stroke-width=\"1.0\" fill=\"#ff3333\" opacity=\"0.6\" /><circle cx=\"84.90700000000001\" cy=\"27.576999999999998\" r=\"3.0\" stroke=\"#555555\" stroke-width=\"1.0\" fill=\"#ff3333\" opacity=\"0.6\" /><circle cx=\"84.854\" cy=\"27.735\" r=\"3.0\" stroke=\"#555555\" stroke-width=\"1.0\" fill=\"#ff3333\" opacity=\"0.6\" /><circle cx=\"nan\" cy=\"nan\" r=\"3.0\" stroke=\"#555555\" stroke-width=\"1.0\" fill=\"#ff3333\" opacity=\"0.6\" /><circle cx=\"84.899\" cy=\"27.739\" r=\"3.0\" stroke=\"#555555\" stroke-width=\"1.0\" fill=\"#ff3333\" opacity=\"0.6\" /><circle cx=\"84.895\" cy=\"27.69\" r=\"3.0\" stroke=\"#555555\" stroke-width=\"1.0\" fill=\"#ff3333\" opacity=\"0.6\" /><circle cx=\"84.848\" cy=\"27.636999999999997\" r=\"3.0\" stroke=\"#555555\" stroke-width=\"1.0\" fill=\"#ff3333\" opacity=\"0.6\" /><circle cx=\"84.84\" cy=\"27.621\" r=\"3.0\" stroke=\"#555555\" stroke-width=\"1.0\" fill=\"#ff3333\" opacity=\"0.6\" /><circle cx=\"84.941\" cy=\"27.611\" r=\"3.0\" stroke=\"#555555\" stroke-width=\"1.0\" fill=\"#ff3333\" opacity=\"0.6\" /><circle cx=\"84.97\" cy=\"27.62\" r=\"3.0\" stroke=\"#555555\" stroke-width=\"1.0\" fill=\"#ff3333\" opacity=\"0.6\" /><circle cx=\"85.155\" cy=\"27.579\" r=\"3.0\" stroke=\"#555555\" stroke-width=\"1.0\" fill=\"#ff3333\" opacity=\"0.6\" /><circle cx=\"85.12100000000001\" cy=\"27.599\" r=\"3.0\" stroke=\"#555555\" stroke-width=\"1.0\" fill=\"#ff3333\" opacity=\"0.6\" /><circle cx=\"85.51\" cy=\"27.484\" r=\"3.0\" stroke=\"#555555\" stroke-width=\"1.0\" fill=\"#ff3333\" opacity=\"0.6\" /><circle cx=\"85.346\" cy=\"28.136\" r=\"3.0\" stroke=\"#555555\" stroke-width=\"1.0\" fill=\"#ff3333\" opacity=\"0.6\" /><circle cx=\"85.366\" cy=\"28.135\" r=\"3.0\" stroke=\"#555555\" stroke-width=\"1.0\" fill=\"#ff3333\" opacity=\"0.6\" /><circle cx=\"85.40100000000001\" cy=\"28.145\" r=\"3.0\" stroke=\"#555555\" stroke-width=\"1.0\" fill=\"#ff3333\" opacity=\"0.6\" /><circle cx=\"85.416\" cy=\"28.162\" r=\"3.0\" stroke=\"#555555\" stroke-width=\"1.0\" fill=\"#ff3333\" opacity=\"0.6\" /><circle cx=\"85.42399999999999\" cy=\"28.169\" r=\"3.0\" stroke=\"#555555\" stroke-width=\"1.0\" fill=\"#ff3333\" opacity=\"0.6\" /><circle cx=\"85.59200000000001\" cy=\"28.203000000000003\" r=\"3.0\" stroke=\"#555555\" stroke-width=\"1.0\" fill=\"#ff3333\" opacity=\"0.6\" /><circle cx=\"85.542\" cy=\"28.209\" r=\"3.0\" stroke=\"#555555\" stroke-width=\"1.0\" fill=\"#ff3333\" opacity=\"0.6\" /><circle cx=\"85.52600000000001\" cy=\"28.211\" r=\"3.0\" stroke=\"#555555\" stroke-width=\"1.0\" fill=\"#ff3333\" opacity=\"0.6\" /><circle cx=\"85.491\" cy=\"28.214000000000002\" r=\"3.0\" stroke=\"#555555\" stroke-width=\"1.0\" fill=\"#ff3333\" opacity=\"0.6\" /><circle cx=\"85.436\" cy=\"28.191\" r=\"3.0\" stroke=\"#555555\" stroke-width=\"1.0\" fill=\"#ff3333\" opacity=\"0.6\" /><circle cx=\"85.385\" cy=\"28.158\" r=\"3.0\" stroke=\"#555555\" stroke-width=\"1.0\" fill=\"#ff3333\" opacity=\"0.6\" /><circle cx=\"84.84299999999999\" cy=\"27.698\" r=\"3.0\" stroke=\"#555555\" stroke-width=\"1.0\" fill=\"#ff3333\" opacity=\"0.6\" /><circle cx=\"120.831\" cy=\"22.25\" r=\"3.0\" stroke=\"#555555\" stroke-width=\"1.0\" fill=\"#ff3333\" opacity=\"0.6\" /><circle cx=\"120.632\" cy=\"22.389\" r=\"3.0\" stroke=\"#555555\" stroke-width=\"1.0\" fill=\"#ff3333\" opacity=\"0.6\" /><circle cx=\"120.7\" cy=\"22.529\" r=\"3.0\" stroke=\"#555555\" stroke-width=\"1.0\" fill=\"#ff3333\" opacity=\"0.6\" /><circle cx=\"120.98\" cy=\"22.592\" r=\"3.0\" stroke=\"#555555\" stroke-width=\"1.0\" fill=\"#ff3333\" opacity=\"0.6\" /><circle cx=\"120.934\" cy=\"22.613000000000003\" r=\"3.0\" stroke=\"#555555\" stroke-width=\"1.0\" fill=\"#ff3333\" opacity=\"0.6\" /><circle cx=\"120.931\" cy=\"22.616\" r=\"3.0\" stroke=\"#555555\" stroke-width=\"1.0\" fill=\"#ff3333\" opacity=\"0.6\" /><circle cx=\"120.943\" cy=\"22.62\" r=\"3.0\" stroke=\"#555555\" stroke-width=\"1.0\" fill=\"#ff3333\" opacity=\"0.6\" /><circle cx=\"120.932\" cy=\"22.623\" r=\"3.0\" stroke=\"#555555\" stroke-width=\"1.0\" fill=\"#ff3333\" opacity=\"0.6\" /><circle cx=\"120.648\" cy=\"22.713\" r=\"3.0\" stroke=\"#555555\" stroke-width=\"1.0\" fill=\"#ff3333\" opacity=\"0.6\" /><circle cx=\"120.65899999999999\" cy=\"23.031\" r=\"3.0\" stroke=\"#555555\" stroke-width=\"1.0\" fill=\"#ff3333\" opacity=\"0.6\" /><circle cx=\"120.67\" cy=\"23.046\" r=\"3.0\" stroke=\"#555555\" stroke-width=\"1.0\" fill=\"#ff3333\" opacity=\"0.6\" /><circle cx=\"120.544\" cy=\"23.070999999999998\" r=\"3.0\" stroke=\"#555555\" stroke-width=\"1.0\" fill=\"#ff3333\" opacity=\"0.6\" /><circle cx=\"120.62100000000001\" cy=\"23.073\" r=\"3.0\" stroke=\"#555555\" stroke-width=\"1.0\" fill=\"#ff3333\" opacity=\"0.6\" /><circle cx=\"120.52\" cy=\"23.081999999999997\" r=\"3.0\" stroke=\"#555555\" stroke-width=\"1.0\" fill=\"#ff3333\" opacity=\"0.6\" /><circle cx=\"120.94200000000001\" cy=\"23.263\" r=\"3.0\" stroke=\"#555555\" stroke-width=\"1.0\" fill=\"#ff3333\" opacity=\"0.6\" /><circle cx=\"120.84100000000001\" cy=\"23.284000000000002\" r=\"3.0\" stroke=\"#555555\" stroke-width=\"1.0\" fill=\"#ff3333\" opacity=\"0.6\" /><circle cx=\"120.617\" cy=\"23.432\" r=\"3.0\" stroke=\"#555555\" stroke-width=\"1.0\" fill=\"#ff3333\" opacity=\"0.6\" /><circle cx=\"120.61\" cy=\"23.438000000000002\" r=\"3.0\" stroke=\"#555555\" stroke-width=\"1.0\" fill=\"#ff3333\" opacity=\"0.6\" /><circle cx=\"120.728\" cy=\"23.465\" r=\"3.0\" stroke=\"#555555\" stroke-width=\"1.0\" fill=\"#ff3333\" opacity=\"0.6\" /><circle cx=\"120.821\" cy=\"23.511999999999997\" r=\"3.0\" stroke=\"#555555\" stroke-width=\"1.0\" fill=\"#ff3333\" opacity=\"0.6\" /><circle cx=\"120.865\" cy=\"23.546\" r=\"3.0\" stroke=\"#555555\" stroke-width=\"1.0\" fill=\"#ff3333\" opacity=\"0.6\" /><circle cx=\"120.93799999999999\" cy=\"23.566\" r=\"3.0\" stroke=\"#555555\" stroke-width=\"1.0\" fill=\"#ff3333\" opacity=\"0.6\" /><circle cx=\"120.939\" cy=\"23.793000000000003\" r=\"3.0\" stroke=\"#555555\" stroke-width=\"1.0\" fill=\"#ff3333\" opacity=\"0.6\" /><circle cx=\"120.81700000000001\" cy=\"23.892\" r=\"3.0\" stroke=\"#555555\" stroke-width=\"1.0\" fill=\"#ff3333\" opacity=\"0.6\" /><circle cx=\"120.874\" cy=\"24.171\" r=\"3.0\" stroke=\"#555555\" stroke-width=\"1.0\" fill=\"#ff3333\" opacity=\"0.6\" /><circle cx=\"120.91\" cy=\"24.175\" r=\"3.0\" stroke=\"#555555\" stroke-width=\"1.0\" fill=\"#ff3333\" opacity=\"0.6\" /><circle cx=\"121.303\" cy=\"24.194000000000003\" r=\"3.0\" stroke=\"#555555\" stroke-width=\"1.0\" fill=\"#ff3333\" opacity=\"0.6\" /><circle cx=\"120.73\" cy=\"24.197\" r=\"3.0\" stroke=\"#555555\" stroke-width=\"1.0\" fill=\"#ff3333\" opacity=\"0.6\" /><circle cx=\"121.265\" cy=\"24.235\" r=\"3.0\" stroke=\"#555555\" stroke-width=\"1.0\" fill=\"#ff3333\" opacity=\"0.6\" /><circle cx=\"121.265\" cy=\"24.235\" r=\"3.0\" stroke=\"#555555\" stroke-width=\"1.0\" fill=\"#ff3333\" opacity=\"0.6\" /><circle cx=\"121.23100000000001\" cy=\"24.247\" r=\"3.0\" stroke=\"#555555\" stroke-width=\"1.0\" fill=\"#ff3333\" opacity=\"0.6\" /><circle cx=\"121.236\" cy=\"24.247\" r=\"3.0\" stroke=\"#555555\" stroke-width=\"1.0\" fill=\"#ff3333\" opacity=\"0.6\" /><circle cx=\"120.427\" cy=\"22.839000000000002\" r=\"3.0\" stroke=\"#555555\" stroke-width=\"1.0\" fill=\"#ff3333\" opacity=\"0.6\" /><circle cx=\"120.667\" cy=\"23.019000000000002\" r=\"3.0\" stroke=\"#555555\" stroke-width=\"1.0\" fill=\"#ff3333\" opacity=\"0.6\" /><circle cx=\"120.655\" cy=\"23.022\" r=\"3.0\" stroke=\"#555555\" stroke-width=\"1.0\" fill=\"#ff3333\" opacity=\"0.6\" /><circle cx=\"120.647\" cy=\"23.03\" r=\"3.0\" stroke=\"#555555\" stroke-width=\"1.0\" fill=\"#ff3333\" opacity=\"0.6\" /><circle cx=\"120.647\" cy=\"23.03\" r=\"3.0\" stroke=\"#555555\" stroke-width=\"1.0\" fill=\"#ff3333\" opacity=\"0.6\" /><circle cx=\"120.645\" cy=\"23.031\" r=\"3.0\" stroke=\"#555555\" stroke-width=\"1.0\" fill=\"#ff3333\" opacity=\"0.6\" /><circle cx=\"120.648\" cy=\"23.031\" r=\"3.0\" stroke=\"#555555\" stroke-width=\"1.0\" fill=\"#ff3333\" opacity=\"0.6\" /><circle cx=\"120.65\" cy=\"23.034000000000002\" r=\"3.0\" stroke=\"#555555\" stroke-width=\"1.0\" fill=\"#ff3333\" opacity=\"0.6\" /><circle cx=\"120.544\" cy=\"23.070999999999998\" r=\"3.0\" stroke=\"#555555\" stroke-width=\"1.0\" fill=\"#ff3333\" opacity=\"0.6\" /><circle cx=\"120.64200000000001\" cy=\"23.073\" r=\"3.0\" stroke=\"#555555\" stroke-width=\"1.0\" fill=\"#ff3333\" opacity=\"0.6\" /><circle cx=\"120.62100000000001\" cy=\"23.073\" r=\"3.0\" stroke=\"#555555\" stroke-width=\"1.0\" fill=\"#ff3333\" opacity=\"0.6\" /><circle cx=\"120.611\" cy=\"23.083000000000002\" r=\"3.0\" stroke=\"#555555\" stroke-width=\"1.0\" fill=\"#ff3333\" opacity=\"0.6\" /><circle cx=\"120.553\" cy=\"23.085\" r=\"3.0\" stroke=\"#555555\" stroke-width=\"1.0\" fill=\"#ff3333\" opacity=\"0.6\" /><circle cx=\"120.604\" cy=\"23.086\" r=\"3.0\" stroke=\"#555555\" stroke-width=\"1.0\" fill=\"#ff3333\" opacity=\"0.6\" /><circle cx=\"120.51\" cy=\"23.092\" r=\"3.0\" stroke=\"#555555\" stroke-width=\"1.0\" fill=\"#ff3333\" opacity=\"0.6\" /><circle cx=\"120.52799999999999\" cy=\"23.096999999999998\" r=\"3.0\" stroke=\"#555555\" stroke-width=\"1.0\" fill=\"#ff3333\" opacity=\"0.6\" /><circle cx=\"120.51299999999999\" cy=\"23.115\" r=\"3.0\" stroke=\"#555555\" stroke-width=\"1.0\" fill=\"#ff3333\" opacity=\"0.6\" /><circle cx=\"120.50299999999999\" cy=\"23.115\" r=\"3.0\" stroke=\"#555555\" stroke-width=\"1.0\" fill=\"#ff3333\" opacity=\"0.6\" /><circle cx=\"120.47\" cy=\"23.238000000000003\" r=\"3.0\" stroke=\"#555555\" stroke-width=\"1.0\" fill=\"#ff3333\" opacity=\"0.6\" /><circle cx=\"120.84\" cy=\"24.029\" r=\"3.0\" stroke=\"#555555\" stroke-width=\"1.0\" fill=\"#ff3333\" opacity=\"0.6\" /><circle cx=\"120.822\" cy=\"24.033\" r=\"3.0\" stroke=\"#555555\" stroke-width=\"1.0\" fill=\"#ff3333\" opacity=\"0.6\" /><circle cx=\"120.83200000000001\" cy=\"24.035\" r=\"3.0\" stroke=\"#555555\" stroke-width=\"1.0\" fill=\"#ff3333\" opacity=\"0.6\" /><circle cx=\"120.803\" cy=\"24.037\" r=\"3.0\" stroke=\"#555555\" stroke-width=\"1.0\" fill=\"#ff3333\" opacity=\"0.6\" /><circle cx=\"120.869\" cy=\"24.046\" r=\"3.0\" stroke=\"#555555\" stroke-width=\"1.0\" fill=\"#ff3333\" opacity=\"0.6\" /><circle cx=\"120.897\" cy=\"24.06\" r=\"3.0\" stroke=\"#555555\" stroke-width=\"1.0\" fill=\"#ff3333\" opacity=\"0.6\" /><circle cx=\"120.946\" cy=\"24.066999999999997\" r=\"3.0\" stroke=\"#555555\" stroke-width=\"1.0\" fill=\"#ff3333\" opacity=\"0.6\" /><circle cx=\"120.988\" cy=\"24.076\" r=\"3.0\" stroke=\"#555555\" stroke-width=\"1.0\" fill=\"#ff3333\" opacity=\"0.6\" /><circle cx=\"120.87\" cy=\"24.076999999999998\" r=\"3.0\" stroke=\"#555555\" stroke-width=\"1.0\" fill=\"#ff3333\" opacity=\"0.6\" /><circle cx=\"120.861\" cy=\"24.079\" r=\"3.0\" stroke=\"#555555\" stroke-width=\"1.0\" fill=\"#ff3333\" opacity=\"0.6\" /><circle cx=\"120.85799999999999\" cy=\"24.08\" r=\"3.0\" stroke=\"#555555\" stroke-width=\"1.0\" fill=\"#ff3333\" opacity=\"0.6\" /><circle cx=\"120.85700000000001\" cy=\"24.11\" r=\"3.0\" stroke=\"#555555\" stroke-width=\"1.0\" fill=\"#ff3333\" opacity=\"0.6\" /><circle cx=\"120.84899999999999\" cy=\"24.112\" r=\"3.0\" stroke=\"#555555\" stroke-width=\"1.0\" fill=\"#ff3333\" opacity=\"0.6\" /><circle cx=\"121.12299999999999\" cy=\"24.254\" r=\"3.0\" stroke=\"#555555\" stroke-width=\"1.0\" fill=\"#ff3333\" opacity=\"0.6\" /><circle cx=\"121.58\" cy=\"24.848000000000003\" r=\"3.0\" stroke=\"#555555\" stroke-width=\"1.0\" fill=\"#ff3333\" opacity=\"0.6\" /><circle cx=\"121.54899999999999\" cy=\"24.862\" r=\"3.0\" stroke=\"#555555\" stroke-width=\"1.0\" fill=\"#ff3333\" opacity=\"0.6\" /><circle cx=\"121.539\" cy=\"24.894000000000002\" r=\"3.0\" stroke=\"#555555\" stroke-width=\"1.0\" fill=\"#ff3333\" opacity=\"0.6\" /><circle cx=\"121.51\" cy=\"24.906\" r=\"3.0\" stroke=\"#555555\" stroke-width=\"1.0\" fill=\"#ff3333\" opacity=\"0.6\" /><circle cx=\"121.505\" cy=\"24.910999999999998\" r=\"3.0\" stroke=\"#555555\" stroke-width=\"1.0\" fill=\"#ff3333\" opacity=\"0.6\" /><circle cx=\"121.527\" cy=\"24.914\" r=\"3.0\" stroke=\"#555555\" stroke-width=\"1.0\" fill=\"#ff3333\" opacity=\"0.6\" /><circle cx=\"121.499\" cy=\"24.92\" r=\"3.0\" stroke=\"#555555\" stroke-width=\"1.0\" fill=\"#ff3333\" opacity=\"0.6\" /><circle cx=\"121.47\" cy=\"24.925\" r=\"3.0\" stroke=\"#555555\" stroke-width=\"1.0\" fill=\"#ff3333\" opacity=\"0.6\" /><circle cx=\"121.47\" cy=\"24.928\" r=\"3.0\" stroke=\"#555555\" stroke-width=\"1.0\" fill=\"#ff3333\" opacity=\"0.6\" /><circle cx=\"121.47399999999999\" cy=\"24.988000000000003\" r=\"3.0\" stroke=\"#555555\" stroke-width=\"1.0\" fill=\"#ff3333\" opacity=\"0.6\" /><circle cx=\"121.37100000000001\" cy=\"24.991\" r=\"3.0\" stroke=\"#555555\" stroke-width=\"1.0\" fill=\"#ff3333\" opacity=\"0.6\" /><circle cx=\"121.361\" cy=\"24.997\" r=\"3.0\" stroke=\"#555555\" stroke-width=\"1.0\" fill=\"#ff3333\" opacity=\"0.6\" /><circle cx=\"121.359\" cy=\"25.0\" r=\"3.0\" stroke=\"#555555\" stroke-width=\"1.0\" fill=\"#ff3333\" opacity=\"0.6\" /><circle cx=\"120.9\" cy=\"23.79\" r=\"3.0\" stroke=\"#555555\" stroke-width=\"1.0\" fill=\"#ff3333\" opacity=\"0.6\" /><circle cx=\"121.0\" cy=\"23.79\" r=\"3.0\" stroke=\"#555555\" stroke-width=\"1.0\" fill=\"#ff3333\" opacity=\"0.6\" /><circle cx=\"121.03\" cy=\"23.78\" r=\"3.0\" stroke=\"#555555\" stroke-width=\"1.0\" fill=\"#ff3333\" opacity=\"0.6\" /><circle cx=\"121.36\" cy=\"24.78\" r=\"3.0\" stroke=\"#555555\" stroke-width=\"1.0\" fill=\"#ff3333\" opacity=\"0.6\" /><circle cx=\"121.37\" cy=\"24.7\" r=\"3.0\" stroke=\"#555555\" stroke-width=\"1.0\" fill=\"#ff3333\" opacity=\"0.6\" /><circle cx=\"121.37\" cy=\"24.69\" r=\"3.0\" stroke=\"#555555\" stroke-width=\"1.0\" fill=\"#ff3333\" opacity=\"0.6\" /><circle cx=\"121.45\" cy=\"24.64\" r=\"3.0\" stroke=\"#555555\" stroke-width=\"1.0\" fill=\"#ff3333\" opacity=\"0.6\" /><circle cx=\"121.46\" cy=\"24.65\" r=\"3.0\" stroke=\"#555555\" stroke-width=\"1.0\" fill=\"#ff3333\" opacity=\"0.6\" /><circle cx=\"121.51\" cy=\"24.61\" r=\"3.0\" stroke=\"#555555\" stroke-width=\"1.0\" fill=\"#ff3333\" opacity=\"0.6\" /><circle cx=\"121.52\" cy=\"24.62\" r=\"3.0\" stroke=\"#555555\" stroke-width=\"1.0\" fill=\"#ff3333\" opacity=\"0.6\" /><circle cx=\"121.58\" cy=\"24.17\" r=\"3.0\" stroke=\"#555555\" stroke-width=\"1.0\" fill=\"#ff3333\" opacity=\"0.6\" /><circle cx=\"121.48\" cy=\"24.21\" r=\"3.0\" stroke=\"#555555\" stroke-width=\"1.0\" fill=\"#ff3333\" opacity=\"0.6\" /><circle cx=\"121.38\" cy=\"24.17\" r=\"3.0\" stroke=\"#555555\" stroke-width=\"1.0\" fill=\"#ff3333\" opacity=\"0.6\" /><circle cx=\"121.36\" cy=\"24.18\" r=\"3.0\" stroke=\"#555555\" stroke-width=\"1.0\" fill=\"#ff3333\" opacity=\"0.6\" /><circle cx=\"121.29\" cy=\"24.23\" r=\"3.0\" stroke=\"#555555\" stroke-width=\"1.0\" fill=\"#ff3333\" opacity=\"0.6\" /><circle cx=\"121.25\" cy=\"24.26\" r=\"3.0\" stroke=\"#555555\" stroke-width=\"1.0\" fill=\"#ff3333\" opacity=\"0.6\" /><circle cx=\"121.18\" cy=\"24.26\" r=\"3.0\" stroke=\"#555555\" stroke-width=\"1.0\" fill=\"#ff3333\" opacity=\"0.6\" /><circle cx=\"121.14\" cy=\"24.25\" r=\"3.0\" stroke=\"#555555\" stroke-width=\"1.0\" fill=\"#ff3333\" opacity=\"0.6\" /><circle cx=\"121.06\" cy=\"24.23\" r=\"3.0\" stroke=\"#555555\" stroke-width=\"1.0\" fill=\"#ff3333\" opacity=\"0.6\" /><circle cx=\"121.02\" cy=\"24.18\" r=\"3.0\" stroke=\"#555555\" stroke-width=\"1.0\" fill=\"#ff3333\" opacity=\"0.6\" /><circle cx=\"120.8\" cy=\"23.21\" r=\"3.0\" stroke=\"#555555\" stroke-width=\"1.0\" fill=\"#ff3333\" opacity=\"0.6\" /><circle cx=\"120.83\" cy=\"23.28\" r=\"3.0\" stroke=\"#555555\" stroke-width=\"1.0\" fill=\"#ff3333\" opacity=\"0.6\" /><circle cx=\"120.85\" cy=\"23.29\" r=\"3.0\" stroke=\"#555555\" stroke-width=\"1.0\" fill=\"#ff3333\" opacity=\"0.6\" /><circle cx=\"120.95\" cy=\"23.27\" r=\"3.0\" stroke=\"#555555\" stroke-width=\"1.0\" fill=\"#ff3333\" opacity=\"0.6\" /><circle cx=\"121.0\" cy=\"23.23\" r=\"3.0\" stroke=\"#555555\" stroke-width=\"1.0\" fill=\"#ff3333\" opacity=\"0.6\" /><circle cx=\"121.07\" cy=\"23.14\" r=\"3.0\" stroke=\"#555555\" stroke-width=\"1.0\" fill=\"#ff3333\" opacity=\"0.6\" /><circle cx=\"121.12\" cy=\"23.14\" r=\"3.0\" stroke=\"#555555\" stroke-width=\"1.0\" fill=\"#ff3333\" opacity=\"0.6\" /><circle cx=\"120.97\" cy=\"22.56\" r=\"3.0\" stroke=\"#555555\" stroke-width=\"1.0\" fill=\"#ff3333\" opacity=\"0.6\" /><circle cx=\"120.89\" cy=\"22.34\" r=\"3.0\" stroke=\"#555555\" stroke-width=\"1.0\" fill=\"#ff3333\" opacity=\"0.6\" /><circle cx=\"120.86\" cy=\"22.29\" r=\"3.0\" stroke=\"#555555\" stroke-width=\"1.0\" fill=\"#ff3333\" opacity=\"0.6\" /><circle cx=\"120.78\" cy=\"22.22\" r=\"3.0\" stroke=\"#555555\" stroke-width=\"1.0\" fill=\"#ff3333\" opacity=\"0.6\" /><circle cx=\"120.74\" cy=\"22.2\" r=\"3.0\" stroke=\"#555555\" stroke-width=\"1.0\" fill=\"#ff3333\" opacity=\"0.6\" /><circle cx=\"120.655\" cy=\"23.022\" r=\"3.0\" stroke=\"#555555\" stroke-width=\"1.0\" fill=\"#ff3333\" opacity=\"0.6\" /><circle cx=\"120.655\" cy=\"23.022\" r=\"3.0\" stroke=\"#555555\" stroke-width=\"1.0\" fill=\"#ff3333\" opacity=\"0.6\" /><circle cx=\"120.648\" cy=\"23.031\" r=\"3.0\" stroke=\"#555555\" stroke-width=\"1.0\" fill=\"#ff3333\" opacity=\"0.6\" /><circle cx=\"120.648\" cy=\"23.031\" r=\"3.0\" stroke=\"#555555\" stroke-width=\"1.0\" fill=\"#ff3333\" opacity=\"0.6\" /><circle cx=\"120.648\" cy=\"23.031\" r=\"3.0\" stroke=\"#555555\" stroke-width=\"1.0\" fill=\"#ff3333\" opacity=\"0.6\" /><circle cx=\"120.65\" cy=\"23.034000000000002\" r=\"3.0\" stroke=\"#555555\" stroke-width=\"1.0\" fill=\"#ff3333\" opacity=\"0.6\" /><circle cx=\"120.65\" cy=\"23.034000000000002\" r=\"3.0\" stroke=\"#555555\" stroke-width=\"1.0\" fill=\"#ff3333\" opacity=\"0.6\" /><circle cx=\"120.65\" cy=\"23.034000000000002\" r=\"3.0\" stroke=\"#555555\" stroke-width=\"1.0\" fill=\"#ff3333\" opacity=\"0.6\" /><circle cx=\"120.544\" cy=\"23.070999999999998\" r=\"3.0\" stroke=\"#555555\" stroke-width=\"1.0\" fill=\"#ff3333\" opacity=\"0.6\" /><circle cx=\"120.544\" cy=\"23.070999999999998\" r=\"3.0\" stroke=\"#555555\" stroke-width=\"1.0\" fill=\"#ff3333\" opacity=\"0.6\" /><circle cx=\"120.544\" cy=\"23.070999999999998\" r=\"3.0\" stroke=\"#555555\" stroke-width=\"1.0\" fill=\"#ff3333\" opacity=\"0.6\" /><circle cx=\"120.544\" cy=\"23.070999999999998\" r=\"3.0\" stroke=\"#555555\" stroke-width=\"1.0\" fill=\"#ff3333\" opacity=\"0.6\" /><circle cx=\"120.604\" cy=\"23.086\" r=\"3.0\" stroke=\"#555555\" stroke-width=\"1.0\" fill=\"#ff3333\" opacity=\"0.6\" /><circle cx=\"120.51\" cy=\"23.092\" r=\"3.0\" stroke=\"#555555\" stroke-width=\"1.0\" fill=\"#ff3333\" opacity=\"0.6\" /><circle cx=\"120.51\" cy=\"23.092\" r=\"3.0\" stroke=\"#555555\" stroke-width=\"1.0\" fill=\"#ff3333\" opacity=\"0.6\" /><circle cx=\"120.51\" cy=\"23.092\" r=\"3.0\" stroke=\"#555555\" stroke-width=\"1.0\" fill=\"#ff3333\" opacity=\"0.6\" /><circle cx=\"120.52799999999999\" cy=\"23.096999999999998\" r=\"3.0\" stroke=\"#555555\" stroke-width=\"1.0\" fill=\"#ff3333\" opacity=\"0.6\" /><circle cx=\"120.50299999999999\" cy=\"23.115\" r=\"3.0\" stroke=\"#555555\" stroke-width=\"1.0\" fill=\"#ff3333\" opacity=\"0.6\" /><circle cx=\"120.50299999999999\" cy=\"23.115\" r=\"3.0\" stroke=\"#555555\" stroke-width=\"1.0\" fill=\"#ff3333\" opacity=\"0.6\" /><circle cx=\"120.51299999999999\" cy=\"23.115\" r=\"3.0\" stroke=\"#555555\" stroke-width=\"1.0\" fill=\"#ff3333\" opacity=\"0.6\" /><circle cx=\"120.51299999999999\" cy=\"23.115\" r=\"3.0\" stroke=\"#555555\" stroke-width=\"1.0\" fill=\"#ff3333\" opacity=\"0.6\" /><circle cx=\"120.50299999999999\" cy=\"23.115\" r=\"3.0\" stroke=\"#555555\" stroke-width=\"1.0\" fill=\"#ff3333\" opacity=\"0.6\" /><circle cx=\"120.803\" cy=\"24.037\" r=\"3.0\" stroke=\"#555555\" stroke-width=\"1.0\" fill=\"#ff3333\" opacity=\"0.6\" /><circle cx=\"120.803\" cy=\"24.037\" r=\"3.0\" stroke=\"#555555\" stroke-width=\"1.0\" fill=\"#ff3333\" opacity=\"0.6\" /><circle cx=\"120.803\" cy=\"24.037\" r=\"3.0\" stroke=\"#555555\" stroke-width=\"1.0\" fill=\"#ff3333\" opacity=\"0.6\" /><circle cx=\"120.946\" cy=\"24.066999999999997\" r=\"3.0\" stroke=\"#555555\" stroke-width=\"1.0\" fill=\"#ff3333\" opacity=\"0.6\" /><circle cx=\"120.946\" cy=\"24.066999999999997\" r=\"3.0\" stroke=\"#555555\" stroke-width=\"1.0\" fill=\"#ff3333\" opacity=\"0.6\" /><circle cx=\"120.946\" cy=\"24.066999999999997\" r=\"3.0\" stroke=\"#555555\" stroke-width=\"1.0\" fill=\"#ff3333\" opacity=\"0.6\" /><circle cx=\"120.87\" cy=\"24.076999999999998\" r=\"3.0\" stroke=\"#555555\" stroke-width=\"1.0\" fill=\"#ff3333\" opacity=\"0.6\" /><circle cx=\"120.87\" cy=\"24.076999999999998\" r=\"3.0\" stroke=\"#555555\" stroke-width=\"1.0\" fill=\"#ff3333\" opacity=\"0.6\" /><circle cx=\"120.861\" cy=\"24.079\" r=\"3.0\" stroke=\"#555555\" stroke-width=\"1.0\" fill=\"#ff3333\" opacity=\"0.6\" /><circle cx=\"120.861\" cy=\"24.079\" r=\"3.0\" stroke=\"#555555\" stroke-width=\"1.0\" fill=\"#ff3333\" opacity=\"0.6\" /><circle cx=\"120.861\" cy=\"24.079\" r=\"3.0\" stroke=\"#555555\" stroke-width=\"1.0\" fill=\"#ff3333\" opacity=\"0.6\" /><circle cx=\"120.85799999999999\" cy=\"24.08\" r=\"3.0\" stroke=\"#555555\" stroke-width=\"1.0\" fill=\"#ff3333\" opacity=\"0.6\" /><circle cx=\"120.85799999999999\" cy=\"24.08\" r=\"3.0\" stroke=\"#555555\" stroke-width=\"1.0\" fill=\"#ff3333\" opacity=\"0.6\" /><circle cx=\"120.85799999999999\" cy=\"24.08\" r=\"3.0\" stroke=\"#555555\" stroke-width=\"1.0\" fill=\"#ff3333\" opacity=\"0.6\" /><circle cx=\"-68.0736\" cy=\"-16.1047\" r=\"3.0\" stroke=\"#555555\" stroke-width=\"1.0\" fill=\"#ff3333\" opacity=\"0.6\" /><circle cx=\"-68.093\" cy=\"-16.1238\" r=\"3.0\" stroke=\"#555555\" stroke-width=\"1.0\" fill=\"#ff3333\" opacity=\"0.6\" /><circle cx=\"-68.1105\" cy=\"-16.1316\" r=\"3.0\" stroke=\"#555555\" stroke-width=\"1.0\" fill=\"#ff3333\" opacity=\"0.6\" /><circle cx=\"-68.1175\" cy=\"-16.1511\" r=\"3.0\" stroke=\"#555555\" stroke-width=\"1.0\" fill=\"#ff3333\" opacity=\"0.6\" /><circle cx=\"-68.1292\" cy=\"-16.1642\" r=\"3.0\" stroke=\"#555555\" stroke-width=\"1.0\" fill=\"#ff3333\" opacity=\"0.6\" /><circle cx=\"-68.1386\" cy=\"-16.17\" r=\"3.0\" stroke=\"#555555\" stroke-width=\"1.0\" fill=\"#ff3333\" opacity=\"0.6\" /><circle cx=\"-68.1206\" cy=\"-16.2383\" r=\"3.0\" stroke=\"#555555\" stroke-width=\"1.0\" fill=\"#ff3333\" opacity=\"0.6\" /><circle cx=\"-68.1178\" cy=\"-16.2742\" r=\"3.0\" stroke=\"#555555\" stroke-width=\"1.0\" fill=\"#ff3333\" opacity=\"0.6\" /><circle cx=\"-68.128\" cy=\"-16.2856\" r=\"3.0\" stroke=\"#555555\" stroke-width=\"1.0\" fill=\"#ff3333\" opacity=\"0.6\" /><circle cx=\"-68.818\" cy=\"-16.682000000000002\" r=\"3.0\" stroke=\"#555555\" stroke-width=\"1.0\" fill=\"#ff3333\" opacity=\"0.6\" /><circle cx=\"-68.807\" cy=\"-16.668\" r=\"3.0\" stroke=\"#555555\" stroke-width=\"1.0\" fill=\"#ff3333\" opacity=\"0.6\" /><circle cx=\"-67.766\" cy=\"-16.902\" r=\"3.0\" stroke=\"#555555\" stroke-width=\"1.0\" fill=\"#ff3333\" opacity=\"0.6\" /><circle cx=\"-67.7521\" cy=\"-16.896\" r=\"3.0\" stroke=\"#555555\" stroke-width=\"1.0\" fill=\"#ff3333\" opacity=\"0.6\" /><circle cx=\"-67.9742\" cy=\"-16.3331\" r=\"3.0\" stroke=\"#555555\" stroke-width=\"1.0\" fill=\"#ff3333\" opacity=\"0.6\" /><circle cx=\"-67.7009\" cy=\"-16.0874\" r=\"3.0\" stroke=\"#555555\" stroke-width=\"1.0\" fill=\"#ff3333\" opacity=\"0.6\" /><circle cx=\"-67.5213\" cy=\"-15.8398\" r=\"3.0\" stroke=\"#555555\" stroke-width=\"1.0\" fill=\"#ff3333\" opacity=\"0.6\" /><circle cx=\"-67.5252\" cy=\"-15.8035\" r=\"3.0\" stroke=\"#555555\" stroke-width=\"1.0\" fill=\"#ff3333\" opacity=\"0.6\" /><circle cx=\"-67.5032\" cy=\"-15.7825\" r=\"3.0\" stroke=\"#555555\" stroke-width=\"1.0\" fill=\"#ff3333\" opacity=\"0.6\" /><circle cx=\"-67.4894\" cy=\"-15.7659\" r=\"3.0\" stroke=\"#555555\" stroke-width=\"1.0\" fill=\"#ff3333\" opacity=\"0.6\" /><circle cx=\"-67.4971\" cy=\"-15.7229\" r=\"3.0\" stroke=\"#555555\" stroke-width=\"1.0\" fill=\"#ff3333\" opacity=\"0.6\" /><circle cx=\"-67.4972\" cy=\"-15.6967\" r=\"3.0\" stroke=\"#555555\" stroke-width=\"1.0\" fill=\"#ff3333\" opacity=\"0.6\" /><circle cx=\"-67.4887\" cy=\"-15.704\" r=\"3.0\" stroke=\"#555555\" stroke-width=\"1.0\" fill=\"#ff3333\" opacity=\"0.6\" /><circle cx=\"-67.4872\" cy=\"-15.6755\" r=\"3.0\" stroke=\"#555555\" stroke-width=\"1.0\" fill=\"#ff3333\" opacity=\"0.6\" /><circle cx=\"-67.4408\" cy=\"-15.595999999999998\" r=\"3.0\" stroke=\"#555555\" stroke-width=\"1.0\" fill=\"#ff3333\" opacity=\"0.6\" /><circle cx=\"-67.257\" cy=\"-15.5262\" r=\"3.0\" stroke=\"#555555\" stroke-width=\"1.0\" fill=\"#ff3333\" opacity=\"0.6\" /><circle cx=\"-67.1365\" cy=\"-15.3952\" r=\"3.0\" stroke=\"#555555\" stroke-width=\"1.0\" fill=\"#ff3333\" opacity=\"0.6\" /><circle cx=\"-67.1077\" cy=\"-15.3704\" r=\"3.0\" stroke=\"#555555\" stroke-width=\"1.0\" fill=\"#ff3333\" opacity=\"0.6\" /><circle cx=\"-67.0723\" cy=\"-15.235\" r=\"3.0\" stroke=\"#555555\" stroke-width=\"1.0\" fill=\"#ff3333\" opacity=\"0.6\" /><circle cx=\"-66.95\" cy=\"-18.0\" r=\"3.0\" stroke=\"#555555\" stroke-width=\"1.0\" fill=\"#ff3333\" opacity=\"0.6\" /><circle cx=\"-67.02\" cy=\"-17.88\" r=\"3.0\" stroke=\"#555555\" stroke-width=\"1.0\" fill=\"#ff3333\" opacity=\"0.6\" /><circle cx=\"-66.66\" cy=\"-17.71\" r=\"3.0\" stroke=\"#555555\" stroke-width=\"1.0\" fill=\"#ff3333\" opacity=\"0.6\" /><circle cx=\"-66.45\" cy=\"-17.66\" r=\"3.0\" stroke=\"#555555\" stroke-width=\"1.0\" fill=\"#ff3333\" opacity=\"0.6\" /><circle cx=\"-66.43\" cy=\"-17.66\" r=\"3.0\" stroke=\"#555555\" stroke-width=\"1.0\" fill=\"#ff3333\" opacity=\"0.6\" /><circle cx=\"-66.43\" cy=\"-17.66\" r=\"3.0\" stroke=\"#555555\" stroke-width=\"1.0\" fill=\"#ff3333\" opacity=\"0.6\" /><circle cx=\"-66.36\" cy=\"-17.6\" r=\"3.0\" stroke=\"#555555\" stroke-width=\"1.0\" fill=\"#ff3333\" opacity=\"0.6\" /><circle cx=\"-65.89\" cy=\"-17.23\" r=\"3.0\" stroke=\"#555555\" stroke-width=\"1.0\" fill=\"#ff3333\" opacity=\"0.6\" /><circle cx=\"-65.9\" cy=\"-17.17\" r=\"3.0\" stroke=\"#555555\" stroke-width=\"1.0\" fill=\"#ff3333\" opacity=\"0.6\" /><circle cx=\"-65.82\" cy=\"-17.19\" r=\"3.0\" stroke=\"#555555\" stroke-width=\"1.0\" fill=\"#ff3333\" opacity=\"0.6\" /><circle cx=\"-65.74\" cy=\"-17.16\" r=\"3.0\" stroke=\"#555555\" stroke-width=\"1.0\" fill=\"#ff3333\" opacity=\"0.6\" /><circle cx=\"-65.68\" cy=\"-17.1\" r=\"3.0\" stroke=\"#555555\" stroke-width=\"1.0\" fill=\"#ff3333\" opacity=\"0.6\" /><circle cx=\"-65.65\" cy=\"-17.06\" r=\"3.0\" stroke=\"#555555\" stroke-width=\"1.0\" fill=\"#ff3333\" opacity=\"0.6\" /><circle cx=\"-65.55\" cy=\"-17.02\" r=\"3.0\" stroke=\"#555555\" stroke-width=\"1.0\" fill=\"#ff3333\" opacity=\"0.6\" /><circle cx=\"-68.67\" cy=\"-18.49\" r=\"3.0\" stroke=\"#555555\" stroke-width=\"1.0\" fill=\"#ff3333\" opacity=\"0.6\" /><circle cx=\"-68.67\" cy=\"-18.48\" r=\"3.0\" stroke=\"#555555\" stroke-width=\"1.0\" fill=\"#ff3333\" opacity=\"0.6\" /><circle cx=\"-66.61\" cy=\"-17.72\" r=\"3.0\" stroke=\"#555555\" stroke-width=\"1.0\" fill=\"#ff3333\" opacity=\"0.6\" /><circle cx=\"-66.51\" cy=\"-17.69\" r=\"3.0\" stroke=\"#555555\" stroke-width=\"1.0\" fill=\"#ff3333\" opacity=\"0.6\" /><circle cx=\"-68.242\" cy=\"-16.076\" r=\"3.0\" stroke=\"#555555\" stroke-width=\"1.0\" fill=\"#ff3333\" opacity=\"0.6\" /><circle cx=\"-68.243\" cy=\"-16.077\" r=\"3.0\" stroke=\"#555555\" stroke-width=\"1.0\" fill=\"#ff3333\" opacity=\"0.6\" /><circle cx=\"-68.242\" cy=\"-16.076\" r=\"3.0\" stroke=\"#555555\" stroke-width=\"1.0\" fill=\"#ff3333\" opacity=\"0.6\" /><circle cx=\"-68.17\" cy=\"-15.997\" r=\"3.0\" stroke=\"#555555\" stroke-width=\"1.0\" fill=\"#ff3333\" opacity=\"0.6\" /><circle cx=\"-68.173\" cy=\"-16.003\" r=\"3.0\" stroke=\"#555555\" stroke-width=\"1.0\" fill=\"#ff3333\" opacity=\"0.6\" /><circle cx=\"-68.173\" cy=\"-15.991\" r=\"3.0\" stroke=\"#555555\" stroke-width=\"1.0\" fill=\"#ff3333\" opacity=\"0.6\" /><circle cx=\"-68.17699999999999\" cy=\"-15.989\" r=\"3.0\" stroke=\"#555555\" stroke-width=\"1.0\" fill=\"#ff3333\" opacity=\"0.6\" /><circle cx=\"-68.235\" cy=\"-15.987\" r=\"3.0\" stroke=\"#555555\" stroke-width=\"1.0\" fill=\"#ff3333\" opacity=\"0.6\" /><circle cx=\"-68.253\" cy=\"-16.005\" r=\"3.0\" stroke=\"#555555\" stroke-width=\"1.0\" fill=\"#ff3333\" opacity=\"0.6\" /><circle cx=\"-68.263\" cy=\"-16.025\" r=\"3.0\" stroke=\"#555555\" stroke-width=\"1.0\" fill=\"#ff3333\" opacity=\"0.6\" /><circle cx=\"-68.28699999999999\" cy=\"-16.052\" r=\"3.0\" stroke=\"#555555\" stroke-width=\"1.0\" fill=\"#ff3333\" opacity=\"0.6\" /><circle cx=\"-68.28699999999999\" cy=\"-16.052\" r=\"3.0\" stroke=\"#555555\" stroke-width=\"1.0\" fill=\"#ff3333\" opacity=\"0.6\" /><circle cx=\"-68.296\" cy=\"-16.058\" r=\"3.0\" stroke=\"#555555\" stroke-width=\"1.0\" fill=\"#ff3333\" opacity=\"0.6\" /><circle cx=\"-67.887\" cy=\"-16.485\" r=\"3.0\" stroke=\"#555555\" stroke-width=\"1.0\" fill=\"#ff3333\" opacity=\"0.6\" /><circle cx=\"-67.876\" cy=\"-16.487000000000002\" r=\"3.0\" stroke=\"#555555\" stroke-width=\"1.0\" fill=\"#ff3333\" opacity=\"0.6\" /><circle cx=\"-67.869\" cy=\"-16.48\" r=\"3.0\" stroke=\"#555555\" stroke-width=\"1.0\" fill=\"#ff3333\" opacity=\"0.6\" /><circle cx=\"-67.862\" cy=\"-16.476\" r=\"3.0\" stroke=\"#555555\" stroke-width=\"1.0\" fill=\"#ff3333\" opacity=\"0.6\" /><circle cx=\"-67.845\" cy=\"-16.469\" r=\"3.0\" stroke=\"#555555\" stroke-width=\"1.0\" fill=\"#ff3333\" opacity=\"0.6\" /><circle cx=\"-67.832\" cy=\"-16.455\" r=\"3.0\" stroke=\"#555555\" stroke-width=\"1.0\" fill=\"#ff3333\" opacity=\"0.6\" /><circle cx=\"-67.4907\" cy=\"-16.441\" r=\"3.0\" stroke=\"#555555\" stroke-width=\"1.0\" fill=\"#ff3333\" opacity=\"0.6\" /><circle cx=\"-68.122\" cy=\"-16.242\" r=\"3.0\" stroke=\"#555555\" stroke-width=\"1.0\" fill=\"#ff3333\" opacity=\"0.6\" /><circle cx=\"-68.12\" cy=\"-16.277\" r=\"3.0\" stroke=\"#555555\" stroke-width=\"1.0\" fill=\"#ff3333\" opacity=\"0.6\" /><circle cx=\"-68.128\" cy=\"-16.285999999999998\" r=\"3.0\" stroke=\"#555555\" stroke-width=\"1.0\" fill=\"#ff3333\" opacity=\"0.6\" /><circle cx=\"-68.07600000000001\" cy=\"-16.109\" r=\"3.0\" stroke=\"#555555\" stroke-width=\"1.0\" fill=\"#ff3333\" opacity=\"0.6\" /><circle cx=\"-68.093\" cy=\"-16.127\" r=\"3.0\" stroke=\"#555555\" stroke-width=\"1.0\" fill=\"#ff3333\" opacity=\"0.6\" /><circle cx=\"-68.111\" cy=\"-16.135\" r=\"3.0\" stroke=\"#555555\" stroke-width=\"1.0\" fill=\"#ff3333\" opacity=\"0.6\" /><circle cx=\"-68.119\" cy=\"-16.153\" r=\"3.0\" stroke=\"#555555\" stroke-width=\"1.0\" fill=\"#ff3333\" opacity=\"0.6\" /><circle cx=\"-68.12899999999999\" cy=\"-16.166\" r=\"3.0\" stroke=\"#555555\" stroke-width=\"1.0\" fill=\"#ff3333\" opacity=\"0.6\" /><circle cx=\"-68.14\" cy=\"-16.175\" r=\"3.0\" stroke=\"#555555\" stroke-width=\"1.0\" fill=\"#ff3333\" opacity=\"0.6\" /><circle cx=\"-67.5048\" cy=\"-15.8073\" r=\"3.0\" stroke=\"#555555\" stroke-width=\"1.0\" fill=\"#ff3333\" opacity=\"0.6\" /><circle cx=\"-67.5079\" cy=\"-15.8239\" r=\"3.0\" stroke=\"#555555\" stroke-width=\"1.0\" fill=\"#ff3333\" opacity=\"0.6\" /><circle cx=\"-67.505\" cy=\"-15.7779\" r=\"3.0\" stroke=\"#555555\" stroke-width=\"1.0\" fill=\"#ff3333\" opacity=\"0.6\" /><circle cx=\"-67.5298\" cy=\"-15.8305\" r=\"3.0\" stroke=\"#555555\" stroke-width=\"1.0\" fill=\"#ff3333\" opacity=\"0.6\" /><circle cx=\"-67.4232\" cy=\"-15.8266\" r=\"3.0\" stroke=\"#555555\" stroke-width=\"1.0\" fill=\"#ff3333\" opacity=\"0.6\" /><circle cx=\"-67.72\" cy=\"-16.8766\" r=\"3.0\" stroke=\"#555555\" stroke-width=\"1.0\" fill=\"#ff3333\" opacity=\"0.6\" /><circle cx=\"-67.72\" cy=\"-16.8766\" r=\"3.0\" stroke=\"#555555\" stroke-width=\"1.0\" fill=\"#ff3333\" opacity=\"0.6\" /><circle cx=\"-67.7849\" cy=\"-16.2539\" r=\"3.0\" stroke=\"#555555\" stroke-width=\"1.0\" fill=\"#ff3333\" opacity=\"0.6\" /><circle cx=\"-67.7959\" cy=\"-16.9637\" r=\"3.0\" stroke=\"#555555\" stroke-width=\"1.0\" fill=\"#ff3333\" opacity=\"0.6\" /><circle cx=\"-67.9125\" cy=\"-16.3122\" r=\"3.0\" stroke=\"#555555\" stroke-width=\"1.0\" fill=\"#ff3333\" opacity=\"0.6\" /><circle cx=\"-68.0408\" cy=\"-16.3381\" r=\"3.0\" stroke=\"#555555\" stroke-width=\"1.0\" fill=\"#ff3333\" opacity=\"0.6\" /><circle cx=\"-68.22981999999999\" cy=\"-15.91397\" r=\"3.0\" stroke=\"#555555\" stroke-width=\"1.0\" fill=\"#ff3333\" opacity=\"0.6\" /><circle cx=\"-68.24128\" cy=\"-15.92668\" r=\"3.0\" stroke=\"#555555\" stroke-width=\"1.0\" fill=\"#ff3333\" opacity=\"0.6\" /><circle cx=\"-68.24524\" cy=\"-15.93896\" r=\"3.0\" stroke=\"#555555\" stroke-width=\"1.0\" fill=\"#ff3333\" opacity=\"0.6\" /><circle cx=\"-68.25494\" cy=\"-15.954220000000001\" r=\"3.0\" stroke=\"#555555\" stroke-width=\"1.0\" fill=\"#ff3333\" opacity=\"0.6\" /><circle cx=\"-68.27124\" cy=\"-15.963529999999999\" r=\"3.0\" stroke=\"#555555\" stroke-width=\"1.0\" fill=\"#ff3333\" opacity=\"0.6\" /><circle cx=\"-68.27564\" cy=\"-15.97359\" r=\"3.0\" stroke=\"#555555\" stroke-width=\"1.0\" fill=\"#ff3333\" opacity=\"0.6\" /><circle cx=\"-68.29033000000001\" cy=\"-15.98879\" r=\"3.0\" stroke=\"#555555\" stroke-width=\"1.0\" fill=\"#ff3333\" opacity=\"0.6\" /><circle cx=\"-68.29955\" cy=\"-16.029320000000002\" r=\"3.0\" stroke=\"#555555\" stroke-width=\"1.0\" fill=\"#ff3333\" opacity=\"0.6\" /><circle cx=\"-68.29516\" cy=\"-16.038610000000002\" r=\"3.0\" stroke=\"#555555\" stroke-width=\"1.0\" fill=\"#ff3333\" opacity=\"0.6\" /><circle cx=\"-68.3057\" cy=\"-16.05169\" r=\"3.0\" stroke=\"#555555\" stroke-width=\"1.0\" fill=\"#ff3333\" opacity=\"0.6\" /><circle cx=\"-68.30481999999999\" cy=\"-16.072789999999998\" r=\"3.0\" stroke=\"#555555\" stroke-width=\"1.0\" fill=\"#ff3333\" opacity=\"0.6\" /><circle cx=\"-68.14203\" cy=\"-16.269470000000002\" r=\"3.0\" stroke=\"#555555\" stroke-width=\"1.0\" fill=\"#ff3333\" opacity=\"0.6\" /><circle cx=\"-67.40954\" cy=\"-16.851370000000003\" r=\"3.0\" stroke=\"#555555\" stroke-width=\"1.0\" fill=\"#ff3333\" opacity=\"0.6\" /><circle cx=\"-67.42966\" cy=\"-16.8544\" r=\"3.0\" stroke=\"#555555\" stroke-width=\"1.0\" fill=\"#ff3333\" opacity=\"0.6\" /><circle cx=\"-67.46099\" cy=\"-16.8632\" r=\"3.0\" stroke=\"#555555\" stroke-width=\"1.0\" fill=\"#ff3333\" opacity=\"0.6\" /><circle cx=\"-67.48111\" cy=\"-16.86155\" r=\"3.0\" stroke=\"#555555\" stroke-width=\"1.0\" fill=\"#ff3333\" opacity=\"0.6\" /><circle cx=\"-68.0736\" cy=\"-16.1047\" r=\"3.0\" stroke=\"#555555\" stroke-width=\"1.0\" fill=\"#ff3333\" opacity=\"0.6\" /><circle cx=\"-68.093\" cy=\"-16.1238\" r=\"3.0\" stroke=\"#555555\" stroke-width=\"1.0\" fill=\"#ff3333\" opacity=\"0.6\" /><circle cx=\"-68.1105\" cy=\"-16.1316\" r=\"3.0\" stroke=\"#555555\" stroke-width=\"1.0\" fill=\"#ff3333\" opacity=\"0.6\" /><circle cx=\"-68.1386\" cy=\"-16.17\" r=\"3.0\" stroke=\"#555555\" stroke-width=\"1.0\" fill=\"#ff3333\" opacity=\"0.6\" /><circle cx=\"-68.1206\" cy=\"-16.2383\" r=\"3.0\" stroke=\"#555555\" stroke-width=\"1.0\" fill=\"#ff3333\" opacity=\"0.6\" /><circle cx=\"-68.1178\" cy=\"-16.2742\" r=\"3.0\" stroke=\"#555555\" stroke-width=\"1.0\" fill=\"#ff3333\" opacity=\"0.6\" /><circle cx=\"-68.128\" cy=\"-16.2856\" r=\"3.0\" stroke=\"#555555\" stroke-width=\"1.0\" fill=\"#ff3333\" opacity=\"0.6\" /><circle cx=\"-68.22981999999999\" cy=\"-15.91397\" r=\"3.0\" stroke=\"#555555\" stroke-width=\"1.0\" fill=\"#ff3333\" opacity=\"0.6\" /><circle cx=\"-68.24128\" cy=\"-15.92668\" r=\"3.0\" stroke=\"#555555\" stroke-width=\"1.0\" fill=\"#ff3333\" opacity=\"0.6\" /><circle cx=\"-68.25494\" cy=\"-15.954220000000001\" r=\"3.0\" stroke=\"#555555\" stroke-width=\"1.0\" fill=\"#ff3333\" opacity=\"0.6\" /><circle cx=\"nan\" cy=\"nan\" r=\"3.0\" stroke=\"#555555\" stroke-width=\"1.0\" fill=\"#ff3333\" opacity=\"0.6\" /><circle cx=\"nan\" cy=\"nan\" r=\"3.0\" stroke=\"#555555\" stroke-width=\"1.0\" fill=\"#ff3333\" opacity=\"0.6\" /><circle cx=\"nan\" cy=\"nan\" r=\"3.0\" stroke=\"#555555\" stroke-width=\"1.0\" fill=\"#ff3333\" opacity=\"0.6\" /><circle cx=\"-68.6786\" cy=\"-21.8397\" r=\"3.0\" stroke=\"#555555\" stroke-width=\"1.0\" fill=\"#ff3333\" opacity=\"0.6\" /><circle cx=\"-68.6786\" cy=\"-21.8397\" r=\"3.0\" stroke=\"#555555\" stroke-width=\"1.0\" fill=\"#ff3333\" opacity=\"0.6\" /><circle cx=\"-68.6786\" cy=\"-21.8397\" r=\"3.0\" stroke=\"#555555\" stroke-width=\"1.0\" fill=\"#ff3333\" opacity=\"0.6\" /><circle cx=\"-68.6944\" cy=\"-21.8338\" r=\"3.0\" stroke=\"#555555\" stroke-width=\"1.0\" fill=\"#ff3333\" opacity=\"0.6\" /><circle cx=\"-68.6944\" cy=\"-21.8338\" r=\"3.0\" stroke=\"#555555\" stroke-width=\"1.0\" fill=\"#ff3333\" opacity=\"0.6\" /><circle cx=\"-68.6944\" cy=\"-21.8338\" r=\"3.0\" stroke=\"#555555\" stroke-width=\"1.0\" fill=\"#ff3333\" opacity=\"0.6\" /><circle cx=\"-68.6336\" cy=\"-23.6969\" r=\"3.0\" stroke=\"#555555\" stroke-width=\"1.0\" fill=\"#ff3333\" opacity=\"0.6\" /><circle cx=\"-68.6424\" cy=\"-23.6976\" r=\"3.0\" stroke=\"#555555\" stroke-width=\"1.0\" fill=\"#ff3333\" opacity=\"0.6\" /><circle cx=\"-69.5168\" cy=\"-23.4038\" r=\"3.0\" stroke=\"#555555\" stroke-width=\"1.0\" fill=\"#ff3333\" opacity=\"0.6\" /><circle cx=\"-69.5168\" cy=\"-23.4038\" r=\"3.0\" stroke=\"#555555\" stroke-width=\"1.0\" fill=\"#ff3333\" opacity=\"0.6\" /><circle cx=\"-69.3585\" cy=\"-22.8731\" r=\"3.0\" stroke=\"#555555\" stroke-width=\"1.0\" fill=\"#ff3333\" opacity=\"0.6\" /><circle cx=\"-69.3585\" cy=\"-22.8731\" r=\"3.0\" stroke=\"#555555\" stroke-width=\"1.0\" fill=\"#ff3333\" opacity=\"0.6\" /><circle cx=\"-70.367134\" cy=\"-24.234579999999998\" r=\"3.0\" stroke=\"#555555\" stroke-width=\"1.0\" fill=\"#ff3333\" opacity=\"0.6\" /><circle cx=\"-69.1128\" cy=\"-24.245817000000002\" r=\"3.0\" stroke=\"#555555\" stroke-width=\"1.0\" fill=\"#ff3333\" opacity=\"0.6\" /><circle cx=\"-70.50699\" cy=\"-23.099619\" r=\"3.0\" stroke=\"#555555\" stroke-width=\"1.0\" fill=\"#ff3333\" opacity=\"0.6\" /><circle cx=\"-70.33236\" cy=\"-23.09185\" r=\"3.0\" stroke=\"#555555\" stroke-width=\"1.0\" fill=\"#ff3333\" opacity=\"0.6\" /><circle cx=\"-70.260254\" cy=\"-22.627453\" r=\"3.0\" stroke=\"#555555\" stroke-width=\"1.0\" fill=\"#ff3333\" opacity=\"0.6\" /><circle cx=\"-70.25423\" cy=\"-22.458052\" r=\"3.0\" stroke=\"#555555\" stroke-width=\"1.0\" fill=\"#ff3333\" opacity=\"0.6\" /><circle cx=\"-70.17482\" cy=\"-22.082664\" r=\"3.0\" stroke=\"#555555\" stroke-width=\"1.0\" fill=\"#ff3333\" opacity=\"0.6\" /><circle cx=\"-70.205414\" cy=\"-23.461185\" r=\"3.0\" stroke=\"#555555\" stroke-width=\"1.0\" fill=\"#ff3333\" opacity=\"0.6\" /><circle cx=\"-69.96371500000001\" cy=\"-23.319435000000002\" r=\"3.0\" stroke=\"#555555\" stroke-width=\"1.0\" fill=\"#ff3333\" opacity=\"0.6\" /><circle cx=\"-69.51684\" cy=\"-23.403782\" r=\"3.0\" stroke=\"#555555\" stroke-width=\"1.0\" fill=\"#ff3333\" opacity=\"0.6\" /><circle cx=\"-69.35845\" cy=\"-22.873102\" r=\"3.0\" stroke=\"#555555\" stroke-width=\"1.0\" fill=\"#ff3333\" opacity=\"0.6\" /><circle cx=\"-69.784584\" cy=\"-22.044035\" r=\"3.0\" stroke=\"#555555\" stroke-width=\"1.0\" fill=\"#ff3333\" opacity=\"0.6\" /><circle cx=\"-68.838295\" cy=\"-22.365126\" r=\"3.0\" stroke=\"#555555\" stroke-width=\"1.0\" fill=\"#ff3333\" opacity=\"0.6\" /><circle cx=\"-68.922585\" cy=\"-23.040968\" r=\"3.0\" stroke=\"#555555\" stroke-width=\"1.0\" fill=\"#ff3333\" opacity=\"0.6\" /><circle cx=\"-68.7582\" cy=\"-23.668657\" r=\"3.0\" stroke=\"#555555\" stroke-width=\"1.0\" fill=\"#ff3333\" opacity=\"0.6\" /><circle cx=\"-68.33968\" cy=\"-23.667439\" r=\"3.0\" stroke=\"#555555\" stroke-width=\"1.0\" fill=\"#ff3333\" opacity=\"0.6\" /><circle cx=\"-68.320274\" cy=\"-22.846033\" r=\"3.0\" stroke=\"#555555\" stroke-width=\"1.0\" fill=\"#ff3333\" opacity=\"0.6\" /><circle cx=\"-68.47901999999999\" cy=\"-23.099585\" r=\"3.0\" stroke=\"#555555\" stroke-width=\"1.0\" fill=\"#ff3333\" opacity=\"0.6\" /><circle cx=\"-68.63280999999999\" cy=\"-23.66815\" r=\"3.0\" stroke=\"#555555\" stroke-width=\"1.0\" fill=\"#ff3333\" opacity=\"0.6\" /><circle cx=\"-69.03474\" cy=\"-23.537252\" r=\"3.0\" stroke=\"#555555\" stroke-width=\"1.0\" fill=\"#ff3333\" opacity=\"0.6\" /><circle cx=\"-65.8911\" cy=\"-24.4863\" r=\"3.0\" stroke=\"#555555\" stroke-width=\"1.0\" fill=\"#ff3333\" opacity=\"0.6\" /><circle cx=\"-65.8911\" cy=\"-24.4863\" r=\"3.0\" stroke=\"#555555\" stroke-width=\"1.0\" fill=\"#ff3333\" opacity=\"0.6\" /><circle cx=\"-67.3284\" cy=\"-24.6229\" r=\"3.0\" stroke=\"#555555\" stroke-width=\"1.0\" fill=\"#ff3333\" opacity=\"0.6\" /><circle cx=\"-67.3284\" cy=\"-24.6229\" r=\"3.0\" stroke=\"#555555\" stroke-width=\"1.0\" fill=\"#ff3333\" opacity=\"0.6\" /><circle cx=\"-67.3284\" cy=\"-24.6229\" r=\"3.0\" stroke=\"#555555\" stroke-width=\"1.0\" fill=\"#ff3333\" opacity=\"0.6\" /><circle cx=\"-67.3303\" cy=\"-24.6337\" r=\"3.0\" stroke=\"#555555\" stroke-width=\"1.0\" fill=\"#ff3333\" opacity=\"0.6\" /><circle cx=\"-67.3303\" cy=\"-24.6337\" r=\"3.0\" stroke=\"#555555\" stroke-width=\"1.0\" fill=\"#ff3333\" opacity=\"0.6\" /><circle cx=\"-67.3281\" cy=\"-24.635\" r=\"3.0\" stroke=\"#555555\" stroke-width=\"1.0\" fill=\"#ff3333\" opacity=\"0.6\" /><circle cx=\"-67.3281\" cy=\"-24.635\" r=\"3.0\" stroke=\"#555555\" stroke-width=\"1.0\" fill=\"#ff3333\" opacity=\"0.6\" /><circle cx=\"-65.0197\" cy=\"-23.2802\" r=\"3.0\" stroke=\"#555555\" stroke-width=\"1.0\" fill=\"#ff3333\" opacity=\"0.6\" /><circle cx=\"-65.0197\" cy=\"-23.2802\" r=\"3.0\" stroke=\"#555555\" stroke-width=\"1.0\" fill=\"#ff3333\" opacity=\"0.6\" /><circle cx=\"-65.0197\" cy=\"-23.2802\" r=\"3.0\" stroke=\"#555555\" stroke-width=\"1.0\" fill=\"#ff3333\" opacity=\"0.6\" /><circle cx=\"-65.0197\" cy=\"-23.2802\" r=\"3.0\" stroke=\"#555555\" stroke-width=\"1.0\" fill=\"#ff3333\" opacity=\"0.6\" /><circle cx=\"-65.0197\" cy=\"-23.2802\" r=\"3.0\" stroke=\"#555555\" stroke-width=\"1.0\" fill=\"#ff3333\" opacity=\"0.6\" /><circle cx=\"-65.0197\" cy=\"-23.2802\" r=\"3.0\" stroke=\"#555555\" stroke-width=\"1.0\" fill=\"#ff3333\" opacity=\"0.6\" /><circle cx=\"-65.0197\" cy=\"-23.2802\" r=\"3.0\" stroke=\"#555555\" stroke-width=\"1.0\" fill=\"#ff3333\" opacity=\"0.6\" /><circle cx=\"-65.0197\" cy=\"-23.2802\" r=\"3.0\" stroke=\"#555555\" stroke-width=\"1.0\" fill=\"#ff3333\" opacity=\"0.6\" /><circle cx=\"-65.0197\" cy=\"-23.2802\" r=\"3.0\" stroke=\"#555555\" stroke-width=\"1.0\" fill=\"#ff3333\" opacity=\"0.6\" /><circle cx=\"-65.6948\" cy=\"-24.8908\" r=\"3.0\" stroke=\"#555555\" stroke-width=\"1.0\" fill=\"#ff3333\" opacity=\"0.6\" /><circle cx=\"-67.2921\" cy=\"-23.6171\" r=\"3.0\" stroke=\"#555555\" stroke-width=\"1.0\" fill=\"#ff3333\" opacity=\"0.6\" /><circle cx=\"-67.2921\" cy=\"-23.6171\" r=\"3.0\" stroke=\"#555555\" stroke-width=\"1.0\" fill=\"#ff3333\" opacity=\"0.6\" /><circle cx=\"-70.2603\" cy=\"-22.6275\" r=\"3.0\" stroke=\"#555555\" stroke-width=\"1.0\" fill=\"#ff3333\" opacity=\"0.6\" /><circle cx=\"-67.2921\" cy=\"-23.6171\" r=\"3.0\" stroke=\"#555555\" stroke-width=\"1.0\" fill=\"#ff3333\" opacity=\"0.6\" /><circle cx=\"-69.3585\" cy=\"-22.8731\" r=\"3.0\" stroke=\"#555555\" stroke-width=\"1.0\" fill=\"#ff3333\" opacity=\"0.6\" /><circle cx=\"-69.3585\" cy=\"-22.8731\" r=\"3.0\" stroke=\"#555555\" stroke-width=\"1.0\" fill=\"#ff3333\" opacity=\"0.6\" /><circle cx=\"-68.3397\" cy=\"-23.6674\" r=\"3.0\" stroke=\"#555555\" stroke-width=\"1.0\" fill=\"#ff3333\" opacity=\"0.6\" /><circle cx=\"-68.3397\" cy=\"-23.6674\" r=\"3.0\" stroke=\"#555555\" stroke-width=\"1.0\" fill=\"#ff3333\" opacity=\"0.6\" /><circle cx=\"-69.0347\" cy=\"-23.5373\" r=\"3.0\" stroke=\"#555555\" stroke-width=\"1.0\" fill=\"#ff3333\" opacity=\"0.6\" /><circle cx=\"-69.0347\" cy=\"-23.5373\" r=\"3.0\" stroke=\"#555555\" stroke-width=\"1.0\" fill=\"#ff3333\" opacity=\"0.6\" /><circle cx=\"-69.4657\" cy=\"-23.3574\" r=\"3.0\" stroke=\"#555555\" stroke-width=\"1.0\" fill=\"#ff3333\" opacity=\"0.6\" /><circle cx=\"-69.4657\" cy=\"-23.3574\" r=\"3.0\" stroke=\"#555555\" stroke-width=\"1.0\" fill=\"#ff3333\" opacity=\"0.6\" /><circle cx=\"-69.4629\" cy=\"-23.3588\" r=\"3.0\" stroke=\"#555555\" stroke-width=\"1.0\" fill=\"#ff3333\" opacity=\"0.6\" /><circle cx=\"-69.4597\" cy=\"-23.3583\" r=\"3.0\" stroke=\"#555555\" stroke-width=\"1.0\" fill=\"#ff3333\" opacity=\"0.6\" /><circle cx=\"-69.4597\" cy=\"-23.3583\" r=\"3.0\" stroke=\"#555555\" stroke-width=\"1.0\" fill=\"#ff3333\" opacity=\"0.6\" /><circle cx=\"-69.4569\" cy=\"-23.3574\" r=\"3.0\" stroke=\"#555555\" stroke-width=\"1.0\" fill=\"#ff3333\" opacity=\"0.6\" /><circle cx=\"-69.4569\" cy=\"-23.3574\" r=\"3.0\" stroke=\"#555555\" stroke-width=\"1.0\" fill=\"#ff3333\" opacity=\"0.6\" /><circle cx=\"-69.4569\" cy=\"-23.3574\" r=\"3.0\" stroke=\"#555555\" stroke-width=\"1.0\" fill=\"#ff3333\" opacity=\"0.6\" /><circle cx=\"-69.4657\" cy=\"-23.3425\" r=\"3.0\" stroke=\"#555555\" stroke-width=\"1.0\" fill=\"#ff3333\" opacity=\"0.6\" /><circle cx=\"-69.4657\" cy=\"-23.3425\" r=\"3.0\" stroke=\"#555555\" stroke-width=\"1.0\" fill=\"#ff3333\" opacity=\"0.6\" /><circle cx=\"-69.4657\" cy=\"-23.3425\" r=\"3.0\" stroke=\"#555555\" stroke-width=\"1.0\" fill=\"#ff3333\" opacity=\"0.6\" /><circle cx=\"-69.4557\" cy=\"-23.3538\" r=\"3.0\" stroke=\"#555555\" stroke-width=\"1.0\" fill=\"#ff3333\" opacity=\"0.6\" /><circle cx=\"-69.4557\" cy=\"-23.3538\" r=\"3.0\" stroke=\"#555555\" stroke-width=\"1.0\" fill=\"#ff3333\" opacity=\"0.6\" /><circle cx=\"-69.461\" cy=\"-23.3863\" r=\"3.0\" stroke=\"#555555\" stroke-width=\"1.0\" fill=\"#ff3333\" opacity=\"0.6\" /><circle cx=\"-69.461\" cy=\"-23.3863\" r=\"3.0\" stroke=\"#555555\" stroke-width=\"1.0\" fill=\"#ff3333\" opacity=\"0.6\" /><circle cx=\"-69.4634\" cy=\"-23.3873\" r=\"3.0\" stroke=\"#555555\" stroke-width=\"1.0\" fill=\"#ff3333\" opacity=\"0.6\" /><circle cx=\"-69.4634\" cy=\"-23.3873\" r=\"3.0\" stroke=\"#555555\" stroke-width=\"1.0\" fill=\"#ff3333\" opacity=\"0.6\" /><circle cx=\"-69.46600000000001\" cy=\"-23.3893\" r=\"3.0\" stroke=\"#555555\" stroke-width=\"1.0\" fill=\"#ff3333\" opacity=\"0.6\" /><circle cx=\"-69.4672\" cy=\"-23.3914\" r=\"3.0\" stroke=\"#555555\" stroke-width=\"1.0\" fill=\"#ff3333\" opacity=\"0.6\" /><circle cx=\"-69.4672\" cy=\"-23.3914\" r=\"3.0\" stroke=\"#555555\" stroke-width=\"1.0\" fill=\"#ff3333\" opacity=\"0.6\" /><circle cx=\"-69.4672\" cy=\"-23.3914\" r=\"3.0\" stroke=\"#555555\" stroke-width=\"1.0\" fill=\"#ff3333\" opacity=\"0.6\" /><circle cx=\"-69.4672\" cy=\"-23.3914\" r=\"3.0\" stroke=\"#555555\" stroke-width=\"1.0\" fill=\"#ff3333\" opacity=\"0.6\" /><circle cx=\"-69.4672\" cy=\"-23.3914\" r=\"3.0\" stroke=\"#555555\" stroke-width=\"1.0\" fill=\"#ff3333\" opacity=\"0.6\" /><circle cx=\"-68.6248\" cy=\"-23.6904\" r=\"3.0\" stroke=\"#555555\" stroke-width=\"1.0\" fill=\"#ff3333\" opacity=\"0.6\" /><circle cx=\"-68.6248\" cy=\"-23.6904\" r=\"3.0\" stroke=\"#555555\" stroke-width=\"1.0\" fill=\"#ff3333\" opacity=\"0.6\" /><circle cx=\"-68.6714\" cy=\"-23.6989\" r=\"3.0\" stroke=\"#555555\" stroke-width=\"1.0\" fill=\"#ff3333\" opacity=\"0.6\" /><circle cx=\"-68.6714\" cy=\"-23.6989\" r=\"3.0\" stroke=\"#555555\" stroke-width=\"1.0\" fill=\"#ff3333\" opacity=\"0.6\" /><circle cx=\"-68.6714\" cy=\"-23.6989\" r=\"3.0\" stroke=\"#555555\" stroke-width=\"1.0\" fill=\"#ff3333\" opacity=\"0.6\" /><circle cx=\"-68.6503\" cy=\"-23.6988\" r=\"3.0\" stroke=\"#555555\" stroke-width=\"1.0\" fill=\"#ff3333\" opacity=\"0.6\" /><circle cx=\"-68.6714\" cy=\"-23.6989\" r=\"3.0\" stroke=\"#555555\" stroke-width=\"1.0\" fill=\"#ff3333\" opacity=\"0.6\" /><circle cx=\"-68.6714\" cy=\"-23.6989\" r=\"3.0\" stroke=\"#555555\" stroke-width=\"1.0\" fill=\"#ff3333\" opacity=\"0.6\" /><circle cx=\"-68.6424\" cy=\"-23.6976\" r=\"3.0\" stroke=\"#555555\" stroke-width=\"1.0\" fill=\"#ff3333\" opacity=\"0.6\" /><circle cx=\"-68.6424\" cy=\"-23.6976\" r=\"3.0\" stroke=\"#555555\" stroke-width=\"1.0\" fill=\"#ff3333\" opacity=\"0.6\" /><circle cx=\"-68.6424\" cy=\"-23.6976\" r=\"3.0\" stroke=\"#555555\" stroke-width=\"1.0\" fill=\"#ff3333\" opacity=\"0.6\" /><circle cx=\"-68.6336\" cy=\"-23.6969\" r=\"3.0\" stroke=\"#555555\" stroke-width=\"1.0\" fill=\"#ff3333\" opacity=\"0.6\" /><circle cx=\"-68.6336\" cy=\"-23.6969\" r=\"3.0\" stroke=\"#555555\" stroke-width=\"1.0\" fill=\"#ff3333\" opacity=\"0.6\" /><circle cx=\"-68.6252\" cy=\"-23.6023\" r=\"3.0\" stroke=\"#555555\" stroke-width=\"1.0\" fill=\"#ff3333\" opacity=\"0.6\" /><circle cx=\"-68.6252\" cy=\"-23.6023\" r=\"3.0\" stroke=\"#555555\" stroke-width=\"1.0\" fill=\"#ff3333\" opacity=\"0.6\" /><circle cx=\"-69.0812\" cy=\"-21.7097\" r=\"3.0\" stroke=\"#555555\" stroke-width=\"1.0\" fill=\"#ff3333\" opacity=\"0.6\" /><circle cx=\"-69.0812\" cy=\"-21.7097\" r=\"3.0\" stroke=\"#555555\" stroke-width=\"1.0\" fill=\"#ff3333\" opacity=\"0.6\" /><circle cx=\"-69.0812\" cy=\"-21.7097\" r=\"3.0\" stroke=\"#555555\" stroke-width=\"1.0\" fill=\"#ff3333\" opacity=\"0.6\" /><circle cx=\"-68.6753\" cy=\"-21.842\" r=\"3.0\" stroke=\"#555555\" stroke-width=\"1.0\" fill=\"#ff3333\" opacity=\"0.6\" /><circle cx=\"-68.6753\" cy=\"-21.842\" r=\"3.0\" stroke=\"#555555\" stroke-width=\"1.0\" fill=\"#ff3333\" opacity=\"0.6\" /><circle cx=\"-68.6753\" cy=\"-21.842\" r=\"3.0\" stroke=\"#555555\" stroke-width=\"1.0\" fill=\"#ff3333\" opacity=\"0.6\" /><circle cx=\"-68.6786\" cy=\"-21.8397\" r=\"3.0\" stroke=\"#555555\" stroke-width=\"1.0\" fill=\"#ff3333\" opacity=\"0.6\" /><circle cx=\"-68.6786\" cy=\"-21.8397\" r=\"3.0\" stroke=\"#555555\" stroke-width=\"1.0\" fill=\"#ff3333\" opacity=\"0.6\" /><circle cx=\"-68.6855\" cy=\"21.8381\" r=\"3.0\" stroke=\"#555555\" stroke-width=\"1.0\" fill=\"#ff3333\" opacity=\"0.6\" /><circle cx=\"-68.6855\" cy=\"21.8381\" r=\"3.0\" stroke=\"#555555\" stroke-width=\"1.0\" fill=\"#ff3333\" opacity=\"0.6\" /><circle cx=\"-68.6926\" cy=\"-21.838\" r=\"3.0\" stroke=\"#555555\" stroke-width=\"1.0\" fill=\"#ff3333\" opacity=\"0.6\" /><circle cx=\"-68.6926\" cy=\"-21.838\" r=\"3.0\" stroke=\"#555555\" stroke-width=\"1.0\" fill=\"#ff3333\" opacity=\"0.6\" /><circle cx=\"-68.6926\" cy=\"-21.838\" r=\"3.0\" stroke=\"#555555\" stroke-width=\"1.0\" fill=\"#ff3333\" opacity=\"0.6\" /><circle cx=\"-68.6944\" cy=\"-21.8338\" r=\"3.0\" stroke=\"#555555\" stroke-width=\"1.0\" fill=\"#ff3333\" opacity=\"0.6\" /><circle cx=\"-68.6944\" cy=\"-21.8338\" r=\"3.0\" stroke=\"#555555\" stroke-width=\"1.0\" fill=\"#ff3333\" opacity=\"0.6\" /><circle cx=\"-68.6944\" cy=\"-21.8338\" r=\"3.0\" stroke=\"#555555\" stroke-width=\"1.0\" fill=\"#ff3333\" opacity=\"0.6\" /></g></g></svg>"
      ],
      "text/plain": [
       "<shapely.geometry.multipoint.MultiPoint at 0x113f6e2e8>"
      ]
     },
     "execution_count": 29,
     "metadata": {},
     "output_type": "execute_result"
    }
   ],
   "source": [
    "all_pts"
   ]
  },
  {
   "cell_type": "markdown",
   "metadata": {},
   "source": [
    "## Convert the thermochronology data to utm"
   ]
  },
  {
   "cell_type": "code",
   "execution_count": 30,
   "metadata": {},
   "outputs": [
    {
     "data": {
      "text/plain": [
       "{'init': 'epsg:4326'}"
      ]
     },
     "execution_count": 30,
     "metadata": {},
     "output_type": "execute_result"
    }
   ],
   "source": [
    "dgs.crs"
   ]
  },
  {
   "cell_type": "code",
   "execution_count": 31,
   "metadata": {},
   "outputs": [],
   "source": [
    "#dgt.set_crs(epsg=4326)\n",
    "dgt.crs = dgs.crs\n",
    "dgtu = dgt.to_crs(proj_text)"
   ]
  },
  {
   "cell_type": "code",
   "execution_count": 32,
   "metadata": {},
   "outputs": [
    {
     "data": {
      "text/plain": [
       "[(321424.3909105797, 12963374.340129504),\n",
       " (323223.12119252526, 13089320.848438613)]"
      ]
     },
     "execution_count": 32,
     "metadata": {},
     "output_type": "execute_result"
    }
   ],
   "source": [
    "xsect_utm.coords[:]"
   ]
  },
  {
   "cell_type": "markdown",
   "metadata": {},
   "source": [
    "## Get distance to xsection for each point"
   ]
  },
  {
   "cell_type": "code",
   "execution_count": 33,
   "metadata": {},
   "outputs": [
    {
     "data": {
      "text/plain": [
       "count     7.460000e+02\n",
       "mean               inf\n",
       "std                inf\n",
       "min       8.895381e+01\n",
       "25%       1.660967e+05\n",
       "50%       3.073853e+06\n",
       "75%       2.031504e+07\n",
       "max      1.797693e+308\n",
       "Name: distance_to_xsection, dtype: float64"
      ]
     },
     "execution_count": 33,
     "metadata": {},
     "output_type": "execute_result"
    }
   ],
   "source": [
    "for ix in dgtu.index:\n",
    "    dgtu.loc[ix, 'distance_to_xsection'] = dgtu.loc[ix, 'geometry'].distance(xsect_utm)\n",
    "    \n",
    "dgtu['distance_to_xsection'].describe()"
   ]
  },
  {
   "cell_type": "markdown",
   "metadata": {},
   "source": [
    "## Get rid of pts that are more than x km away"
   ]
  },
  {
   "cell_type": "code",
   "execution_count": 34,
   "metadata": {},
   "outputs": [
    {
     "name": "stdout",
     "output_type": "stream",
     "text": [
      "number of datapoints left =  48\n"
     ]
    }
   ],
   "source": [
    "close_enough = dgtu['distance_to_xsection'] < max_distance\n",
    "dg2 = dgtu.loc[close_enough]\n",
    "\n",
    "print('number of datapoints left = ', len(dg2))"
   ]
  },
  {
   "cell_type": "markdown",
   "metadata": {},
   "source": [
    "## Go through pts, project them onto xsection and get distance from xsection tip"
   ]
  },
  {
   "cell_type": "code",
   "execution_count": 35,
   "metadata": {},
   "outputs": [
    {
     "name": "stderr",
     "output_type": "stream",
     "text": [
      "/Users/elcopone/opt/miniconda3/lib/python3.7/site-packages/pandas/core/indexing.py:1596: SettingWithCopyWarning: \n",
      "A value is trying to be set on a copy of a slice from a DataFrame.\n",
      "Try using .loc[row_indexer,col_indexer] = value instead\n",
      "\n",
      "See the caveats in the documentation: https://pandas.pydata.org/pandas-docs/stable/user_guide/indexing.html#returning-a-view-versus-a-copy\n",
      "  self.obj[key] = _infer_fill_value(value)\n",
      "/Users/elcopone/opt/miniconda3/lib/python3.7/site-packages/pandas/core/indexing.py:1763: SettingWithCopyWarning: \n",
      "A value is trying to be set on a copy of a slice from a DataFrame.\n",
      "Try using .loc[row_indexer,col_indexer] = value instead\n",
      "\n",
      "See the caveats in the documentation: https://pandas.pydata.org/pandas-docs/stable/user_guide/indexing.html#returning-a-view-versus-a-copy\n",
      "  isetter(loc, value)\n"
     ]
    }
   ],
   "source": [
    "for ix in dg2.index:\n",
    "    dg2.loc[ix, 'projected_distance_along_xsection'] = xsect_utm.project(dg2.loc[ix, 'geometry'])"
   ]
  },
  {
   "cell_type": "code",
   "execution_count": 36,
   "metadata": {},
   "outputs": [
    {
     "data": {
      "text/plain": [
       "count        48.000000\n",
       "mean      65662.124413\n",
       "std       35440.342137\n",
       "min       10818.116254\n",
       "25%       41100.067846\n",
       "50%       61477.944392\n",
       "75%       90114.234189\n",
       "max      125959.352118\n",
       "Name: projected_distance_along_xsection, dtype: float64"
      ]
     },
     "execution_count": 36,
     "metadata": {},
     "output_type": "execute_result"
    }
   ],
   "source": [
    "dg2['projected_distance_along_xsection'].describe()"
   ]
  },
  {
   "cell_type": "markdown",
   "metadata": {},
   "source": [
    "## Save new csv file with projected distances along xsection"
   ]
  },
  {
   "cell_type": "code",
   "execution_count": 37,
   "metadata": {},
   "outputs": [
    {
     "name": "stdout",
     "output_type": "stream",
     "text": [
      "saving updated csv file with proijected distances along cross-section as ../data/thermochron_data_projected.csv\n"
     ]
    }
   ],
   "source": [
    "fn_out = thermochron_data_file[:-4] + '_projected.csv'\n",
    "\n",
    "print('saving updated csv file with proijected distances along cross-section as %s' % fn_out)\n",
    "dg2.to_csv(fn_out)"
   ]
  },
  {
   "cell_type": "code",
   "execution_count": 45,
   "metadata": {},
   "outputs": [
    {
     "data": {
      "text/plain": [
       "ZHe    23\n",
       "AFT    17\n",
       "MAr     8\n",
       "Name: system, dtype: int64"
      ]
     },
     "execution_count": 45,
     "metadata": {},
     "output_type": "execute_result"
    }
   ],
   "source": [
    "dg2['system'].value_counts()"
   ]
  },
  {
   "cell_type": "code",
   "execution_count": null,
   "metadata": {},
   "outputs": [],
   "source": []
  }
 ],
 "metadata": {
  "kernelspec": {
   "display_name": "Python 3",
   "language": "python",
   "name": "python3"
  },
  "language_info": {
   "codemirror_mode": {
    "name": "ipython",
    "version": 3
   },
   "file_extension": ".py",
   "mimetype": "text/x-python",
   "name": "python",
   "nbconvert_exporter": "python",
   "pygments_lexer": "ipython3",
   "version": "3.8.8"
  }
 },
 "nbformat": 4,
 "nbformat_minor": 4
}
