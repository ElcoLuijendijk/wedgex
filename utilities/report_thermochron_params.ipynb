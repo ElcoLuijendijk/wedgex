{
 "cells": [
  {
   "cell_type": "code",
   "execution_count": 1,
   "id": "458b8d8b-1ea4-4343-8bbf-2202e50e85a1",
   "metadata": {},
   "outputs": [],
   "source": [
    "import astropy.units as u"
   ]
  },
  {
   "cell_type": "code",
   "execution_count": 8,
   "id": "1aca12b5-01d9-4c79-97c8-137e1cb9c274",
   "metadata": {},
   "outputs": [
    {
     "name": "stdout",
     "output_type": "stream",
     "text": [
      "2.64e+05 J / mol, 1.27e+06 1 / s\n",
      "2.34e+05 J / mol, 3.98e+07 1 / s\n",
      "2.93e+05 J / mol, 5.50e+04 1 / s\n"
     ]
    }
   ],
   "source": [
    "a = 100.0 * 1e-6 * u.m\n",
    "\n",
    "\n",
    "ea_cal = 63 * 1e3 * u.imperial.cal / u.mol\n",
    "ea = ea_cal.to(u.J / u.mol)\n",
    "\n",
    "D0 = 2.3e-4 * u.m**2 / u.s\n",
    "omega = 55 * D0 / a**2\n",
    "print(f\"{ea:0.2e}, {omega:0.2e}\")\n",
    "\n",
    "ea_cal = 56 * 1e3 * u.imperial.cal / u.mol\n",
    "ea = ea_cal.to(u.J / u.mol)\n",
    "D0 = 72.3 * 1e-4 * u.m**2 / u.s\n",
    "#a = 100.0 * 1e-6 * u.m\n",
    "omega = 55 * D0 / a**2\n",
    "print(f\"{ea:0.2e}, {omega:0.2e}\")\n",
    "\n",
    "ea_cal = 70 * 1e3 * u.imperial.cal / u.mol\n",
    "ea = ea_cal.to(u.J / u.mol)\n",
    "D0 = 0.1 * 1e-4 * u.m**2 / u.s\n",
    "#a = 100.0 * 1e-6 * u.m\n",
    "omega = 55 * D0 / a**2\n",
    "print(f\"{ea:0.2e}, {omega:0.2e}\")"
   ]
  },
  {
   "cell_type": "code",
   "execution_count": null,
   "id": "70e5a726-533a-423c-afab-84aed19ba9a6",
   "metadata": {},
   "outputs": [],
   "source": []
  }
 ],
 "metadata": {
  "kernelspec": {
   "display_name": "Python 3",
   "language": "python",
   "name": "python3"
  },
  "language_info": {
   "codemirror_mode": {
    "name": "ipython",
    "version": 3
   },
   "file_extension": ".py",
   "mimetype": "text/x-python",
   "name": "python",
   "nbconvert_exporter": "python",
   "pygments_lexer": "ipython3",
   "version": "3.8.8"
  }
 },
 "nbformat": 4,
 "nbformat_minor": 5
}
