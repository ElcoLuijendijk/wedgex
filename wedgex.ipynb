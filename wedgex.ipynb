{
 "cells": [
  {
   "cell_type": "markdown",
   "metadata": {},
   "source": [
    "# Wedgex\n",
    "\n",
    "Use an analytical solution for particle trajectories in an orogenic wedge, use the particle depths to calculate thermochronometer cooling ages and compare to thermochronology data. \n",
    "\n",
    "\n",
    "## Workflow:\n",
    "\n",
    "This notebook can be used to run a single model and show the calculated particle trajectories, exhumation rates and thermochronology ages. \n",
    "\n",
    "The default parameters and data are based on the Kuru Chu cross-section in the Himalayas, a well studied cross section which was explored Long et al. (2012, https://doi.org/10.1029/2012TC003155), Coutand et al. (2014, https://doi.org/10.1002/2013JB010891) and McQuarrie and Ehlers (2015, https://doi.org/10.1002/2014TC003783).\n",
    "\n",
    "The thermochronology data that are used are located in the file [data/thermochron_data_projected.csv](data/thermochron_data_projected.csv). This file was created by a separate notebook [utilities/extract_xsection_data.ipynb](utilities/extract_xsection_data.ipynb), which automatically extracts thermochronology data along a cross-section."
   ]
  },
  {
   "cell_type": "markdown",
   "metadata": {},
   "source": [
    "## Import modules"
   ]
  },
  {
   "cell_type": "code",
   "execution_count": 1,
   "metadata": {},
   "outputs": [],
   "source": [
    "import string\n",
    "import itertools\n",
    "import numpy as np\n",
    "import matplotlib.pyplot as pl\n",
    "import pandas as pd\n",
    "\n",
    "import sklearn.metrics\n",
    "\n",
    "import scipy.optimize\n",
    "\n",
    "import astropy.units as u\n",
    "\n",
    "# equations for particle trajectories\n",
    "import wedgeqs\n",
    "\n",
    "# function wrappers to run multiple models and compare modelled and measured thermochron ages\n",
    "import wedgex_model_functions\n",
    "\n",
    "# optional: advective-conductive heat flow model\n",
    "import lib.heat_flow_model as hf"
   ]
  },
  {
   "cell_type": "code",
   "execution_count": 2,
   "metadata": {},
   "outputs": [],
   "source": [
    "pl.rcParams['mathtext.default'] = 'regular'"
   ]
  },
  {
   "cell_type": "code",
   "execution_count": 3,
   "metadata": {},
   "outputs": [],
   "source": [
    "try:\n",
    "    from cmcrameri import cm\n",
    "    cmap = cm.batlow\n",
    "    #cmap_heat = cm.vik\n",
    "    cmap_heat = cm.roma_r\n",
    "except:\n",
    "    print(\"failed to import fabio crameris colormaps, using matplotlib viridis and coolwarm colormaps instead\")\n",
    "    cmap = 'viridis'\n",
    "    cmap_heat = 'coolwarm'"
   ]
  },
  {
   "cell_type": "markdown",
   "metadata": {},
   "source": [
    "## Filenames"
   ]
  },
  {
   "cell_type": "code",
   "execution_count": 4,
   "metadata": {},
   "outputs": [],
   "source": [
    "# name of file with thermochron data\n",
    "thermochron_data_file = 'data/thermochron_data_projected.csv'\n",
    "\n",
    "# column with distance\n",
    "distance_column = 'projected_distance_along_xsection'\n",
    "thermochronometer_col = 'system'\n",
    "\n",
    "# filename for output file with modelled ages thermochron samples\n",
    "thermochron_output_file = 'data/modelled_thermochron_data.csv'\n",
    "\n",
    "# output file with modelled ages vs distance\n",
    "thermochron_profile_file = 'data/modelled_thermochron_profiles.csv'"
   ]
  },
  {
   "cell_type": "markdown",
   "metadata": {},
   "source": [
    "## Model parameters"
   ]
  },
  {
   "cell_type": "code",
   "execution_count": 5,
   "metadata": {},
   "outputs": [],
   "source": [
    "year = 365.25 * 24 * 3600.\n",
    "\n",
    "model_run_name = 'default'\n",
    "\n",
    "# specify convergence and partitioning coeffiicnets. leave at None to specify the wedge deformation parameters directly\n",
    "# conv = None\n",
    "#conv = 20e-3 * u.m / u.year\n",
    "#conv_part = 0.7\n",
    "#deform_part = 0.5\n",
    "\n",
    "# \n",
    "#conv = 20e-3 * u.m / u.year\n",
    "#conv_part = 0.5\n",
    "#deform_part = 0.5\n",
    "\n",
    "# default runs first version ms\n",
    "#conv, conv_part, deform_part = 0.020 * u.m / u.year, 0.5, 0.5\n",
    "\n",
    "# calibrated values fixed geothermal gradient:\n",
    "#conv, conv_part, deform_part = 0.02034093 * u.m / u.year, 0.45786315, 0.53954462\n",
    "\n",
    "# calibrated values, numerical model, 20 iterations\n",
    "#conv, conv_part, deform_part = 0.01696995 * u.m / u.year, 0.54582906, 0.48013337\n",
    "\n",
    "# calibrated values, no MAr:\n",
    "#0.01759965 0.61853727 0.44335494\n",
    "#conv, conv_part, deform_part = 0.01759965 * u.m / u.year, 0.61853727, 0.44335494\n",
    "\n",
    "# calibrated values, no AFT:\n",
    "#conv, conv_part, deform_part = 0.01781127* u.m / u.year,  0.53840965, 0.5227087 \n",
    "\n",
    "#calibrated values 100 runs\n",
    "#conv, conv_part, deform_part, vxa, vya = 1.72942041e-02 * u.m / u.year, 5.50376833e-01,  4.40945995e-01, -2.46932861e-04 * u.m / u.year, -3.14147092e-04 * u.m / u.year\n",
    "\n",
    "#conv, conv_part, deform_part, vxa, vya =  (1.76170905e-02 * u.m / u.year, 5.71132921e-01,  5.36513219e-01, \n",
    "#                                           8.36008298e-06 * u.m / u.year, -3.45930217e-04 * u.m / u.year)\n",
    "conv, conv_part, deform_part, vxa, vya =  (1.62740946e-02 * u.m / u.year, 5.39300352e-01,  5.42245071e-01, \n",
    "                                           1.04312158e-05 * u.m / u.year, 1.00363850e-05 * u.m / u.year)\n",
    "\n",
    "# 1.62740946e-02 5.39300352e-01 5.42245071e-01 1.04312158e-05 1.00363850e-05\n",
    "\n",
    "# compressional, transport and accretion velocity\n",
    "# note these are overwritten if convergence parameters are used above\n",
    "vc = -5e-3 * u.m / u.year\n",
    "vd = -5e-3 * u.m / u.year\n",
    "\n",
    "#\n",
    "#vxa = 1e-9 * u.m / u.year\n",
    "#vya = 1e-9 * u.m / u.year\n",
    "\n",
    "# convergence velocity of the downgoing plate\n",
    "# note this is the horizontal component, the downgoing component is calculated usign the wedge slope\n",
    "# note2, this variable is also overwritten if convergence parameters are used\n",
    "v_downgoing = 1.0e-3 * u.m / u.year\n",
    "\n",
    "# lenght of wedge (m)\n",
    "L = 200e3 * u.m\n",
    "\n",
    "# slope of topography (m/m)\n",
    "# for McQuarrie & Ehlers: ~ 4km over 117 km \n",
    "alpha = 0.034\n",
    "\n",
    "# slope of bottom of wedge (m/m)\n",
    "# for McQuarrie & Ehlers: detachment depth at N edge xsection (117 km) = ~20 km\n",
    "beta = -0.17\n",
    "\n",
    "# disctance between surface points (m)\n",
    "x_interval = 5e3 * u.m\n",
    "\n",
    "x_first_pt = 1e3 * u.m\n",
    "\n",
    "# number of rows in the orogenic wedge. Used for figures only, no function in the actual model\n",
    "n_rows = 100\n",
    "\n",
    "# modelled timespan (years)\n",
    "max_time = 2e8 * u.year\n",
    "\n",
    "# timestep size (years)\n",
    "dt = 1e4 * u.year\n",
    "\n",
    "# thermochronology model. choose between 'simple' and 'Dodson'\n",
    "thermochron_model = 'Dodson'\n",
    "#thermochron_model = 'simple'\n",
    "\n",
    "# names of thermochronometers, should match the names in your input file\n",
    "thermochron_systems = ['AHe', 'AFT', 'ZHe', 'ZFT', 'MAr']\n",
    "# omitting MAr\n",
    "#thermochron_systems = ['AHe', 'AFT', 'ZHe', 'ZFT']\n",
    "\n",
    "# thermochron system to show in figure\n",
    "thermochron_systems_plot = ['AHe', 'AFT', 'ZHe', 'ZFT', 'MAr']\n",
    "\n",
    "\n",
    "# resetting temperatures (degr. C), note these are only used if thermochron_model = 'simple'\n",
    "resetting_temperatures = [70.0 * u.deg_C, 110.0  * u.deg_C, 180.0  * u.deg_C, 230.0 * u.deg_C, 325.0 * u.deg_C]\n",
    "\n",
    "# default exhumation rate, used to calculate ages from the undeformed foreland \n",
    "# that have not been reset inside the wedge (m/yr)\n",
    "default_exhumation_rate = 1e-4 * u.m / u.year\n",
    "\n",
    "# option to remove non-reset ages from database\n",
    "remove_non_reset_ages = True\n",
    "\n",
    "# limit for estimating which ages are reset or not (Ma)\n",
    "reset_age_limit =  100.0 \n",
    "\n",
    "# thermal history model. options: 'numerical' for numeircal steady-state model, 'fixed_gradient' for fixed geothermal gradient\n",
    "thermal_history_model = 'numerical'\n",
    "#thermal_history_model = 'fixed_gradient'\n",
    "\n",
    "# geothermal gradient, used to convert resetting temp to depth (degr. C/m) in the case of a fixed_gradient thermal model\n",
    "geothermal_gradient = 0.015 * u.deg_C / u.m\n",
    "\n",
    "# surface temperature at sea lvl (degr. C)\n",
    "surface_temperature_sea_lvl = 24.0 * u.deg_C\n",
    "\n",
    "# adiabatic lapse rate (C/m), used to calculate surface temperatures\n",
    "lapse_rate = -7.0 / 1e3 * u.deg_C / u.m\n",
    "\n",
    "# model domain length of downgoing plate\n",
    "Lxmin = 100e3 * u.m\n",
    "\n",
    "# cellsizes for the numerical mesh that is used for the numerical heat flow model\n",
    "cellsize_wedge_top = 250.0 * u.m\n",
    "cellsize_wedge_bottom = 2000.0 * u.m\n",
    "cellsize_footwall = 5000.0 * u.m\n",
    "\n",
    "# vertical size downgoing plate\n",
    "Ly = 110e3 * u.m\n",
    "\n",
    "# temperature boundary conditions\n",
    "lab_temp = 1300 * u.deg_C\n",
    "\n",
    "# thermal parameters\n",
    "K = 2.5 * u.W / (u.m * u.K)\n",
    "rho = 2700.0 * u.kg / u.m**3\n",
    "c = 800.0 * u.J / (u.kg * u.K)\n",
    "\n",
    "# heat prod at surface\n",
    "H0 = 2.75e-6 * u.W / u.m**3\n",
    "\n",
    "# e-folding depth heat prod\n",
    "e_folding_depth = 17500.0"
   ]
  },
  {
   "cell_type": "markdown",
   "metadata": {},
   "source": [
    "## Options for figures"
   ]
  },
  {
   "cell_type": "code",
   "execution_count": 6,
   "metadata": {},
   "outputs": [],
   "source": [
    "# figure size, in inches:\n",
    "fig_width = 170 / 25.4\n",
    "#fig_width = 140 / 25.4\n",
    "fig_height = 0.75\n",
    "\n",
    "# subplot label start, 0 = a\n",
    "first_subplot = 2\n",
    "\n",
    "# add legend\n",
    "add_legend = True\n",
    "\n",
    "# add\n",
    "add_equation = False\n",
    "\n",
    "# show each x particle paths in figure\n",
    "starting_pt_int = 4\n",
    "\n",
    "# isochrons to show\n",
    "isochrons = np.arange(0, 55, 5)\n",
    "\n",
    "# some figure options\n",
    "fig_output_file = 'fig/wedgex_model_%s' % model_run_name\n",
    "fig_formats = ['png', 'pdf', 'svg']\n",
    "\n",
    "thermochron_markers = ['o', 'd', 's', '^', 'h']\n",
    "thermochron_colors = ['darkblue', 'blue', 'green', 'red', 'orange']\n",
    "\n",
    "# isochrons to show in figure:\n",
    "isochrons = [5e6 * u.year, 10e6  * u.year, 15e6  * u.year, 20e6  * u.year, 25e6  * u.year]\n",
    "\n",
    "# maximum thermochron age on y-axis\n",
    "max_age_fig = 20.0 * 1e6 * u.year\n",
    "\n",
    "# log scale for cooling ages:\n",
    "log_scale_ages = False\n",
    "\n",
    "fs = 'small'\n",
    "\n",
    "gr = 1.618033\n",
    "\n",
    "# draw flow arrows for one in x particle locations\n",
    "arrow_int = 250\n",
    "\n",
    "# scale for flow arrows. higher means smaller arrows\n",
    "scale = 2.0\n",
    "\n",
    "#\n",
    "degree_symbol = chr(176)\n"
   ]
  },
  {
   "cell_type": "markdown",
   "metadata": {},
   "source": [
    "## Calculate wedge deformation params if convergence is specified"
   ]
  },
  {
   "cell_type": "code",
   "execution_count": 7,
   "metadata": {},
   "outputs": [],
   "source": [
    "if conv is not None:\n",
    "\n",
    "    v_downgoing = conv * conv_part \n",
    "    v_wedge = - (1.0 - conv_part) * conv\n",
    "    vc = deform_part * v_wedge\n",
    "    vd = (1.0 - deform_part) * v_wedge"
   ]
  },
  {
   "cell_type": "markdown",
   "metadata": {
    "editable": true
   },
   "source": [
    "## Set up initial particle positions and timesteps"
   ]
  },
  {
   "cell_type": "code",
   "execution_count": 8,
   "metadata": {
    "collapsed": false,
    "editable": true,
    "jupyter": {
     "outputs_hidden": false
    }
   },
   "outputs": [
    {
     "name": "stdout",
     "output_type": "stream",
     "text": [
      "particle starting points (m from tip of wedge):\n",
      " [  1000.   5000.  10000.  15000.  20000.  25000.  30000.  35000.  40000.\n",
      "  45000.  50000.  55000.  60000.  65000.  70000.  75000.  80000.  85000.\n",
      "  90000.  95000. 100000. 105000. 110000. 115000. 120000. 125000. 130000.\n",
      " 135000. 140000. 145000. 150000. 155000. 160000. 165000. 170000. 175000.\n",
      " 180000. 185000. 190000. 195000. 200000.] m\n",
      "timesteps (yr):\n",
      " [ 0.0000e+00 -1.0000e-02 -2.0000e-02 ... -1.9998e+02 -1.9999e+02\n",
      " -2.0000e+02] yr\n"
     ]
    }
   ],
   "source": [
    "# x-coordinates of starting points:\n",
    "x0s = np.arange(0, L.to(u.m).value + x_interval.to(u.m).value, x_interval.to(u.m).value) * u.m\n",
    "x0s[0] = x_first_pt\n",
    "\n",
    "# timesteps (years)\n",
    "t = np.arange(0, -max_time.to(u.year).value - dt.to(u.year).value, -dt.to(u.year).value) * u.year\n",
    "\n",
    "print('particle starting points (m from tip of wedge):\\n', x0s)\n",
    "\n",
    "print('timesteps (yr):\\n', t / 1e6)"
   ]
  },
  {
   "cell_type": "markdown",
   "metadata": {},
   "source": [
    "## Determine isochrons to show in figures\n",
    "\n",
    "i.e., get the timesteps for the different timeslices that are defined by the variable isochrons"
   ]
  },
  {
   "cell_type": "code",
   "execution_count": 9,
   "metadata": {},
   "outputs": [],
   "source": [
    "isochron_ts = [np.argmin(np.abs(t - ic)) for ic in isochrons]"
   ]
  },
  {
   "cell_type": "markdown",
   "metadata": {},
   "source": [
    "## Load thermochron data"
   ]
  },
  {
   "cell_type": "code",
   "execution_count": 10,
   "metadata": {},
   "outputs": [
    {
     "name": "stdout",
     "output_type": "stream",
     "text": [
      "thermochron data systems in file:  ['ZHe' 'AFT' 'MAr']\n"
     ]
    }
   ],
   "source": [
    "df = pd.read_csv(thermochron_data_file)\n",
    "\n",
    "df[thermochronometer_col].unique()\n",
    "\n",
    "print('thermochron data systems in file: ', df[thermochronometer_col].unique())"
   ]
  },
  {
   "cell_type": "markdown",
   "metadata": {},
   "source": [
    "## Remove anomalously old ages"
   ]
  },
  {
   "cell_type": "code",
   "execution_count": 11,
   "metadata": {},
   "outputs": [
    {
     "name": "stdout",
     "output_type": "stream",
     "text": [
      "ages before removing non-reset ages:\n",
      " count      48.000000\n",
      "mean       56.973812\n",
      "std       245.686577\n",
      "min         2.700000\n",
      "25%         4.222500\n",
      "50%         6.930000\n",
      "75%         8.940000\n",
      "max      1395.700000\n",
      "Name: age, dtype: float64\n",
      "ages after removing non-reset ages:\n",
      " count    46.000000\n",
      "mean      6.915935\n",
      "std       2.913004\n",
      "min       2.700000\n",
      "25%       4.207500\n",
      "50%       6.600000\n",
      "75%       8.615000\n",
      "max      14.780000\n",
      "Name: age, dtype: float64\n"
     ]
    }
   ],
   "source": [
    "if remove_non_reset_ages is True:\n",
    "\n",
    "    print('ages before removing non-reset ages:\\n', df['age'].describe())\n",
    "    \n",
    "    df = df[df['age'] < reset_age_limit]\n",
    "    \n",
    "    print('ages after removing non-reset ages:\\n', df['age'].describe())"
   ]
  },
  {
   "cell_type": "markdown",
   "metadata": {},
   "source": [
    "## Get sample data"
   ]
  },
  {
   "cell_type": "code",
   "execution_count": 12,
   "metadata": {},
   "outputs": [],
   "source": [
    "# get sample positions from dataframe\n",
    "x0_samples = df[distance_column].values * u.m\n",
    "\n",
    "\n",
    "#df.head()\n",
    "\n",
    "measured_ages = df['age'].values * 1e6 * u.year\n",
    "#data_distance = df['age'].values\n",
    "measured_ages_sigma = df['age_error_1s'].values * 1e6 * u.year\n",
    "#resetting_temperatures_samples = df['resetting_temp'].values\n",
    "\n",
    "thermochron_system_samples = df[thermochronometer_col].values"
   ]
  },
  {
   "cell_type": "markdown",
   "metadata": {},
   "source": [
    "## Get dimensionless values of params, needed for heat flow module"
   ]
  },
  {
   "cell_type": "code",
   "execution_count": 13,
   "metadata": {},
   "outputs": [],
   "source": [
    "# remove dimensions\n",
    "L_, Ly_, Lxmin_, cellsize_wedge_top_, cellsize_wedge_bottom_, cellsize_footwall_ = (L.to(u.m).value, Ly.to(u.m).value, Lxmin.to(u.m).value, \n",
    "    cellsize_wedge_top.to(u.m).value, cellsize_wedge_bottom.to(u.m).value, cellsize_footwall.to(u.m).value)\n",
    "\n",
    "x0_samples_ = x0_samples.to(u.m).value\n",
    "\n",
    "vd_, vc_, vxa_, vya_, v_downgoing_ = (vd.to(u.m/u.s).value, vc.to(u.m/u.s).value, \n",
    "                                      vxa.to(u.m/u.s).value, vya.to(u.m/u.s).value, v_downgoing.to(u.m/u.s).value)\n",
    "\n",
    "t_ = t.to(u.s).value\n"
   ]
  },
  {
   "cell_type": "markdown",
   "metadata": {},
   "source": [
    "## Calculate particle trajectories and ages for all seed points in model domain"
   ]
  },
  {
   "cell_type": "code",
   "execution_count": 14,
   "metadata": {},
   "outputs": [],
   "source": [
    "from importlib import reload\n",
    "\n",
    "wedgex_model_functions = reload(wedgex_model_functions)\n",
    "\n",
    "\n",
    "# particle trajectories \n",
    "xp_, yp_, dp_ = wedgex_model_functions.run_model_multiple_samples(t, x0s, \n",
    "                                                               alpha, beta, L, \n",
    "                                                               vc, vd, vxa, vya)\n",
    "xp, yp, dp = xp_ * u.m, yp_ * u.m, dp_ * u.m\n",
    "y0p = xp * alpha"
   ]
  },
  {
   "cell_type": "markdown",
   "metadata": {},
   "source": [
    "## Get particle trajectories and ages for all samples"
   ]
  },
  {
   "cell_type": "code",
   "execution_count": 15,
   "metadata": {
    "tags": []
   },
   "outputs": [],
   "source": [
    "x_samples_, y_samples_, d_samples_ = wedgex_model_functions.run_model_multiple_samples(t_, x0_samples_, \n",
    "                                                             alpha, beta, L_, \n",
    "                                                             vc_, vd_, vxa_, vya_)\n",
    "\n",
    "x_samples = x_samples_ * u.m\n",
    "y_samples = y_samples_ * u.m\n",
    "d_samples = d_samples_ * u.m\n",
    "\n",
    "y0_samples = x_samples * alpha"
   ]
  },
  {
   "cell_type": "markdown",
   "metadata": {},
   "source": [
    "## Model the steady-state temperature field"
   ]
  },
  {
   "cell_type": "code",
   "execution_count": 16,
   "metadata": {},
   "outputs": [
    {
     "name": "stdout",
     "output_type": "stream",
     "text": [
      "CPU times: user 1min 20s, sys: 25.6 s, total: 1min 45s\n",
      "Wall time: 32.2 s\n"
     ]
    }
   ],
   "source": [
    "%%time\n",
    "\n",
    "# cellsize_wedge, cellsize_footwall, lab_temp, \n",
    "#                                   K, rho, c, H0, e_folding_depth, v_downgoing\n",
    "\n",
    "#from importlib import reload\n",
    "\n",
    "#hf = reload(hf)\n",
    "\n",
    "if thermal_history_model == 'numerical':\n",
    "\n",
    "    Tx_, Ty_, T_, q, mesh = hf.model_heat_transport(L_, Ly_, alpha, beta, Lxmin_, \n",
    "                                                    cellsize_wedge_top_, cellsize_wedge_bottom_, cellsize_footwall_, \n",
    "                                                    vd_, vc_, vxa_, vya_, v_downgoing_, surface_temperature_sea_lvl.value, \n",
    "                                                    lapse_rate.value, lab_temp.value, \n",
    "                                                    K.value, rho.value, c.value, H0.value, e_folding_depth)\n",
    "\n",
    "    Tx, Ty, T = Tx_ * u.m, Ty_ * u.m, T_ * u.deg_C\n",
    "    \n",
    "    qx, qy = mesh.faceCenters.globalValue\n",
    "    qxa, qya = q.globalValue\n",
    "    \n",
    "\n",
    "    "
   ]
  },
  {
   "cell_type": "markdown",
   "metadata": {},
   "source": [
    "## Check and plot the surface temp"
   ]
  },
  {
   "cell_type": "code",
   "execution_count": 17,
   "metadata": {},
   "outputs": [
    {
     "data": {
      "text/plain": [
       "[<matplotlib.lines.Line2D at 0x7fe61bf6c190>]"
      ]
     },
     "execution_count": 17,
     "metadata": {},
     "output_type": "execute_result"
    },
    {
     "data": {
      "image/png": "[encoded data removed]",
      "text/plain": [
       "<Figure size 432x288 with 1 Axes>"
      ]
     },
     "metadata": {
      "needs_background": "light"
     },
     "output_type": "display_data"
    }
   ],
   "source": [
    "d_num =  alpha * Tx_ - Ty_\n",
    "\n",
    "ind = (d_num < 100.0) & (Tx_ > 0)\n",
    "\n",
    "fig, ax = pl.subplots(1, 1)\n",
    "ax.plot(Tx[ind], T[ind])\n",
    "#ax.scatter(Tx[ind], d_num[ind], s=1)"
   ]
  },
  {
   "cell_type": "markdown",
   "metadata": {},
   "source": [
    "## Interpolate modelled temperatures on a regular grid"
   ]
  },
  {
   "cell_type": "code",
   "execution_count": 18,
   "metadata": {},
   "outputs": [
    {
     "name": "stdout",
     "output_type": "stream",
     "text": [
      "warning, interpolating data on raster with >1e6 nodes\n",
      "warning, interpolating data on raster with >1e6 nodes\n",
      "warning, interpolating data on raster with >1e6 nodes\n"
     ]
    }
   ],
   "source": [
    "if thermal_history_model == 'numerical':\n",
    "    # interpolate to regular grid, useful for plotting later\n",
    "    dxg = 100.0\n",
    "    qxy = np.vstack([qx, qy]).T\n",
    "    xgm, ygm, qxm = hf.interpolate_data(qxy, qxa, dxg, dxg)\n",
    "    xgm, ygm, qym = hf.interpolate_data(qxy, qya, dxg, dxg)\n",
    "    \n",
    "    Txy = np.vstack([Tx_, Ty_]).T\n",
    "    xTm, yTm, Tm = hf.interpolate_data(Txy, T_, dxg, dxg)\n",
    "       \n",
    "    ind = (yTm < (beta * xTm - Ly.value)) & (xTm > 0)\n",
    "    Tm[ind] = np.nan\n",
    "    \n",
    "    ind = (yTm < ( - Ly.value)) & (xTm <= 0)\n",
    "    Tm[ind] = np.nan\n",
    "\n",
    "    ind = (ygm < (beta * xgm - Ly.value)) & (xgm > 0)\n",
    "    qxm[ind] = np.nan\n",
    "    qym[ind] = np.nan\n",
    "    \n",
    "    ind = (ygm < ( - Ly.value)) & (xgm <= 0)\n",
    "    qxm[ind] = np.nan\n",
    "    qym[ind] = np.nan\n"
   ]
  },
  {
   "cell_type": "markdown",
   "metadata": {},
   "source": [
    "## Calculate thermal history for the seed points"
   ]
  },
  {
   "cell_type": "code",
   "execution_count": 19,
   "metadata": {},
   "outputs": [],
   "source": [
    "if thermal_history_model == 'numerical':\n",
    "    T_history_points = wedgex_model_functions.interpolate_thermal_history(xp, yp, Tx, Ty, T)\n",
    "else:\n",
    "    print('using a steady geothermal gradient to calculate temperature history')\n",
    "    # calculate surface temperature\n",
    "    #surface_temp_samples = surface_temperature_sea_lvl - lapse_rate * xp\n",
    "    #resetting_depths = (resetting_temperatures - surface_temp_samples) / geothermal_gradient\n",
    "\n",
    "    #target_depths_samples = resetting_depths\n",
    "\n",
    "    n_samples = len(x_samples)\n",
    "    \n",
    "    T_history_points = np.zeros(xp.shape) * u.deg_C\n",
    "    \n",
    "    y0p = xp * alpha\n",
    "    \n",
    "    for j, y0s, xs, ds in zip(list(range(n_samples)), y0p, xp, dp):\n",
    "\n",
    "        surface_Ts = surface_temperature_sea_lvl + y0s * lapse_rate\n",
    "        \n",
    "        ind = np.isnan(ds) == False\n",
    "        \n",
    "        #print(surface_Ts[ind].min())\n",
    "        \n",
    "        if np.any(ind):\n",
    "        \n",
    "            T_history_points[j] = surface_Ts + ds * geothermal_gradient"
   ]
  },
  {
   "cell_type": "markdown",
   "metadata": {},
   "source": [
    "## Make a figure of the modelled temperature field"
   ]
  },
  {
   "cell_type": "code",
   "execution_count": 20,
   "metadata": {},
   "outputs": [
    {
     "name": "stdout",
     "output_type": "stream",
     "text": [
      "gradient in upper 10 km = 17.413752384557416\n",
      "gradient in upper 10 km = 23.07644523364316\n",
      "gradient in upper 10 km = 29.605513534707708\n"
     ]
    },
    {
     "data": {
      "image/png": "[encoded data removed]",
      "text/plain": [
       "<Figure size 481.89x321.26 with 4 Axes>"
      ]
     },
     "metadata": {
      "needs_background": "light"
     },
     "output_type": "display_data"
    }
   ],
   "source": [
    "from matplotlib.gridspec import GridSpec\n",
    "\n",
    "add_arrows = True\n",
    "target_dist = np.array([50e3, 100e3, 150e3])\n",
    "max_depth_gt = 20.0\n",
    "    \n",
    "if thermal_history_model == 'numerical':\n",
    "\n",
    "    #fig, ax = pl.subplots(1, 1, figsize=(fig_width, fig_width / 1.5))\n",
    "    fig = pl.figure(figsize=(fig_width, fig_width / 1.5), constrained_layout=True)\n",
    "    \n",
    "    gs = GridSpec(2, 2, figure=fig)\n",
    "    ax = fig.add_subplot(gs[0, :])\n",
    "    \n",
    "    ax2 = fig.add_subplot(gs[1, 0])\n",
    "    ax3 = fig.add_subplot(gs[1, 1])\n",
    "    \n",
    "    \n",
    "    # wedge only\n",
    "    xlim = [-L/10/1e3, L / 1e3]\n",
    "    ylim = [beta*L * 1.15 / 1000.0, alpha*L*1.15 / 1000.0]\n",
    "\n",
    "    # full model domain\n",
    "    #xlim = [-Lxmin / 1e3, L / 1e3]\n",
    "    #ylim = [(beta*L * 1.1 - Ly) / 1000.0, (alpha*L * 1.1)/ 1000.0]\n",
    "\n",
    "    ind = (Tx/1e3 >= xlim[0]) & (Tx/1e3 <= xlim[1]) & (Ty/1e3 >= ylim[0]) & (Ty/1e3 <= ylim[1])\n",
    "\n",
    "    #ax.tricontour(Tx.value[ind] / 1e3, Ty.value[ind] / 1e3, T.value[ind], levels=10, linewidths=0.5, colors='k')#, vmin=vlims[1][0], vmax=vlims[1][1])\n",
    "    #sci = ax.tricontourf(Tx.value[ind] / 1e3, Ty.value[ind] / 1e3, T.value[ind], levels=10, cmap=cmap_heat)#, vmin=vlims[1][0], vmax=vlims[1][1])\n",
    "    #sci = ax.scatter(Tx.value[ind] / 1e3, Ty.value[ind] / 1e3, c=T.value[ind], s=1, cmap=cmap_heat)#, vmin=vlims[1][0], vmax=vlims[1][1])\n",
    "\n",
    "    #ind = (xTm/1e3 >= xlim[0].value) & (xTm/1e3 <= xlim[1].value) & (yTm/1e3 >= ylim[0].value) & (yTm/1e3 <= ylim[1].value)\n",
    "\n",
    "    sci = ax.contourf(xTm / 1e3, yTm / 1e3, Tm, cmap=cmap_heat, vmin=-25, vmax=600, levels=np.arange(-50, 700, 50))\n",
    "    #sci = ax.pcolormesh(xTm / 1e3, yTm / 1e3, Tm, cmap=cmap_heat)\n",
    "    \n",
    "    #cb = fig.colorbar(sci, ax=ax, shrink=0.45, location='top', anchor=[0.0, 1.0])\n",
    "    cb = fig.colorbar(sci, ax=ax, shrink=0.75, location='right')#, anchor=(0.0, 1.0))\n",
    "    cb.set_label(f'Temperature ({degree_symbol}C)')\n",
    "\n",
    "    #for i, xsi, ysi in zip(itertools.count(), x_samples, y_samples):\n",
    "    #    ll, = ax.plot(xsi / 1000.0, ysi / 1000.0, color='black', lw=0.25, alpha=1.0)\n",
    "        #scs.append(sci)\n",
    "\n",
    "    #axs[1].set_xlim(-L/5/1e3, L / 1e3)\n",
    "    #axs[1].set_ylim(beta*L * 1.1 / 1000.0, alpha*L*1.1 / 1000.0)\n",
    "    #ax.set_xlim(0, 200000)\n",
    "    #ax.set_ylim(-30000, 7000)\n",
    "    \n",
    "    if add_arrows is True:\n",
    "        qint = 50\n",
    "        qscale = 5e-9\n",
    "        qheadlength = 4\n",
    "        qheadwidth = 5\n",
    "        \n",
    "        indq = (qx/1e3 >= xlim[0].value) & (qx/1e3 <= xlim[1].value) & (qy/1e3 >= ylim[0].value) & (qy/1e3 <= ylim[1].value)\n",
    "        #ax.quiver(qx[indq][::qint] / 1e3, qy[indq][::qint] / 1e3, qxa[indq][::qint], qya[indq][::qint], \n",
    "        #          angles='xy', scale=qscale, headwidth=qheadwidth, headlength=qheadlength)\n",
    "    \n",
    "    ax.streamplot(xgm / 1e3, ygm / 1e3, qxm, qym, color='black', density=1.0, integration_direction='backward')\n",
    "\n",
    "    lw, = ax.plot([0, L_ / 1e3], [0, alpha * L_ / 1e3], color='black', ls='--')\n",
    "    ax.plot([0, L_ / 1e3], [0, beta * L_ / 1e3], color='black', ls='--')\n",
    "    \n",
    "    \n",
    "    #################################\n",
    "    # panel with geothermal gradients\n",
    "    #################################\n",
    "    \n",
    "    #xTm, yTm, Tm\n",
    "    dTm =  xTm * alpha - yTm\n",
    "    \n",
    "    xTmu = np.unique(xTm)\n",
    "    inds = [np.argmin(np.abs(xTmu - tdi)) for tdi in target_dist]\n",
    "    target_dist2 = np.array([xTmu[i] for i in inds])\n",
    "    \n",
    "    cmap_lines = pl.get_cmap(\"tab10\")\n",
    "    \n",
    "    for i, t1, t2 in zip(itertools.count(), target_dist, target_dist2):\n",
    "        \n",
    "        color = cmap_lines(i+1)\n",
    "        \n",
    "        ind = xTm == t2\n",
    "        xgt =  xTm[ind]\n",
    "        ygt = yTm[ind] / 1e3\n",
    "        dgt = dTm[ind] / 1e3\n",
    "        zgt = Tm[ind]\n",
    "        ind2 = dgt < max_depth_gt\n",
    "        ax2.plot(zgt, dgt, label=f\"{t1 / 1e3 :0.0f} km\", color=color)\n",
    "        ax.plot([t1 / 1e3, t1 / 1e3], [t1 / 1e3 * alpha, ygt[ind2].min()], lw=3.0, color=color)\n",
    "        \n",
    "        ind10 = (dgt < 10) & (np.isnan(zgt)==False)\n",
    "        gt10 = (zgt[ind10].max() -zgt[ind10].min() ) / (dgt[ind10].max() - dgt[ind10].min())\n",
    "        print(f\"gradient in upper 10 km = {gt10}\")\n",
    "    ax2.legend()\n",
    "    \n",
    "    #####################\n",
    "    # panel with temperature history\n",
    "    ####################\n",
    "    xp0 = xp[:, 0]\n",
    "    xp0[-1] = L\n",
    "    \n",
    "    indp = np.zeros_like(xp0.value, dtype=bool)\n",
    "    \n",
    "    for td in target_dist:\n",
    "        a = np.argmin(np.abs(xp0.value - td))\n",
    "        indp[a] = True\n",
    "    xp_plot = xp[indp]\n",
    "    yp_plot = yp[indp]\n",
    "    \n",
    "    for i, xp_plot_i, yp_plot_i in zip(itertools.count(), xp_plot, yp_plot):\n",
    "        leg_th, = ax.plot(xp_plot_i / 1e3, yp_plot_i / 1e3, color=cmap_lines(i+1), ls='--', lw=3.0)\n",
    "    \n",
    "    T_history_plot = wedgex_model_functions.interpolate_thermal_history(xp_plot, yp_plot, Tx, Ty, T)\n",
    "    \n",
    "    for i, Thi in enumerate(T_history_plot):\n",
    "        ind = np.isnan(Thi) == False\n",
    "        tplot = t[ind].to(u.year).value / 1e6\n",
    "        temp_plot = Thi[ind]\n",
    "        #ax3.plot(tplot, temp_plot, color=cmap_lines(i+1))\n",
    "        leg_gt, = ax3.plot(temp_plot, tplot, color=cmap_lines(i+1))\n",
    "        \n",
    "    # add closure temp\n",
    "    cas = np.zeros((len(target_dist), len(thermochron_systems))) * u.s\n",
    "    cts = np.zeros((len(target_dist), len(thermochron_systems))) * u.K\n",
    "    for i, Thi in enumerate(T_history_plot):\n",
    "        Tpi = Thi.to(u.K, equivalencies=u.temperature()) \n",
    "        ind = np.isnan(Tpi) == False\n",
    "        for j, tcs in enumerate(thermochron_systems):\n",
    "            cas[i, j], cts[i, j] = wedgex_model_functions.calculate_closure_age(-t[ind], Tpi[ind], tcs)\n",
    "            \n",
    "    \n",
    "    ###########\n",
    "    # layout\n",
    "    ###########\n",
    "    for i, axi in enumerate([ax, ax2, ax3]):\n",
    "        axi.spines['top'].set_visible(False)\n",
    "        axi.spines['right'].set_visible(False)\n",
    "        axi.text(0.01, 1.01, string.ascii_lowercase[i], \n",
    "            weight='bold', transform=axi.transAxes, \n",
    "               ha='left', va='bottom', fontsize='medium')\n",
    "\n",
    "    ax.set_xlabel('Distance from tip of wedge (km)')\n",
    "    ax.set_ylabel('Elevation (km)')\n",
    "\n",
    "    ax2.set_xlabel(f'Temperature ({degree_symbol}C)')\n",
    "    ax2.set_ylabel(\"Depth (km)\")\n",
    "\n",
    "    ax3.set_ylabel(r'Time ($\\times 10^{6} \\; a$)')\n",
    "    ax3.set_xlabel(f'Temperature ({degree_symbol}C)')\n",
    "\n",
    "    ax.legend([lw, leg_gt, leg_th], ['Wedge', \"Profile\", \"Particle trajectory\", 'Particle trajectories'], \n",
    "              bbox_to_anchor=(0.03, 1.03), loc='lower left', frameon=False, ncol=3)\n",
    "\n",
    "    #ax.set_aspect('equal')\n",
    "    \n",
    "    ax.set_xlim(xlim[0].value, xlim[1].value)\n",
    "    ax.set_ylim(ylim[0].value, ylim[1].value)\n",
    "\n",
    "    ax2.set_ylim(20, 0)\n",
    "    ax2.set_xlim(0, 400)\n",
    "\n",
    "    #fig.tight_layout()\n",
    "\n",
    "    fig.savefig('fig/modelled_temperature_field.pdf')\n"
   ]
  },
  {
   "cell_type": "code",
   "execution_count": 21,
   "metadata": {},
   "outputs": [
    {
     "data": {
      "image/png": "[encoded data removed]",
      "text/plain": [
       "<Figure size 432x288 with 1 Axes>"
      ]
     },
     "metadata": {
      "needs_background": "light"
     },
     "output_type": "display_data"
    }
   ],
   "source": [
    "fig, ax = pl.subplots(1, 1)\n",
    "\n",
    "for i, Thi in enumerate(T_history_points[:-1]):\n",
    "    ind = np.isnan(Thi) == False\n",
    "    ax.plot(t[ind].to(u.year).value / 1e6, Thi[ind])\n",
    "    #print(Thi[ind].min())\n",
    "ax.set_xlim(-50, 0)\n",
    "ax.set_ylim(600, 0)\n",
    "\n",
    "ax.set_xlabel(r'Time ($\\times 10^{6} \\; a$)')\n",
    "ax.set_ylabel(f'Temperature ({degree_symbol}C)')\n",
    "\n",
    "ax.spines['top'].set_visible(False)\n",
    "ax.spines['right'].set_visible(False)\n"
   ]
  },
  {
   "cell_type": "markdown",
   "metadata": {},
   "source": [
    "## Interpolate temperature history for samples"
   ]
  },
  {
   "cell_type": "code",
   "execution_count": 22,
   "metadata": {},
   "outputs": [
    {
     "name": "stderr",
     "output_type": "stream",
     "text": [
      "<>:6: SyntaxWarning: \"is\" with a literal. Did you mean \"==\"?\n",
      "<>:6: SyntaxWarning: \"is\" with a literal. Did you mean \"==\"?\n",
      "<ipython-input-22-77c29d33218f>:6: SyntaxWarning: \"is\" with a literal. Did you mean \"==\"?\n",
      "  if thermal_history_model is 'numerical':\n"
     ]
    }
   ],
   "source": [
    "from importlib import reload\n",
    "\n",
    "wedgex_model_functions = reload(wedgex_model_functions)\n",
    "\n",
    "\n",
    "if thermal_history_model is 'numerical':\n",
    "    # merge xy grid points of numerical model into one array\n",
    "    T_history_samples = wedgex_model_functions.interpolate_thermal_history(x_samples, y_samples, Tx, Ty, T) \n",
    "        \n",
    "else:\n",
    "    \n",
    "    print('using a steady geothermal gradient to calculate temperature history')\n",
    "    # calculate surface temperature\n",
    "    #surface_temp_samples = surface_temperature_sea_lvl - lapse_rate * xp\n",
    "    #resetting_depths = (resetting_temperatures - surface_temp_samples) / geothermal_gradient\n",
    "\n",
    "    #target_depths_samples = resetting_depths\n",
    "\n",
    "    n_samples = len(x_samples)\n",
    "\n",
    "    #modelled_age_samples = np.zeros((n_samples))\n",
    "    T_history_samples = np.zeros(x_samples.shape) * u.deg_C\n",
    "    \n",
    "    y0_samples = x_samples * alpha\n",
    "    \n",
    "    for j, y0s, xs, ds in zip(list(range(n_samples)), y0_samples, x_samples, d_samples):\n",
    "\n",
    "        surface_Ts = surface_temperature_sea_lvl + y0s * lapse_rate\n",
    "        \n",
    "        ind = np.isnan(ds) == False\n",
    "        \n",
    "        if np.any(ind):\n",
    "        \n",
    "            T_history_samples[j] = surface_Ts + ds * geothermal_gradient"
   ]
  },
  {
   "cell_type": "markdown",
   "metadata": {},
   "source": [
    "# Calculate thermochron ages for all seed points"
   ]
  },
  {
   "cell_type": "code",
   "execution_count": 23,
   "metadata": {},
   "outputs": [],
   "source": [
    "from importlib import reload\n",
    "\n",
    "wedgex_model_functions = reload(wedgex_model_functions)\n",
    "\n",
    "\n",
    "# model ages for entire model domain\n",
    "n_seed_pts = len(xp)\n",
    "n_thermochron = len(thermochron_systems)\n",
    "modelled_ages_all = np.zeros((n_seed_pts, n_thermochron)) * u.year\n",
    "\n",
    "\n",
    "# calculate surface temperature\n",
    "#df['surface_T'] = surface_temperature_sea_lvl - lapse_rate * df['elevation']\n",
    "#df['resetting_depth'] = (df['resetting_temp'] - df['surface_T']) / geothermal_gradient\n",
    "\n",
    "\n",
    "closure_temps_seed_pts = np.zeros((n_seed_pts, n_thermochron)) * u.K\n",
    "\n",
    "for i, tcs in enumerate(thermochron_systems):\n",
    "\n",
    "    for j in range(n_seed_pts):\n",
    "\n",
    "        Tpi = T_history_points[j].to(u.K, equivalencies=u.temperature()) \n",
    "        ind = np.isnan(Tpi) == False\n",
    "\n",
    "        ti = -t[ind]\n",
    "\n",
    "        if len(-t[ind]) > 1:\n",
    "\n",
    "            if thermochron_model == 'simple':\n",
    "                modelled_ages_all[j, i] = wedgex_model_functions.calculate_closure_age_simple(-t[ind], Tpi[ind], resetting_temperatures[i])\n",
    "            else:\n",
    "                modelled_ages_all[j, i], ct = wedgex_model_functions.calculate_closure_age(-t[ind], Tpi[ind], tcs)\n",
    "\n",
    "                closure_temps_seed_pts[j, i] = ct\n",
    "        #          res_temp_pts = np.ones(len(x0s)) * resetting_temperatures[i]\n",
    "        #modelled_ages_all[:, i] = wedgex_model_functions.calculate_cooling_ages_simple(\n",
    "        #    t, xp, dp, res_temp_pts, T_history_points,\n",
    "        #    surface_temperature_sea_lvl, lapse_rate, geothermal_gradient, default_exhumation_rate, L)\n",
    "\n",
    " \n",
    "            #t, x_samples, d_samples, resetting_temperatures_samples, T_history_samples,\n",
    "            #                       surface_temperature_sea_lvl, lapse_rate, geothermal_gradient,\n",
    "            #                       default_exhumation_rate, L,"
   ]
  },
  {
   "cell_type": "markdown",
   "metadata": {},
   "source": [
    "## Calculate thermochron ages for samples"
   ]
  },
  {
   "cell_type": "code",
   "execution_count": 24,
   "metadata": {},
   "outputs": [
    {
     "ename": "IndexError",
     "evalue": "index 0 is out of bounds for axis 0 with size 0",
     "output_type": "error",
     "traceback": [
      "\u001b[0;31m---------------------------------------------------------------------------\u001b[0m",
      "\u001b[0;31mIndexError\u001b[0m                                Traceback (most recent call last)",
      "\u001b[0;32m<ipython-input-24-0b55abc31856>\u001b[0m in \u001b[0;36m<module>\u001b[0;34m\u001b[0m\n\u001b[1;32m     24\u001b[0m                     \u001b[0mmodelled_ages_samples\u001b[0m\u001b[0;34m[\u001b[0m\u001b[0mj\u001b[0m\u001b[0;34m]\u001b[0m \u001b[0;34m=\u001b[0m \u001b[0mwedgex_model_functions\u001b[0m\u001b[0;34m.\u001b[0m\u001b[0mcalculate_closure_age_simple\u001b[0m\u001b[0;34m(\u001b[0m\u001b[0;34m-\u001b[0m\u001b[0mt\u001b[0m\u001b[0;34m[\u001b[0m\u001b[0mind\u001b[0m\u001b[0;34m]\u001b[0m\u001b[0;34m,\u001b[0m \u001b[0mTpi\u001b[0m\u001b[0;34m[\u001b[0m\u001b[0mind\u001b[0m\u001b[0;34m]\u001b[0m\u001b[0;34m,\u001b[0m \u001b[0mresetting_temperatures\u001b[0m\u001b[0;34m[\u001b[0m\u001b[0mi\u001b[0m\u001b[0;34m]\u001b[0m\u001b[0;34m)\u001b[0m\u001b[0;34m\u001b[0m\u001b[0;34m\u001b[0m\u001b[0m\n\u001b[1;32m     25\u001b[0m                 \u001b[0;32melse\u001b[0m\u001b[0;34m:\u001b[0m\u001b[0;34m\u001b[0m\u001b[0;34m\u001b[0m\u001b[0m\n\u001b[0;32m---> 26\u001b[0;31m                     \u001b[0mmodelled_ages_samples\u001b[0m\u001b[0;34m[\u001b[0m\u001b[0mj\u001b[0m\u001b[0;34m]\u001b[0m\u001b[0;34m,\u001b[0m \u001b[0mct\u001b[0m \u001b[0;34m=\u001b[0m \u001b[0mwedgex_model_functions\u001b[0m\u001b[0;34m.\u001b[0m\u001b[0mcalculate_closure_age\u001b[0m\u001b[0;34m(\u001b[0m\u001b[0;34m-\u001b[0m\u001b[0mt\u001b[0m\u001b[0;34m[\u001b[0m\u001b[0mind\u001b[0m\u001b[0;34m]\u001b[0m\u001b[0;34m,\u001b[0m \u001b[0mTpi\u001b[0m\u001b[0;34m[\u001b[0m\u001b[0mind\u001b[0m\u001b[0;34m]\u001b[0m\u001b[0;34m,\u001b[0m \u001b[0mtcs\u001b[0m\u001b[0;34m)\u001b[0m\u001b[0;34m\u001b[0m\u001b[0;34m\u001b[0m\u001b[0m\n\u001b[0m",
      "\u001b[0;32m~/werk/published_code/wedgex_git/wedgex_model_functions.py\u001b[0m in \u001b[0;36mcalculate_closure_age\u001b[0;34m(time, temp, thermochron_system, verbose)\u001b[0m\n\u001b[1;32m    123\u001b[0m     \"\"\"\n\u001b[1;32m    124\u001b[0m \u001b[0;34m\u001b[0m\u001b[0m\n\u001b[0;32m--> 125\u001b[0;31m     \u001b[0mTc\u001b[0m \u001b[0;34m=\u001b[0m \u001b[0mcalculate_closure_temp\u001b[0m\u001b[0;34m(\u001b[0m\u001b[0mtime\u001b[0m\u001b[0;34m,\u001b[0m \u001b[0mtemp\u001b[0m\u001b[0;34m,\u001b[0m \u001b[0mthermochron_system\u001b[0m\u001b[0;34m)\u001b[0m\u001b[0;34m\u001b[0m\u001b[0;34m\u001b[0m\u001b[0m\n\u001b[0m\u001b[1;32m    126\u001b[0m \u001b[0;34m\u001b[0m\u001b[0m\n\u001b[1;32m    127\u001b[0m     \u001b[0;32mif\u001b[0m \u001b[0mverbose\u001b[0m \u001b[0;32mis\u001b[0m \u001b[0;32mTrue\u001b[0m\u001b[0;34m:\u001b[0m\u001b[0;34m\u001b[0m\u001b[0;34m\u001b[0m\u001b[0m\n",
      "\u001b[0;32m~/werk/published_code/wedgex_git/wedgex_model_functions.py\u001b[0m in \u001b[0;36mcalculate_closure_temp\u001b[0;34m(time, temp, thermochron_system, min_gradient)\u001b[0m\n\u001b[1;32m    101\u001b[0m     \u001b[0mr\u001b[0m \u001b[0;34m=\u001b[0m \u001b[0;36m8.314\u001b[0m \u001b[0;34m*\u001b[0m \u001b[0mu\u001b[0m\u001b[0;34m.\u001b[0m\u001b[0mJ\u001b[0m \u001b[0;34m/\u001b[0m \u001b[0;34m(\u001b[0m\u001b[0mu\u001b[0m\u001b[0;34m.\u001b[0m\u001b[0mK\u001b[0m \u001b[0;34m*\u001b[0m \u001b[0mu\u001b[0m\u001b[0;34m.\u001b[0m\u001b[0mmol\u001b[0m\u001b[0;34m)\u001b[0m\u001b[0;34m\u001b[0m\u001b[0;34m\u001b[0m\u001b[0m\n\u001b[1;32m    102\u001b[0m \u001b[0;34m\u001b[0m\u001b[0m\n\u001b[0;32m--> 103\u001b[0;31m     \u001b[0mcooling\u001b[0m \u001b[0;34m=\u001b[0m \u001b[0mnp\u001b[0m\u001b[0;34m.\u001b[0m\u001b[0mgradient\u001b[0m\u001b[0;34m(\u001b[0m\u001b[0mtemp\u001b[0m\u001b[0;34m,\u001b[0m \u001b[0mtime\u001b[0m\u001b[0;34m)\u001b[0m\u001b[0;34m\u001b[0m\u001b[0;34m\u001b[0m\u001b[0m\n\u001b[0m\u001b[1;32m    104\u001b[0m \u001b[0;34m\u001b[0m\u001b[0m\n\u001b[1;32m    105\u001b[0m     \u001b[0;31m#print(cooling)\u001b[0m\u001b[0;34m\u001b[0m\u001b[0;34m\u001b[0m\u001b[0;34m\u001b[0m\u001b[0m\n",
      "\u001b[0;32m<__array_function__ internals>\u001b[0m in \u001b[0;36mgradient\u001b[0;34m(*args, **kwargs)\u001b[0m\n",
      "\u001b[0;32m~/opt/anaconda3/envs/fipy/lib/python3.8/site-packages/astropy/units/quantity.py\u001b[0m in \u001b[0;36m__array_function__\u001b[0;34m(self, function, types, args, kwargs)\u001b[0m\n\u001b[1;32m   1527\u001b[0m                 \u001b[0;32mreturn\u001b[0m \u001b[0mself\u001b[0m\u001b[0;34m.\u001b[0m\u001b[0m_not_implemented_or_raise\u001b[0m\u001b[0;34m(\u001b[0m\u001b[0mfunction\u001b[0m\u001b[0;34m,\u001b[0m \u001b[0mtypes\u001b[0m\u001b[0;34m)\u001b[0m\u001b[0;34m\u001b[0m\u001b[0;34m\u001b[0m\u001b[0m\n\u001b[1;32m   1528\u001b[0m \u001b[0;34m\u001b[0m\u001b[0m\n\u001b[0;32m-> 1529\u001b[0;31m             \u001b[0mresult\u001b[0m \u001b[0;34m=\u001b[0m \u001b[0msuper\u001b[0m\u001b[0;34m(\u001b[0m\u001b[0;34m)\u001b[0m\u001b[0;34m.\u001b[0m\u001b[0m__array_function__\u001b[0m\u001b[0;34m(\u001b[0m\u001b[0mfunction\u001b[0m\u001b[0;34m,\u001b[0m \u001b[0mtypes\u001b[0m\u001b[0;34m,\u001b[0m \u001b[0margs\u001b[0m\u001b[0;34m,\u001b[0m \u001b[0mkwargs\u001b[0m\u001b[0;34m)\u001b[0m\u001b[0;34m\u001b[0m\u001b[0;34m\u001b[0m\u001b[0m\n\u001b[0m\u001b[1;32m   1530\u001b[0m             \u001b[0;31m# Fall through to return section\u001b[0m\u001b[0;34m\u001b[0m\u001b[0;34m\u001b[0m\u001b[0;34m\u001b[0m\u001b[0m\n\u001b[1;32m   1531\u001b[0m \u001b[0;34m\u001b[0m\u001b[0m\n",
      "\u001b[0;32m~/opt/anaconda3/envs/fipy/lib/python3.8/site-packages/numpy/lib/function_base.py\u001b[0m in \u001b[0;36mgradient\u001b[0;34m(f, axis, edge_order, *varargs)\u001b[0m\n\u001b[1;32m   1011\u001b[0m             \u001b[0;31m# if distances are constant reduce to the scalar case\u001b[0m\u001b[0;34m\u001b[0m\u001b[0;34m\u001b[0m\u001b[0;34m\u001b[0m\u001b[0m\n\u001b[1;32m   1012\u001b[0m             \u001b[0;31m# since it brings a consistent speedup\u001b[0m\u001b[0;34m\u001b[0m\u001b[0;34m\u001b[0m\u001b[0;34m\u001b[0m\u001b[0m\n\u001b[0;32m-> 1013\u001b[0;31m             \u001b[0;32mif\u001b[0m \u001b[0;34m(\u001b[0m\u001b[0mdiffx\u001b[0m \u001b[0;34m==\u001b[0m \u001b[0mdiffx\u001b[0m\u001b[0;34m[\u001b[0m\u001b[0;36m0\u001b[0m\u001b[0;34m]\u001b[0m\u001b[0;34m)\u001b[0m\u001b[0;34m.\u001b[0m\u001b[0mall\u001b[0m\u001b[0;34m(\u001b[0m\u001b[0;34m)\u001b[0m\u001b[0;34m:\u001b[0m\u001b[0;34m\u001b[0m\u001b[0;34m\u001b[0m\u001b[0m\n\u001b[0m\u001b[1;32m   1014\u001b[0m                 \u001b[0mdiffx\u001b[0m \u001b[0;34m=\u001b[0m \u001b[0mdiffx\u001b[0m\u001b[0;34m[\u001b[0m\u001b[0;36m0\u001b[0m\u001b[0;34m]\u001b[0m\u001b[0;34m\u001b[0m\u001b[0;34m\u001b[0m\u001b[0m\n\u001b[1;32m   1015\u001b[0m             \u001b[0mdx\u001b[0m\u001b[0;34m[\u001b[0m\u001b[0mi\u001b[0m\u001b[0;34m]\u001b[0m \u001b[0;34m=\u001b[0m \u001b[0mdiffx\u001b[0m\u001b[0;34m\u001b[0m\u001b[0;34m\u001b[0m\u001b[0m\n",
      "\u001b[0;31mIndexError\u001b[0m: index 0 is out of bounds for axis 0 with size 0"
     ]
    }
   ],
   "source": [
    "import imp\n",
    "imp.reload(wedgex_model_functions)\n",
    "\n",
    "#n_seed_pts = len(xp)\n",
    "#n_thermochron = len(thermochron_systems)\n",
    "\n",
    "n_samples = len(x_samples)\n",
    "modelled_ages_samples = np.zeros((n_samples)) * u.year\n",
    "\n",
    "for i, tcs in enumerate(thermochron_systems):\n",
    "\n",
    "    inds = thermochron_system_samples == tcs\n",
    "\n",
    "    for j in range(n_samples):\n",
    "        if inds[j] == True:\n",
    "            Tpi = T_history_samples[j].to(u.K, equivalencies=u.temperature()) \n",
    "            ind_ok = np.isnan(Tpi) == False\n",
    "\n",
    "            ti = -t[ind_ok]\n",
    "\n",
    "            if len(-t[ind_ok]) > 1:\n",
    "                \n",
    "                if thermochron_model == 'simple':\n",
    "                    modelled_ages_samples[j] = wedgex_model_functions.calculate_closure_age_simple(-t[ind_ok], Tpi[ind_ok], resetting_temperatures[i])\n",
    "                else:\n",
    "                    modelled_ages_samples[j], ct = wedgex_model_functions.calculate_closure_age(-t[ind_ok], Tpi[ind_ok], tcs)"
   ]
  },
  {
   "cell_type": "markdown",
   "metadata": {},
   "source": [
    "## Calculate model fit"
   ]
  },
  {
   "cell_type": "code",
   "execution_count": null,
   "metadata": {},
   "outputs": [],
   "source": [
    "ct"
   ]
  },
  {
   "cell_type": "code",
   "execution_count": null,
   "metadata": {},
   "outputs": [],
   "source": [
    "data = measured_ages\n",
    "prediction = modelled_ages_samples\n",
    "\n",
    "ind_nok = (np.isnan(data)) | (np.isnan(prediction))\n",
    "\n",
    "data = data[ind_nok==False]\n",
    "prediction = prediction[ind_nok==False]\n",
    "unc_adj = measured_ages_sigma[ind_nok==False]\n",
    "x0_samples_adj = x0_samples[ind_nok==False]\n",
    "\n",
    "ME = np.mean(data - prediction)\n",
    "MAE = sklearn.metrics.mean_absolute_error(data.to(u.yr).value, prediction.to(u.year).value) * u.year\n",
    "R2 = sklearn.metrics.r2_score(data, prediction)\n",
    "RMSE = sklearn.metrics.mean_squared_error(data, prediction, squared=False)\n",
    "\n",
    "misfit_ind = (data - prediction)**2 / (unc_adj**2)\n",
    "\n",
    "misfit = wedgex_model_functions.misfit_function(data, unc_adj, prediction)\n",
    "\n",
    "print(f'mean error of this model run = {ME:0.2e}\\n'\n",
    "      f'mean absolute error {MAE:0.2e}\\n'\n",
    "      f'coefficient of determination = {R2}\\n'\n",
    "      f'RMSE = {RMSE} \\n'\n",
    "      f'misfit = {misfit}')"
   ]
  },
  {
   "cell_type": "markdown",
   "metadata": {},
   "source": [
    "## Calculate exhumation rate"
   ]
  },
  {
   "cell_type": "code",
   "execution_count": null,
   "metadata": {},
   "outputs": [],
   "source": [
    "dd = np.diff(dp, axis=1)\n",
    "exhumation_rate = dd[:, 0] / (t[0] - t[1])"
   ]
  },
  {
   "cell_type": "markdown",
   "metadata": {},
   "source": [
    "## Make a figure with the model results"
   ]
  },
  {
   "cell_type": "code",
   "execution_count": null,
   "metadata": {},
   "outputs": [],
   "source": [
    "xcoords = np.linspace(0, L, 101)\n",
    "y_top = xcoords * alpha\n",
    "y_bottom = xcoords * beta\n",
    "\n",
    "xpi, ypi = xp, yp\n",
    "dpi = dp\n",
    "\n",
    "legs = []\n",
    "labels = []\n",
    "\n",
    "fig, axs = pl.subplots(2, 1, figsize=(fig_width, fig_width * fig_height), sharex=True)\n",
    "\n",
    "#############################\n",
    "# panel with thermochron ages\n",
    "#############################\n",
    "for i, thc, color in zip(itertools.count(), thermochron_systems,  thermochron_colors):\n",
    "    if thc in df[thermochronometer_col].values:\n",
    "        lt, = axs[0].plot(x0s / 1e3, modelled_ages_all[:, i].to(u.yr) / 1e6, color=color)\n",
    "        legs.append(lt)\n",
    "        labels.append('%s model' % thc)\n",
    "        \n",
    "for thc, m, color in zip(thermochron_systems_plot, thermochron_markers, thermochron_colors):\n",
    "    \n",
    "    ix = df[thermochronometer_col] == thc\n",
    "    \n",
    "    if np.any(ix) == True:\n",
    "        #axs[0].scatter(df.loc[ix, distance_column] / 1e3, df.loc[ix, 'age'], \n",
    "        # label='%s data' % thc, color=c, marker=m)\n",
    "        \n",
    "        x = df.loc[ix, distance_column] / 1e3\n",
    "        z = df.loc[ix, 'age']\n",
    "        ze = df.loc[ix, 'age_error_1s'] * 2\n",
    "        sc = axs[0].errorbar(x, z, yerr=ze, ls='None', color=color, marker=m)\n",
    "        legs.append(sc)\n",
    "        labels.append('%s data' % thc)\n",
    "\n",
    "#\n",
    "if log_scale_ages is True:\n",
    "    axs[0].set_yscale('log')    \n",
    "else:\n",
    "    axs[0].set_ylim(0, max_age_fig.value / 1e6)\n",
    "axs[0].set_ylabel('Age (Ma)')\n",
    "\n",
    "tekst = rf'$R^2$ = {R2:0.2f}, MAE={MAE.to(u.year).value / 1e6:0.2f} $\\times 10^6$ a'# % (R2, MAE)\n",
    "if add_equation is True:\n",
    "    tekst += '\\n'\n",
    "    tekst += '$v_c$=%0.1e, $v_d$=%0.1e, $v_{xa}$=%0.1e ,$v_{ya}$=%0.1e ' \\\n",
    "                % (vc, vd, vxa, vya)\n",
    "txt = axs[0].text(0.03, 0.97, tekst, transform=axs[0].transAxes, \n",
    "                  ha='left', va='top', fontsize='small')\n",
    "txt.set_bbox(dict(facecolor='white', alpha=0.5, color='white'))\n",
    "\n",
    "################################\n",
    "# 2nd axis with exhumation rate\n",
    "################################\n",
    "axr = axs[0].twinx()\n",
    "\n",
    "le, = axr.plot(xp[:, 0] / 1e3, exhumation_rate, color='gray', ls='--')\n",
    "legs.append(le)\n",
    "labels.append('exhumation')\n",
    "axr.set_ylabel(r'Exhumation rate ($m a^{-1}$)')\n",
    "axr.set_ylim(0, axr.get_ylim()[-1] * 1.25)\n",
    "\n",
    "if add_legend is True:\n",
    "    axs[0].legend(legs, labels, fontsize=fs, loc='lower right', facecolor='white', framealpha=1)\n",
    "\n",
    "#######################\n",
    "# particle trajectories\n",
    "#######################\n",
    "\n",
    "ax = axs[-1]\n",
    "\n",
    "ind = xpi > L\n",
    "xpi[ind] = np.nan\n",
    "ypi[ind] = np.nan\n",
    "\n",
    "for xl, yl in zip(xpi[::starting_pt_int], ypi[::starting_pt_int]):\n",
    "    leg_traj, = ax.plot(xl / 1e3, yl / 1e3, ls='--', color='black')\n",
    "    \n",
    "    x, y = xl[::-arrow_int] / 1e3, yl[::-arrow_int] / 1e3\n",
    "    U, V = x[1:]-x[:-1], y[1:]-y[:-1]\n",
    "    #U = U / np.sqrt(U**2 + V**2)\n",
    "    #V = V / np.sqrt(U**2 + V**2)\n",
    "    leg_qv = ax.quiver(x[:-1].value, y[:-1].value, U.value, V.value, \n",
    "                        scale_units='xy', angles='xy', scale=scale)\n",
    "\n",
    "nt = xpi.shape[1]\n",
    "\n",
    "if isochrons is None:\n",
    "    isochron_ts = np.linspace(0, nt - 1, 5).astype(int)\n",
    "else:\n",
    "    isochron_ts = [np.argmin(np.abs(-t - chron)) for chron in isochrons]\n",
    "\n",
    "for i, nti in enumerate(isochron_ts):\n",
    "    #leg_ts =  ax.scatter(xpi[:, nti] / 1e3, ypi[:, nti] / 1e3, s=20, color='black')\n",
    "    leg_tsl, =  ax.plot(xpi[:, nti] / 1e3, ypi[:, nti] / 1e3, color='gray', ls='-', lw=1.5)\n",
    "    \n",
    "    tekst = f'{isochrons[i] / 1e6} Ma'\n",
    "    text_buffer = 5\n",
    "    xt, yt = xpi[:, nti].value / 1e3 + text_buffer, ypi[:, nti].value / 1e3\n",
    "    ind = (np.isnan(xt) == False) & (np.isnan(yt) == False)\n",
    "    \n",
    "    if np.any(ind):\n",
    "        txt = ax.text(L.value / 1e3 + text_buffer, yt[ind][-1], tekst, \n",
    "                      ha='left', va='center', weight='bold', color='gray')\n",
    "        #txt.set_bbox(dict(facecolor='white', alpha=0.5, color='white'))\n",
    "    pass\n",
    "\n",
    "legs_tc = []\n",
    "labels_tc = []\n",
    "\n",
    "#for thc, m, c in zip(thermochron_systems[::-1], thermochron_markers[::-1], thermochron_colors[::-1]):\n",
    "for i, thc, m, color in zip(itertools.count(), thermochron_systems_plot, thermochron_markers, thermochron_colors):\n",
    "     \n",
    "    ix = df[thermochronometer_col] == thc\n",
    "        \n",
    "    if np.any(ix) == True:\n",
    "        labels_tc.append('%s data location' % thc)\n",
    "        li = ax.scatter(df.loc[ix, distance_column] / 1e3, df.loc[ix, 'elevation'] / 1e3, \n",
    "                        edgecolor=color, facecolor='None', marker=m, zorder=10-i, lw=1.5, s=75)\n",
    "        legs_tc.append(li)\n",
    "        \n",
    "#leg_s = ax.scatter(df['distance'], df['elevation'] / 1e3, label='thermochron samples')\n",
    "\n",
    "leg_bnd, = ax.plot(xcoords / 1e3, y_top / 1e3, color='black', ls='--', lw=1.5)\n",
    "ax.plot(xcoords / 1e3, y_bottom / 1e3, color='black', ls='--', lw=1.5)\n",
    "\n",
    "ax.set_xlabel('Distance from tip of wedge (km)')\n",
    "ax.set_ylabel('Elevation (km)')\n",
    "\n",
    "for i, ax in enumerate(axs):\n",
    "    ax.spines['top'].set_visible(False)\n",
    "    ax.spines['right'].set_visible(False)\n",
    "    ax.text(0.01, 1.01, string.ascii_lowercase[i + first_subplot], \n",
    "            weight='bold', transform=ax.transAxes, \n",
    "               ha='left', va='bottom', fontsize='medium')\n",
    "\n",
    "axr.spines['top'].set_visible(False)\n",
    "\n",
    "if add_legend is True:\n",
    "    legs = [leg_traj, leg_tsl, leg_bnd] + legs_tc\n",
    "    labels = ['particle trajectories', 'isochron', 'wedge boundary'] + labels_tc\n",
    "    axs[-1].legend(legs, labels, loc='lower left', ncol=2, fontsize=fs)\n",
    "\n",
    "#fig.tight_layout()\n",
    "\n",
    "for f in fig_formats:\n",
    "    fn = fig_output_file + '.' + f\n",
    "    print('saving figure as %s' % fn)\n",
    "    fig.savefig(fn)"
   ]
  },
  {
   "cell_type": "markdown",
   "metadata": {},
   "source": [
    "## Double check "
   ]
  },
  {
   "cell_type": "code",
   "execution_count": null,
   "metadata": {},
   "outputs": [],
   "source": [
    "import imp\n",
    "imp.reload(wedgex_model_functions)\n",
    "\n",
    "params_to_change = ['convergence', 'conv_part', 'deform_part', 'vxa', 'vya']\n",
    "params = (1.76170905e-02 * u.m / u.year, 5.71132921e-01,  5.36513219e-01, 8.36008298e-06 * u.m / u.year, 0.0 * u.m / u.year)\n",
    "#params = \n",
    "limit_params = True\n",
    "calibration_metric = \"RMSE\"\n",
    "\n",
    "# convert params to non-dimensional\n",
    "# todo: double check why this is needed...\n",
    "params_ = []\n",
    "\n",
    "for p in params:\n",
    "    if type(p) == u.quantity.Quantity:\n",
    "        params_.append(p.value)\n",
    "    else:\n",
    "        params_.append(p)\n",
    "        \n",
    "params_ = 1.62740946e-02, 5.39300352e-01, 5.42245071e-01, 1.04312158e-05, 1.00363850e-05\n",
    "\n",
    "args = (params_to_change, limit_params, t, x0_samples, alpha, beta, L, vc, vd, vxa, vya, \n",
    "        surface_temperature_sea_lvl, lapse_rate, geothermal_gradient,\n",
    "        measured_ages, measured_ages_sigma, default_exhumation_rate,\n",
    "        calibration_metric, \n",
    "        thermal_history_model, Ly, Lxmin, cellsize_wedge_top, cellsize_wedge_bottom, cellsize_footwall, \n",
    "        lab_temp, K, rho, c, H0, e_folding_depth, v_downgoing, \n",
    "        thermochron_model, thermochron_systems, thermochron_system_samples,\n",
    "        resetting_temperatures)\n",
    "\n",
    "a = wedgex_model_functions.compare_modelled_and_measured_ages(params_, *args)\n",
    "\n",
    "#params, params_to_change, limit_params, t, x0_samples, \n",
    "#                                       alpha, beta, L, vc, vd, vxa, vya, \n",
    "#                                       surface_temperature_sea_lvl, lapse_rate, geothermal_gradient,\n",
    "#                                       measured_ages, age_uncertainty,\n",
    "#                                       default_exhumation_rate,\n",
    "#                                       metric_to_return,\n",
    "#                                       thermal_history_model,\n",
    "#                                       Ly, Lxmin, cellsize_wedge_top, cellsize_wedge_bottom, cellsize_footwall, \n",
    "#                                       lab_temp, K, rho, c, H0, e_folding_depth, v_downgoing,\n",
    "#                                       thermochron_model, thermochron_systems,\n",
    "\n",
    "\n",
    "#        a = (L_, Ly_, alpha, beta, Lxmin_, cellsize_wedge_top_, cellsize_wedge_bottom_, cellsize_footwall_, \n",
    "#             vd_, vc_, vxa_, vya_, v_downgoing_, surface_temperature_sea_lvl, \n",
    "#             lapse_rate, lab_temp, \n",
    "#             K, rho, c, H0, e_folding_depth)"
   ]
  },
  {
   "cell_type": "code",
   "execution_count": null,
   "metadata": {},
   "outputs": [],
   "source": [
    "ma = modelled_ages_samples[np.isnan(modelled_ages_samples)==False]\n",
    "print(\"modelled ages, min., mean, max.: \", \n",
    "      ma.min(), \n",
    "      ma.mean(), \n",
    "      ma.max())"
   ]
  },
  {
   "cell_type": "code",
   "execution_count": null,
   "metadata": {},
   "outputs": [],
   "source": [
    "T_.max()"
   ]
  },
  {
   "cell_type": "markdown",
   "metadata": {},
   "source": [
    "## Read published results"
   ]
  },
  {
   "cell_type": "code",
   "execution_count": null,
   "metadata": {},
   "outputs": [],
   "source": [
    "# published results\n",
    "fnp = \"data/thermochron_data_mcquarrie2015.csv\"\n",
    "\n",
    "dfp = pd.read_csv(fnp)"
   ]
  },
  {
   "cell_type": "code",
   "execution_count": null,
   "metadata": {},
   "outputs": [],
   "source": [
    "dfp"
   ]
  },
  {
   "cell_type": "code",
   "execution_count": null,
   "metadata": {},
   "outputs": [],
   "source": [
    "c"
   ]
  },
  {
   "cell_type": "code",
   "execution_count": null,
   "metadata": {},
   "outputs": [],
   "source": [
    "meas_age_cols = [\"data_AFT\", \"data_Zhe\", \"data_ArAr\"]\n",
    "model_age_cols = [\"AFT_model\", \"Zhe_model\", \"Ar_Ar_model\"]\n",
    "\n",
    "published_distances = []\n",
    "published_ages = []\n",
    "published_model_ages = []\n",
    "thermochron_system = []\n",
    "for cd, cm in zip(meas_age_cols, model_age_cols):\n",
    "    ind = dfp[cd].notnull()\n",
    "    \n",
    "    published_ages += dfp.loc[ind, cd].tolist()\n",
    "    published_distances += dfp.loc[ind, \"X\"].tolist()\n",
    "    published_model_ages += dfp.loc[ind, cm].tolist()\n",
    "    \n",
    "    thermochron_system += [cd] * np.sum(ind)\n",
    "\n",
    "cp = [\"distance\", \"measured_age\", \"modelled_age\"]\n",
    "dfps = pd.DataFrame(columns=cp, index=np.arange(len(published_ages)))\n",
    "\n",
    "dfps[\"distance\"] = published_distances\n",
    "dfps[\"measured_age\"] = published_ages\n",
    "dfps[\"modelled_age\"] = published_model_ages\n",
    "\n",
    "dfps[\"thermochron_system\"] = thermochron_system\n",
    "\n",
    "dfps"
   ]
  },
  {
   "cell_type": "code",
   "execution_count": null,
   "metadata": {},
   "outputs": [],
   "source": [
    "dfp"
   ]
  },
  {
   "cell_type": "markdown",
   "metadata": {},
   "source": [
    "## Calculate model statistics for published results"
   ]
  },
  {
   "cell_type": "code",
   "execution_count": null,
   "metadata": {},
   "outputs": [],
   "source": [
    "data_pub, pred_pub = dfps['measured_age'].values * 1e6 * u.year, dfps['modelled_age'].values * 1e6 * u.year\n",
    "d_pub = dfps['distance'].values\n",
    "\n",
    "R2_pub = sklearn.metrics.r2_score(data_pub, pred_pub)\n",
    "MAE_pub = sklearn.metrics.mean_absolute_error(data_pub, pred_pub)\n",
    "\n",
    "# only first 80 km\n",
    "dfpsi = dfps[dfps[\"distance\"] < 75.0]\n",
    "data_pub_80km, pred_pub_80km = dfpsi['measured_age'].values * 1e6 * u.year, dfpsi['modelled_age'].values * 1e6 * u.year\n",
    "d_pub_80km = dfpsi['distance'].values\n",
    "\n",
    "\n",
    "R2_pub_80km = sklearn.metrics.r2_score(data_pub_80km, pred_pub_80km)\n",
    "MAE_pub_80km = sklearn.metrics.mean_absolute_error(data_pub_80km, pred_pub_80km)\n",
    "\n",
    "fig, ax = pl.subplots(1, 1)\n",
    "\n",
    "ax.scatter(data_pub, pred_pub, c=d_pub)\n",
    "ax.plot([1e6, 5e7], [1e6, 5e7])\n",
    "\n",
    "ax.set_xlabel(\"measured age\")\n",
    "ax.set_ylabel(\"modelled age\")\n",
    "\n",
    "ax.set_xscale(\"log\")\n",
    "ax.set_yscale(\"log\")\n",
    "\n",
    "\n",
    "print(f'model fit published models: R2 = {R2_pub:.2f}, MAE = {MAE_pub:.1e} a')\n",
    "print(f'model fit published models first 80 km: R2 = {R2_pub_80km:.2f}, MAE = {MAE_pub_80km:.1e} a')"
   ]
  },
  {
   "cell_type": "code",
   "execution_count": null,
   "metadata": {},
   "outputs": [],
   "source": [
    "d_pub"
   ]
  },
  {
   "cell_type": "code",
   "execution_count": null,
   "metadata": {},
   "outputs": [],
   "source": [
    "#meas_age_cols = [\"data_AFT\", \"data_Zhe\", \"data_ArAr\"]\n",
    "#model_age_cols = [\"AFT_model\", \"Zhe_model\", \"Ar_Ar_model\"]\n",
    "\n",
    "# dict to find corresponding data/models for published data\n",
    "thc_dict = {\"AFT\": {\"data_col\": \"data_AFT\", \"model_col\": \"AFT_model\"}, \n",
    "            \"ZHe\": {\"data_col\": \"data_Zhe\", \"model_col\": \"Zhe_model\"}, \n",
    "            \"MAr\": {\"data_col\": \"data_ArAr\", \"model_col\": \"Ar_Ar_model\"}}\n",
    "\n",
    "\n",
    "legs = []\n",
    "labels = []\n",
    "\n",
    "fig, ax = pl.subplots(1, 1, figsize=(fig_width, fig_width /1.5))\n",
    "\n",
    "#############################\n",
    "# panel with thermochron ages\n",
    "#############################\n",
    "lp = None\n",
    "for i, thc, color in zip(itertools.count(), thermochron_systems,  thermochron_colors):\n",
    "    if thc in df[thermochronometer_col].values:\n",
    "        lt, = ax.plot(x0s / 1e3, modelled_ages_all[:, i] / 1e6, color=color)\n",
    "        legs.append(lt)\n",
    "        labels.append('%s model' % thc)\n",
    "        \n",
    "        if thc in thc_dict.keys():\n",
    "            \n",
    "            x = dfp[\"X\"]\n",
    "            age = dfp[thc_dict[thc][\"model_col\"]]\n",
    "                    \n",
    "            #j = thermochron_syst_published.index(thc)\n",
    "            \n",
    "            #dft = dfts[j]\n",
    "            #x = (dft['x'] - distance_correction) * dist_corr_factor\n",
    "            #age = dft['y']\n",
    "            \n",
    "            lp, = ax.plot(x, age, color=color, ls=':')\n",
    "            \n",
    "for thc, m, color in zip(thermochron_systems_plot, thermochron_markers, thermochron_colors):\n",
    "    \n",
    "    ix = df[thermochronometer_col] == thc\n",
    "    \n",
    "    if np.any(ix) == True:\n",
    "        #axs[0].scatter(df.loc[ix, distance_column] / 1e3, df.loc[ix, 'age'], \n",
    "        # label='%s data' % thc, color=c, marker=m)\n",
    "        \n",
    "        c2 = thc_dict[thc][\"data_col\"]\n",
    "        ind2 = dfps[\"thermochron_system\"] == c2\n",
    "        x2 = dfps.loc[ind2, \"distance\"].values\n",
    "        z2 = dfps.loc[ind2, \"measured_age\"].values\n",
    "        sc2 = ax.scatter(x2, z2, color=\"gray\", marker=m, edgecolor='black', lw=0.5)\n",
    "        \n",
    "        x = df.loc[ix, distance_column] / 1e3\n",
    "        z = df.loc[ix, 'age']\n",
    "        ze = df.loc[ix, 'age_error_1s'] * 2\n",
    "        sc = ax.errorbar(x, z, yerr=ze, ls='None', color=color, marker=m)\n",
    "        legs.append(sc)\n",
    "        labels.append('%s data' % thc)\n",
    "\n",
    "if lp is not None:           \n",
    "    legs.append(lp)\n",
    "    labels.append('Models, McQuarrie & Ehlers (2015)')\n",
    " \n",
    "\n",
    "legs.append(sc2)\n",
    "labels.append(\"Data locations McQuarrie & Ehlers (2015)\")\n",
    "#\n",
    "if log_scale_ages is True:\n",
    "    ax.set_yscale('log')    \n",
    "else:\n",
    "    ax.set_ylim(0, max_age_fig.value / 1e6)\n",
    "    \n",
    "ax.set_xlim(0, 200)\n",
    "ax.set_ylabel('Age (Ma)')\n",
    "ax.set_xlabel('Distance from tip of wedge (km)')\n",
    "\n",
    "tekst = rf'analytical solution: $R^2$={R2:0.2f}, MAE={MAE.value:0.2e} a'\n",
    "tekst += '\\n'\n",
    "tekst += rf'McQuarrie & Ehlers (2015): $R^2$={R2_pub:0.2f}, MAE={MAE_pub:0.2e} a'\n",
    "txt = ax.text(0.03, 0.97, tekst, transform=ax.transAxes, \n",
    "                  ha='left', va='top', fontsize='medium')\n",
    "txt.set_bbox(dict(facecolor='white', alpha=0.5, color='white'))\n",
    "\n",
    "ax.spines['top'].set_visible(False)\n",
    "ax.spines['right'].set_visible(False)\n",
    "\n",
    "ax.legend(legs, labels, fontsize=fs, facecolor='white', framealpha=1, bbox_to_anchor=(0.05, 1), loc='lower left', ncol=2)\n",
    "\n",
    "fig.tight_layout()\n",
    "\n",
    "fig.savefig('fig/comparison_mcquarrie2015.pdf')\n",
    "fig.savefig('fig/comparison_mcquarrie2015.png')\n",
    "\n"
   ]
  },
  {
   "cell_type": "markdown",
   "metadata": {},
   "source": [
    "## Parameter space search\n",
    "\n",
    "Use the box below to switch parameter space search on or off. Note that this can be quite time consuming"
   ]
  },
  {
   "cell_type": "markdown",
   "metadata": {},
   "source": [
    "## Define parameter ranges for the parameter search"
   ]
  },
  {
   "cell_type": "code",
   "execution_count": null,
   "metadata": {},
   "outputs": [],
   "source": [
    "#vc_range = np.linspace(-1e-3, -20e-3, n_ints)\n",
    "#vd_range = np.linspace(-1e-3, -10e-3, n_ints)\n",
    "multipliers = np.array([1/2, 2/3., 1.0, 3/2, 2.])\n",
    "additions = np.arange(-4e-3, 5e-3, 1e-3)\n",
    "\n",
    "additions2 = np.arange(-2e-3, 3e-3, 1e-3)\n",
    "additions3 = np.arange(-2e-4, 3e-4, 1e-4)\n",
    "\n",
    "vc_range =  vc + additions\n",
    "vd_range =  vd + additions\n",
    "\n",
    "#vxa_range = np.linspace(0, 1e-3, n_ints)\n",
    "#vya_range = np.linspace(0.0, 1e-3, n_ints)\n",
    "vxa_range = vxa + additions2\n",
    "vya_range = vya + additions3\n",
    "\n",
    "vc_range = vc_range[vc_range < 0] \n",
    "vd_range = vd_range[vd_range < 0]\n",
    "\n",
    "vxa_range = vxa_range[vxa_range >= 0]\n",
    "vya_range = vya_range[vya_range >= 0]"
   ]
  },
  {
   "cell_type": "markdown",
   "metadata": {},
   "source": [
    "## The actual parameter space search"
   ]
  },
  {
   "cell_type": "code",
   "execution_count": null,
   "metadata": {},
   "outputs": [],
   "source": [
    "#%%timeit\n",
    "\n",
    "if parameter_space_search is True:\n",
    "    \n",
    "    metric_to_return = 'R2'\n",
    "    \n",
    "    n_ints = 5\n",
    "\n",
    "    scenario_parameter_list = [vc_range, vd_range, vxa_range, vya_range]\n",
    "\n",
    "    param_combs = list(itertools.product(*scenario_parameter_list))\n",
    "\n",
    "    print('testing %i parameter combinations' % len(param_combs))\n",
    "    print('this may take some time')\n",
    "\n",
    "    error_stats_all = []\n",
    "\n",
    "    nc = len(param_combs)\n",
    "\n",
    "    for i, p in enumerate(param_combs):\n",
    "\n",
    "        if nc > 100 and float(i / 100) == int(i / 100):\n",
    "            print('parameter combination %i of %i' % (i+1, nc))\n",
    "\n",
    "        error_stats = wedgex_model_functions.compare_modelled_and_measured_ages(\n",
    "            p, params_to_change, limit_params, t, x0_samples, \n",
    "             alpha, beta, L, vc, vd, vxa, vya, \n",
    "             surface_temperature_sea_lvl, \n",
    "             lapse_rate, geothermal_gradient,\n",
    "             measured_ages, measured_ages_sigma, resetting_temperatures_samples,\n",
    "             default_exhumation_rate,\n",
    "             metric_to_return)\n",
    "                \n",
    "        error_stats_all.append(error_stats)\n",
    "\n",
    "    print('done testing parameter combinations')"
   ]
  },
  {
   "cell_type": "code",
   "execution_count": null,
   "metadata": {},
   "outputs": [],
   "source": [
    "if parameter_space_search is True:\n",
    "    param_combs_array = np.array(param_combs)\n",
    "    model_errors = np.array(error_stats_all)"
   ]
  },
  {
   "cell_type": "markdown",
   "metadata": {},
   "source": [
    "## Make a figure of parameter space search "
   ]
  },
  {
   "cell_type": "code",
   "execution_count": null,
   "metadata": {},
   "outputs": [],
   "source": [
    "def unique_rows(a):\n",
    "    \"\"\"\n",
    "    remove duplicate rows from an array\n",
    "\n",
    "    found on stackoverflow:\n",
    "    http://stackoverflow.com/questions/8560440/\n",
    "    removing-duplicate-columns-and-rows-from-a-numpy-2d-array\n",
    "\n",
    "    :param a:\n",
    "    :return:\n",
    "    \"\"\"\n",
    "    a = np.ascontiguousarray(a)\n",
    "    unique_a = np.unique(a.view([('', a.dtype)]*a.shape[1]))\n",
    "\n",
    "    return unique_a.view(a.dtype).reshape((unique_a.shape[0], a.shape[1]))\n",
    "\n",
    "if parameter_space_search is True:\n",
    "    z = model_errors[:]\n",
    "\n",
    "    vmin = 0.0\n",
    "    vmax = 1.0\n",
    "\n",
    "    param_combs_plots = [[0, 1], [2, 3]]\n",
    "\n",
    "    ax_labels = [[r'$v_c \\; (m\\;s^{-1})$', r'$v_d \\; (m\\;s^{-1})$'], \n",
    "                 [r'$v_{xa} \\; (m\\;s^{-1})$', r'$v_{ya} \\; (m\\;s^{-1})$']]\n",
    "\n",
    "    fig, axs = pl.subplots(1, 2, figsize=(8, 4))\n",
    "\n",
    "    for ax, pc, al in zip(axs, param_combs_plots, ax_labels):\n",
    "\n",
    "        # get min error for each overlapping pt:\n",
    "        v1 = param_combs_array[:, pc[0]]\n",
    "        v2 = param_combs_array[:, pc[1]]\n",
    "        a = np.vstack([v1, v2]).T\n",
    "        ur = unique_rows(a)\n",
    "\n",
    "        zs = np.zeros(len(ur))\n",
    "\n",
    "        for i, ui in enumerate(ur):\n",
    "            ind = (a[:, 0] == ui[0]) & (a[:, 1] == ui[1])\n",
    "            zs[i] = np.max(z[ind])\n",
    "\n",
    "\n",
    "        sc = ax.scatter(ur[:, 0], ur[:, 1], c=zs,\n",
    "                   vmin=vmin, vmax=vmax, s=100, cmap=cmap)\n",
    "\n",
    "        ax.set_xlabel(al[0])\n",
    "        ax.set_ylabel(al[1])\n",
    "\n",
    "    fig.subplots_adjust(bottom=0.32, wspace=0.5)\n",
    "\n",
    "    cax = fig.add_axes([0.25, 0.12, 0.5, 0.02])\n",
    "\n",
    "    cb = fig.colorbar(sc, cax=cax, orientation='horizontal')\n",
    "    cb.set_label(r'$R^2$')\n",
    "\n",
    "    for i, ax in enumerate(axs):\n",
    "        ax.spines['top'].set_visible(False)\n",
    "        ax.spines['right'].set_visible(False)\n",
    "        ax.text(0.01, 1.01, string.ascii_lowercase[i], \n",
    "                weight='bold', transform=ax.transAxes, \n",
    "                   ha='left', va='bottom', fontsize='medium')\n",
    "\n",
    "    #fig.tight_layout()\n",
    "\n",
    "    fig.savefig('fig/parameter_space_exp.png')\n",
    "    fig.savefig('fig/parameter_space_exp.pdf')\n"
   ]
  },
  {
   "cell_type": "code",
   "execution_count": null,
   "metadata": {},
   "outputs": [],
   "source": []
  }
 ],
 "metadata": {
  "kernelspec": {
   "display_name": "Python 3",
   "language": "python",
   "name": "python3"
  },
  "language_info": {
   "codemirror_mode": {
    "name": "ipython",
    "version": 3
   },
   "file_extension": ".py",
   "mimetype": "text/x-python",
   "name": "python",
   "nbconvert_exporter": "python",
   "pygments_lexer": "ipython3",
   "version": "3.8.8"
  }
 },
 "nbformat": 4,
 "nbformat_minor": 4
}
