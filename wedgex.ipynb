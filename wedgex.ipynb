{
 "cells": [
  {
   "cell_type": "markdown",
   "metadata": {},
   "source": [
    "# Wedgex\n",
    "\n",
    "Use an analytical solution for particle trajectories in an orogenic wedge, use the particle depths to calculate thermochronometer cooling ages and compare to thermochronology data. \n",
    "\n",
    "\n",
    "## Workflow:\n",
    "\n",
    "This notebook can be used to run a single model and show the calculated particle trajectories, exhumation rates and thermochronology ages. \n",
    "\n",
    "The default parameters and data are based on the Kuru Chu cross-section in the Himalayas, a well studied cross section which was explored Long et al. (2012, https://doi.org/10.1029/2012TC003155), Coutand et al. (2014, https://doi.org/10.1002/2013JB010891) and McQuarrie and Ehlers (2015, https://doi.org/10.1002/2014TC003783).\n",
    "\n",
    "The thermochronology data that are used are located in the file [data/thermochron_data_projected.csv](data/thermochron_data_projected.csv). This file was created by a separate notebook [utilities/extract_xsection_data.ipynb](utilities/extract_xsection_data.ipynb), which automatically extracts thermochronology data along a cross-section."
   ]
  },
  {
   "cell_type": "markdown",
   "metadata": {},
   "source": [
    "## Import modules"
   ]
  },
  {
   "cell_type": "code",
   "execution_count": 69,
   "metadata": {},
   "outputs": [],
   "source": [
    "import string\n",
    "import itertools\n",
    "import numpy as np\n",
    "import matplotlib.pyplot as pl\n",
    "import pandas as pd\n",
    "\n",
    "import sklearn.metrics\n",
    "\n",
    "import scipy.optimize\n",
    "\n",
    "import astropy.units as u\n",
    "\n",
    "# equations for particle trajectories\n",
    "import wedgeqs\n",
    "\n",
    "# function wrappers to run multiple models and compare modelled and measured thermochron ages\n",
    "import wedgex_model_functions\n",
    "\n",
    "# optional: advective-conductive heat flow model\n",
    "import lib.heat_flow_model as hf"
   ]
  },
  {
   "cell_type": "code",
   "execution_count": 70,
   "metadata": {},
   "outputs": [],
   "source": [
    "pl.rcParams['mathtext.default'] = 'regular'"
   ]
  },
  {
   "cell_type": "code",
   "execution_count": 71,
   "metadata": {},
   "outputs": [],
   "source": [
    "try:\n",
    "    from cmcrameri import cm\n",
    "    cmap = cm.batlow\n",
    "    #cmap_heat = cm.vik\n",
    "    cmap_heat = cm.roma_r\n",
    "except:\n",
    "    print(\"failed to import fabio crameris colormaps, using matplotlib viridis and coolwarm colormaps instead\")\n",
    "    cmap = 'viridis'\n",
    "    cmap_heat = 'coolwarm'"
   ]
  },
  {
   "cell_type": "markdown",
   "metadata": {},
   "source": [
    "## Filenames"
   ]
  },
  {
   "cell_type": "code",
   "execution_count": 72,
   "metadata": {},
   "outputs": [],
   "source": [
    "# name of file with thermochron data\n",
    "thermochron_data_file = 'data/thermochron_data_projected.csv'\n",
    "\n",
    "# column with distance\n",
    "distance_column = 'projected_distance_along_xsection'\n",
    "thermochronometer_col = 'system'\n",
    "\n",
    "# filename for output file with modelled ages thermochron samples\n",
    "thermochron_output_file = 'data/modelled_thermochron_data.csv'\n",
    "\n",
    "# output file with modelled ages vs distance\n",
    "thermochron_profile_file = 'data/modelled_thermochron_profiles.csv'"
   ]
  },
  {
   "cell_type": "markdown",
   "metadata": {},
   "source": [
    "## Model parameters"
   ]
  },
  {
   "cell_type": "code",
   "execution_count": 73,
   "metadata": {},
   "outputs": [],
   "source": [
    "year = 365.25 * 24 * 3600.\n",
    "\n",
    "model_run_name = 'default'\n",
    "\n",
    "# specify convergence and partitioning coeffiicnets. leave at None to specify the wedge deformation parameters directly\n",
    "# conv = None\n",
    "#conv = 20e-3 * u.m / u.year\n",
    "#conv_part = 0.7\n",
    "#deform_part = 0.5\n",
    "\n",
    "# \n",
    "#conv = 20e-3 * u.m / u.year\n",
    "#conv_part = 0.5\n",
    "#deform_part = 0.5\n",
    "\n",
    "# default runs first version ms\n",
    "#conv, conv_part, deform_part = 0.020 * u.m / u.year, 0.5, 0.5\n",
    "\n",
    "# calibrated values fixed geothermal gradient:\n",
    "#conv, conv_part, deform_part = 0.02034093 * u.m / u.year, 0.45786315, 0.53954462\n",
    "\n",
    "# calibrated values, numerical model, 20 iterations\n",
    "conv, conv_part, deform_part = 0.01749226 * u.m / u.year, 0.59914653, 0.44977551\n",
    "\n",
    "# compressional, transport and accretion velocity\n",
    "# note these are overwritten if convergence parameters are used above\n",
    "vc = -5e-3 * u.m / u.year\n",
    "vd = -5e-3 * u.m / u.year\n",
    "\n",
    "#\n",
    "vxa = 1e-9 * u.m / u.year\n",
    "vya = 1e-9 * u.m / u.year\n",
    "\n",
    "# convergence velocity of the downgoing plate\n",
    "# note this is the horizontal component, the downgoing component is calculated usign the wedge slope\n",
    "# note2, this variable is also overwritten if convergence parameters are used\n",
    "v_downgoing = 1.0e-3 * u.m / u.year\n",
    "\n",
    "# lenght of wedge (m)\n",
    "L = 200e3 * u.m\n",
    "\n",
    "# slope of topography (m/m)\n",
    "# for McQuarrie & Ehlers: ~ 4km over 117 km \n",
    "alpha = 0.034\n",
    "\n",
    "# slope of bottom of wedge (m/m)\n",
    "# for McQuarrie & Ehlers: detachment depth at N edge xsection (117 km) = ~20 km\n",
    "beta = -0.17\n",
    "\n",
    "# disctance between surface points (m)\n",
    "x_interval = 5e3 * u.m\n",
    "\n",
    "x_first_pt = 1e3 * u.m\n",
    "\n",
    "# number of rows in the orogenic wedge. Used for figures only, no function in the actual model\n",
    "n_rows = 100\n",
    "\n",
    "# modelled timespan (years)\n",
    "max_time = 2e8 * u.year\n",
    "\n",
    "# timestep size (years)\n",
    "dt = 1e4 * u.year\n",
    "\n",
    "# thermochronology model. choose between 'simple' and 'Dodson'\n",
    "thermochron_model = 'Dodson'\n",
    "#thermochron_model = 'simple'\n",
    "\n",
    "# names of thermochronometers, should match the names in your input file\n",
    "thermochron_systems = ['AHe', 'AFT', 'ZHe', 'ZFT', 'MAr']\n",
    "\n",
    "# resetting temperatures (degr. C)\n",
    "resetting_temperatures = [70.0 * u.deg_C, 110.0  * u.deg_C, 180.0  * u.deg_C, 230.0 * u.deg_C, 325.0 * u.deg_C]\n",
    "\n",
    "# default exhumation rate, used to calculate ages from the undeformed foreland \n",
    "# that have not been reset inside the wedge (m/yr)\n",
    "default_exhumation_rate = 1e-4 * u.m / u.year\n",
    "\n",
    "# option to remove non-reset ages from database\n",
    "remove_non_reset_ages = True\n",
    "\n",
    "# limit for estimating which ages are reset or not (Ma)\n",
    "reset_age_limit =  100.0 \n",
    "\n",
    "# thermal history model. options: 'numerical' for numeircal steady-state model, 'fixed_gradient' for fixed geothermal gradient\n",
    "thermal_history_model = 'numerical'\n",
    "#thermal_history_model = 'fixed_gradient'\n",
    "\n",
    "# geothermal gradient, used to convert resetting temp to depth (degr. C/m) in the case of a fixed_gradient thermal model\n",
    "geothermal_gradient = 0.015 * u.deg_C / u.m\n",
    "\n",
    "# surface temperature at sea lvl (degr. C)\n",
    "surface_temperature_sea_lvl = 24.0 * u.deg_C\n",
    "\n",
    "# adiabatic lapse rate (C/m), used to calculate surface temperatures\n",
    "lapse_rate = 7.0 / 1e3 * u.deg_C / u.m\n",
    "\n",
    "# model domain length of downgoing plate\n",
    "Lxmin = 100e3 * u.m\n",
    "\n",
    "# cellsizes for the numerical mesh that is used for the numerical heat flow model\n",
    "cellsize_wedge_top = 500.0 * u.m\n",
    "cellsize_wedge_bottom = 2000.0 * u.m\n",
    "cellsize_footwall = 5000.0 * u.m\n",
    "\n",
    "# vertical size model domain\n",
    "Ly = 110e3 * u.m\n",
    "\n",
    "# temperature boundary conditions\n",
    "lab_temp = 1300 * u.deg_C\n",
    "\n",
    "# thermal parameters\n",
    "K = 2.5 * u.W / (u.m * u.K)\n",
    "rho = 2700.0 * u.kg / u.m**3\n",
    "c = 800.0 * u.J / (u.kg * u.K)\n",
    "\n",
    "# heat prod at surface\n",
    "H0 = 2.75e-6 * u.W / u.m**3\n",
    "\n",
    "# e-folding depth heat prod\n",
    "e_folding_depth = 17500.0"
   ]
  },
  {
   "cell_type": "markdown",
   "metadata": {},
   "source": [
    "## Options for figures"
   ]
  },
  {
   "cell_type": "code",
   "execution_count": 74,
   "metadata": {},
   "outputs": [],
   "source": [
    "# figure size, in inches:\n",
    "fig_width = 170 / 25.4\n",
    "#fig_width = 140 / 25.4\n",
    "fig_height = 0.75\n",
    "\n",
    "# subplot label start, 0 = a\n",
    "first_subplot = 2\n",
    "\n",
    "# add legend\n",
    "add_legend = True\n",
    "\n",
    "# add\n",
    "add_equation = False\n",
    "\n",
    "# show each x particle paths in figure\n",
    "starting_pt_int = 4\n",
    "\n",
    "# isochrons to show\n",
    "isochrons = np.arange(0, 55, 5)\n",
    "\n",
    "# some figure options\n",
    "fig_output_file = 'fig/wedgex_model_%s' % model_run_name\n",
    "fig_formats = ['png', 'pdf', 'svg']\n",
    "\n",
    "thermochron_markers = ['o', 'd', 's', '^', 'h']\n",
    "thermochron_colors = ['darkblue', 'blue', 'green', 'red', 'orange']\n",
    "\n",
    "# isochrons to show in figure:\n",
    "isochrons = [5e6 * u.year, 10e6  * u.year, 15e6  * u.year, 20e6  * u.year, 25e6  * u.year]\n",
    "\n",
    "# maximum thermochron age on y-axis\n",
    "max_age_fig = 20.0 * 1e6 * u.year\n",
    "\n",
    "# log scale for cooling ages:\n",
    "log_scale_ages = False\n",
    "\n",
    "fs = 'x-small'\n",
    "\n",
    "gr = 1.618033\n",
    "\n",
    "# draw flow arrows for one in x particle locations\n",
    "arrow_int = 250\n",
    "\n",
    "# scale for flow arrows. higher means smaller arrows\n",
    "scale = 2.0\n",
    "\n",
    "#\n",
    "degree_symbol = chr(176)\n"
   ]
  },
  {
   "cell_type": "markdown",
   "metadata": {},
   "source": [
    "## Calculate wegde deformation params if convergence is speicifed"
   ]
  },
  {
   "cell_type": "code",
   "execution_count": 75,
   "metadata": {},
   "outputs": [],
   "source": [
    "if conv is not None:\n",
    "\n",
    "    v_downgoing = conv * conv_part \n",
    "    v_wedge = - (1.0 - conv_part) * conv\n",
    "    vc = deform_part * v_wedge\n",
    "    vd = (1.0 - deform_part) * v_wedge"
   ]
  },
  {
   "cell_type": "markdown",
   "metadata": {
    "editable": true
   },
   "source": [
    "## Set up initial particle positions and timesteps"
   ]
  },
  {
   "cell_type": "code",
   "execution_count": 76,
   "metadata": {
    "collapsed": false,
    "editable": true,
    "jupyter": {
     "outputs_hidden": false
    }
   },
   "outputs": [
    {
     "name": "stdout",
     "output_type": "stream",
     "text": [
      "particle starting points (m from tip of wedge):\n",
      " [  1000.   5000.  10000.  15000.  20000.  25000.  30000.  35000.  40000.\n",
      "  45000.  50000.  55000.  60000.  65000.  70000.  75000.  80000.  85000.\n",
      "  90000.  95000. 100000. 105000. 110000. 115000. 120000. 125000. 130000.\n",
      " 135000. 140000. 145000. 150000. 155000. 160000. 165000. 170000. 175000.\n",
      " 180000. 185000. 190000. 195000. 200000.] m\n",
      "timesteps (yr):\n",
      " [ 0.0000e+00 -1.0000e-02 -2.0000e-02 ... -1.9998e+02 -1.9999e+02\n",
      " -2.0000e+02] yr\n"
     ]
    }
   ],
   "source": [
    "# x-coordinates of starting points:\n",
    "x0s = np.arange(0, L.to(u.m).value + x_interval.to(u.m).value, x_interval.to(u.m).value) * u.m\n",
    "x0s[0] = x_first_pt\n",
    "\n",
    "# timesteps (years)\n",
    "t = np.arange(0, -max_time.to(u.year).value - dt.to(u.year).value, -dt.to(u.year).value) * u.year\n",
    "\n",
    "print('particle starting points (m from tip of wedge):\\n', x0s)\n",
    "\n",
    "print('timesteps (yr):\\n', t / 1e6)"
   ]
  },
  {
   "cell_type": "markdown",
   "metadata": {},
   "source": [
    "## Determine isochrons to show in figures\n",
    "\n",
    "i.e., get the timesteps for the different timeslices that are defined by the variable isochrons"
   ]
  },
  {
   "cell_type": "code",
   "execution_count": 77,
   "metadata": {},
   "outputs": [],
   "source": [
    "isochron_ts = [np.argmin(np.abs(t - ic)) for ic in isochrons]"
   ]
  },
  {
   "cell_type": "markdown",
   "metadata": {},
   "source": [
    "## Load thermochron data"
   ]
  },
  {
   "cell_type": "code",
   "execution_count": 78,
   "metadata": {},
   "outputs": [
    {
     "name": "stdout",
     "output_type": "stream",
     "text": [
      "thermochron data systems in file:  ['ZHe' 'AFT' 'MAr']\n"
     ]
    }
   ],
   "source": [
    "df = pd.read_csv(thermochron_data_file)\n",
    "\n",
    "df[thermochronometer_col].unique()\n",
    "\n",
    "print('thermochron data systems in file: ', df[thermochronometer_col].unique())"
   ]
  },
  {
   "cell_type": "markdown",
   "metadata": {},
   "source": [
    "## Remove anomalously old ages"
   ]
  },
  {
   "cell_type": "code",
   "execution_count": 79,
   "metadata": {},
   "outputs": [
    {
     "name": "stdout",
     "output_type": "stream",
     "text": [
      "ages before removing non-reset ages:\n",
      " count      48.000000\n",
      "mean       56.973812\n",
      "std       245.686577\n",
      "min         2.700000\n",
      "25%         4.222500\n",
      "50%         6.930000\n",
      "75%         8.940000\n",
      "max      1395.700000\n",
      "Name: age, dtype: float64\n",
      "ages after removing non-reset ages:\n",
      " count    46.000000\n",
      "mean      6.915935\n",
      "std       2.913004\n",
      "min       2.700000\n",
      "25%       4.207500\n",
      "50%       6.600000\n",
      "75%       8.615000\n",
      "max      14.780000\n",
      "Name: age, dtype: float64\n"
     ]
    }
   ],
   "source": [
    "if remove_non_reset_ages is True:\n",
    "\n",
    "    print('ages before removing non-reset ages:\\n', df['age'].describe())\n",
    "    \n",
    "    df = df[df['age'] < reset_age_limit]\n",
    "    \n",
    "    print('ages after removing non-reset ages:\\n', df['age'].describe())"
   ]
  },
  {
   "cell_type": "markdown",
   "metadata": {},
   "source": [
    "## Get sample data"
   ]
  },
  {
   "cell_type": "code",
   "execution_count": 80,
   "metadata": {},
   "outputs": [],
   "source": [
    "# get sample positions from dataframe\n",
    "x0_samples = df[distance_column].values * u.m\n",
    "\n",
    "\n",
    "#df.head()\n",
    "\n",
    "measured_ages = df['age'].values * 1e6 * u.year\n",
    "#data_distance = df['age'].values\n",
    "measured_ages_sigma = df['age_error_1s'].values * 1e6 * u.year\n",
    "#resetting_temperatures_samples = df['resetting_temp'].values\n",
    "\n",
    "thermochron_system_samples = df[thermochronometer_col].values"
   ]
  },
  {
   "cell_type": "markdown",
   "metadata": {},
   "source": [
    "## Get dimensionless values of params, needed for heat flow module"
   ]
  },
  {
   "cell_type": "code",
   "execution_count": 81,
   "metadata": {},
   "outputs": [],
   "source": [
    "# remove dimensions\n",
    "L_, Ly_, Lxmin_, cellsize_wedge_top_, cellsize_wedge_bottom_, cellsize_footwall_ = (L.to(u.m).value, Ly.to(u.m).value, Lxmin.to(u.m).value, \n",
    "    cellsize_wedge_top.to(u.m).value, cellsize_wedge_bottom.to(u.m).value, cellsize_footwall.to(u.m).value)\n",
    "\n",
    "x0_samples_ = x0_samples.to(u.m).value\n",
    "\n",
    "vd_, vc_, vxa_, vya_, v_downgoing_ = (vd.to(u.m/u.s).value, vc.to(u.m/u.s).value, \n",
    "                                      vxa.to(u.m/u.s).value, vya.to(u.m/u.s).value, v_downgoing.to(u.m/u.s).value)\n",
    "\n",
    "t_ = t.to(u.s).value\n"
   ]
  },
  {
   "cell_type": "markdown",
   "metadata": {},
   "source": [
    "## Calculate particle trajectories and ages for all seed points in model domain"
   ]
  },
  {
   "cell_type": "code",
   "execution_count": 82,
   "metadata": {},
   "outputs": [],
   "source": [
    "from importlib import reload\n",
    "\n",
    "wedgex_model_functions = reload(wedgex_model_functions)\n",
    "\n",
    "\n",
    "# particle trajectories \n",
    "xp_, yp_, dp_ = wedgex_model_functions.run_model_multiple_samples(t, x0s, \n",
    "                                                               alpha, beta, L, \n",
    "                                                               vc, vd, vxa, vya)\n",
    "xp, yp, dp = xp_ * u.m, yp_ * u.m, dp_ * u.m\n",
    "y0p = xp * alpha"
   ]
  },
  {
   "cell_type": "markdown",
   "metadata": {},
   "source": [
    "## Get particle trajectories and ages for all samples"
   ]
  },
  {
   "cell_type": "code",
   "execution_count": 83,
   "metadata": {
    "tags": []
   },
   "outputs": [],
   "source": [
    "x_samples_, y_samples_, d_samples_ = wedgex_model_functions.run_model_multiple_samples(t_, x0_samples_, \n",
    "                                                             alpha, beta, L_, \n",
    "                                                             vc_, vd_, vxa_, vya_)\n",
    "\n",
    "x_samples = x_samples_ * u.m\n",
    "y_samples = y_samples_ * u.m\n",
    "d_samples = d_samples_ * u.m\n",
    "\n",
    "y0_samples = x_samples * alpha"
   ]
  },
  {
   "cell_type": "markdown",
   "metadata": {},
   "source": [
    "## Model the steady-state temperature field"
   ]
  },
  {
   "cell_type": "code",
   "execution_count": 84,
   "metadata": {},
   "outputs": [],
   "source": [
    "# cellsize_wedge, cellsize_footwall, lab_temp, \n",
    "#                                   K, rho, c, H0, e_folding_depth, v_downgoing\n",
    "\n",
    "from importlib import reload\n",
    "\n",
    "hf = reload(hf)\n",
    "\n",
    "if thermal_history_model == 'numerical':\n",
    "\n",
    "    Tx_, Ty_, T_, q, mesh = hf.model_heat_transport(L_, Ly_, alpha, beta, Lxmin_, \n",
    "                                                    cellsize_wedge_top_, cellsize_wedge_bottom_, cellsize_footwall_, \n",
    "                                                    vd_, vc_, vxa_, vya_, v_downgoing_, surface_temperature_sea_lvl.value, \n",
    "                                                    lapse_rate.value, lab_temp.value, \n",
    "                                                    K.value, rho.value, c.value, H0.value, e_folding_depth)\n",
    "\n",
    "    Tx, Ty, T = Tx_ * u.m, Ty_ * u.m, T_ * u.deg_C\n",
    "    \n",
    "    qx, qy = mesh.faceCenters.globalValue\n",
    "    qxa, qya = q.globalValue\n",
    "    \n",
    "\n",
    "    "
   ]
  },
  {
   "cell_type": "code",
   "execution_count": 85,
   "metadata": {},
   "outputs": [],
   "source": [
    "if thermal_history_model == 'numerical':\n",
    "    # interpolate to regular grid, useful for plotting later\n",
    "    dxg = 500.0\n",
    "    qxy = np.vstack([qx, qy]).T\n",
    "    xgm, ygm, qxm = hf.interpolate_data(qxy, qxa, dxg, dxg)\n",
    "    xgm, ygm, qym = hf.interpolate_data(qxy, qya, dxg, dxg)\n",
    "    \n",
    "    Txy = np.vstack([Tx_, Ty_]).T\n",
    "    xTm, yTm, Tm = hf.interpolate_data(Txy, T_, dxg, dxg)\n",
    "       \n",
    "    ind = (yTm < (beta * xTm - Ly.value)) & (xTm > 0)\n",
    "    Tm[ind] = np.nan\n",
    "    \n",
    "    ind = (yTm < ( - Ly.value)) & (xTm <= 0)\n",
    "    Tm[ind] = np.nan\n",
    "\n",
    "    ind = (ygm < (beta * xgm - Ly.value)) & (xgm > 0)\n",
    "    qxm[ind] = np.nan\n",
    "    qym[ind] = np.nan\n",
    "    \n",
    "    ind = (ygm < ( - Ly.value)) & (xgm <= 0)\n",
    "    qxm[ind] = np.nan\n",
    "    qym[ind] = np.nan\n"
   ]
  },
  {
   "cell_type": "markdown",
   "metadata": {},
   "source": [
    "## Make a figure of the modelled temperature field"
   ]
  },
  {
   "cell_type": "code",
   "execution_count": 86,
   "metadata": {},
   "outputs": [
    {
     "data": {
      "image/png": "[encoded data removed]",
      "text/plain": [
       "<Figure size 481.89x321.26 with 2 Axes>"
      ]
     },
     "metadata": {
      "needs_background": "light"
     },
     "output_type": "display_data"
    }
   ],
   "source": [
    "add_arrows = True\n",
    "\n",
    "if thermal_history_model == 'numerical':\n",
    "\n",
    "    fig, ax = pl.subplots(1, 1, figsize=(fig_width, fig_width / 1.5))\n",
    "\n",
    "    # wedge only\n",
    "    xlim = [-L/10/1e3, L / 1e3]\n",
    "    ylim = [beta*L * 1.15 / 1000.0, alpha*L*1.15 / 1000.0]\n",
    "\n",
    "    # full model domain\n",
    "    #xlim = [-Lxmin / 1e3, L / 1e3]\n",
    "    #ylim = [(beta*L * 1.1 - Ly) / 1000.0, (alpha*L * 1.1)/ 1000.0]\n",
    "\n",
    "    ind = (Tx/1e3 >= xlim[0]) & (Tx/1e3 <= xlim[1]) & (Ty/1e3 >= ylim[0]) & (Ty/1e3 <= ylim[1])\n",
    "\n",
    "    #ax.tricontour(Tx.value[ind] / 1e3, Ty.value[ind] / 1e3, T.value[ind], levels=10, linewidths=0.5, colors='k')#, vmin=vlims[1][0], vmax=vlims[1][1])\n",
    "    #sci = ax.tricontourf(Tx.value[ind] / 1e3, Ty.value[ind] / 1e3, T.value[ind], levels=10, cmap=cmap_heat)#, vmin=vlims[1][0], vmax=vlims[1][1])\n",
    "    #sci = ax.scatter(Tx.value[ind] / 1e3, Ty.value[ind] / 1e3, c=T.value[ind], s=1, cmap=cmap_heat)#, vmin=vlims[1][0], vmax=vlims[1][1])\n",
    "\n",
    "    #ind = (xTm/1e3 >= xlim[0].value) & (xTm/1e3 <= xlim[1].value) & (yTm/1e3 >= ylim[0].value) & (yTm/1e3 <= ylim[1].value)\n",
    "\n",
    "    sci = ax.contourf(xTm / 1e3, yTm / 1e3, Tm, cmap=cmap_heat, vmin=-25, vmax=500, levels=np.arange(-50, 700, 50))\n",
    "    #sci = ax.pcolormesh(xTm / 1e3, yTm / 1e3, Tm, cmap=cmap_heat)\n",
    "    \n",
    "    cb = fig.colorbar(sci, ax=ax, shrink=0.45, location='top', anchor=[0.0, 1.0])\n",
    "    cb.set_label(f'Temperature ({degree_symbol}C)')\n",
    "\n",
    "    #for i, xsi, ysi in zip(itertools.count(), x_samples, y_samples):\n",
    "    #    ll, = ax.plot(xsi / 1000.0, ysi / 1000.0, color='black', lw=0.25, alpha=1.0)\n",
    "        #scs.append(sci)\n",
    "\n",
    "    #axs[1].set_xlim(-L/5/1e3, L / 1e3)\n",
    "    #axs[1].set_ylim(beta*L * 1.1 / 1000.0, alpha*L*1.1 / 1000.0)\n",
    "    #ax.set_xlim(0, 200000)\n",
    "    #ax.set_ylim(-30000, 7000)\n",
    "    \n",
    "    \n",
    "    \n",
    "    \n",
    "    if add_arrows is True:\n",
    "        qint = 50\n",
    "        qscale = 5e-9\n",
    "        qheadlength = 4\n",
    "        qheadwidth = 5\n",
    "        \n",
    "        indq = (qx/1e3 >= xlim[0].value) & (qx/1e3 <= xlim[1].value) & (qy/1e3 >= ylim[0].value) & (qy/1e3 <= ylim[1].value)\n",
    "        #ax.quiver(qx[indq][::qint] / 1e3, qy[indq][::qint] / 1e3, qxa[indq][::qint], qya[indq][::qint], \n",
    "        #          angles='xy', scale=qscale, headwidth=qheadwidth, headlength=qheadlength)\n",
    "    \n",
    "    ax.streamplot(xgm / 1e3, ygm / 1e3, qxm, qym, color='black', density=1.0, integration_direction='backward')\n",
    "\n",
    "    lw, = ax.plot([0, L_ / 1e3], [0, alpha * L_ / 1e3], color='black', ls='--')\n",
    "    ax.plot([0, L_ / 1e3], [0, beta * L_ / 1e3], color='black', ls='--')\n",
    "\n",
    "\n",
    "    ax.spines['top'].set_visible(False)\n",
    "    ax.spines['right'].set_visible(False)\n",
    "\n",
    "    ax.set_xlabel('Distance from tip of wedge (km)')\n",
    "    ax.set_ylabel('Elevation (km)')\n",
    "\n",
    "    ax.legend([lw], ['Wedge', 'Particle trajectories'], \n",
    "              bbox_to_anchor=(0.53, 1.03), loc='lower left', frameon=False)\n",
    "\n",
    "    ax.set_aspect('equal')\n",
    "    \n",
    "    ax.set_xlim(xlim[0].value, xlim[1].value)\n",
    "    ax.set_ylim(ylim[0].value, ylim[1].value)\n",
    "\n",
    "    fig.tight_layout()\n",
    "\n",
    "    fig.savefig('fig/modelled_temperature_field.pdf')\n"
   ]
  },
  {
   "cell_type": "markdown",
   "metadata": {},
   "source": [
    "## Calculate thermal history for the seed points"
   ]
  },
  {
   "cell_type": "code",
   "execution_count": 87,
   "metadata": {},
   "outputs": [
    {
     "name": "stderr",
     "output_type": "stream",
     "text": [
      "<>:1: SyntaxWarning: \"is\" with a literal. Did you mean \"==\"?\n",
      "<>:1: SyntaxWarning: \"is\" with a literal. Did you mean \"==\"?\n",
      "<ipython-input-87-c7fc7cdf4050>:1: SyntaxWarning: \"is\" with a literal. Did you mean \"==\"?\n",
      "  if thermal_history_model is 'numerical':\n"
     ]
    }
   ],
   "source": [
    "if thermal_history_model is 'numerical':\n",
    "    T_history_points = wedgex_model_functions.interpolate_thermal_history(xp, yp, Tx, Ty, T)\n",
    "else:\n",
    "    print('using a steady geothermal gradient to calculate temperature history')\n",
    "    # calculate surface temperature\n",
    "    #surface_temp_samples = surface_temperature_sea_lvl - lapse_rate * xp\n",
    "    #resetting_depths = (resetting_temperatures - surface_temp_samples) / geothermal_gradient\n",
    "\n",
    "    #target_depths_samples = resetting_depths\n",
    "\n",
    "    n_samples = len(x_samples)\n",
    "    \n",
    "    T_history_points = np.zeros(xp.shape) * u.deg_C\n",
    "    \n",
    "    y0p = xp * alpha\n",
    "    \n",
    "    for j, y0s, xs, ds in zip(list(range(n_samples)), y0p, xp, dp):\n",
    "\n",
    "        surface_Ts = surface_temperature_sea_lvl - y0s * lapse_rate\n",
    "        \n",
    "        ind = np.isnan(ds) == False\n",
    "        \n",
    "        #print(surface_Ts[ind].min())\n",
    "        \n",
    "        if np.any(ind):\n",
    "        \n",
    "            T_history_points[j] = surface_Ts + ds * geothermal_gradient"
   ]
  },
  {
   "cell_type": "code",
   "execution_count": 88,
   "metadata": {},
   "outputs": [
    {
     "data": {
      "image/png": "[encoded data removed]",
      "text/plain": [
       "<Figure size 432x288 with 1 Axes>"
      ]
     },
     "metadata": {
      "needs_background": "light"
     },
     "output_type": "display_data"
    }
   ],
   "source": [
    "fig, ax = pl.subplots(1, 1)\n",
    "\n",
    "for i, Thi in enumerate(T_history_points[:-1]):\n",
    "    ind = np.isnan(Thi) == False\n",
    "    ax.plot(t[ind].to(u.year).value / 1e6, Thi[ind])\n",
    "    #print(Thi[ind].min())\n",
    "ax.set_xlim(-50, 0)\n",
    "ax.set_ylim(600, 0)\n",
    "\n",
    "ax.set_xlabel(r'Time ($\\times 10^{6} \\; a$)')\n",
    "ax.set_ylabel(f'Temperature ({degree_symbol}C)')\n",
    "\n",
    "ax.spines['top'].set_visible(False)\n",
    "ax.spines['right'].set_visible(False)\n"
   ]
  },
  {
   "cell_type": "markdown",
   "metadata": {},
   "source": [
    "## Interpolate temperature history for samples"
   ]
  },
  {
   "cell_type": "code",
   "execution_count": 89,
   "metadata": {},
   "outputs": [
    {
     "name": "stderr",
     "output_type": "stream",
     "text": [
      "<>:6: SyntaxWarning: \"is\" with a literal. Did you mean \"==\"?\n",
      "<>:6: SyntaxWarning: \"is\" with a literal. Did you mean \"==\"?\n",
      "<ipython-input-89-9d1ca71b1ba6>:6: SyntaxWarning: \"is\" with a literal. Did you mean \"==\"?\n",
      "  if thermal_history_model is 'numerical':\n"
     ]
    }
   ],
   "source": [
    "from importlib import reload\n",
    "\n",
    "wedgex_model_functions = reload(wedgex_model_functions)\n",
    "\n",
    "\n",
    "if thermal_history_model is 'numerical':\n",
    "    # merge xy grid points of numerical model into one array\n",
    "    T_history_samples = wedgex_model_functions.interpolate_thermal_history(x_samples, y_samples, Tx, Ty, T) \n",
    "        \n",
    "else:\n",
    "    \n",
    "    print('using a steady geothermal gradient to calculate temperature history')\n",
    "    # calculate surface temperature\n",
    "    #surface_temp_samples = surface_temperature_sea_lvl - lapse_rate * xp\n",
    "    #resetting_depths = (resetting_temperatures - surface_temp_samples) / geothermal_gradient\n",
    "\n",
    "    #target_depths_samples = resetting_depths\n",
    "\n",
    "    n_samples = len(x_samples)\n",
    "\n",
    "    #modelled_age_samples = np.zeros((n_samples))\n",
    "    T_history_samples = np.zeros(x_samples.shape) * u.deg_C\n",
    "    \n",
    "    y0_samples = x_samples * alpha\n",
    "    \n",
    "    for j, y0s, xs, ds in zip(list(range(n_samples)), y0_samples, x_samples, d_samples):\n",
    "\n",
    "        surface_Ts = surface_temperature_sea_lvl - y0s * lapse_rate\n",
    "        \n",
    "        ind = np.isnan(ds) == False\n",
    "        \n",
    "        if np.any(ind):\n",
    "        \n",
    "            T_history_samples[j] = surface_Ts + ds * geothermal_gradient"
   ]
  },
  {
   "cell_type": "markdown",
   "metadata": {},
   "source": [
    "# Calculate thermochron ages for all seed points"
   ]
  },
  {
   "cell_type": "code",
   "execution_count": 90,
   "metadata": {},
   "outputs": [],
   "source": [
    "from importlib import reload\n",
    "\n",
    "wedgex_model_functions = reload(wedgex_model_functions)\n",
    "\n",
    "\n",
    "# model ages for entire model domain\n",
    "n_seed_pts = len(xp)\n",
    "n_thermochron = len(thermochron_systems)\n",
    "modelled_ages_all = np.zeros((n_seed_pts, n_thermochron)) * u.year\n",
    "\n",
    "\n",
    "# calculate surface temperature\n",
    "#df['surface_T'] = surface_temperature_sea_lvl - lapse_rate * df['elevation']\n",
    "#df['resetting_depth'] = (df['resetting_temp'] - df['surface_T']) / geothermal_gradient\n",
    "\n",
    "\n",
    "closure_temps_seed_pts = np.zeros((n_seed_pts, n_thermochron)) * u.K\n",
    "\n",
    "for i, tcs in enumerate(thermochron_systems):\n",
    "\n",
    "    for j in range(n_seed_pts):\n",
    "\n",
    "        Tpi = T_history_points[j].to(u.K, equivalencies=u.temperature()) \n",
    "        ind = np.isnan(Tpi) == False\n",
    "\n",
    "        ti = -t[ind]\n",
    "\n",
    "        if len(-t[ind]) > 1:\n",
    "\n",
    "            if thermochron_model == 'simple':\n",
    "                modelled_ages_all[j, i] = wedgex_model_functions.calculate_closure_age_simple(-t[ind], Tpi[ind], resetting_temperatures[i])\n",
    "            else:\n",
    "                modelled_ages_all[j, i], ct = wedgex_model_functions.calculate_closure_age(-t[ind], Tpi[ind], tcs)\n",
    "\n",
    "                closure_temps_seed_pts[j, i] = ct\n",
    "        #          res_temp_pts = np.ones(len(x0s)) * resetting_temperatures[i]\n",
    "        #modelled_ages_all[:, i] = wedgex_model_functions.calculate_cooling_ages_simple(\n",
    "        #    t, xp, dp, res_temp_pts, T_history_points,\n",
    "        #    surface_temperature_sea_lvl, lapse_rate, geothermal_gradient, default_exhumation_rate, L)\n",
    "\n",
    " \n",
    "            #t, x_samples, d_samples, resetting_temperatures_samples, T_history_samples,\n",
    "            #                       surface_temperature_sea_lvl, lapse_rate, geothermal_gradient,\n",
    "            #                       default_exhumation_rate, L,"
   ]
  },
  {
   "cell_type": "markdown",
   "metadata": {},
   "source": [
    "## Calculate thermochron ages for samples"
   ]
  },
  {
   "cell_type": "code",
   "execution_count": 91,
   "metadata": {},
   "outputs": [],
   "source": [
    "import imp\n",
    "imp.reload(wedgex_model_functions)\n",
    "\n",
    "#n_seed_pts = len(xp)\n",
    "#n_thermochron = len(thermochron_systems)\n",
    "\n",
    "n_samples = len(x_samples)\n",
    "modelled_ages_samples = np.zeros((n_samples)) * u.year\n",
    "\n",
    "for i, tcs in enumerate(thermochron_systems):\n",
    "\n",
    "    ind = thermochron_system_samples == tcs\n",
    "\n",
    "    for j in range(n_samples):\n",
    "        if ind[j] == True:\n",
    "            Tpi = T_history_samples[j].to(u.K, equivalencies=u.temperature()) \n",
    "            ind = np.isnan(Tpi) == False\n",
    "\n",
    "            ti = -t[ind]\n",
    "\n",
    "            if len(-t[ind]) > 1:\n",
    "                \n",
    "                if thermochron_model == 'simple':\n",
    "                    modelled_ages_samples[j] = wedgex_model_functions.calculate_closure_age_simple(-t[ind], Tpi[ind], resetting_temperatures[i])\n",
    "                else:\n",
    "                    modelled_ages_samples[j], ct = wedgex_model_functions.calculate_closure_age(-t[ind], Tpi[ind], tcs)"
   ]
  },
  {
   "cell_type": "markdown",
   "metadata": {},
   "source": [
    "## Calculate model fit"
   ]
  },
  {
   "cell_type": "code",
   "execution_count": 92,
   "metadata": {},
   "outputs": [
    {
     "name": "stdout",
     "output_type": "stream",
     "text": [
      "mean error of this model run = 6.46e+05 yr\n",
      "mean absolute error 1.98e+06 yr\n",
      "coefficient of determination = 0.31898098524214724\n",
      "misfit = 2.068089863640103\n"
     ]
    }
   ],
   "source": [
    "data = measured_ages\n",
    "prediction = modelled_ages_samples\n",
    "\n",
    "ind_nok = (np.isnan(data)) | (np.isnan(prediction))\n",
    "\n",
    "data = data[ind_nok==False]\n",
    "prediction = prediction[ind_nok==False]\n",
    "unc_adj = measured_ages_sigma[ind_nok==False]\n",
    "x0_samples_adj = x0_samples[ind_nok==False]\n",
    "\n",
    "ME = np.mean(data - prediction)\n",
    "MAE = sklearn.metrics.mean_absolute_error(data.to(u.yr).value, prediction.to(u.year).value) * u.year\n",
    "R2 = sklearn.metrics.r2_score(data, prediction)\n",
    "\n",
    "misfit_ind = (data - prediction)**2 / (unc_adj**2)\n",
    "\n",
    "misfit = wedgex_model_functions.misfit_function(data, unc_adj, prediction)\n",
    "\n",
    "print(f'mean error of this model run = {ME:0.2e}\\n'\n",
    "      f'mean absolute error {MAE:0.2e}\\n'\n",
    "      f'coefficient of determination = {R2}\\n'\n",
    "      f'misfit = {misfit}')"
   ]
  },
  {
   "cell_type": "markdown",
   "metadata": {},
   "source": [
    "## Calculate exhumation rate"
   ]
  },
  {
   "cell_type": "code",
   "execution_count": 93,
   "metadata": {},
   "outputs": [],
   "source": [
    "dd = np.diff(dp, axis=1)\n",
    "exhumation_rate = dd[:, 0] / (t[0] - t[1])"
   ]
  },
  {
   "cell_type": "markdown",
   "metadata": {},
   "source": [
    "## Make a figure with the model results"
   ]
  },
  {
   "cell_type": "code",
   "execution_count": 94,
   "metadata": {},
   "outputs": [
    {
     "name": "stdout",
     "output_type": "stream",
     "text": [
      "saving figure as fig/wedgex_model_default.png\n"
     ]
    },
    {
     "name": "stderr",
     "output_type": "stream",
     "text": [
      "<ipython-input-94-188339c1df09>:51: UserWarning: Setting the 'color' property will override the edgecolor or facecolor properties.\n",
      "  txt.set_bbox(dict(facecolor='white', alpha=0.5, color='white'))\n"
     ]
    },
    {
     "name": "stdout",
     "output_type": "stream",
     "text": [
      "saving figure as fig/wedgex_model_default.pdf\n",
      "saving figure as fig/wedgex_model_default.svg\n"
     ]
    },
    {
     "data": {
      "image/png": "[encoded data removed]",
      "text/plain": [
       "<Figure size 481.89x361.417 with 3 Axes>"
      ]
     },
     "metadata": {
      "needs_background": "light"
     },
     "output_type": "display_data"
    }
   ],
   "source": [
    "xcoords = np.linspace(0, L, 101)\n",
    "y_top = xcoords * alpha\n",
    "y_bottom = xcoords * beta\n",
    "\n",
    "xpi, ypi = xp, yp\n",
    "dpi = dp\n",
    "\n",
    "legs = []\n",
    "labels = []\n",
    "\n",
    "fig, axs = pl.subplots(2, 1, figsize=(fig_width, fig_width * fig_height), sharex=True)\n",
    "\n",
    "#############################\n",
    "# panel with thermochron ages\n",
    "#############################\n",
    "for i, thc, c in zip(itertools.count(), thermochron_systems,  thermochron_colors):\n",
    "    if thc in df[thermochronometer_col].values:\n",
    "        lt, = axs[0].plot(x0s / 1e3, modelled_ages_all[:, i].to(u.yr) / 1e6, color=c)\n",
    "        legs.append(lt)\n",
    "        labels.append('%s model' % thc)\n",
    "        \n",
    "for thc, m, c in zip(thermochron_systems, thermochron_markers, thermochron_colors):\n",
    "    \n",
    "    ix = df[thermochronometer_col] == thc\n",
    "    \n",
    "    if np.any(ix) == True:\n",
    "        #axs[0].scatter(df.loc[ix, distance_column] / 1e3, df.loc[ix, 'age'], \n",
    "        # label='%s data' % thc, color=c, marker=m)\n",
    "        \n",
    "        x = df.loc[ix, distance_column] / 1e3\n",
    "        z = df.loc[ix, 'age']\n",
    "        ze = df.loc[ix, 'age_error_1s'] * 2\n",
    "        sc = axs[0].errorbar(x, z, yerr=ze, ls='None', color=c, marker=m)\n",
    "        legs.append(sc)\n",
    "        labels.append('%s data' % thc)\n",
    "\n",
    "#\n",
    "if log_scale_ages is True:\n",
    "    axs[0].set_yscale('log')    \n",
    "else:\n",
    "    axs[0].set_ylim(0, max_age_fig.value / 1e6)\n",
    "axs[0].set_ylabel('Age (Ma)')\n",
    "\n",
    "tekst = rf'$R^2$ = {R2:0.2f}, MAE={MAE.to(u.year).value / 1e6:0.2f} $\\times 10^6$ a'# % (R2, MAE)\n",
    "if add_equation is True:\n",
    "    tekst += '\\n'\n",
    "    tekst += '$v_c$=%0.1e, $v_d$=%0.1e, $v_{xa}$=%0.1e ,$v_{ya}$=%0.1e ' \\\n",
    "                % (vc, vd, vxa, vya)\n",
    "txt = axs[0].text(0.03, 0.97, tekst, transform=axs[0].transAxes, \n",
    "                  ha='left', va='top', fontsize='small')\n",
    "txt.set_bbox(dict(facecolor='white', alpha=0.5, color='white'))\n",
    "\n",
    "################################\n",
    "# 2nd axis with exhumation rate\n",
    "################################\n",
    "axr = axs[0].twinx()\n",
    "\n",
    "le, = axr.plot(xp[:, 0] / 1e3, exhumation_rate, color='gray', ls='--')\n",
    "legs.append(le)\n",
    "labels.append('exhumation')\n",
    "axr.set_ylabel(r'Exhumation rate ($m a^{-1}$)')\n",
    "axr.set_ylim(0, axr.get_ylim()[-1] * 1.25)\n",
    "\n",
    "if add_legend is True:\n",
    "    axs[0].legend(legs, labels, fontsize=fs, loc='lower right', facecolor='white', framealpha=1)\n",
    "\n",
    "#######################\n",
    "# particle trajectories\n",
    "#######################\n",
    "\n",
    "ax = axs[-1]\n",
    "\n",
    "ind = xpi > L\n",
    "xpi[ind] = np.nan\n",
    "ypi[ind] = np.nan\n",
    "\n",
    "for xl, yl in zip(xpi[::starting_pt_int], ypi[::starting_pt_int]):\n",
    "    leg_traj, = ax.plot(xl / 1e3, yl / 1e3, ls='--', color='black')\n",
    "    \n",
    "    x, y = xl[::-arrow_int] / 1e3, yl[::-arrow_int] / 1e3\n",
    "    U, V = x[1:]-x[:-1], y[1:]-y[:-1]\n",
    "    #U = U / np.sqrt(U**2 + V**2)\n",
    "    #V = V / np.sqrt(U**2 + V**2)\n",
    "    leg_qv = ax.quiver(x[:-1].value, y[:-1].value, U.value, V.value, \n",
    "                        scale_units='xy', angles='xy', scale=scale)\n",
    "\n",
    "nt = xpi.shape[1]\n",
    "\n",
    "if isochrons is None:\n",
    "    isochron_ts = np.linspace(0, nt - 1, 5).astype(int)\n",
    "else:\n",
    "    isochron_ts = [np.argmin(np.abs(-t - chron)) for chron in isochrons]\n",
    "\n",
    "for i, nti in enumerate(isochron_ts):\n",
    "    #leg_ts =  ax.scatter(xpi[:, nti] / 1e3, ypi[:, nti] / 1e3, s=20, color='black')\n",
    "    leg_tsl, =  ax.plot(xpi[:, nti] / 1e3, ypi[:, nti] / 1e3, color='gray', ls='-', lw=1.5)\n",
    "    \n",
    "    tekst = f'{isochrons[i] / 1e6} Ma'\n",
    "    text_buffer = 5\n",
    "    xt, yt = xpi[:, nti].value / 1e3 + text_buffer, ypi[:, nti].value / 1e3\n",
    "    ind = (np.isnan(xt) == False) & (np.isnan(yt) == False)\n",
    "    \n",
    "    if np.any(ind):\n",
    "        txt = ax.text(L.value / 1e3 + text_buffer, yt[ind][-1], tekst, \n",
    "                      ha='left', va='center', weight='bold', color='gray')\n",
    "        #txt.set_bbox(dict(facecolor='white', alpha=0.5, color='white'))\n",
    "    pass\n",
    "\n",
    "legs_tc = []\n",
    "labels_tc = []\n",
    "\n",
    "for thc, m, c in zip(thermochron_systems[::-1], thermochron_markers[::-1], thermochron_colors[::-1]):\n",
    "    \n",
    "    ix = df[thermochronometer_col] == thc\n",
    "        \n",
    "    if np.any(ix) == True:\n",
    "        labels_tc.append('%s data location' % thc)\n",
    "        li = ax.scatter(df.loc[ix, distance_column] / 1e3, df.loc[ix, 'elevation'] / 1e3, \n",
    "                        color=c, marker=m)\n",
    "        legs_tc.append(li)\n",
    "        \n",
    "#leg_s = ax.scatter(df['distance'], df['elevation'] / 1e3, label='thermochron samples')\n",
    "\n",
    "leg_bnd, = ax.plot(xcoords / 1e3, y_top / 1e3, color='black', ls='--', lw=1.5)\n",
    "ax.plot(xcoords / 1e3, y_bottom / 1e3, color='black', ls='--', lw=1.5)\n",
    "\n",
    "ax.set_xlabel('Distance from tip of wedge (km)')\n",
    "ax.set_ylabel('Elevation (km)')\n",
    "\n",
    "for i, ax in enumerate(axs):\n",
    "    ax.spines['top'].set_visible(False)\n",
    "    ax.spines['right'].set_visible(False)\n",
    "    ax.text(0.01, 1.01, string.ascii_lowercase[i + first_subplot], \n",
    "            weight='bold', transform=ax.transAxes, \n",
    "               ha='left', va='bottom', fontsize='medium')\n",
    "\n",
    "axr.spines['top'].set_visible(False)\n",
    "\n",
    "if add_legend is True:\n",
    "    legs = [leg_traj, leg_tsl, leg_bnd] + legs_tc\n",
    "    labels = ['particle trajectories', 'isochron', 'wedge boundary'] + labels_tc\n",
    "    axs[-1].legend(legs, labels, loc='lower left', ncol=2, fontsize=fs)\n",
    "\n",
    "#fig.tight_layout()\n",
    "\n",
    "for f in fig_formats:\n",
    "    fn = fig_output_file + '.' + f\n",
    "    print('saving figure as %s' % fn)\n",
    "    fig.savefig(fn)"
   ]
  },
  {
   "cell_type": "markdown",
   "metadata": {},
   "source": [
    "## Read published results"
   ]
  },
  {
   "cell_type": "code",
   "execution_count": 95,
   "metadata": {},
   "outputs": [],
   "source": [
    "fnds = ['data/AFT.txt', 'data/ZHe.txt', 'data/MAr.txt']\n",
    "\n",
    "dfts = [pd.read_csv(fn, delimiter='\\t') for fn in fnds]\n",
    "\n",
    "thermochron_syst_published = ['AFT', 'ZHe', 'MAr']\n",
    "\n",
    "# correction for distance vs xsection, McQuarrie (2015) xsection does not start at the MFT\n",
    "distance_correction = 2.0\n",
    "\n",
    "# correction for sample positioning, somehow the xsection in mcquarrie and Ehlers seems squeezed. projection issue?\n",
    "dist_corr_factor = 1.13"
   ]
  },
  {
   "cell_type": "markdown",
   "metadata": {},
   "source": [
    "## Calculate model statistics for published results"
   ]
  },
  {
   "cell_type": "code",
   "execution_count": 96,
   "metadata": {},
   "outputs": [
    {
     "name": "stdout",
     "output_type": "stream",
     "text": [
      "model fit published models: R2 = -0.43, MAE = 2.5e+06 a\n",
      "model fit analytical solution for first 80 km: R2 = 0.17, MAE = 2.15e+06 a\n",
      "model fit published models for first 80 km: R2 = 0.56, MAE = 1.40e+00 a\n"
     ]
    }
   ],
   "source": [
    "measured_ages = df['age'].values\n",
    "x0_samples = df[distance_column].values\n",
    "\n",
    "for i, thc in zip(itertools.count(), thermochron_systems):\n",
    "    if thc in thermochron_syst_published:\n",
    "        \n",
    "        # get modelled ages for this particular system\n",
    "        j = thermochron_syst_published.index(thc)\n",
    "        dft = dfts[j]\n",
    "        xms = (dft['x'].values - distance_correction) * dist_corr_factor\n",
    "        modelled_ages = dft['y'].values\n",
    "        \n",
    "        # get modelled ages for each measured age\n",
    "        ind = df['system'] == thc\n",
    "        \n",
    "        xs = df.loc[ind, distance_column].values / 1000.0\n",
    "        \n",
    "        age_modelled_samples = np.interp(xs, xms, modelled_ages)\n",
    "        df.loc[ind, 'modelled_ages_published'] = age_modelled_samples\n",
    "\n",
    "dfi = df.dropna(subset=['age', 'modelled_ages_published'])\n",
    "data_pub, pred_pub = dfi['age'].values * 1e6 * u.year, dfi['modelled_ages_published'].values * 1e6 * u.year\n",
    "R2_pub = sklearn.metrics.r2_score(data_pub, pred_pub)\n",
    "MAE_pub = sklearn.metrics.mean_absolute_error(data_pub, pred_pub)\n",
    "\n",
    "print(f'model fit published models: R2 = {R2_pub:.2f}, MAE = {MAE_pub:.1e} a')\n",
    "\n",
    "# get statistics for data in first 80 km (following reviewer suggestion)\n",
    "dfi2 = dfi.loc[dfi[distance_column] < 85e3]\n",
    "data_pub, pred_pub = dfi2['age'].values, dfi2['modelled_ages_published'].values\n",
    "\n",
    "ind_80km = x0_samples_adj < 85e3 * u.m\n",
    "\n",
    "R2_80km = sklearn.metrics.r2_score(data[ind_80km], prediction[ind_80km])\n",
    "MAE_80km = sklearn.metrics.mean_absolute_error(data[ind_80km], prediction[ind_80km])\n",
    "R2_pub2 = sklearn.metrics.r2_score(data_pub, pred_pub)\n",
    "MAE_pub2 = sklearn.metrics.mean_absolute_error(data_pub, pred_pub)\n",
    "print(f'model fit analytical solution for first 80 km: R2 = {R2_80km:.2f}, MAE = {MAE_80km:.2e} a')\n",
    "print(f'model fit published models for first 80 km: R2 = {R2_pub2:.2f}, MAE = {MAE_pub2:.2e} a')"
   ]
  },
  {
   "cell_type": "code",
   "execution_count": 97,
   "metadata": {},
   "outputs": [
    {
     "name": "stderr",
     "output_type": "stream",
     "text": [
      "<ipython-input-97-608a11cf448c>:57: UserWarning: Setting the 'color' property will override the edgecolor or facecolor properties.\n",
      "  txt.set_bbox(dict(facecolor='white', alpha=0.5, color='white'))\n"
     ]
    },
    {
     "data": {
      "image/png": "[encoded data removed]",
      "text/plain": [
       "<Figure size 481.89x240.945 with 1 Axes>"
      ]
     },
     "metadata": {
      "needs_background": "light"
     },
     "output_type": "display_data"
    }
   ],
   "source": [
    "legs = []\n",
    "labels = []\n",
    "\n",
    "fig, ax = pl.subplots(1, 1, figsize=(fig_width, fig_width /2.0))\n",
    "\n",
    "#############################\n",
    "# panel with thermochron ages\n",
    "#############################\n",
    "lp = None\n",
    "for i, thc, c in zip(itertools.count(), thermochron_systems,  thermochron_colors):\n",
    "    if thc in df[thermochronometer_col].values:\n",
    "        lt, = ax.plot(x0s / 1e3, modelled_ages_all[:, i] / 1e6, color=c)\n",
    "        legs.append(lt)\n",
    "        labels.append('%s model' % thc)\n",
    "        \n",
    "        if thc in thermochron_syst_published:\n",
    "            j = thermochron_syst_published.index(thc)\n",
    "            \n",
    "            dft = dfts[j]\n",
    "            x = (dft['x'] - distance_correction) * dist_corr_factor\n",
    "            age = dft['y']\n",
    "            \n",
    "            lp, = ax.plot(x, age, color=c, ls=':')\n",
    "            \n",
    "if lp is not None:           \n",
    "    legs.append(lp)\n",
    "    labels.append('McQuarrie & Ehlers (2015)')\n",
    "        \n",
    "        \n",
    "for thc, m, c in zip(thermochron_systems, thermochron_markers, thermochron_colors):\n",
    "    \n",
    "    ix = df[thermochronometer_col] == thc\n",
    "    \n",
    "    if np.any(ix) == True:\n",
    "        #axs[0].scatter(df.loc[ix, distance_column] / 1e3, df.loc[ix, 'age'], \n",
    "        # label='%s data' % thc, color=c, marker=m)\n",
    "        \n",
    "        x = df.loc[ix, distance_column] / 1e3\n",
    "        z = df.loc[ix, 'age']\n",
    "        ze = df.loc[ix, 'age_error_1s'] * 2\n",
    "        sc = ax.errorbar(x, z, yerr=ze, ls='None', color=c, marker=m)\n",
    "        legs.append(sc)\n",
    "        labels.append('%s data' % thc)\n",
    "\n",
    "#\n",
    "if log_scale_ages is True:\n",
    "    ax.set_yscale('log')    \n",
    "else:\n",
    "    ax.set_ylim(0, max_age_fig.value / 1e6)\n",
    "ax.set_ylabel('Age (Ma)')\n",
    "\n",
    "tekst = rf'analytical solution: $R^2$ = {R2:0.2f}, MAE={MAE:0.2e} a'\n",
    "tekst += '\\n'\n",
    "tekst += rf'McQuarrie & Ehlers (2015): $R^2$ = {R2_pub:0.2f}, MAE={MAE_pub:0.2e} a'\n",
    "txt = ax.text(0.03, 0.97, tekst, transform=ax.transAxes, \n",
    "                  ha='left', va='top', fontsize='small')\n",
    "txt.set_bbox(dict(facecolor='white', alpha=0.5, color='white'))\n",
    "\n",
    "ax.spines['top'].set_visible(False)\n",
    "ax.spines['right'].set_visible(False)\n",
    "\n",
    "ax.legend(legs, labels, fontsize=fs, loc='lower right', facecolor='white', framealpha=1)\n",
    "\n",
    "fig.tight_layout()\n",
    "\n",
    "fig.savefig('fig/comparison_mcquarrie2015.pdf')\n",
    "fig.savefig('fig/comparison_mcquarrie2015.png')\n",
    "\n"
   ]
  },
  {
   "cell_type": "markdown",
   "metadata": {},
   "source": [
    "## Parameter space search\n",
    "\n",
    "Use the box below to switch parameter space search on or off. Note that this can be quite time consuming"
   ]
  },
  {
   "cell_type": "code",
   "execution_count": 98,
   "metadata": {},
   "outputs": [
    {
     "data": {
      "text/plain": [
       "20000000.0"
      ]
     },
     "execution_count": 98,
     "metadata": {},
     "output_type": "execute_result"
    }
   ],
   "source": [
    "max_age_fig.value"
   ]
  },
  {
   "cell_type": "markdown",
   "metadata": {},
   "source": [
    "## Define parameter ranges for the parameter search"
   ]
  },
  {
   "cell_type": "code",
   "execution_count": 99,
   "metadata": {},
   "outputs": [
    {
     "ename": "UnitConversionError",
     "evalue": "Can only apply 'add' function to dimensionless quantities when other argument is not a quantity (unless the latter is all zero/infinity/nan)",
     "output_type": "error",
     "traceback": [
      "\u001b[0;31m---------------------------------------------------------------------------\u001b[0m",
      "\u001b[0;31mUnitConversionError\u001b[0m                       Traceback (most recent call last)",
      "\u001b[0;32m<ipython-input-99-fe748794d60f>\u001b[0m in \u001b[0;36m<module>\u001b[0;34m\u001b[0m\n\u001b[1;32m      7\u001b[0m \u001b[0madditions3\u001b[0m \u001b[0;34m=\u001b[0m \u001b[0mnp\u001b[0m\u001b[0;34m.\u001b[0m\u001b[0marange\u001b[0m\u001b[0;34m(\u001b[0m\u001b[0;34m-\u001b[0m\u001b[0;36m2e-4\u001b[0m\u001b[0;34m,\u001b[0m \u001b[0;36m3e-4\u001b[0m\u001b[0;34m,\u001b[0m \u001b[0;36m1e-4\u001b[0m\u001b[0;34m)\u001b[0m\u001b[0;34m\u001b[0m\u001b[0;34m\u001b[0m\u001b[0m\n\u001b[1;32m      8\u001b[0m \u001b[0;34m\u001b[0m\u001b[0m\n\u001b[0;32m----> 9\u001b[0;31m \u001b[0mvc_range\u001b[0m \u001b[0;34m=\u001b[0m  \u001b[0mvc\u001b[0m \u001b[0;34m+\u001b[0m \u001b[0madditions\u001b[0m\u001b[0;34m\u001b[0m\u001b[0;34m\u001b[0m\u001b[0m\n\u001b[0m\u001b[1;32m     10\u001b[0m \u001b[0mvd_range\u001b[0m \u001b[0;34m=\u001b[0m  \u001b[0mvd\u001b[0m \u001b[0;34m+\u001b[0m \u001b[0madditions\u001b[0m\u001b[0;34m\u001b[0m\u001b[0;34m\u001b[0m\u001b[0m\n\u001b[1;32m     11\u001b[0m \u001b[0;34m\u001b[0m\u001b[0m\n",
      "\u001b[0;32m~/opt/anaconda3/envs/fipy/lib/python3.8/site-packages/astropy/units/quantity.py\u001b[0m in \u001b[0;36m__array_ufunc__\u001b[0;34m(self, function, method, *inputs, **kwargs)\u001b[0m\n\u001b[1;32m    464\u001b[0m         \u001b[0;31m# consistent units between two inputs (e.g., in np.add) --\u001b[0m\u001b[0;34m\u001b[0m\u001b[0;34m\u001b[0m\u001b[0;34m\u001b[0m\u001b[0m\n\u001b[1;32m    465\u001b[0m         \u001b[0;31m# and the unit of the result (or tuple of units for nout > 1).\u001b[0m\u001b[0;34m\u001b[0m\u001b[0;34m\u001b[0m\u001b[0;34m\u001b[0m\u001b[0m\n\u001b[0;32m--> 466\u001b[0;31m         \u001b[0mconverters\u001b[0m\u001b[0;34m,\u001b[0m \u001b[0munit\u001b[0m \u001b[0;34m=\u001b[0m \u001b[0mconverters_and_unit\u001b[0m\u001b[0;34m(\u001b[0m\u001b[0mfunction\u001b[0m\u001b[0;34m,\u001b[0m \u001b[0mmethod\u001b[0m\u001b[0;34m,\u001b[0m \u001b[0;34m*\u001b[0m\u001b[0minputs\u001b[0m\u001b[0;34m)\u001b[0m\u001b[0;34m\u001b[0m\u001b[0;34m\u001b[0m\u001b[0m\n\u001b[0m\u001b[1;32m    467\u001b[0m \u001b[0;34m\u001b[0m\u001b[0m\n\u001b[1;32m    468\u001b[0m         \u001b[0mout\u001b[0m \u001b[0;34m=\u001b[0m \u001b[0mkwargs\u001b[0m\u001b[0;34m.\u001b[0m\u001b[0mget\u001b[0m\u001b[0;34m(\u001b[0m\u001b[0;34m'out'\u001b[0m\u001b[0;34m,\u001b[0m \u001b[0;32mNone\u001b[0m\u001b[0;34m)\u001b[0m\u001b[0;34m\u001b[0m\u001b[0;34m\u001b[0m\u001b[0m\n",
      "\u001b[0;32m~/opt/anaconda3/envs/fipy/lib/python3.8/site-packages/astropy/units/quantity_helper/converters.py\u001b[0m in \u001b[0;36mconverters_and_unit\u001b[0;34m(function, method, *args)\u001b[0m\n\u001b[1;32m    190\u001b[0m                         \u001b[0mconverters\u001b[0m\u001b[0;34m[\u001b[0m\u001b[0mi\u001b[0m\u001b[0;34m]\u001b[0m \u001b[0;34m=\u001b[0m \u001b[0;32mNone\u001b[0m\u001b[0;34m\u001b[0m\u001b[0;34m\u001b[0m\u001b[0m\n\u001b[1;32m    191\u001b[0m                     \u001b[0;32melse\u001b[0m\u001b[0;34m:\u001b[0m\u001b[0;34m\u001b[0m\u001b[0;34m\u001b[0m\u001b[0m\n\u001b[0;32m--> 192\u001b[0;31m                         raise UnitConversionError(\n\u001b[0m\u001b[1;32m    193\u001b[0m                             \u001b[0;34m\"Can only apply '{}' function to \"\u001b[0m\u001b[0;34m\u001b[0m\u001b[0;34m\u001b[0m\u001b[0m\n\u001b[1;32m    194\u001b[0m                             \u001b[0;34m\"dimensionless quantities when other \"\u001b[0m\u001b[0;34m\u001b[0m\u001b[0;34m\u001b[0m\u001b[0m\n",
      "\u001b[0;31mUnitConversionError\u001b[0m: Can only apply 'add' function to dimensionless quantities when other argument is not a quantity (unless the latter is all zero/infinity/nan)"
     ]
    }
   ],
   "source": [
    "#vc_range = np.linspace(-1e-3, -20e-3, n_ints)\n",
    "#vd_range = np.linspace(-1e-3, -10e-3, n_ints)\n",
    "multipliers = np.array([1/2, 2/3., 1.0, 3/2, 2.])\n",
    "additions = np.arange(-4e-3, 5e-3, 1e-3)\n",
    "\n",
    "additions2 = np.arange(-2e-3, 3e-3, 1e-3)\n",
    "additions3 = np.arange(-2e-4, 3e-4, 1e-4)\n",
    "\n",
    "vc_range =  vc + additions\n",
    "vd_range =  vd + additions\n",
    "\n",
    "#vxa_range = np.linspace(0, 1e-3, n_ints)\n",
    "#vya_range = np.linspace(0.0, 1e-3, n_ints)\n",
    "vxa_range = vxa + additions2\n",
    "vya_range = vya + additions3\n",
    "\n",
    "vc_range = vc_range[vc_range < 0] \n",
    "vd_range = vd_range[vd_range < 0]\n",
    "\n",
    "vxa_range = vxa_range[vxa_range >= 0]\n",
    "vya_range = vya_range[vya_range >= 0]"
   ]
  },
  {
   "cell_type": "markdown",
   "metadata": {},
   "source": [
    "## The actual parameter space search"
   ]
  },
  {
   "cell_type": "code",
   "execution_count": null,
   "metadata": {},
   "outputs": [],
   "source": [
    "#%%timeit\n",
    "\n",
    "if parameter_space_search is True:\n",
    "    \n",
    "    metric_to_return = 'R2'\n",
    "    \n",
    "    n_ints = 5\n",
    "\n",
    "    scenario_parameter_list = [vc_range, vd_range, vxa_range, vya_range]\n",
    "\n",
    "    param_combs = list(itertools.product(*scenario_parameter_list))\n",
    "\n",
    "    print('testing %i parameter combinations' % len(param_combs))\n",
    "    print('this may take some time')\n",
    "\n",
    "    error_stats_all = []\n",
    "\n",
    "    nc = len(param_combs)\n",
    "\n",
    "    for i, p in enumerate(param_combs):\n",
    "\n",
    "        if nc > 100 and float(i / 100) == int(i / 100):\n",
    "            print('parameter combination %i of %i' % (i+1, nc))\n",
    "\n",
    "        error_stats = wedgex_model_functions.compare_modelled_and_measured_ages(\n",
    "            p, params_to_change, limit_params, t, x0_samples, \n",
    "             alpha, beta, L, vc, vd, vxa, vya, \n",
    "             surface_temperature_sea_lvl, \n",
    "             lapse_rate, geothermal_gradient,\n",
    "             measured_ages, measured_ages_sigma, resetting_temperatures_samples,\n",
    "             default_exhumation_rate,\n",
    "             metric_to_return)\n",
    "                \n",
    "        error_stats_all.append(error_stats)\n",
    "\n",
    "    print('done testing parameter combinations')"
   ]
  },
  {
   "cell_type": "code",
   "execution_count": null,
   "metadata": {},
   "outputs": [],
   "source": [
    "if parameter_space_search is True:\n",
    "    param_combs_array = np.array(param_combs)\n",
    "    model_errors = np.array(error_stats_all)"
   ]
  },
  {
   "cell_type": "markdown",
   "metadata": {},
   "source": [
    "## Make a figure of parameter space search "
   ]
  },
  {
   "cell_type": "code",
   "execution_count": null,
   "metadata": {},
   "outputs": [],
   "source": [
    "def unique_rows(a):\n",
    "    \"\"\"\n",
    "    remove duplicate rows from an array\n",
    "\n",
    "    found on stackoverflow:\n",
    "    http://stackoverflow.com/questions/8560440/\n",
    "    removing-duplicate-columns-and-rows-from-a-numpy-2d-array\n",
    "\n",
    "    :param a:\n",
    "    :return:\n",
    "    \"\"\"\n",
    "    a = np.ascontiguousarray(a)\n",
    "    unique_a = np.unique(a.view([('', a.dtype)]*a.shape[1]))\n",
    "\n",
    "    return unique_a.view(a.dtype).reshape((unique_a.shape[0], a.shape[1]))\n",
    "\n",
    "if parameter_space_search is True:\n",
    "    z = model_errors[:]\n",
    "\n",
    "    vmin = 0.0\n",
    "    vmax = 1.0\n",
    "\n",
    "    param_combs_plots = [[0, 1], [2, 3]]\n",
    "\n",
    "    ax_labels = [[r'$v_c \\; (m\\;s^{-1})$', r'$v_d \\; (m\\;s^{-1})$'], \n",
    "                 [r'$v_{xa} \\; (m\\;s^{-1})$', r'$v_{ya} \\; (m\\;s^{-1})$']]\n",
    "\n",
    "    fig, axs = pl.subplots(1, 2, figsize=(8, 4))\n",
    "\n",
    "    for ax, pc, al in zip(axs, param_combs_plots, ax_labels):\n",
    "\n",
    "        # get min error for each overlapping pt:\n",
    "        v1 = param_combs_array[:, pc[0]]\n",
    "        v2 = param_combs_array[:, pc[1]]\n",
    "        a = np.vstack([v1, v2]).T\n",
    "        ur = unique_rows(a)\n",
    "\n",
    "        zs = np.zeros(len(ur))\n",
    "\n",
    "        for i, ui in enumerate(ur):\n",
    "            ind = (a[:, 0] == ui[0]) & (a[:, 1] == ui[1])\n",
    "            zs[i] = np.max(z[ind])\n",
    "\n",
    "\n",
    "        sc = ax.scatter(ur[:, 0], ur[:, 1], c=zs,\n",
    "                   vmin=vmin, vmax=vmax, s=100, cmap=cmap)\n",
    "\n",
    "        ax.set_xlabel(al[0])\n",
    "        ax.set_ylabel(al[1])\n",
    "\n",
    "    fig.subplots_adjust(bottom=0.32, wspace=0.5)\n",
    "\n",
    "    cax = fig.add_axes([0.25, 0.12, 0.5, 0.02])\n",
    "\n",
    "    cb = fig.colorbar(sc, cax=cax, orientation='horizontal')\n",
    "    cb.set_label(r'$R^2$')\n",
    "\n",
    "    for i, ax in enumerate(axs):\n",
    "        ax.spines['top'].set_visible(False)\n",
    "        ax.spines['right'].set_visible(False)\n",
    "        ax.text(0.01, 1.01, string.ascii_lowercase[i], \n",
    "                weight='bold', transform=ax.transAxes, \n",
    "                   ha='left', va='bottom', fontsize='medium')\n",
    "\n",
    "    #fig.tight_layout()\n",
    "\n",
    "    fig.savefig('fig/parameter_space_exp.png')\n",
    "    fig.savefig('fig/parameter_space_exp.pdf')\n"
   ]
  },
  {
   "cell_type": "code",
   "execution_count": null,
   "metadata": {},
   "outputs": [],
   "source": []
  }
 ],
 "metadata": {
  "kernelspec": {
   "display_name": "Python 3",
   "language": "python",
   "name": "python3"
  },
  "language_info": {
   "codemirror_mode": {
    "name": "ipython",
    "version": 3
   },
   "file_extension": ".py",
   "mimetype": "text/x-python",
   "name": "python",
   "nbconvert_exporter": "python",
   "pygments_lexer": "ipython3",
   "version": "3.8.8"
  }
 },
 "nbformat": 4,
 "nbformat_minor": 4
}
