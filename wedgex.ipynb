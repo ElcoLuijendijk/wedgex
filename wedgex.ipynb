{
 "cells": [
  {
   "cell_type": "markdown",
   "metadata": {},
   "source": [
    "# Wedgex\n",
    "\n",
    "Use an analytical solution for particle trajectories in an orogenic wedge, use the particle depths to calculate thermochronometer cooling ages and compare to thermochronology data. \n",
    "\n",
    "\n",
    "## Wokflow:\n",
    "\n",
    "* This notebook can be used to run a single model and show the calculated particle trajectories, exhumation rates and thermochronology ages. \n",
    "* In addition, there is an option to calibrate the model, i.e. let the model find the parameter values that provides the best fit to thermochronology data. For this one needs to set `calibrate_parameters = True` and uncomment and adjust the `params_to_change` and `params` variables, see the examples below.\n",
    "* It also optionally runs a series of models to explore the model fit for a range of parameter combinations. To run the parameter exploration set the parameter `parameter_space_search = True` in the box with the header Parameter space search, and adjust the values for vd_range, vc_range, vxa_range and vya_range.\n",
    "\n",
    "The default parameters and data are based on the Kuru Chu cross-section in the Himalayas, a well studied cross section which was explored Long et al. (2012, https://doi.org/10.1029/2012TC003155), Coutand et al. (2014, https://doi.org/10.1002/2013JB010891) and McQuarrie and Ehlers (2015, https://doi.org/10.1002/2014TC003783).\n",
    "\n",
    "The thermochronology data that are used are located in the file [data/thermochron_data_projected.csv](data/thermochron_data_projected.csv). This file was created by a separate notebook [utilities/extract_xsection_data.ipynb](utilities/extract_xsection_data.ipynb), which automatically extracts thermochronology data along a cross-section."
   ]
  },
  {
   "cell_type": "markdown",
   "metadata": {},
   "source": [
    "## Import modules"
   ]
  },
  {
   "cell_type": "code",
   "execution_count": 1,
   "metadata": {},
   "outputs": [],
   "source": [
    "import string\n",
    "import itertools\n",
    "import numpy as np\n",
    "import matplotlib.pyplot as pl\n",
    "import pandas as pd\n",
    "\n",
    "import sklearn.metrics\n",
    "\n",
    "import scipy.optimize\n",
    "\n",
    "# equations for particle trajectories\n",
    "import wedgeqs\n",
    "\n",
    "# function wrappers to run multiple models and compare modelled and measured thermochron ages\n",
    "import wedgex_model_functions"
   ]
  },
  {
   "cell_type": "code",
   "execution_count": 2,
   "metadata": {},
   "outputs": [],
   "source": [
    "pl.rcParams['mathtext.default'] = 'regular'"
   ]
  },
  {
   "cell_type": "code",
   "execution_count": 3,
   "metadata": {},
   "outputs": [],
   "source": [
    "from cmcrameri import cm\n",
    "cmap = cm.batlow"
   ]
  },
  {
   "cell_type": "markdown",
   "metadata": {},
   "source": [
    "## Filenames"
   ]
  },
  {
   "cell_type": "code",
   "execution_count": 4,
   "metadata": {},
   "outputs": [],
   "source": [
    "# name of file with thermochron data\n",
    "thermochron_data_file = 'data/thermochron_data_projected.csv'\n",
    "\n",
    "# column with distance\n",
    "distance_column = 'projected_distance_along_xsection'\n",
    "thermochronometer_col = 'system'\n",
    "\n",
    "# filename for output file with modelled ages thermochron samples\n",
    "thermochron_output_file = 'data/modelled_thermochron_data.csv'\n",
    "\n",
    "# output file with modelled ages vs distance\n",
    "thermochron_profile_file = 'data/modelled_thermochron_profiles.csv'"
   ]
  },
  {
   "cell_type": "markdown",
   "metadata": {},
   "source": [
    "## Model parameters"
   ]
  },
  {
   "cell_type": "code",
   "execution_count": 5,
   "metadata": {},
   "outputs": [],
   "source": [
    "model_run_name = 'default'\n",
    "\n",
    "# compressional, transport and accretion velocity\n",
    "vc = -5e-3\n",
    "vd = -5e-3\n",
    "vxa = 0.0\n",
    "vya = 0.0\n",
    "\n",
    "# option to calibrate parameters or to run the model with default parameters\n",
    "calibrate_parameters = False\n",
    "\n",
    "# parameters to optimize and starting values \n",
    "#model_run_name = 'calibrated'\n",
    "#params_to_change = ['vc', 'vd', 'vxa', 'vya']\n",
    "#params = [-3e-3, -3e-3, 1e-5, 1e-5]\n",
    "\n",
    "#model_run_name = 'detachment_cal'\n",
    "#params_to_change = ['vd']\n",
    "#params = [-3e-3]\n",
    "\n",
    "#model_run_name = 'compression_cal'\n",
    "#params_to_change = ['vc']\n",
    "#params = [-3e-3]\n",
    "\n",
    "#model_run_name = 'accretion_cal'\n",
    "#params_to_change = ['vxa', 'vya']\n",
    "#params = [1e-5, 1e-5]\n",
    "\n",
    "# lenght of wedge (m)\n",
    "L = 200e3\n",
    "\n",
    "# slope of topography (m/m)\n",
    "# for McQuarrie & Ehlers: ~ 4km over 117 km \n",
    "alpha = 0.034\n",
    "\n",
    "# slope of bottom of wedge (m/m)\n",
    "# for McQuarrie & Ehlers: detachment depth at N edge xsection (117 km) = ~20 km\n",
    "beta = -0.17\n",
    "\n",
    "# disctance between surface points (m)\n",
    "x_interval = 5e3\n",
    "\n",
    "x_first_pt = 1e3\n",
    "\n",
    "# number of rows in the orogenic wedge. Used for figures only, no function in the actual model\n",
    "n_rows = 100\n",
    "\n",
    "# modelled timespan (years)\n",
    "max_time = 2e8\n",
    "\n",
    "# timestep size (years)\n",
    "dt = 1e4\n",
    "\n",
    "# names of thermochronometers, should match the names in your input file\n",
    "thermochron_systems = ['AHe', 'AFT', 'ZHe', 'ZFT', 'MAr']\n",
    "\n",
    "# resetting temperatures (degr. C)\n",
    "resetting_temperatures = [70.0, 110.0, 180.0, 230.0, 325.0]\n",
    "\n",
    "# default exhumation rate, used to calculate ages from the undeformed foreland \n",
    "# that have not been reset inside the wedge (m/yr)\n",
    "default_exhumation_rate = 1e-4\n",
    "\n",
    "# option to remove non-reset ages from database\n",
    "remove_non_reset_ages = True\n",
    "\n",
    "# limit for estimating which ages are reset or not (Ma)\n",
    "reset_age_limit =  100.0\n",
    "\n",
    "# geothermal gradient, used to convert resetting temp to depth (degr. C/m)\n",
    "geothermal_gradient = 0.015\n",
    "\n",
    "# surface temperature at sea lvl (degr. C)\n",
    "surface_temperature_sea_lvl = 24.0\n",
    "\n",
    "# adiabatic lapse rate (C/m), used to calculate surface temperatures\n",
    "lapse_rate = 7.0 / 1e3"
   ]
  },
  {
   "cell_type": "markdown",
   "metadata": {},
   "source": [
    "## Additional model calibration options"
   ]
  },
  {
   "cell_type": "code",
   "execution_count": 6,
   "metadata": {},
   "outputs": [],
   "source": [
    "# metric to calibrate the models. use 'MAE' or 'chisq'\n",
    "calibration_metric = 'MAE'\n",
    "\n",
    "# limit parameters to realistic limits\n",
    "# if True the model will limit vc <= 0, vd <= 0, vxa >= 0, vya >=0\n",
    "limit_params = True\n",
    "\n",
    "# convergence criteria for optimization algorithm\n",
    "# see https://docs.scipy.org/doc/scipy/reference/generated/scipy.optimize.fmin.html for more info\n",
    "xtol = 1e-8\n",
    "ftol = 1e-8"
   ]
  },
  {
   "cell_type": "markdown",
   "metadata": {},
   "source": [
    "## Options for figures"
   ]
  },
  {
   "cell_type": "code",
   "execution_count": 7,
   "metadata": {},
   "outputs": [],
   "source": [
    "# figure size, in inches:\n",
    "fig_width = 170 / 25.4\n",
    "#fig_width = 140 / 25.4\n",
    "fig_height = 0.75\n",
    "\n",
    "# subplot label start, 0 = a\n",
    "first_subplot = 2\n",
    "\n",
    "# add legend\n",
    "add_legend = True\n",
    "\n",
    "# add\n",
    "add_equation = False\n",
    "\n",
    "# show each x particle paths in figure\n",
    "starting_pt_int = 4\n",
    "\n",
    "# isochrons to show\n",
    "isochrons = np.arange(0, 55, 5)\n",
    "\n",
    "# some figure options\n",
    "fig_output_file = 'fig/wedgex_model_%s' % model_run_name\n",
    "fig_formats = ['png', 'pdf', 'svg']\n",
    "\n",
    "thermochron_markers = ['o', 'd', 's', '^', 'h']\n",
    "thermochron_colors = ['darkblue', 'blue', 'green', 'red', 'orange']\n",
    "\n",
    "# isochrons to show in figure:\n",
    "isochrons = [5e6, 10e6, 15e6, 20e6, 25e6]\n",
    "\n",
    "# maximum thermochron age on y-axis\n",
    "max_age_fig = 20.0\n",
    "\n",
    "# log scale for cooling ages:\n",
    "log_scale_ages = False\n",
    "\n",
    "fs = 'x-small'\n",
    "\n",
    "gr = 1.618033\n",
    "\n",
    "# draw flow arrows for one in x particle locations\n",
    "arrow_int = 250\n",
    "\n",
    "# scale for flow arrows. higher means smaller arrows\n",
    "scale = 2.0"
   ]
  },
  {
   "cell_type": "markdown",
   "metadata": {
    "editable": true
   },
   "source": [
    "## Set up initial particle positions and timesteps"
   ]
  },
  {
   "cell_type": "code",
   "execution_count": 8,
   "metadata": {
    "collapsed": false,
    "editable": true,
    "jupyter": {
     "outputs_hidden": false
    }
   },
   "outputs": [
    {
     "name": "stdout",
     "output_type": "stream",
     "text": [
      "particle starting points (m from tip of wedge):\n",
      " [  1000.   5000.  10000.  15000.  20000.  25000.  30000.  35000.  40000.\n",
      "  45000.  50000.  55000.  60000.  65000.  70000.  75000.  80000.  85000.\n",
      "  90000.  95000. 100000. 105000. 110000. 115000. 120000. 125000. 130000.\n",
      " 135000. 140000. 145000. 150000. 155000. 160000. 165000. 170000. 175000.\n",
      " 180000. 185000. 190000. 195000. 200000.]\n",
      "timesteps (yr):\n",
      " [ 0.0000e+00 -1.0000e-02 -2.0000e-02 ... -1.9998e+02 -1.9999e+02\n",
      " -2.0000e+02]\n"
     ]
    }
   ],
   "source": [
    "# x-coordinates of starting points:\n",
    "x0s = np.arange(0, L + x_interval, x_interval)\n",
    "x0s[0] = x_first_pt\n",
    "\n",
    "# timesteps (years)\n",
    "t = np.arange(0, -max_time - dt, -dt)\n",
    "\n",
    "print('particle starting points (m from tip of wedge):\\n', x0s)\n",
    "\n",
    "print('timesteps (yr):\\n', t / 1e6)"
   ]
  },
  {
   "cell_type": "markdown",
   "metadata": {},
   "source": [
    "## Determine isochrons to show in figures\n",
    "\n",
    "i.e., get the timesteps for the different timeslices that are defined by the variable isochrons"
   ]
  },
  {
   "cell_type": "code",
   "execution_count": 9,
   "metadata": {},
   "outputs": [],
   "source": [
    "isochron_ts = [np.argmin(np.abs(t - ic)) for ic in isochrons]"
   ]
  },
  {
   "cell_type": "markdown",
   "metadata": {},
   "source": [
    "## Load thermochron data"
   ]
  },
  {
   "cell_type": "code",
   "execution_count": 10,
   "metadata": {},
   "outputs": [
    {
     "name": "stdout",
     "output_type": "stream",
     "text": [
      "thermochron data systems in file:  ['ZHe' 'AFT' 'MAr']\n"
     ]
    }
   ],
   "source": [
    "df = pd.read_csv(thermochron_data_file)\n",
    "\n",
    "print('thermochron data systems in file: ', df[thermochronometer_col].unique())"
   ]
  },
  {
   "cell_type": "markdown",
   "metadata": {},
   "source": [
    "## Remove anomalously old ages"
   ]
  },
  {
   "cell_type": "code",
   "execution_count": 11,
   "metadata": {},
   "outputs": [
    {
     "name": "stdout",
     "output_type": "stream",
     "text": [
      "count      48.000000\n",
      "mean       56.973812\n",
      "std       245.686577\n",
      "min         2.700000\n",
      "25%         4.222500\n",
      "50%         6.930000\n",
      "75%         8.940000\n",
      "max      1395.700000\n",
      "Name: age, dtype: float64\n",
      "count    46.000000\n",
      "mean      6.915935\n",
      "std       2.913004\n",
      "min       2.700000\n",
      "25%       4.207500\n",
      "50%       6.600000\n",
      "75%       8.615000\n",
      "max      14.780000\n",
      "Name: age, dtype: float64\n"
     ]
    }
   ],
   "source": [
    "if remove_non_reset_ages is True:\n",
    "\n",
    "    print('ages before removing non-resset ages:\\n', df['age'].describe())\n",
    "    \n",
    "    df = df[df['age'] < reset_age_limit]\n",
    "    \n",
    "    print('ages after removing non-resset ages:\\n', df['age'].describe())"
   ]
  },
  {
   "cell_type": "markdown",
   "metadata": {},
   "source": [
    "## Calculate resetting temperatures for samples"
   ]
  },
  {
   "cell_type": "code",
   "execution_count": 12,
   "metadata": {},
   "outputs": [],
   "source": [
    "# get sample positions from dataframe\n",
    "x0_samples = df[distance_column].values\n",
    "\n",
    "df['resetting_temp'] = np.nan\n",
    "\n",
    "for thc, rt in zip(thermochron_systems, resetting_temperatures):\n",
    "    \n",
    "    ix = df[thermochronometer_col] == thc \n",
    "    df.loc[ix, 'resetting_temp'] = rt\n",
    "\n",
    "# calculate surface temperature\n",
    "df['surface_T'] = surface_temperature_sea_lvl - lapse_rate * df['elevation']\n",
    "df['resetting_depth'] = (df['resetting_temp'] - df['surface_T']) / geothermal_gradient\n",
    "\n",
    "#df.head()"
   ]
  },
  {
   "cell_type": "markdown",
   "metadata": {},
   "source": [
    "## Parameter calibration"
   ]
  },
  {
   "cell_type": "code",
   "execution_count": 13,
   "metadata": {},
   "outputs": [],
   "source": [
    "measured_ages = df['age'].values\n",
    "measured_ages_sigma = df['age_error_1s'].values\n",
    "resetting_temperatures_samples = df['resetting_temp'].values\n",
    "\n",
    "if calibrate_parameters is True:\n",
    "\n",
    "    args = (params_to_change, limit_params, t, x0_samples, alpha, beta, L, vc, vd, vxa, vya, \n",
    "            surface_temperature_sea_lvl, lapse_rate, geothermal_gradient,\n",
    "            measured_ages, measured_ages_sigma, resetting_temperatures_samples, default_exhumation_rate,\n",
    "            calibration_metric)\n",
    "    \n",
    "    print('using %s metric to calibrate model ' % calibration_metric)\n",
    "    \n",
    "    print('starting optimization, this may take a while....')\n",
    "    opt_results = scipy.optimize.fmin(wedgex_model_functions.compare_modelled_and_measured_ages, \n",
    "                                      params, args=args, \n",
    "                                      maxiter=1e5, xtol=xtol, ftol=ftol, full_output=True)\n",
    "\n",
    "    print('done optimizing')\n",
    "    params = opt_results[0]\n",
    "    opt_error = opt_results[1]\n",
    "\n",
    "    print('optimized parameter values ', params)\n",
    "    print('optimized model error ', opt_error)\n",
    "    \n",
    "    # update parameters with calibrated values\n",
    "    if 'alpha' in params_to_change:\n",
    "        alpha = params[params_to_change.index('alpha')]\n",
    "    if 'beta' in params_to_change:\n",
    "        beta = params[params_to_change.index('beta')]\n",
    "    if 'geothermal_gradient' in params_to_change:\n",
    "        geothermal_gradient = params[params_to_change.index('geothermal_gradient')]\n",
    "    if 'vc' in params_to_change:\n",
    "        vc = params[params_to_change.index('vc')]\n",
    "    if 'vd' in params_to_change:\n",
    "        vd = params[params_to_change.index('vd')]\n",
    "    if 'vxa' in params_to_change:\n",
    "        vxa = params[params_to_change.index('vxa')]\n",
    "    if 'vya' in params_to_change:\n",
    "        vya = params[params_to_change.index('vya')]\n",
    "    \n",
    "    if limit_params is True:\n",
    "        # enforce same conditions as imposed during optimization\n",
    "        # make sure params have correct sign\n",
    "        # negative for vc, vd and positive for vxa, vya\n",
    "        if vc >= 0:\n",
    "            vc = -1e-7\n",
    "        if vd >= 0:\n",
    "            vd = -1e-7\n",
    "        if vxa < 0:\n",
    "            vxa = 0\n",
    "        if vya <0:\n",
    "            vya = 0\n",
    "#else:\n",
    "#    params = "
   ]
  },
  {
   "cell_type": "markdown",
   "metadata": {},
   "source": [
    "## Rerun model with optimized or default parameters\n",
    "\n",
    "(depending on whether calibrate_parameters was True or False)"
   ]
  },
  {
   "cell_type": "code",
   "execution_count": 14,
   "metadata": {},
   "outputs": [],
   "source": [
    "if calibrate_parameters is True:\n",
    "    comp_output = wedgex_model_functions.compare_modelled_and_measured_ages(\n",
    "        params, params_to_change, limit_params, t, x0_samples, \n",
    "        alpha, beta, L, vc, vd, vxa, vya, \n",
    "        surface_temperature_sea_lvl, lapse_rate, geothermal_gradient,\n",
    "        measured_ages, measured_ages_sigma, resetting_temperatures_samples,\n",
    "        default_exhumation_rate, metric_to_return='all',\n",
    "        return_all=True)\n",
    "\n",
    "    (y0_samples_check, x_samples_check, y_samples_check, \n",
    "     resetting_temperatures_samples_check, d_samples_check, \n",
    "     data_check, prediction_check, ME_check, MAE_check, R2_check) = comp_output"
   ]
  },
  {
   "cell_type": "markdown",
   "metadata": {},
   "source": [
    "## Get particle trajectories and ages with optimized params for all seed points in model domain"
   ]
  },
  {
   "cell_type": "code",
   "execution_count": 15,
   "metadata": {},
   "outputs": [],
   "source": [
    "from importlib import reload\n",
    "\n",
    "wedgex_model_functions = reload(wedgex_model_functions)\n",
    "\n",
    "\n",
    "# particle trajectories \n",
    "xp, yp, dp = wedgex_model_functions.run_model_multiple_samples(t, x0s, \n",
    "                                                               alpha, beta, L, \n",
    "                                                               vc, vd, vxa, vya)\n",
    "\n",
    "y0p = xp * alpha\n",
    "\n",
    "# model ages for entire model domain\n",
    "modelled_ages_all = np.zeros((len(xp), len(thermochron_systems)))\n",
    "\n",
    "for i, tc in enumerate(thermochron_systems):\n",
    "    \n",
    "    res_temp_pts = np.ones_like(x0s) * resetting_temperatures[i]\n",
    "    modelled_ages_all[:, i] = wedgex_model_functions.calculate_cooling_ages(\n",
    "        t, xp, dp, alpha, res_temp_pts, \n",
    "        surface_temperature_sea_lvl, lapse_rate, geothermal_gradient, default_exhumation_rate, L)\n"
   ]
  },
  {
   "cell_type": "markdown",
   "metadata": {},
   "source": [
    "## Get particle trajectories and ages with optimized params for all samples"
   ]
  },
  {
   "cell_type": "code",
   "execution_count": 16,
   "metadata": {},
   "outputs": [],
   "source": [
    "x_samples, y_samples, d_samples = wedgex_model_functions.run_model_multiple_samples(t, x0_samples, \n",
    "                                                             alpha, beta, L, \n",
    "                                                             vc, vd, vxa, vya)\n",
    "\n",
    "y0_samples = x_samples * alpha\n",
    "\n",
    "modelled_ages_samples  = wedgex_model_functions.calculate_cooling_ages(t, x_samples, d_samples, alpha, \n",
    "                                                resetting_temperatures_samples, \n",
    "                                                     surface_temperature_sea_lvl, lapse_rate, \n",
    "                                                     geothermal_gradient, default_exhumation_rate, L)"
   ]
  },
  {
   "cell_type": "markdown",
   "metadata": {},
   "source": [
    "## Calculate model fit"
   ]
  },
  {
   "cell_type": "code",
   "execution_count": 17,
   "metadata": {},
   "outputs": [
    {
     "name": "stdout",
     "output_type": "stream",
     "text": [
      "mean error of this model run = 0.371\n",
      "mean absolute error 1.182\n",
      "coefficient of determination = 0.745\n",
      "misfit = 0.980\n"
     ]
    }
   ],
   "source": [
    "data = measured_ages\n",
    "prediction = modelled_ages_samples\n",
    "\n",
    "ind_nok = (np.isnan(data)) | (np.isnan(prediction))\n",
    "\n",
    "data = data[ind_nok==False]\n",
    "prediction = prediction[ind_nok==False]\n",
    "unc_adj = measured_ages_sigma[ind_nok==False]\n",
    "\n",
    "ME = np.mean(data - prediction)\n",
    "MAE = sklearn.metrics.mean_absolute_error(data, prediction)\n",
    "R2 = sklearn.metrics.r2_score(data, prediction)\n",
    "\n",
    "misfit_ind = (data - prediction)**2 / (unc_adj**2)\n",
    "\n",
    "misfit = wedgex_model_functions.misfit_function(data, unc_adj, prediction)\n",
    "\n",
    "print('mean error of this model run = %0.3f\\n'\n",
    "      'mean absolute error %0.3f\\n'\n",
    "      'coefficient of determination = %0.3f\\n'\n",
    "      'misfit = %0.3f' % (ME, MAE, R2, misfit))"
   ]
  },
  {
   "cell_type": "markdown",
   "metadata": {},
   "source": [
    "## Calculate exhumation rate"
   ]
  },
  {
   "cell_type": "code",
   "execution_count": 19,
   "metadata": {},
   "outputs": [],
   "source": [
    "dd = np.diff(dp, axis=1)\n",
    "exhumation_rate = dd[:, 0] / (t[0] - t[1])"
   ]
  },
  {
   "cell_type": "markdown",
   "metadata": {},
   "source": [
    "## Make a figure"
   ]
  },
  {
   "cell_type": "code",
   "execution_count": 20,
   "metadata": {},
   "outputs": [
    {
     "name": "stderr",
     "output_type": "stream",
     "text": [
      "/Users/elcopone/opt/miniconda3/lib/python3.7/site-packages/ipykernel_launcher.py:51: UserWarning: Setting the 'color' property will override the edgecolor or facecolor properties.\n"
     ]
    },
    {
     "name": "stdout",
     "output_type": "stream",
     "text": [
      "saving figure as fig/wedgex_model_default.png\n",
      "saving figure as fig/wedgex_model_default.pdf\n",
      "saving figure as fig/wedgex_model_default.svg\n"
     ]
    },
    {
     "data": {
      "image/png": "[encoded data removed]",
      "text/plain": [
       "<Figure size 481.89x361.417 with 3 Axes>"
      ]
     },
     "metadata": {
      "needs_background": "light"
     },
     "output_type": "display_data"
    }
   ],
   "source": [
    "xcoords = np.linspace(0, L, 101)\n",
    "y_top = xcoords * alpha\n",
    "y_bottom = xcoords * beta\n",
    "\n",
    "xpi, ypi = xp, yp\n",
    "dpi = dp\n",
    "\n",
    "legs = []\n",
    "labels = []\n",
    "\n",
    "fig, axs = pl.subplots(2, 1, figsize=(fig_width, fig_width * fig_height), sharex=True)\n",
    "\n",
    "#############################\n",
    "# panel with thermochron ages\n",
    "#############################\n",
    "for i, thc, c in zip(itertools.count(), thermochron_systems,  thermochron_colors):\n",
    "    if thc in df[thermochronometer_col].values:\n",
    "        lt, = axs[0].plot(x0s / 1e3, modelled_ages_all[:, i], color=c)\n",
    "        legs.append(lt)\n",
    "        labels.append('%s model' % thc)\n",
    "        \n",
    "for thc, m, c in zip(thermochron_systems, thermochron_markers, thermochron_colors):\n",
    "    \n",
    "    ix = df[thermochronometer_col] == thc\n",
    "    \n",
    "    if np.any(ix) == True:\n",
    "        #axs[0].scatter(df.loc[ix, distance_column] / 1e3, df.loc[ix, 'age'], \n",
    "        # label='%s data' % thc, color=c, marker=m)\n",
    "        \n",
    "        x = df.loc[ix, distance_column] / 1e3\n",
    "        z = df.loc[ix, 'age']\n",
    "        ze = df.loc[ix, 'age_error_1s'] * 2\n",
    "        sc = axs[0].errorbar(x, z, yerr=ze, ls='None', color=c, marker=m)\n",
    "        legs.append(sc)\n",
    "        labels.append('%s data' % thc)\n",
    "\n",
    "#\n",
    "if log_scale_ages is True:\n",
    "    axs[0].set_yscale('log')    \n",
    "else:\n",
    "    axs[0].set_ylim(0, max_age_fig)\n",
    "axs[0].set_ylabel('Age (Ma)')\n",
    "\n",
    "tekst = r'$R^2$ = %0.2f, MAE=%0.2f $\\times 10^6$ a' % (R2, MAE)\n",
    "if add_equation is True:\n",
    "    tekst += '\\n'\n",
    "    tekst += '$v_c$=%0.1e, $v_d$=%0.1e, $v_{xa}$=%0.1e ,$v_{ya}$=%0.1e ' \\\n",
    "                % (vc, vd, vxa, vya)\n",
    "txt = axs[0].text(0.03, 0.97, tekst, transform=axs[0].transAxes, \n",
    "                  ha='left', va='top', fontsize='small')\n",
    "txt.set_bbox(dict(facecolor='white', alpha=0.5, color='white'))\n",
    "\n",
    "################################\n",
    "# 2nd axis with exhumation rate\n",
    "################################\n",
    "axr = axs[0].twinx()\n",
    "\n",
    "le, = axr.plot(xp[:, 0] / 1e3, exhumation_rate, color='gray', ls='--')\n",
    "legs.append(le)\n",
    "labels.append('exhumation')\n",
    "axr.set_ylabel(r'Exhumation rate ($m a^{-1}$)')\n",
    "axr.set_ylim(0, axr.get_ylim()[-1] * 1.25)\n",
    "\n",
    "if add_legend is True:\n",
    "    axs[0].legend(legs, labels, fontsize=fs, loc='lower right', facecolor='white', framealpha=1)\n",
    "\n",
    "#######################\n",
    "# particle trajectories\n",
    "#######################\n",
    "\n",
    "ax = axs[-1]\n",
    "\n",
    "ind = xpi > L\n",
    "xpi[ind] = np.nan\n",
    "ypi[ind] = np.nan\n",
    "\n",
    "for xl, yl in zip(xpi[::starting_pt_int], ypi[::starting_pt_int]):\n",
    "    leg_traj, = ax.plot(xl / 1e3, yl / 1e3, ls='--', color='black')\n",
    "    \n",
    "    x, y = xl[::-arrow_int] / 1e3, yl[::-arrow_int] / 1e3\n",
    "    U, V = x[1:]-x[:-1], y[1:]-y[:-1]\n",
    "    #U = U / np.sqrt(U**2 + V**2)\n",
    "    #V = V / np.sqrt(U**2 + V**2)\n",
    "    leg_qv = ax.quiver(x[:-1], y[:-1], U, V, \n",
    "                        scale_units='xy', angles='xy', scale=scale)\n",
    "\n",
    "nt = xpi.shape[1]\n",
    "\n",
    "if isochrons is None:\n",
    "    isochron_ts = np.linspace(0, nt - 1, 5).astype(int)\n",
    "else:\n",
    "    isochron_ts = [np.argmin(np.abs(-t - chron)) for chron in isochrons]\n",
    "\n",
    "for i, nti in enumerate(isochron_ts):\n",
    "    #leg_ts =  ax.scatter(xpi[:, nti] / 1e3, ypi[:, nti] / 1e3, s=20, color='black')\n",
    "    leg_tsl, =  ax.plot(xpi[:, nti] / 1e3, ypi[:, nti] / 1e3, color='gray', ls='-', lw=1.5)\n",
    "    \n",
    "    tekst = '%0.0f Ma' % (isochrons[i] / 1e6)\n",
    "    text_buffer = 5\n",
    "    xt, yt = xpi[:, nti] / 1e3 + text_buffer, ypi[:, nti] / 1e3\n",
    "    ind = (np.isnan(xt) == False) & (np.isnan(yt) == False)\n",
    "    \n",
    "    if np.any(ind):\n",
    "        txt = ax.text(L / 1e3 + text_buffer, yt[ind][-1], tekst, \n",
    "                      ha='left', va='center', weight='bold', color='gray')\n",
    "        #txt.set_bbox(dict(facecolor='white', alpha=0.5, color='white'))\n",
    "    pass\n",
    "\n",
    "legs_tc = []\n",
    "labels_tc = []\n",
    "\n",
    "for thc, m, c in zip(thermochron_systems[::-1], thermochron_markers[::-1], thermochron_colors[::-1]):\n",
    "    \n",
    "    ix = df[thermochronometer_col] == thc\n",
    "        \n",
    "    if np.any(ix) == True:\n",
    "        labels_tc.append('%s data location' % thc)\n",
    "        li = ax.scatter(df.loc[ix, distance_column] / 1e3, df.loc[ix, 'elevation'] / 1e3, \n",
    "                        color=c, marker=m)\n",
    "        legs_tc.append(li)\n",
    "        \n",
    "#leg_s = ax.scatter(df['distance'], df['elevation'] / 1e3, label='thermochron samples')\n",
    "\n",
    "leg_bnd, = ax.plot(xcoords / 1e3, y_top / 1e3, color='black', ls='--', lw=1.5)\n",
    "ax.plot(xcoords / 1e3, y_bottom / 1e3, color='black', ls='--', lw=1.5)\n",
    "\n",
    "ax.set_xlabel('Distance from tip of wedge (km)')\n",
    "ax.set_ylabel('Elevation (km)')\n",
    "\n",
    "for i, ax in enumerate(axs):\n",
    "    ax.spines['top'].set_visible(False)\n",
    "    ax.spines['right'].set_visible(False)\n",
    "    ax.text(0.01, 1.01, string.ascii_lowercase[i + first_subplot], \n",
    "            weight='bold', transform=ax.transAxes, \n",
    "               ha='left', va='bottom', fontsize='medium')\n",
    "\n",
    "axr.spines['top'].set_visible(False)\n",
    "\n",
    "if add_legend is True:\n",
    "    legs = [leg_traj, leg_tsl, leg_bnd] + legs_tc\n",
    "    labels = ['particle trajectories', 'isochron', 'wedge boundary'] + labels_tc\n",
    "    axs[-1].legend(legs, labels, loc='lower left', ncol=2, fontsize=fs)\n",
    "\n",
    "fig.tight_layout()\n",
    "\n",
    "for f in fig_formats:\n",
    "    fn = fig_output_file + '.' + f\n",
    "    print('saving figure as %s' % fn)\n",
    "    fig.savefig(fn)"
   ]
  },
  {
   "cell_type": "markdown",
   "metadata": {},
   "source": [
    "## Read published results"
   ]
  },
  {
   "cell_type": "code",
   "execution_count": 21,
   "metadata": {},
   "outputs": [],
   "source": [
    "fnds = ['data/AFT.txt', 'data/ZHe.txt', 'data/MAr.txt']\n",
    "\n",
    "dfts = [pd.read_csv(fn, delimiter='\\t') for fn in fnds]\n",
    "\n",
    "thermochron_syst_published = ['AFT', 'ZHe', 'MAr']\n",
    "\n",
    "# correction for distance vs xsection, McQuarrie (2015) xsection does not start at the MFT\n",
    "distance_correction = 2.0\n",
    "\n",
    "# correction for sample positioning, somehow the xsection in mcquarrie and Ehlers seems squeezed. projection issue?\n",
    "dist_corr_factor = 1.13"
   ]
  },
  {
   "cell_type": "markdown",
   "metadata": {},
   "source": [
    "## Calculate model statistics for published results"
   ]
  },
  {
   "cell_type": "code",
   "execution_count": 22,
   "metadata": {},
   "outputs": [
    {
     "name": "stdout",
     "output_type": "stream",
     "text": [
      "model fit published models: R2 = -0.43, MAE = 2.5 Ma\n"
     ]
    }
   ],
   "source": [
    "measured_ages = df['age'].values\n",
    "x0_samples = df[distance_column].values\n",
    "\n",
    "for i, thc in zip(itertools.count(), thermochron_systems):\n",
    "    if thc in thermochron_syst_published:\n",
    "        \n",
    "        # get modelled ages for this particular system\n",
    "        j = thermochron_syst_published.index(thc)\n",
    "        dft = dfts[j]\n",
    "        xms = (dft['x'].values - distance_correction) * dist_corr_factor\n",
    "        modelled_ages = dft['y'].values\n",
    "        \n",
    "        # get modelled ages for each measured age\n",
    "        ind = df['system'] == thc\n",
    "        \n",
    "        xs = df.loc[ind, distance_column].values / 1000.0\n",
    "        \n",
    "        age_modelled_samples = np.interp(xs, xms, modelled_ages)\n",
    "        df.loc[ind, 'modelled_ages_published'] = age_modelled_samples\n",
    "\n",
    "dfi = df[['age', 'modelled_ages_published']].dropna()\n",
    "data_pub, pred_pub = dfi['age'].values, dfi['modelled_ages_published'].values\n",
    "R2_pub = sklearn.metrics.r2_score(data_pub, pred_pub)\n",
    "MAE_pub = sklearn.metrics.mean_absolute_error(data_pub, pred_pub)\n",
    "\n",
    "print(f'model fit published models: R2 = {R2_pub:.2f}, MAE = {MAE_pub:.1f} Ma')"
   ]
  },
  {
   "cell_type": "code",
   "execution_count": 23,
   "metadata": {},
   "outputs": [
    {
     "name": "stderr",
     "output_type": "stream",
     "text": [
      "/Users/elcopone/opt/miniconda3/lib/python3.7/site-packages/ipykernel_launcher.py:57: UserWarning: Setting the 'color' property will override the edgecolor or facecolor properties.\n"
     ]
    },
    {
     "data": {
      "image/png": "[encoded data removed]",
      "text/plain": [
       "<Figure size 481.89x240.945 with 1 Axes>"
      ]
     },
     "metadata": {
      "needs_background": "light"
     },
     "output_type": "display_data"
    }
   ],
   "source": [
    "legs = []\n",
    "labels = []\n",
    "\n",
    "fig, ax = pl.subplots(1, 1, figsize=(fig_width, fig_width /2.0))\n",
    "\n",
    "#############################\n",
    "# panel with thermochron ages\n",
    "#############################\n",
    "lp = None\n",
    "for i, thc, c in zip(itertools.count(), thermochron_systems,  thermochron_colors):\n",
    "    if thc in df[thermochronometer_col].values:\n",
    "        lt, = ax.plot(x0s / 1e3, modelled_ages_all[:, i], color=c)\n",
    "        legs.append(lt)\n",
    "        labels.append('%s model' % thc)\n",
    "        \n",
    "        if thc in thermochron_syst_published:\n",
    "            j = thermochron_syst_published.index(thc)\n",
    "            \n",
    "            dft = dfts[j]\n",
    "            x = (dft['x'] - distance_correction) * dist_corr_factor\n",
    "            age = dft['y']\n",
    "            \n",
    "            lp, = ax.plot(x, age, color=c, ls=':')\n",
    "            \n",
    "if lp is not None:           \n",
    "    legs.append(lp)\n",
    "    labels.append('McQuarrie & Ehlers (2015)')\n",
    "        \n",
    "        \n",
    "for thc, m, c in zip(thermochron_systems, thermochron_markers, thermochron_colors):\n",
    "    \n",
    "    ix = df[thermochronometer_col] == thc\n",
    "    \n",
    "    if np.any(ix) == True:\n",
    "        #axs[0].scatter(df.loc[ix, distance_column] / 1e3, df.loc[ix, 'age'], \n",
    "        # label='%s data' % thc, color=c, marker=m)\n",
    "        \n",
    "        x = df.loc[ix, distance_column] / 1e3\n",
    "        z = df.loc[ix, 'age']\n",
    "        ze = df.loc[ix, 'age_error_1s'] * 2\n",
    "        sc = ax.errorbar(x, z, yerr=ze, ls='None', color=c, marker=m)\n",
    "        legs.append(sc)\n",
    "        labels.append('%s data' % thc)\n",
    "\n",
    "#\n",
    "if log_scale_ages is True:\n",
    "    ax.set_yscale('log')    \n",
    "else:\n",
    "    ax.set_ylim(0, max_age_fig)\n",
    "ax.set_ylabel('Age (Ma)')\n",
    "\n",
    "tekst = r'analytical solution: $R^2$ = %0.2f, MAE=%0.2f $\\times 10^6$ a' % (R2, MAE)\n",
    "tekst += '\\n'\n",
    "tekst += r'McQuarrie & Ehlers (2015): $R^2$ = %0.2f, MAE=%0.2f $\\times 10^6$ a' % (R2_pub, MAE_pub)\n",
    "txt = ax.text(0.03, 0.97, tekst, transform=ax.transAxes, \n",
    "                  ha='left', va='top', fontsize='small')\n",
    "txt.set_bbox(dict(facecolor='white', alpha=0.5, color='white'))\n",
    "\n",
    "ax.spines['top'].set_visible(False)\n",
    "ax.spines['right'].set_visible(False)\n",
    "\n",
    "ax.legend(legs, labels, fontsize=fs, loc='lower right', facecolor='white', framealpha=1)\n",
    "\n",
    "fig.tight_layout()\n",
    "\n",
    "fig.savefig('fig/comparison_mcquarrie2015.pdf')\n",
    "fig.savefig('fig/comparison_mcquarrie2015.png')\n",
    "\n"
   ]
  },
  {
   "cell_type": "markdown",
   "metadata": {},
   "source": [
    "## Parameter space search\n",
    "\n",
    "Use the box below to switch parameter space search on or off. Note that this can be quite time consuming"
   ]
  },
  {
   "cell_type": "code",
   "execution_count": 24,
   "metadata": {},
   "outputs": [],
   "source": [
    "parameter_space_search = False"
   ]
  },
  {
   "cell_type": "markdown",
   "metadata": {},
   "source": [
    "## Define parameter ranges for the parameter search"
   ]
  },
  {
   "cell_type": "code",
   "execution_count": 25,
   "metadata": {},
   "outputs": [],
   "source": [
    "#vc_range = np.linspace(-1e-3, -20e-3, n_ints)\n",
    "#vd_range = np.linspace(-1e-3, -10e-3, n_ints)\n",
    "multipliers = np.array([1/2, 2/3., 1.0, 3/2, 2.])\n",
    "additions = np.arange(-4e-3, 5e-3, 1e-3)\n",
    "\n",
    "additions2 = np.arange(-2e-3, 3e-3, 1e-3)\n",
    "additions3 = np.arange(-2e-4, 3e-4, 1e-4)\n",
    "\n",
    "vc_range =  vc + additions\n",
    "vd_range =  vd + additions\n",
    "\n",
    "#vxa_range = np.linspace(0, 1e-3, n_ints)\n",
    "#vya_range = np.linspace(0.0, 1e-3, n_ints)\n",
    "vxa_range = vxa + additions2\n",
    "vya_range = vya + additions3\n",
    "\n",
    "vc_range = vc_range[vc_range < 0] \n",
    "vd_range = vd_range[vd_range < 0]\n",
    "\n",
    "vxa_range = vxa_range[vxa_range >= 0]\n",
    "vya_range = vya_range[vya_range >= 0]"
   ]
  },
  {
   "cell_type": "markdown",
   "metadata": {},
   "source": [
    "## The actual parameter space search"
   ]
  },
  {
   "cell_type": "code",
   "execution_count": 26,
   "metadata": {},
   "outputs": [],
   "source": [
    "if parameter_space_search is True:\n",
    "    \n",
    "    metric_to_return = 'R2'\n",
    "    \n",
    "    n_ints = 5\n",
    "\n",
    "    scenario_parameter_list = [vc_range, vd_range, vxa_range, vya_range]\n",
    "\n",
    "    param_combs = list(itertools.product(*scenario_parameter_list))\n",
    "\n",
    "    print('testing %i parameter combinations' % len(param_combs))\n",
    "    print('this may take some time')\n",
    "\n",
    "    error_stats_all = []\n",
    "\n",
    "    nc = len(param_combs)\n",
    "\n",
    "    for i, p in enumerate(param_combs):\n",
    "\n",
    "        if nc > 100 and float(i / 100) == int(i / 100):\n",
    "            print('parameter combination %i of %i' % (i+1, nc))\n",
    "\n",
    "        error_stats = wedgex_model_functions.compare_modelled_and_measured_ages(\n",
    "            p, params_to_change, limit_params, t, x0_samples, \n",
    "             alpha, beta, L, vc, vd, vxa, vya, \n",
    "             surface_temperature_sea_lvl, \n",
    "             lapse_rate, geothermal_gradient,\n",
    "             measured_ages, measured_ages_sigma, resetting_temperatures_samples,\n",
    "             default_exhumation_rate,\n",
    "             metric_to_return)\n",
    "        \n",
    "       # params_to_change, limit_params, t, x0_samples, alpha, beta, L, vc, vd, vxa, vya, \n",
    "       #     surface_temperature_sea_lvl, lapse_rate, geothermal_gradient,\n",
    "       #     measured_ages, measured_ages_sigma, resetting_temperatures_samples, default_exhumation_rate,\n",
    "       #     calibration_metric\n",
    "        \n",
    "        error_stats_all.append(error_stats)\n",
    "\n",
    "    print('done testing parameter combinations')"
   ]
  },
  {
   "cell_type": "code",
   "execution_count": 27,
   "metadata": {},
   "outputs": [],
   "source": [
    "if parameter_space_search is True:\n",
    "    param_combs_array = np.array(param_combs)\n",
    "    model_errors = np.array(error_stats_all)"
   ]
  },
  {
   "cell_type": "markdown",
   "metadata": {},
   "source": [
    "## Make a figure of parameter space search "
   ]
  },
  {
   "cell_type": "code",
   "execution_count": 28,
   "metadata": {},
   "outputs": [],
   "source": [
    "def unique_rows(a):\n",
    "    \"\"\"\n",
    "    remove duplicate rows from an array\n",
    "\n",
    "    found on stackoverflow:\n",
    "    http://stackoverflow.com/questions/8560440/\n",
    "    removing-duplicate-columns-and-rows-from-a-numpy-2d-array\n",
    "\n",
    "    :param a:\n",
    "    :return:\n",
    "    \"\"\"\n",
    "    a = np.ascontiguousarray(a)\n",
    "    unique_a = np.unique(a.view([('', a.dtype)]*a.shape[1]))\n",
    "\n",
    "    return unique_a.view(a.dtype).reshape((unique_a.shape[0], a.shape[1]))\n",
    "\n",
    "if parameter_space_search is True:\n",
    "    z = model_errors[:]\n",
    "\n",
    "    vmin = 0.0\n",
    "    vmax = 1.0\n",
    "\n",
    "    param_combs_plots = [[0, 1], [2, 3]]\n",
    "\n",
    "    ax_labels = [[r'$v_c \\; (m\\;s^{-1})$', r'$v_d \\; (m\\;s^{-1})$'], \n",
    "                 [r'$v_{xa} \\; (m\\;s^{-1})$', r'$v_{ya} \\; (m\\;s^{-1})$']]\n",
    "\n",
    "    fig, axs = pl.subplots(1, 2, figsize=(8, 4))\n",
    "\n",
    "    for ax, pc, al in zip(axs, param_combs_plots, ax_labels):\n",
    "\n",
    "        # get min error for each overlapping pt:\n",
    "        v1 = param_combs_array[:, pc[0]]\n",
    "        v2 = param_combs_array[:, pc[1]]\n",
    "        a = np.vstack([v1, v2]).T\n",
    "        ur = unique_rows(a)\n",
    "\n",
    "        zs = np.zeros(len(ur))\n",
    "\n",
    "        for i, ui in enumerate(ur):\n",
    "            ind = (a[:, 0] == ui[0]) & (a[:, 1] == ui[1])\n",
    "            zs[i] = np.max(z[ind])\n",
    "\n",
    "\n",
    "        sc = ax.scatter(ur[:, 0], ur[:, 1], c=zs,\n",
    "                   vmin=vmin, vmax=vmax, s=100, cmap=cmap)\n",
    "\n",
    "        ax.set_xlabel(al[0])\n",
    "        ax.set_ylabel(al[1])\n",
    "\n",
    "    fig.subplots_adjust(bottom=0.32, wspace=0.5)\n",
    "\n",
    "    cax = fig.add_axes([0.25, 0.12, 0.5, 0.02])\n",
    "\n",
    "    cb = fig.colorbar(sc, cax=cax, orientation='horizontal')\n",
    "    cb.set_label(r'$R^2$')\n",
    "\n",
    "    for i, ax in enumerate(axs):\n",
    "        ax.spines['top'].set_visible(False)\n",
    "        ax.spines['right'].set_visible(False)\n",
    "        ax.text(0.01, 1.01, string.ascii_lowercase[i], \n",
    "                weight='bold', transform=ax.transAxes, \n",
    "                   ha='left', va='bottom', fontsize='medium')\n",
    "\n",
    "    #fig.tight_layout()\n",
    "\n",
    "    fig.savefig('fig/parameter_space_exp.png')\n",
    "    fig.savefig('fig/parameter_space_exp.pdf')\n"
   ]
  },
  {
   "cell_type": "code",
   "execution_count": null,
   "metadata": {},
   "outputs": [],
   "source": []
  }
 ],
 "metadata": {
  "kernelspec": {
   "display_name": "Python 3",
   "language": "python",
   "name": "python3"
  },
  "language_info": {
   "codemirror_mode": {
    "name": "ipython",
    "version": 3
   },
   "file_extension": ".py",
   "mimetype": "text/x-python",
   "name": "python",
   "nbconvert_exporter": "python",
   "pygments_lexer": "ipython3",
   "version": "3.7.0"
  }
 },
 "nbformat": 4,
 "nbformat_minor": 4
}
