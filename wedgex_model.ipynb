{
 "cells": [
  {
   "cell_type": "markdown",
   "metadata": {},
   "source": [
    "# Wedgex\n",
    "\n"
   ]
  },
  {
   "cell_type": "markdown",
   "metadata": {},
   "source": [
    "## Import modules"
   ]
  },
  {
   "cell_type": "code",
   "execution_count": 19,
   "metadata": {},
   "outputs": [],
   "source": [
    "import string\n",
    "import itertools\n",
    "import numpy as np\n",
    "import matplotlib.pyplot as pl\n",
    "import pandas as pd"
   ]
  },
  {
   "cell_type": "markdown",
   "metadata": {},
   "source": [
    "## Define functions"
   ]
  },
  {
   "cell_type": "code",
   "execution_count": 20,
   "metadata": {},
   "outputs": [],
   "source": [
    "def analytical_solution_particle_depth(t, x0, alpha, beta, L, vc, vd):\n",
    "    \n",
    "    v = vc / L\n",
    "    \n",
    "    x = (x0 + vd / v) * np.exp(v * t) - vd/v\n",
    "    #$$x = \\left( x_0 - \\dfrac{v_d}{v} \\right) e^{v t} - \\dfrac{v_d}{v}$$\n",
    "    \n",
    "    C5 = -2 - (beta / (alpha - beta))\n",
    "    #$$C_5 = (-2 - \\dfrac{\\beta}{\\alpha - \\beta})$$\n",
    "    \n",
    "    dc = alpha * x0 - beta * x0 * np.exp(v*t) - (alpha - beta) * x0 * np.exp(C5 * v * t)\n",
    "    \n",
    "    #$$d_c =  \\alpha x_0 - \\beta x_0 e^{v t} - \\left(\\alpha - \\beta \\right) x_0 e^{C_5 v t}$$\n",
    "\n",
    "    dd = -beta * vd * t\n",
    "    \n",
    "    d = dc + dd\n",
    "    \n",
    "    y = alpha * x0 - d\n",
    "    \n",
    "    return x, d"
   ]
  },
  {
   "cell_type": "markdown",
   "metadata": {},
   "source": [
    "## Set up model parameters"
   ]
  },
  {
   "cell_type": "code",
   "execution_count": 21,
   "metadata": {},
   "outputs": [],
   "source": [
    "# compressional velocity\n",
    "vc = -50e3 / 50e6\n",
    "\n",
    "# transport velocity\n",
    "vd = -50e3 / 50e6\n",
    "\n",
    "# lenght of wedge\n",
    "L = 200e3\n",
    "\n",
    "# slope of topography (m/m)\n",
    "alpha = 0.05\n",
    "\n",
    "# slope of bottom of wedge (m/m)\n",
    "beta = -0.1\n",
    "\n",
    "# disctance between surface points (m)\n",
    "x_interval = 1e4\n",
    "\n",
    "# number of rows in the orogenic wedge. Used for figures only, no function in the actual model\n",
    "n_rows = 100\n",
    "\n",
    "# modelled timespan (years)\n",
    "max_time = 1e8\n",
    "\n",
    "# timestep size (years)\n",
    "dt = 1e4\n",
    "\n",
    "# name of file with thermochron data\n",
    "thermochron_data_file = 'data/thermochron_data.csv'\n",
    "\n",
    "# filename for file with modelled ages thermochron samples\n",
    "thermochron_output_file = 'data/modelled_thermochron_data.csv'\n",
    "\n",
    "# file with modelled ages vs distance\n",
    "thermochron_profile_file = 'data/modelled_thermochron_profiles.csv'\n",
    "\n",
    "# names of thermochronometers, should match the names in your input file\n",
    "thermochron_systems = ['AHe', 'AFT', 'ZHe', 'ZFT']\n",
    "\n",
    "# resetting temperatures\n",
    "resetting_temperatures = [70.0, 110.0, 120.0, 200.0]\n",
    "\n",
    "# geothermal gradient, used to convert resetting temp to depth (degr. C/m)\n",
    "geothermal_gradient = 0.03 \n",
    "\n",
    "# surface temperature at sea lvl (degr. C)\n",
    "surface_temperature_sea_lvl = 10.0\n",
    "\n",
    "# adiabatic lapse rate (C/m), used to correct surface temperature for elevation\n",
    "lapse_rate = 6 / 1e3\n",
    "\n",
    "# some figure options\n",
    "fig_output_file = 'fig/model_output_figure.pdf'\n",
    "thermochron_markers = ['o', 'd', 's', '^']\n",
    "thermochron_colors = ['blue', 'orange', 'red', 'black']\n",
    "\n",
    "fs = 'small'"
   ]
  },
  {
   "cell_type": "markdown",
   "metadata": {
    "deletable": true,
    "editable": true
   },
   "source": [
    "## Parameters for particle position over time"
   ]
  },
  {
   "cell_type": "code",
   "execution_count": 22,
   "metadata": {
    "collapsed": false,
    "deletable": true,
    "editable": true,
    "jupyter": {
     "outputs_hidden": false
    }
   },
   "outputs": [
    {
     "name": "stdout",
     "output_type": "stream",
     "text": [
      "particle starting points (m from tip of wedge):\n",
      " [     0.  10000.  20000.  30000.  40000.  50000.  60000.  70000.  80000.\n",
      "  90000. 100000. 110000. 120000. 130000. 140000. 150000. 160000. 170000.\n",
      " 180000. 190000. 200000.]\n",
      "timesteps (yr):\n",
      " [ 0.000e+00 -1.000e-02 -2.000e-02 ... -9.998e+01 -9.999e+01 -1.000e+02]\n"
     ]
    }
   ],
   "source": [
    "# x-coordinates of starting points:\n",
    "x0s = np.arange(0, L + x_interval, x_interval)\n",
    "\n",
    "# timesteps (years)\n",
    "t = np.arange(0, -max_time - dt, -dt)\n",
    "\n",
    "print('particle starting points (m from tip of wedge):\\n', x0s)\n",
    "\n",
    "print('timesteps (yr):\\n', t / 1e6)"
   ]
  },
  {
   "cell_type": "markdown",
   "metadata": {},
   "source": [
    "## Load thermochron data"
   ]
  },
  {
   "cell_type": "code",
   "execution_count": 23,
   "metadata": {},
   "outputs": [],
   "source": [
    "df = pd.read_csv(thermochron_data_file)"
   ]
  },
  {
   "cell_type": "markdown",
   "metadata": {
    "deletable": true,
    "editable": true
   },
   "source": [
    "## Set up geometry of wedge"
   ]
  },
  {
   "cell_type": "code",
   "execution_count": 24,
   "metadata": {
    "collapsed": false,
    "deletable": true,
    "editable": true,
    "jupyter": {
     "outputs_hidden": false
    }
   },
   "outputs": [
    {
     "name": "stdout",
     "output_type": "stream",
     "text": [
      "with the chosen slopes of land surface and wedge bottom/detachment the max height of the wedge is :  30.0  km\n"
     ]
    }
   ],
   "source": [
    "xcoords = np.linspace(0, L, 101)\n",
    "y_top = xcoords * alpha\n",
    "y_bottom = xcoords * beta\n",
    "\n",
    "H = y_top.max() - y_bottom.min()\n",
    "\n",
    "print('with the chosen slopes of land surface and wedge bottom/detachment the max height of '\n",
    "      'the wedge is : ', H / 1e3, ' km')\n",
    "\n",
    "ys = np.zeros((len(xcoords), n_rows))\n",
    "xs = np.zeros_like(ys)\n",
    "ybs = np.zeros_like(ys)\n",
    "\n",
    "for i in range(len(xcoords)):\n",
    "    ys[i, :] = np.linspace(y_bottom[i], y_top[i], n_rows)\n",
    "    xs[i, :] = xcoords[i]\n",
    "    ybs[i, :] = y_bottom[i]"
   ]
  },
  {
   "cell_type": "markdown",
   "metadata": {},
   "source": [
    "## Run model for regular spacing of surface samples for figure"
   ]
  },
  {
   "cell_type": "code",
   "execution_count": 25,
   "metadata": {},
   "outputs": [],
   "source": [
    "# np.array([y_position_over_time_correct_v2(t, x0, alpha, beta, vc, L) for x0 in x0s])\n",
    "\n",
    "xdp = np.array([analytical_solution_particle_depth(t, x0, alpha, beta, L, vc, vd) for x0 in x0s])\n",
    "\n",
    "xp, dp = xdp[:, 0], xdp[:, 1]\n",
    "\n",
    "y0s = x0s * alpha\n",
    "\n",
    "yp = np.array([y0i - dpi for y0i, dpi in zip(y0s, dp)])"
   ]
  },
  {
   "cell_type": "markdown",
   "metadata": {},
   "source": [
    "## Find age vs distance for each thermochronometer"
   ]
  },
  {
   "cell_type": "code",
   "execution_count": 26,
   "metadata": {},
   "outputs": [],
   "source": [
    "#target_depths = [2000.0, 4000.0]\n",
    "y0s = x0s * alpha\n",
    "sT = surface_temperature_sea_lvl - lapse_rate * y0s\n",
    "\n",
    "modelled_ages_th = np.zeros((len(thermochron_systems), x0s.shape[0]))\n",
    "\n",
    "for i, thc, rt in zip(itertools.count(), thermochron_systems, resetting_temperatures):\n",
    "    rds =  (rt - sT) / geothermal_gradient\n",
    "\n",
    "    for j, rd in enumerate(rds):\n",
    "        age_int = np.interp(rd, dp[j], t)\n",
    "        modelled_ages_th[i, j] = age_int"
   ]
  },
  {
   "cell_type": "markdown",
   "metadata": {},
   "source": [
    "## Calculate resetting depth for samples"
   ]
  },
  {
   "cell_type": "code",
   "execution_count": 27,
   "metadata": {},
   "outputs": [
    {
     "data": {
      "text/html": [
       "<div>\n",
       "<style scoped>\n",
       "    .dataframe tbody tr th:only-of-type {\n",
       "        vertical-align: middle;\n",
       "    }\n",
       "\n",
       "    .dataframe tbody tr th {\n",
       "        vertical-align: top;\n",
       "    }\n",
       "\n",
       "    .dataframe thead th {\n",
       "        text-align: right;\n",
       "    }\n",
       "</style>\n",
       "<table border=\"1\" class=\"dataframe\">\n",
       "  <thead>\n",
       "    <tr style=\"text-align: right;\">\n",
       "      <th></th>\n",
       "      <th>distance</th>\n",
       "      <th>elevation</th>\n",
       "      <th>age</th>\n",
       "      <th>thermochronometer</th>\n",
       "      <th>resetting_temp</th>\n",
       "      <th>surface_T</th>\n",
       "      <th>resetting_depth</th>\n",
       "    </tr>\n",
       "  </thead>\n",
       "  <tbody>\n",
       "    <tr>\n",
       "      <th>0</th>\n",
       "      <td>25</td>\n",
       "      <td>500</td>\n",
       "      <td>20</td>\n",
       "      <td>AHe</td>\n",
       "      <td>70.0</td>\n",
       "      <td>7.0</td>\n",
       "      <td>2100.0</td>\n",
       "    </tr>\n",
       "    <tr>\n",
       "      <th>1</th>\n",
       "      <td>50</td>\n",
       "      <td>1000</td>\n",
       "      <td>15</td>\n",
       "      <td>AHe</td>\n",
       "      <td>70.0</td>\n",
       "      <td>4.0</td>\n",
       "      <td>2200.0</td>\n",
       "    </tr>\n",
       "    <tr>\n",
       "      <th>2</th>\n",
       "      <td>100</td>\n",
       "      <td>1500</td>\n",
       "      <td>10</td>\n",
       "      <td>AHe</td>\n",
       "      <td>70.0</td>\n",
       "      <td>1.0</td>\n",
       "      <td>2300.0</td>\n",
       "    </tr>\n",
       "  </tbody>\n",
       "</table>\n",
       "</div>"
      ],
      "text/plain": [
       "   distance  elevation  age thermochronometer  resetting_temp  surface_T  \\\n",
       "0        25        500   20               AHe            70.0        7.0   \n",
       "1        50       1000   15               AHe            70.0        4.0   \n",
       "2       100       1500   10               AHe            70.0        1.0   \n",
       "\n",
       "   resetting_depth  \n",
       "0           2100.0  \n",
       "1           2200.0  \n",
       "2           2300.0  "
      ]
     },
     "execution_count": 27,
     "metadata": {},
     "output_type": "execute_result"
    }
   ],
   "source": [
    "#thermochron_systems = ['AHe', 'AFT', 'ZHe', 'ZFT']\n",
    "#resetting_temperatures = [70.0, 110.0, 120.0, 200.0]\n",
    "#geothermal_gradient = 0.03 \n",
    "#surface_temperature_sea_lvl = 10.0\n",
    "#lapse_rate = 6 / 1e3\n",
    "\n",
    "df['resetting_temp'] = np.nan\n",
    "\n",
    "for thc, rt in zip(thermochron_systems, resetting_temperatures):\n",
    "    \n",
    "    ix = df['thermochronometer'] == thc \n",
    "    df.loc[ix, 'resetting_temp'] = rt\n",
    "    \n",
    "df['surface_T'] = surface_temperature_sea_lvl - lapse_rate * df['elevation']\n",
    "df['resetting_depth'] = (df['resetting_temp'] - df['surface_T']) / geothermal_gradient\n",
    "\n",
    "df.head()"
   ]
  },
  {
   "cell_type": "markdown",
   "metadata": {},
   "source": [
    "### Run model at exact location of surface samples"
   ]
  },
  {
   "cell_type": "code",
   "execution_count": 28,
   "metadata": {},
   "outputs": [],
   "source": [
    "x0_samples = df['distance'].values * 1e3\n",
    "\n",
    "xd_samples = np.array([analytical_solution_particle_depth(t, x0, alpha, beta, L, vc, vd) for x0 in x0_samples])\n",
    "\n",
    "x_samples, d_samples = xd_samples[:, 0], xd_samples[:, 1]\n",
    "\n",
    "y0_samples = x0_samples * alpha\n",
    "\n",
    "y_samples = np.array([y0i - dpi for y0i, dpi in zip(y0_samples, d_samples)])"
   ]
  },
  {
   "cell_type": "markdown",
   "metadata": {},
   "source": [
    "## Get the modelled ages from the model output"
   ]
  },
  {
   "cell_type": "code",
   "execution_count": 29,
   "metadata": {},
   "outputs": [
    {
     "data": {
      "text/html": [
       "<div>\n",
       "<style scoped>\n",
       "    .dataframe tbody tr th:only-of-type {\n",
       "        vertical-align: middle;\n",
       "    }\n",
       "\n",
       "    .dataframe tbody tr th {\n",
       "        vertical-align: top;\n",
       "    }\n",
       "\n",
       "    .dataframe thead th {\n",
       "        text-align: right;\n",
       "    }\n",
       "</style>\n",
       "<table border=\"1\" class=\"dataframe\">\n",
       "  <thead>\n",
       "    <tr style=\"text-align: right;\">\n",
       "      <th></th>\n",
       "      <th>distance</th>\n",
       "      <th>elevation</th>\n",
       "      <th>age</th>\n",
       "      <th>thermochronometer</th>\n",
       "      <th>resetting_temp</th>\n",
       "      <th>surface_T</th>\n",
       "      <th>resetting_depth</th>\n",
       "      <th>modelled_age</th>\n",
       "    </tr>\n",
       "  </thead>\n",
       "  <tbody>\n",
       "    <tr>\n",
       "      <th>0</th>\n",
       "      <td>25</td>\n",
       "      <td>500</td>\n",
       "      <td>20</td>\n",
       "      <td>AHe</td>\n",
       "      <td>70.0</td>\n",
       "      <td>7.0</td>\n",
       "      <td>2100.0</td>\n",
       "      <td>15.355894</td>\n",
       "    </tr>\n",
       "    <tr>\n",
       "      <th>1</th>\n",
       "      <td>50</td>\n",
       "      <td>1000</td>\n",
       "      <td>15</td>\n",
       "      <td>AHe</td>\n",
       "      <td>70.0</td>\n",
       "      <td>4.0</td>\n",
       "      <td>2200.0</td>\n",
       "      <td>12.661418</td>\n",
       "    </tr>\n",
       "    <tr>\n",
       "      <th>2</th>\n",
       "      <td>100</td>\n",
       "      <td>1500</td>\n",
       "      <td>10</td>\n",
       "      <td>AHe</td>\n",
       "      <td>70.0</td>\n",
       "      <td>1.0</td>\n",
       "      <td>2300.0</td>\n",
       "      <td>9.268595</td>\n",
       "    </tr>\n",
       "  </tbody>\n",
       "</table>\n",
       "</div>"
      ],
      "text/plain": [
       "   distance  elevation  age thermochronometer  resetting_temp  surface_T  \\\n",
       "0        25        500   20               AHe            70.0        7.0   \n",
       "1        50       1000   15               AHe            70.0        4.0   \n",
       "2       100       1500   10               AHe            70.0        1.0   \n",
       "\n",
       "   resetting_depth  modelled_age  \n",
       "0           2100.0     15.355894  \n",
       "1           2200.0     12.661418  \n",
       "2           2300.0      9.268595  "
      ]
     },
     "execution_count": 29,
     "metadata": {},
     "output_type": "execute_result"
    }
   ],
   "source": [
    "target_depths_samples = df['resetting_depth'].values\n",
    "\n",
    "n_samples = len(df)\n",
    "\n",
    "modelled_age_samples = np.zeros((n_samples))\n",
    "\n",
    "for j, td in zip(list(range(n_samples)), target_depths_samples):\n",
    "    age_int = np.interp(td, d_samples[j], t)\n",
    "    modelled_age_samples[j] = age_int\n",
    "\n",
    "df['modelled_age'] = -modelled_age_samples / 1e6\n",
    "\n",
    "df.head()"
   ]
  },
  {
   "cell_type": "markdown",
   "metadata": {},
   "source": [
    "## Compare modelled and measured depth vs t data"
   ]
  },
  {
   "cell_type": "code",
   "execution_count": 30,
   "metadata": {},
   "outputs": [
    {
     "data": {
      "text/html": [
       "<div>\n",
       "<style scoped>\n",
       "    .dataframe tbody tr th:only-of-type {\n",
       "        vertical-align: middle;\n",
       "    }\n",
       "\n",
       "    .dataframe tbody tr th {\n",
       "        vertical-align: top;\n",
       "    }\n",
       "\n",
       "    .dataframe thead th {\n",
       "        text-align: right;\n",
       "    }\n",
       "</style>\n",
       "<table border=\"1\" class=\"dataframe\">\n",
       "  <thead>\n",
       "    <tr style=\"text-align: right;\">\n",
       "      <th></th>\n",
       "      <th>distance</th>\n",
       "      <th>elevation</th>\n",
       "      <th>age</th>\n",
       "      <th>thermochronometer</th>\n",
       "      <th>resetting_temp</th>\n",
       "      <th>surface_T</th>\n",
       "      <th>resetting_depth</th>\n",
       "      <th>modelled_age</th>\n",
       "      <th>R2 for all samples combined</th>\n",
       "    </tr>\n",
       "  </thead>\n",
       "  <tbody>\n",
       "    <tr>\n",
       "      <th>0</th>\n",
       "      <td>25</td>\n",
       "      <td>500</td>\n",
       "      <td>20</td>\n",
       "      <td>AHe</td>\n",
       "      <td>70.0</td>\n",
       "      <td>7.0</td>\n",
       "      <td>2100.0</td>\n",
       "      <td>15.355894</td>\n",
       "      <td>0.448567</td>\n",
       "    </tr>\n",
       "    <tr>\n",
       "      <th>1</th>\n",
       "      <td>50</td>\n",
       "      <td>1000</td>\n",
       "      <td>15</td>\n",
       "      <td>AHe</td>\n",
       "      <td>70.0</td>\n",
       "      <td>4.0</td>\n",
       "      <td>2200.0</td>\n",
       "      <td>12.661418</td>\n",
       "      <td>0.448567</td>\n",
       "    </tr>\n",
       "    <tr>\n",
       "      <th>2</th>\n",
       "      <td>100</td>\n",
       "      <td>1500</td>\n",
       "      <td>10</td>\n",
       "      <td>AHe</td>\n",
       "      <td>70.0</td>\n",
       "      <td>1.0</td>\n",
       "      <td>2300.0</td>\n",
       "      <td>9.268595</td>\n",
       "      <td>0.448567</td>\n",
       "    </tr>\n",
       "  </tbody>\n",
       "</table>\n",
       "</div>"
      ],
      "text/plain": [
       "   distance  elevation  age thermochronometer  resetting_temp  surface_T  \\\n",
       "0        25        500   20               AHe            70.0        7.0   \n",
       "1        50       1000   15               AHe            70.0        4.0   \n",
       "2       100       1500   10               AHe            70.0        1.0   \n",
       "\n",
       "   resetting_depth  modelled_age  R2 for all samples combined  \n",
       "0           2100.0     15.355894                     0.448567  \n",
       "1           2200.0     12.661418                     0.448567  \n",
       "2           2300.0      9.268595                     0.448567  "
      ]
     },
     "execution_count": 30,
     "metadata": {},
     "output_type": "execute_result"
    }
   ],
   "source": [
    "def coefficient_of_determination(y, f):\n",
    "    '''\n",
    "    calculate coefficient of determination\n",
    "    \n",
    "    Parameters\n",
    "    ----------\n",
    "    y : numpy array\n",
    "        observed values\n",
    "    f : numpy array\n",
    "        calculated values\n",
    "        \n",
    "    Returns\n",
    "    -------\n",
    "    R2 : float\n",
    "        coefficient of determination\n",
    "    \n",
    "    '''\n",
    "    ind = (np.isnan(y)==False) & (np.isnan(f)==False) & \\\n",
    "        (y != -np.inf) & (y != np.inf) &\\\n",
    "        (f != -np.inf) & (f != np.inf) \n",
    "    \n",
    "    yc = y[ind]\n",
    "    fc = f[ind]\n",
    "\n",
    "    # residual sum of squares\n",
    "    SS_res = np.sum((yc - fc)**2)\n",
    "    # total sum of squares\n",
    "    SS_tot = np.sum((yc - np.mean(yc))**2)\n",
    "    \n",
    "    R2 = 1.0 - (SS_res / SS_tot)\n",
    "    \n",
    "    return R2\n",
    "\n",
    "R2 = coefficient_of_determination(df['age'], df['modelled_age'])\n",
    "\n",
    "df['R2 for all samples combined'] = R2\n",
    "\n",
    "df.head()"
   ]
  },
  {
   "cell_type": "markdown",
   "metadata": {},
   "source": [
    "## Make a figure of the results"
   ]
  },
  {
   "cell_type": "code",
   "execution_count": 34,
   "metadata": {
    "editable": true
   },
   "outputs": [
    {
     "name": "stderr",
     "output_type": "stream",
     "text": [
      "/usr/local/lib/python3.6/dist-packages/ipykernel_launcher.py:32: RuntimeWarning: invalid value encountered in greater\n"
     ]
    },
    {
     "name": "stdout",
     "output_type": "stream",
     "text": [
      "saving figure as fig/model_output_figure.pdf\n"
     ]
    },
    {
     "data": {
      "image/png": "[encoded data removed]",
      "text/plain": [
       "<Figure size 576x432 with 2 Axes>"
      ]
     },
     "metadata": {
      "needs_background": "light"
     },
     "output_type": "display_data"
    }
   ],
   "source": [
    "target_ts = [5e6, 10e6, 50e6, 100e6]\n",
    "\n",
    "xpi, ypi = xp, yp\n",
    "dpi = dp\n",
    "\n",
    "fig, axs = pl.subplots(2, 1, figsize=(8, 6))\n",
    "\n",
    "############################\n",
    "# panel with time at depth=x\n",
    "############################\n",
    "for i, thc, c in zip(itertools.count(), thermochron_systems,  thermochron_colors):\n",
    "    axs[0].plot(x0s / 1e3, -modelled_ages_th[i] / 1e6, label='%s model' % thc, color=c)\n",
    "\n",
    "    \n",
    "for thc, m, c in zip(thermochron_systems, thermochron_markers, thermochron_colors):\n",
    "    \n",
    "    ix = df['thermochronometer'] == thc\n",
    "    \n",
    "    if np.any(ix) == True:\n",
    "        axs[0].scatter(df.loc[ix, 'distance'], df.loc[ix, 'age'], label='%s data' % thc, color=c, marker=m)\n",
    "\n",
    "axs[0].set_ylabel('Age (Ma)')\n",
    "\n",
    "axs[0].legend(fontsize=fs)\n",
    "\n",
    "#######################\n",
    "# particle trajectories\n",
    "#######################\n",
    "\n",
    "ax = axs[-1]\n",
    "\n",
    "ind = xpi > L\n",
    "xpi[ind] = np.nan\n",
    "ypi[ind] = np.nan\n",
    "\n",
    "for xl, yl in zip(xpi, ypi):\n",
    "    leg_traj, = ax.plot(xl / 1e3, yl / 1e3)\n",
    "\n",
    "nt = xpi.shape[1]\n",
    "\n",
    "isochron_ts = np.linspace(0, nt - 1, 5).astype(int)\n",
    "\n",
    "for nti in isochron_ts:\n",
    "    #leg_ts =  ax.scatter(xpi[:, nti] / 1e3, ypi[:, nti] / 1e3, s=20, color='black')\n",
    "    leg_tsl, =  ax.plot(xpi[:, nti] / 1e3, ypi[:, nti] / 1e3, color='gray', ls='-')\n",
    "    pass\n",
    "\n",
    "legs_tc = []\n",
    "labels_tc = []\n",
    "\n",
    "for thc, m, c in zip(thermochron_systems, thermochron_markers, thermochron_colors):\n",
    "    \n",
    "    ix = df['thermochronometer'] == thc\n",
    "        \n",
    "    if np.any(ix) == True:\n",
    "        labels_tc.append('%s data' % thc)\n",
    "        li = ax.scatter(df.loc[ix, 'distance'], df.loc[ix, 'elevation'] / 1e3, color=c, marker=m)\n",
    "        legs_tc.append(li)\n",
    "        \n",
    "#leg_s = ax.scatter(df['distance'], df['elevation'] / 1e3, label='thermochron samples')\n",
    "\n",
    "leg_bnd, = ax.plot(xcoords / 1e3, y_top / 1e3, color='black', ls='--', lw=1.5)\n",
    "ax.plot(xcoords / 1e3, y_bottom / 1e3, color='black', ls='--', lw=1.5)\n",
    "\n",
    "ax.set_xlabel('Distance from tip of wedge (km)')\n",
    "ax.set_ylabel('Elevation (km)')\n",
    "\n",
    "#ax.set_aspect('equal')\n",
    "\n",
    "for i, ax in enumerate(axs):\n",
    "    ax.spines['top'].set_visible(False)\n",
    "    ax.spines['right'].set_visible(False)\n",
    "    ax.text(0.01, 1.01, string.ascii_lowercase[i], \n",
    "            weight='bold', transform=ax.transAxes, \n",
    "               ha='left', va='bottom', fontsize='medium')\n",
    "\n",
    "legs = [leg_traj, leg_tsl, leg_bnd] + legs_tc\n",
    "labels = ['particle trajectories', 'isochron', 'wedge boundary'] + labels_tc\n",
    "axs[-1].legend(legs, labels, loc='lower left', ncol=2, fontsize=fs)\n",
    "\n",
    "fig.tight_layout()\n",
    "\n",
    "print('saving figure as %s' % fig_output_file)\n",
    "fig.savefig(fig_output_file)\n"
   ]
  },
  {
   "cell_type": "markdown",
   "metadata": {},
   "source": [
    "## Save the file with the modelled ages"
   ]
  },
  {
   "cell_type": "code",
   "execution_count": 32,
   "metadata": {},
   "outputs": [
    {
     "name": "stdout",
     "output_type": "stream",
     "text": [
      "saving modelled ages thermochron samples to data/modelled_thermochron_data.csv\n"
     ]
    }
   ],
   "source": [
    "df['L'] = L\n",
    "df['alpha'] = alpha\n",
    "df['beta'] = beta\n",
    "df['vd'] = vd\n",
    "df['vc'] = vc\n",
    "df['geothermal_gradient'] = geothermal_gradient\n",
    "\n",
    "print('saving modelled ages thermochron samples to %s' % thermochron_output_file)\n",
    "df.to_csv(thermochron_output_file)"
   ]
  },
  {
   "cell_type": "markdown",
   "metadata": {},
   "source": [
    "## Save modelled themrochron distance vs age profiles"
   ]
  },
  {
   "cell_type": "code",
   "execution_count": 33,
   "metadata": {},
   "outputs": [
    {
     "name": "stdout",
     "output_type": "stream",
     "text": [
      "saving modelled thermochron profiles as data/modelled_thermochron_profiles.csv\n"
     ]
    }
   ],
   "source": [
    "cols = thermochron_systems\n",
    "index = x0s\n",
    "\n",
    "dp = pd.DataFrame(index=index, columns=cols)\n",
    "\n",
    "for i, col in enumerate(cols):\n",
    "    dp[col] = - modelled_ages_th[i] / 1e6\n",
    "    \n",
    "dp['L'] = L\n",
    "dp['alpha'] = alpha\n",
    "dp['beta'] = beta\n",
    "dp['vd'] = vd\n",
    "dp['vc'] = vc\n",
    "dp['geothermal_gradient'] = geothermal_gradient\n",
    "\n",
    "print('saving modelled thermochron profiles as %s' % thermochron_profile_file)\n",
    "dp.to_csv(thermochron_profile_file, index_label='distance')"
   ]
  }
 ],
 "metadata": {
  "kernelspec": {
   "display_name": "Python 3",
   "language": "python3",
   "name": "python3"
  },
  "language_info": {
   "codemirror_mode": {
    "name": "ipython",
    "version": 3
   },
   "file_extension": ".py",
   "mimetype": "text/x-python",
   "name": "python",
   "nbconvert_exporter": "python",
   "pygments_lexer": "ipython3",
   "version": "3.6.9"
  }
 },
 "nbformat": 4,
 "nbformat_minor": 2
}
