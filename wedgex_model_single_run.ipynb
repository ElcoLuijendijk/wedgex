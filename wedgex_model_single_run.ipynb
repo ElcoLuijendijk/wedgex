{
 "cells": [
  {
   "cell_type": "markdown",
   "metadata": {},
   "source": [
    "# Wedgex\n",
    "\n",
    "Use an analytical solution to particle trajectories in an orogenic wedge, use the particle depths to calculate thermochronometer cooling ages and compare to thermochronology data.\n",
    "\n",
    "The default parameters and data are based on a cross-section in the Himalayas as published by McQuarrie and Ehlers (2015) Tectonics, https://doi.org/10.1002/2014TC003783\n",
    "\n",
    "The model parameters, such as compression and accretion velocities can be specified below in the Model Parameters box "
   ]
  },
  {
   "cell_type": "markdown",
   "metadata": {},
   "source": [
    "## Import modules"
   ]
  },
  {
   "cell_type": "code",
   "execution_count": 1,
   "metadata": {},
   "outputs": [],
   "source": [
    "import string\n",
    "import itertools\n",
    "import numpy as np\n",
    "import matplotlib.pyplot as pl\n",
    "import pandas as pd\n",
    "\n",
    "import sklearn.metrics\n",
    "\n",
    "import scipy.optimize\n",
    "\n",
    "# equations for particle trajectories\n",
    "import wedgeqs"
   ]
  },
  {
   "cell_type": "markdown",
   "metadata": {},
   "source": [
    "## Filenames"
   ]
  },
  {
   "cell_type": "code",
   "execution_count": 2,
   "metadata": {},
   "outputs": [],
   "source": [
    "# name of file with thermochron data\n",
    "thermochron_data_file = 'data/thermochron_data_projected.csv'\n",
    "\n",
    "# column with distance\n",
    "distance_column = 'projected_distance_along_xsection'\n",
    "thermochronometer_col = 'system'\n",
    "\n",
    "# filename for output file with modelled ages thermochron samples\n",
    "thermochron_output_file = 'data/modelled_thermochron_data.csv'\n",
    "\n",
    "# output file with modelled ages vs distance\n",
    "thermochron_profile_file = 'data/modelled_thermochron_profiles.csv'"
   ]
  },
  {
   "cell_type": "markdown",
   "metadata": {},
   "source": [
    "## Model parameters"
   ]
  },
  {
   "cell_type": "code",
   "execution_count": 3,
   "metadata": {},
   "outputs": [],
   "source": [
    "# avg. convergence McQuarrie & Ehlers(2015) = 18 mm/yr\n",
    "\n",
    "#  best-fit params\n",
    "# -0.00404647 -0.00844319  0.00026324\n",
    "\n",
    "# compressional velocity\n",
    "#vc = -18e-3\n",
    "#vc = -7e-3\n",
    "vc = -0.00404647\n",
    "\n",
    "# transport velocity\n",
    "vd = 0.0\n",
    "\n",
    "# accretion velcotiy\n",
    "#vxa = 0.0\n",
    "vxa = -0.00844319\n",
    "\n",
    "#vya = 0.0\n",
    "vya = 0.00026324\n",
    "\n",
    "# lenght of wedge\n",
    "L = 200e3\n",
    "\n",
    "# slope of topography (m/m)\n",
    "# for McQuarrie & Ehlers: ~ 4km over 117 km \n",
    "alpha = 0.034\n",
    "\n",
    "# slope of bottom of wedge (m/m)\n",
    "# for McQuarrie & Ehlers: detachment depth at N edge xsection (117 km) = ~20 km\n",
    "beta = -0.17\n",
    "\n",
    "# disctance between surface points (m)\n",
    "x_interval = 5e3\n",
    "\n",
    "x_first_pt = 1e3\n",
    "\n",
    "# number of rows in the orogenic wedge. Used for figures only, no function in the actual model\n",
    "n_rows = 100\n",
    "\n",
    "# modelled timespan (years)\n",
    "max_time = 1e8\n",
    "\n",
    "# timestep size (years)\n",
    "dt = 1e4\n",
    "\n",
    "# names of thermochronometers, should match the names in your input file\n",
    "thermochron_systems = ['AHe', 'AFT', 'ZHe', 'ZFT', 'MAr']\n",
    "\n",
    "# resetting temperatures\n",
    "resetting_temperatures = [70.0, 110.0, 180.0, 230.0, 325.0]\n",
    "\n",
    "# geothermal gradient, used to convert resetting temp to depth (degr. C/m)\n",
    "# 10-20 C per km (Coutand et al. 2014)\n",
    "geothermal_gradient = 0.015 \n",
    "\n",
    "# surface temperature at sea lvl (degr. C)\n",
    "surface_temperature_sea_lvl = 24.0\n",
    "\n",
    "# adiabatic lapse rate (C/m), used to correct surface temperature for elevation\n",
    "lapse_rate = 7 / 1e3\n",
    "\n"
   ]
  },
  {
   "cell_type": "markdown",
   "metadata": {},
   "source": [
    "## Options for figures"
   ]
  },
  {
   "cell_type": "code",
   "execution_count": 4,
   "metadata": {},
   "outputs": [],
   "source": [
    "# some figure options\n",
    "fig_output_file = 'fig/model_output_figure.pdf'\n",
    "thermochron_markers = ['o', 'd', 's', '^', 'h']\n",
    "thermochron_colors = ['darkblue', 'blue', 'green', 'red', 'orange']\n",
    "\n",
    "# maximum thermochron age on y-axis\n",
    "max_age_fig = 20.0\n",
    "\n",
    "fs = 'small'"
   ]
  },
  {
   "cell_type": "markdown",
   "metadata": {
    "deletable": true,
    "editable": true
   },
   "source": [
    "## Set up initial particle positions and timesteps"
   ]
  },
  {
   "cell_type": "code",
   "execution_count": 5,
   "metadata": {
    "collapsed": false,
    "deletable": true,
    "editable": true,
    "jupyter": {
     "outputs_hidden": false
    }
   },
   "outputs": [
    {
     "name": "stdout",
     "output_type": "stream",
     "text": [
      "particle starting points (m from tip of wedge):\n",
      " [  1000.   5000.  10000.  15000.  20000.  25000.  30000.  35000.  40000.\n",
      "  45000.  50000.  55000.  60000.  65000.  70000.  75000.  80000.  85000.\n",
      "  90000.  95000. 100000. 105000. 110000. 115000. 120000. 125000. 130000.\n",
      " 135000. 140000. 145000. 150000. 155000. 160000. 165000. 170000. 175000.\n",
      " 180000. 185000. 190000. 195000. 200000.]\n",
      "timesteps (yr):\n",
      " [ 0.000e+00 -1.000e-02 -2.000e-02 ... -9.998e+01 -9.999e+01 -1.000e+02]\n"
     ]
    }
   ],
   "source": [
    "# x-coordinates of starting points:\n",
    "x0s = np.arange(0, L + x_interval, x_interval)\n",
    "x0s[0] = x_first_pt\n",
    "\n",
    "# timesteps (years)\n",
    "t = np.arange(0, -max_time - dt, -dt)\n",
    "\n",
    "print('particle starting points (m from tip of wedge):\\n', x0s)\n",
    "\n",
    "print('timesteps (yr):\\n', t / 1e6)"
   ]
  },
  {
   "cell_type": "markdown",
   "metadata": {},
   "source": [
    "## Load thermochron data"
   ]
  },
  {
   "cell_type": "code",
   "execution_count": 6,
   "metadata": {},
   "outputs": [
    {
     "name": "stdout",
     "output_type": "stream",
     "text": [
      "thermochron data systems in file:  ['ZHe' 'AFT' 'MAr']\n"
     ]
    }
   ],
   "source": [
    "df = pd.read_csv(thermochron_data_file)\n",
    "\n",
    "print('thermochron data systems in file: ', df[thermochronometer_col].unique())"
   ]
  },
  {
   "cell_type": "markdown",
   "metadata": {},
   "source": [
    "## Remove anomalously old ages"
   ]
  },
  {
   "cell_type": "code",
   "execution_count": 7,
   "metadata": {},
   "outputs": [
    {
     "name": "stdout",
     "output_type": "stream",
     "text": [
      "count      37.000000\n",
      "mean       72.310000\n",
      "std       278.836678\n",
      "min         2.700000\n",
      "25%         4.790000\n",
      "50%         8.400000\n",
      "75%         9.680000\n",
      "max      1395.700000\n",
      "Name: age, dtype: float64\n",
      "count    35.00000\n",
      "mean      7.39600\n",
      "std       3.01538\n",
      "min       2.70000\n",
      "25%       4.65500\n",
      "50%       7.50000\n",
      "75%       9.40000\n",
      "max      14.78000\n",
      "Name: age, dtype: float64\n"
     ]
    }
   ],
   "source": [
    "print(df['age'].describe())\n",
    "df = df[df['age'] < 100.0]\n",
    "print(df['age'].describe())"
   ]
  },
  {
   "cell_type": "markdown",
   "metadata": {
    "deletable": true,
    "editable": true
   },
   "source": [
    "## Set up geometry of wedge"
   ]
  },
  {
   "cell_type": "code",
   "execution_count": 8,
   "metadata": {
    "collapsed": false,
    "deletable": true,
    "editable": true,
    "jupyter": {
     "outputs_hidden": false
    }
   },
   "outputs": [
    {
     "name": "stdout",
     "output_type": "stream",
     "text": [
      "with the chosen slopes of land surface and wedge bottom/detachment the max height of the wedge is :  40.8  km\n"
     ]
    }
   ],
   "source": [
    "xcoords = np.linspace(0, L, 101)\n",
    "y_top = xcoords * alpha\n",
    "y_bottom = xcoords * beta\n",
    "\n",
    "H = y_top.max() - y_bottom.min()\n",
    "\n",
    "print('with the chosen slopes of land surface and wedge bottom/detachment the max height of '\n",
    "      'the wedge is : ', H / 1e3, ' km')\n",
    "\n",
    "ys = np.zeros((len(xcoords), n_rows))\n",
    "xs = np.zeros_like(ys)\n",
    "ybs = np.zeros_like(ys)\n",
    "\n",
    "for i in range(len(xcoords)):\n",
    "    ys[i, :] = np.linspace(y_bottom[i], y_top[i], n_rows)\n",
    "    xs[i, :] = xcoords[i]\n",
    "    ybs[i, :] = y_bottom[i]"
   ]
  },
  {
   "cell_type": "markdown",
   "metadata": {},
   "source": [
    "## Run model for regular spacing of surface samples for figure"
   ]
  },
  {
   "cell_type": "code",
   "execution_count": 9,
   "metadata": {},
   "outputs": [],
   "source": [
    "# analytical solution for particle trajectories\n",
    "xyp = np.array([wedgeqs.analytical_solution(t, x0, alpha, beta, L, vc, vd, vxa, vya) for x0 in x0s])\n",
    "\n",
    "# get x and y coordinates particles\n",
    "xp, yp = xyp[:, 0], xyp[:, 1]\n",
    "\n",
    "# calculate depth of the particles\n",
    "yp0 = xp * alpha\n",
    "dp = yp0 - yp"
   ]
  },
  {
   "cell_type": "markdown",
   "metadata": {},
   "source": [
    "## Calculate cooling ages for age vs distance curves"
   ]
  },
  {
   "cell_type": "code",
   "execution_count": 10,
   "metadata": {},
   "outputs": [],
   "source": [
    "#target_depths = [2000.0, 4000.0]\n",
    "# surface elevation\n",
    "y0s = x0s * alpha\n",
    "\n",
    "# surface temperature\n",
    "sT = surface_temperature_sea_lvl - lapse_rate * y0s\n",
    "\n",
    "modelled_ages_th = np.zeros((len(thermochron_systems), x0s.shape[0]))\n",
    "\n",
    "for i, thc, rt in zip(itertools.count(), thermochron_systems, resetting_temperatures):\n",
    "    rds =  (rt - sT) / geothermal_gradient\n",
    "\n",
    "    for j, rd in enumerate(rds):\n",
    "        age_int = np.interp(rd, dp[j], t)\n",
    "        modelled_ages_th[i, j] = age_int"
   ]
  },
  {
   "cell_type": "markdown",
   "metadata": {},
   "source": [
    "## Calculate resetting depth for sample positions"
   ]
  },
  {
   "cell_type": "code",
   "execution_count": 11,
   "metadata": {},
   "outputs": [],
   "source": [
    "df['resetting_temp'] = np.nan\n",
    "\n",
    "for thc, rt in zip(thermochron_systems, resetting_temperatures):\n",
    "    \n",
    "    ix = df[thermochronometer_col] == thc \n",
    "    df.loc[ix, 'resetting_temp'] = rt\n",
    "\n",
    "# calculate surface temperature\n",
    "df['surface_T'] = surface_temperature_sea_lvl - lapse_rate * df['elevation']\n",
    "df['resetting_depth'] = (df['resetting_temp'] - df['surface_T']) / geothermal_gradient\n",
    "\n",
    "#df.head()"
   ]
  },
  {
   "cell_type": "markdown",
   "metadata": {},
   "source": [
    "## Run model at exact location of surface samples"
   ]
  },
  {
   "cell_type": "code",
   "execution_count": 12,
   "metadata": {},
   "outputs": [],
   "source": [
    "# get sample positions from dataframe\n",
    "x0_samples = df[distance_column]\n",
    "\n",
    "# use analytical solution to calculate particle trajectories\n",
    "xy_samples = np.array([wedgeqs.analytical_solution(t, x0, alpha, beta, L, vc, vd, vxa, vya) \n",
    "                       for x0 in x0_samples])\n",
    "\n",
    "# get x and y coordinates\n",
    "x_samples, y_samples = xy_samples[:, 0], xy_samples[:, 1]\n",
    "\n",
    "# calculate depths\n",
    "y0_samples = x_samples * alpha\n",
    "d_samples = y0_samples - y_samples"
   ]
  },
  {
   "cell_type": "markdown",
   "metadata": {},
   "source": [
    "## Calculate modelled ages for samples"
   ]
  },
  {
   "cell_type": "code",
   "execution_count": 13,
   "metadata": {},
   "outputs": [],
   "source": [
    "target_temp_samples = df['resetting_temp'].values\n",
    "\n",
    "n_samples = len(df)\n",
    "\n",
    "modelled_age_samples = np.zeros((n_samples))\n",
    "\n",
    "for j, tt, y0s, xs, ds in zip(list(range(n_samples)), target_temp_samples, \n",
    "                              y0_samples, x_samples, d_samples):\n",
    "    \n",
    "    surface_Ts = surface_temperature_sea_lvl + y0s * lapse_rate\n",
    "    \n",
    "    T_sample = surface_Ts + ds * geothermal_gradient\n",
    "    \n",
    "    age_int = np.interp(tt, T_sample, t)\n",
    "    modelled_age_samples[j] = age_int\n",
    "\n",
    "df['modelled_age'] = -modelled_age_samples / 1e6"
   ]
  },
  {
   "cell_type": "markdown",
   "metadata": {},
   "source": [
    "## Compare modelled and measured depth vs t data"
   ]
  },
  {
   "cell_type": "code",
   "execution_count": 14,
   "metadata": {},
   "outputs": [
    {
     "name": "stdout",
     "output_type": "stream",
     "text": [
      "MAE value modelled and measured ages =  3.6863161925358106\n",
      "R2 value modelled and measured ages =  -26.38567188939421\n"
     ]
    }
   ],
   "source": [
    "ind_ok = df[['age', 'modelled_age']].notnull().all(axis=1)\n",
    "\n",
    "R2 = sklearn.metrics.r2_score(df.loc[ind_ok, 'age'], df.loc[ind_ok, 'modelled_age'])\n",
    "MAE = sklearn.metrics.mean_absolute_error(df.loc[ind_ok, 'age'], df.loc[ind_ok, 'modelled_age'])\n",
    "\n",
    "df.loc[ind_ok, 'R2 for all samples combined'] = R2\n",
    "df.loc[ind_ok, 'MAE for all samples combined'] = MAE\n",
    "\n",
    "print('MAE value modelled and measured ages = ', MAE)\n",
    "print('R2 value modelled and measured ages = ', R2)\n"
   ]
  },
  {
   "cell_type": "markdown",
   "metadata": {},
   "source": [
    "## Make a figure of the results"
   ]
  },
  {
   "cell_type": "code",
   "execution_count": 15,
   "metadata": {
    "editable": true
   },
   "outputs": [
    {
     "name": "stdout",
     "output_type": "stream",
     "text": [
      "saving figure as fig/model_output_figure.pdf\n"
     ]
    },
    {
     "data": {
      "image/png": "[encoded data removed]",
      "text/plain": [
       "<Figure size 576x432 with 2 Axes>"
      ]
     },
     "metadata": {
      "needs_background": "light"
     },
     "output_type": "display_data"
    }
   ],
   "source": [
    "target_ts = [5e6, 10e6, 50e6, 100e6]\n",
    "\n",
    "xpi, ypi = xp, yp\n",
    "dpi = dp\n",
    "\n",
    "fig, axs = pl.subplots(2, 1, figsize=(8, 6))\n",
    "\n",
    "############################\n",
    "# panel with time at depth=x\n",
    "############################\n",
    "for i, thc, c in zip(itertools.count(), thermochron_systems,  thermochron_colors):\n",
    "    if thc in df[thermochronometer_col].values:\n",
    "        axs[0].plot(x0s / 1e3, -modelled_ages_th[i] / 1e6, label='%s model' % thc, color=c)\n",
    "\n",
    "    \n",
    "for thc, m, c in zip(thermochron_systems, thermochron_markers, thermochron_colors):\n",
    "    \n",
    "    ix = df[thermochronometer_col] == thc\n",
    "    \n",
    "    if np.any(ix) == True:\n",
    "        axs[0].scatter(df.loc[ix, distance_column] / 1e3, df.loc[ix, 'age'], label='%s data' % thc, color=c, marker=m)\n",
    "\n",
    "axs[0].set_ylim(0, max_age_fig)\n",
    "        \n",
    "axs[0].set_ylabel('Age (Ma)')\n",
    "\n",
    "axs[0].legend(fontsize=fs)\n",
    "\n",
    "#######################\n",
    "# particle trajectories\n",
    "#######################\n",
    "\n",
    "ax = axs[-1]\n",
    "\n",
    "ind = xpi > L\n",
    "xpi[ind] = np.nan\n",
    "ypi[ind] = np.nan\n",
    "\n",
    "for xl, yl in zip(xpi, ypi):\n",
    "    leg_traj, = ax.plot(xl / 1e3, yl / 1e3)\n",
    "\n",
    "nt = xpi.shape[1]\n",
    "\n",
    "isochron_ts = np.linspace(0, nt - 1, 5).astype(int)\n",
    "\n",
    "for nti in isochron_ts:\n",
    "    #leg_ts =  ax.scatter(xpi[:, nti] / 1e3, ypi[:, nti] / 1e3, s=20, color='black')\n",
    "    leg_tsl, =  ax.plot(xpi[:, nti] / 1e3, ypi[:, nti] / 1e3, color='gray', ls='-')\n",
    "    pass\n",
    "\n",
    "legs_tc = []\n",
    "labels_tc = []\n",
    "\n",
    "for thc, m, c in zip(thermochron_systems[::-1], thermochron_markers[::-1], thermochron_colors[::-1]):\n",
    "    \n",
    "    ix = df[thermochronometer_col] == thc\n",
    "        \n",
    "    if np.any(ix) == True:\n",
    "        labels_tc.append('%s data' % thc)\n",
    "        li = ax.scatter(df.loc[ix, distance_column] / 1e3, df.loc[ix, 'elevation'] / 1e3, color=c, marker=m)\n",
    "        legs_tc.append(li)\n",
    "        \n",
    "#leg_s = ax.scatter(df['distance'], df['elevation'] / 1e3, label='thermochron samples')\n",
    "\n",
    "leg_bnd, = ax.plot(xcoords / 1e3, y_top / 1e3, color='black', ls='--', lw=1.5)\n",
    "ax.plot(xcoords / 1e3, y_bottom / 1e3, color='black', ls='--', lw=1.5)\n",
    "\n",
    "ax.set_xlabel('Distance from tip of wedge (km)')\n",
    "ax.set_ylabel('Elevation (km)')\n",
    "\n",
    "#ax.set_aspect('equal')\n",
    "\n",
    "for i, ax in enumerate(axs):\n",
    "    ax.spines['top'].set_visible(False)\n",
    "    ax.spines['right'].set_visible(False)\n",
    "    ax.text(0.01, 1.01, string.ascii_lowercase[i], \n",
    "            weight='bold', transform=ax.transAxes, \n",
    "               ha='left', va='bottom', fontsize='medium')\n",
    "\n",
    "legs = [leg_traj, leg_tsl, leg_bnd] + legs_tc\n",
    "labels = ['particle trajectories', 'isochron', 'wedge boundary'] + labels_tc\n",
    "axs[-1].legend(legs, labels, loc='lower left', ncol=2, fontsize=fs)\n",
    "\n",
    "fig.tight_layout()\n",
    "\n",
    "print('saving figure as %s' % fig_output_file)\n",
    "fig.savefig(fig_output_file)\n"
   ]
  },
  {
   "cell_type": "markdown",
   "metadata": {},
   "source": [
    "## Save the file with the modelled ages"
   ]
  },
  {
   "cell_type": "code",
   "execution_count": 16,
   "metadata": {},
   "outputs": [
    {
     "name": "stdout",
     "output_type": "stream",
     "text": [
      "saving modelled ages thermochron samples to data/modelled_thermochron_data.csv\n"
     ]
    }
   ],
   "source": [
    "df['L'] = L\n",
    "df['alpha'] = alpha\n",
    "df['beta'] = beta\n",
    "df['vd'] = vd\n",
    "df['vc'] = vc\n",
    "df['geothermal_gradient'] = geothermal_gradient\n",
    "\n",
    "print('saving modelled ages thermochron samples to %s' % thermochron_output_file)\n",
    "df.to_csv(thermochron_output_file)"
   ]
  },
  {
   "cell_type": "markdown",
   "metadata": {},
   "source": [
    "## Save modelled themrochron distance vs age profiles"
   ]
  },
  {
   "cell_type": "code",
   "execution_count": 17,
   "metadata": {},
   "outputs": [
    {
     "name": "stdout",
     "output_type": "stream",
     "text": [
      "saving modelled thermochron profiles as data/modelled_thermochron_profiles.csv\n"
     ]
    }
   ],
   "source": [
    "cols = thermochron_systems\n",
    "index = x0s\n",
    "\n",
    "dp = pd.DataFrame(index=index, columns=cols)\n",
    "\n",
    "for i, col in enumerate(cols):\n",
    "    dp[col] = - modelled_ages_th[i] / 1e6\n",
    "    \n",
    "dp['L'] = L\n",
    "dp['alpha'] = alpha\n",
    "dp['beta'] = beta\n",
    "dp['vd'] = vd\n",
    "dp['vc'] = vc\n",
    "dp['geothermal_gradient'] = geothermal_gradient\n",
    "\n",
    "print('saving modelled thermochron profiles as %s' % thermochron_profile_file)\n",
    "dp.to_csv(thermochron_profile_file, index_label='distance')"
   ]
  },
  {
   "cell_type": "code",
   "execution_count": null,
   "metadata": {},
   "outputs": [],
   "source": []
  }
 ],
 "metadata": {
  "kernelspec": {
   "display_name": "Python 3",
   "language": "python",
   "name": "python3"
  },
  "language_info": {
   "codemirror_mode": {
    "name": "ipython",
    "version": 3
   },
   "file_extension": ".py",
   "mimetype": "text/x-python",
   "name": "python",
   "nbconvert_exporter": "python",
   "pygments_lexer": "ipython3",
   "version": "3.7.0"
  }
 },
 "nbformat": 4,
 "nbformat_minor": 4
}
