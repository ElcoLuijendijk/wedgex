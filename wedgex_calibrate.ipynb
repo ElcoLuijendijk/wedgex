{
 "cells": [
  {
   "cell_type": "markdown",
   "metadata": {},
   "source": [
    "# Wedgex\n",
    "\n",
    "Use an analytical solution for particle trajectories in an orogenic wedge, use the particle depths to calculate thermochronometer cooling ages and compare to thermochronology data. \n",
    "\n",
    "\n",
    "## Workflow:\n",
    "\n",
    "* This notebook was designed to calibrate the wedge exhumation model, i.e. let the model find the parameter values that provides the best fit to thermochronology data. \n",
    "* To change the parameters to calibrate or the starting values adjust the `params_to_change` and `params` variables, see the examples below.\n",
    "\n",
    "The default parameters and data are based on the Kuru Chu cross-section in the Himalayas, a well studied cross section which was explored Long et al. (2012, https://doi.org/10.1029/2012TC003155), Coutand et al. (2014, https://doi.org/10.1002/2013JB010891) and McQuarrie and Ehlers (2015, https://doi.org/10.1002/2014TC003783).\n",
    "\n",
    "The thermochronology data that are used are located in the file [data/thermochron_data_projected.csv](data/thermochron_data_projected.csv). This file was created by a separate notebook [utilities/extract_xsection_data.ipynb](utilities/extract_xsection_data.ipynb), which automatically extracts thermochronology data along a cross-section."
   ]
  },
  {
   "cell_type": "markdown",
   "metadata": {},
   "source": [
    "## Import modules"
   ]
  },
  {
   "cell_type": "code",
   "execution_count": 1,
   "metadata": {},
   "outputs": [],
   "source": [
    "import string\n",
    "import itertools\n",
    "import numpy as np\n",
    "import matplotlib.pyplot as pl\n",
    "import pandas as pd\n",
    "\n",
    "import sklearn.metrics\n",
    "\n",
    "import scipy.optimize\n",
    "\n",
    "import astropy.units as u\n",
    "\n",
    "# equations for particle trajectories\n",
    "import wedgeqs\n",
    "\n",
    "# function wrappers to run multiple models and compare modelled and measured thermochron ages\n",
    "import wedgex_model_functions\n",
    "\n",
    "# optional: advective-conductive heat flow model\n",
    "import lib.heat_flow_model as hf"
   ]
  },
  {
   "cell_type": "code",
   "execution_count": 2,
   "metadata": {},
   "outputs": [],
   "source": [
    "pl.rcParams['mathtext.default'] = 'regular'"
   ]
  },
  {
   "cell_type": "code",
   "execution_count": 3,
   "metadata": {},
   "outputs": [],
   "source": [
    "try:\n",
    "    from cmcrameri import cm\n",
    "    cmap = cm.batlow\n",
    "except:\n",
    "    cmap = 'viridis'"
   ]
  },
  {
   "cell_type": "markdown",
   "metadata": {},
   "source": [
    "## Filenames"
   ]
  },
  {
   "cell_type": "code",
   "execution_count": 4,
   "metadata": {},
   "outputs": [],
   "source": [
    "# name of file with thermochron data\n",
    "thermochron_data_file = 'data/thermochron_data_projected.csv'\n",
    "\n",
    "# column with distance\n",
    "distance_column = 'projected_distance_along_xsection'\n",
    "thermochronometer_col = 'system'\n",
    "\n",
    "# filename for output file with modelled ages thermochron samples\n",
    "thermochron_output_file = 'data/modelled_thermochron_data.csv'\n",
    "\n",
    "# output file with modelled ages vs distance\n",
    "thermochron_profile_file = 'data/modelled_thermochron_profiles.csv'"
   ]
  },
  {
   "cell_type": "markdown",
   "metadata": {},
   "source": [
    "## Model parameters"
   ]
  },
  {
   "cell_type": "code",
   "execution_count": 5,
   "metadata": {},
   "outputs": [],
   "source": [
    "year = 365.25 * 24 * 3600.\n",
    "\n",
    "model_run_name = 'default'\n",
    "\n",
    "# compressional, transport and accretion velocity\n",
    "vc = -5e-3 * u.m / u.year\n",
    "vd = -5e-3 * u.m / u.year\n",
    "vxa = 1e-9 * u.m / u.year\n",
    "vya = 1e-9 * u.m / u.year\n",
    "\n",
    "# convergence velocity of the downgoing plate\n",
    "# note this is the horizontal component, the downgoing component is calculated usign the wedge slope\n",
    "v_downgoing = 1.0e-3 * u.m / u.year\n",
    "\n",
    "# option to calibrate parameters or to run the model with default parameters\n",
    "calibrate_parameters = False\n",
    "\n",
    "# parameters to optimize and starting values \n",
    "#model_run_name = 'calibrated'\n",
    "\n",
    "params_to_change = ['convergence', 'conv_part', 'deform_part']#, 'vxa', 'vya']\n",
    "params = [20e-3 * u.m / u.year, 0.5, 0.5]\n",
    "\n",
    "#params_to_change = ['vc', 'vd']#, 'vxa', 'vya']\n",
    "#params = [2e-3 * u.m / u.year, -8e-3 * u.m / u.year]#, 1e-5 * u.m / u.year, 1e-5 * u.m / u.year]\n",
    "\n",
    "#params_to_change = ['vc', 'vd']#, 'vxa', 'vya']\n",
    "#params = [-2e-3 * u.m / u.year, -8e-3 * u.m / u.year]#, 1e-5 * u.m / u.year, 1e-5 * u.m / u.year]\n",
    "\n",
    "#model_run_name = 'detachment_cal'\n",
    "#params_to_change = ['vd']\n",
    "#params = [-3e-3]\n",
    "\n",
    "#model_run_name = 'compression_cal'\n",
    "#params_to_change = ['vc']\n",
    "#params = [-3e-3]\n",
    "\n",
    "#model_run_name = 'accretion_cal'\n",
    "#params_to_change = ['vxa', 'vya']\n",
    "#params = [1e-5, 1e-5]\n",
    "\n",
    "\n",
    "# lenght of wedge (m)\n",
    "L = 200e3 * u.m\n",
    "\n",
    "# slope of topography (m/m)\n",
    "# for McQuarrie & Ehlers: ~ 4km over 117 km \n",
    "alpha = 0.034\n",
    "\n",
    "# slope of bottom of wedge (m/m)\n",
    "# for McQuarrie & Ehlers: detachment depth at N edge xsection (117 km) = ~20 km\n",
    "beta = -0.17\n",
    "\n",
    "# disctance between surface points (m)\n",
    "x_interval = 5e3 * u.m\n",
    "\n",
    "x_first_pt = 1e3 * u.m\n",
    "\n",
    "# number of rows in the orogenic wedge. Used for figures only, no function in the actual model\n",
    "n_rows = 100\n",
    "\n",
    "# modelled timespan (years)\n",
    "max_time = 2e8 * u.year\n",
    "\n",
    "# timestep size (years)\n",
    "dt = 1e4 * u.year\n",
    "\n",
    "# thermochronology model. choose between 'simple', 'Dodson'\n",
    "#thermochron_model = 'simple'\n",
    "thermochron_model = 'Dodson'\n",
    "\n",
    "# names of thermochronometers, should match the names in your input file\n",
    "thermochron_systems = ['AHe', 'AFT', 'ZHe', 'ZFT', 'MAr']\n",
    "\n",
    "# resetting temperatures (degr. C)\n",
    "resetting_temperatures = [70.0 * u.deg_C, 110.0 * u.deg_C, 180.0 * u.deg_C, 230.0 * u.deg_C, 325.0 * u.deg_C]\n",
    "\n",
    "# default exhumation rate, used to calculate ages from the undeformed foreland \n",
    "# that have not been reset inside the wedge (m/yr)\n",
    "default_exhumation_rate = 1e-4 * u.m / u.year\n",
    "\n",
    "# option to remove non-reset ages from database\n",
    "remove_non_reset_ages = True\n",
    "\n",
    "# limit for estimating which ages are reset or not (Ma)\n",
    "reset_age_limit =  100.0 \n",
    "\n",
    "# thermal history model. options: 'numerical' for numeircal steady-state model, 'fixed_gradient' for fixed geothermal gradient\n",
    "thermal_history_model = 'fixed_gradient'\n",
    "\n",
    "# geothermal gradient, used to convert resetting temp to depth (degr. C/m) in the case of a fixed_gradient thermal model\n",
    "geothermal_gradient = 0.015 * u.deg_C / u.m\n",
    "\n",
    "# surface temperature at sea lvl (degr. C)\n",
    "surface_temperature_sea_lvl = 24.0 * u.deg_C\n",
    "\n",
    "# adiabatic lapse rate (C/m), used to calculate surface temperatures\n",
    "lapse_rate = 7.0 / 1e3 * u.deg_C / u.m\n",
    "\n",
    "# model domain length of downgoing plate\n",
    "Lxmin = 100e3 * u.m\n",
    "\n",
    "# cellsizes\n",
    "cellsize_wedge = 2000.0 * u.m\n",
    "cellsize_footwall = 5000.0 * u.m\n",
    "\n",
    "# vertical size model domain\n",
    "Ly = 150e3 * u.m\n",
    "\n",
    "# temperature boundary conditions\n",
    "lab_temp = 1300 * u.deg_C\n",
    "\n",
    "# thermal parameters\n",
    "K = 2.5 * u.W / (u.m * u.K)\n",
    "rho = 2700.0 * u.kg / u.m**3\n",
    "c = 800.0 * u.J / (u.kg * u.K)\n",
    "\n",
    "# heat prod at surface\n",
    "#H0 = 2.25e-6 * u.W / u.m**3\n",
    "H0 = 2.75e-6 * u.W / u.m**3\n",
    "\n",
    "# e-folding depth heat prod\n",
    "e_folding_depth = 17500.0"
   ]
  },
  {
   "cell_type": "code",
   "execution_count": null,
   "metadata": {},
   "outputs": [],
   "source": []
  },
  {
   "cell_type": "markdown",
   "metadata": {},
   "source": [
    "## Additional model calibration options"
   ]
  },
  {
   "cell_type": "code",
   "execution_count": 6,
   "metadata": {},
   "outputs": [],
   "source": [
    "calibration_params = {'calibration_metric': 'MAE', 'limit_params': True, 'xtol': 1e-8, 'ftol': 1e-8}\n",
    "\n",
    "# metric to calibrate the models. use 'MAE' or 'chisq'\n",
    "calibration_metric = 'MAE'\n",
    "\n",
    "# limit parameters to realistic limits\n",
    "# if True the model will limit vc <= 0, vd <= 0, vxa >= 0, vya >=0\n",
    "limit_params = True\n",
    "\n",
    "# convergence criteria for optimization algorithm\n",
    "# see https://docs.scipy.org/doc/scipy/reference/generated/scipy.optimize.fmin.html for more info\n",
    "xtol = 1e-8\n",
    "ftol = 1e-8\n",
    "\n",
    "# max number of iterations\n",
    "maxiter = 20"
   ]
  },
  {
   "cell_type": "markdown",
   "metadata": {
    "editable": true
   },
   "source": [
    "## Set up initial particle positions and timesteps"
   ]
  },
  {
   "cell_type": "code",
   "execution_count": 7,
   "metadata": {
    "collapsed": false,
    "editable": true,
    "jupyter": {
     "outputs_hidden": false
    }
   },
   "outputs": [
    {
     "name": "stdout",
     "output_type": "stream",
     "text": [
      "particle starting points (m from tip of wedge):\n",
      " [  1000.   5000.  10000.  15000.  20000.  25000.  30000.  35000.  40000.\n",
      "  45000.  50000.  55000.  60000.  65000.  70000.  75000.  80000.  85000.\n",
      "  90000.  95000. 100000. 105000. 110000. 115000. 120000. 125000. 130000.\n",
      " 135000. 140000. 145000. 150000. 155000. 160000. 165000. 170000. 175000.\n",
      " 180000. 185000. 190000. 195000. 200000.] m\n",
      "timesteps (yr):\n",
      " [ 0.0000e+00 -1.0000e-02 -2.0000e-02 ... -1.9998e+02 -1.9999e+02\n",
      " -2.0000e+02] yr\n"
     ]
    }
   ],
   "source": [
    "# x-coordinates of starting points:\n",
    "x0s = np.arange(0, L.to(u.m).value + x_interval.to(u.m).value, x_interval.to(u.m).value) * u.m\n",
    "x0s[0] = x_first_pt\n",
    "\n",
    "# timesteps (years)\n",
    "t = np.arange(0, -max_time.to(u.year).value - dt.to(u.year).value, -dt.to(u.year).value) * u.year\n",
    "\n",
    "print('particle starting points (m from tip of wedge):\\n', x0s)\n",
    "\n",
    "print('timesteps (yr):\\n', t / 1e6)"
   ]
  },
  {
   "cell_type": "markdown",
   "metadata": {},
   "source": [
    "## Load thermochron data"
   ]
  },
  {
   "cell_type": "code",
   "execution_count": 8,
   "metadata": {},
   "outputs": [
    {
     "name": "stdout",
     "output_type": "stream",
     "text": [
      "thermochron data systems in file:  ['ZHe' 'AFT' 'MAr']\n"
     ]
    }
   ],
   "source": [
    "df = pd.read_csv(thermochron_data_file)\n",
    "\n",
    "df[thermochronometer_col].unique()\n",
    "\n",
    "print('thermochron data systems in file: ', df[thermochronometer_col].unique())"
   ]
  },
  {
   "cell_type": "markdown",
   "metadata": {},
   "source": [
    "## Remove anomalously old ages"
   ]
  },
  {
   "cell_type": "code",
   "execution_count": 9,
   "metadata": {},
   "outputs": [
    {
     "name": "stdout",
     "output_type": "stream",
     "text": [
      "ages before removing non-reset ages:\n",
      " count      48.000000\n",
      "mean       56.973812\n",
      "std       245.686577\n",
      "min         2.700000\n",
      "25%         4.222500\n",
      "50%         6.930000\n",
      "75%         8.940000\n",
      "max      1395.700000\n",
      "Name: age, dtype: float64\n",
      "ages after removing non-reset ages:\n",
      " count    46.000000\n",
      "mean      6.915935\n",
      "std       2.913004\n",
      "min       2.700000\n",
      "25%       4.207500\n",
      "50%       6.600000\n",
      "75%       8.615000\n",
      "max      14.780000\n",
      "Name: age, dtype: float64\n"
     ]
    }
   ],
   "source": [
    "if remove_non_reset_ages is True:\n",
    "\n",
    "    print('ages before removing non-reset ages:\\n', df['age'].describe())\n",
    "    \n",
    "    df = df[df['age'] < reset_age_limit]\n",
    "    \n",
    "    print('ages after removing non-reset ages:\\n', df['age'].describe())"
   ]
  },
  {
   "cell_type": "markdown",
   "metadata": {},
   "source": [
    "## Get sample data"
   ]
  },
  {
   "cell_type": "code",
   "execution_count": 10,
   "metadata": {},
   "outputs": [],
   "source": [
    "# get sample positions from dataframe\n",
    "x0_samples = df[distance_column].values * u.m\n",
    "\n",
    "# calculate surface temperature\n",
    "#df['surface_T'] = surface_temperature_sea_lvl - lapse_rate * df['elevation']\n",
    "#df['resetting_depth'] = (df['resetting_temp'] - df['surface_T']) / geothermal_gradient\n",
    "\n",
    "#df.head()\n",
    "\n",
    "measured_ages = df['age'].values * 1e6 * u.year\n",
    "#data_distance = df['age'].values\n",
    "measured_ages_sigma = df['age_error_1s'].values * 1e6 * u.year\n",
    "#resetting_temperatures_samples = df['resetting_temp'].values\n",
    "\n",
    "thermochron_system_samples = df[thermochronometer_col].values"
   ]
  },
  {
   "cell_type": "markdown",
   "metadata": {},
   "source": [
    "## Parameter calibration"
   ]
  },
  {
   "cell_type": "code",
   "execution_count": 11,
   "metadata": {},
   "outputs": [
    {
     "name": "stdout",
     "output_type": "stream",
     "text": [
      "using MAE metric to calibrate model \n",
      "starting optimization, this may take a while....\n",
      "parameters that were changed:  ['convergence', 'conv_part', 'deform_part']\n",
      "parameter values:  [0.02 0.5  0.5 ]\n",
      "."
     ]
    },
    {
     "ename": "UnboundLocalError",
     "evalue": "local variable 'as_quantity' referenced before assignment",
     "output_type": "error",
     "traceback": [
      "\u001b[0;31m---------------------------------------------------------------------------\u001b[0m",
      "\u001b[0;31mAttributeError\u001b[0m                            Traceback (most recent call last)",
      "\u001b[0;32m~/opt/anaconda3/envs/fipy/lib/python3.8/site-packages/astropy/units/quantity.py\u001b[0m in \u001b[0;36m_to_own_unit\u001b[0;34m(self, value, check_precision)\u001b[0m\n\u001b[1;32m   1355\u001b[0m         \u001b[0;32mtry\u001b[0m\u001b[0;34m:\u001b[0m\u001b[0;34m\u001b[0m\u001b[0;34m\u001b[0m\u001b[0m\n\u001b[0;32m-> 1356\u001b[0;31m             \u001b[0m_value\u001b[0m \u001b[0;34m=\u001b[0m \u001b[0mvalue\u001b[0m\u001b[0;34m.\u001b[0m\u001b[0mto_value\u001b[0m\u001b[0;34m(\u001b[0m\u001b[0mself\u001b[0m\u001b[0;34m.\u001b[0m\u001b[0munit\u001b[0m\u001b[0;34m)\u001b[0m\u001b[0;34m\u001b[0m\u001b[0;34m\u001b[0m\u001b[0m\n\u001b[0m\u001b[1;32m   1357\u001b[0m         \u001b[0;32mexcept\u001b[0m \u001b[0mAttributeError\u001b[0m\u001b[0;34m:\u001b[0m\u001b[0;34m\u001b[0m\u001b[0;34m\u001b[0m\u001b[0m\n",
      "\u001b[0;31mAttributeError\u001b[0m: 'tuple' object has no attribute 'to_value'",
      "\nDuring handling of the above exception, another exception occurred:\n",
      "\u001b[0;31mUnitConversionError\u001b[0m                       Traceback (most recent call last)",
      "\u001b[0;32m~/opt/anaconda3/envs/fipy/lib/python3.8/site-packages/astropy/units/quantity.py\u001b[0m in \u001b[0;36mto_value\u001b[0;34m(self, unit, equivalencies)\u001b[0m\n\u001b[1;32m    746\u001b[0m             \u001b[0;32mtry\u001b[0m\u001b[0;34m:\u001b[0m\u001b[0;34m\u001b[0m\u001b[0;34m\u001b[0m\u001b[0m\n\u001b[0;32m--> 747\u001b[0;31m                 \u001b[0mscale\u001b[0m \u001b[0;34m=\u001b[0m \u001b[0mself\u001b[0m\u001b[0;34m.\u001b[0m\u001b[0munit\u001b[0m\u001b[0;34m.\u001b[0m\u001b[0m_to\u001b[0m\u001b[0;34m(\u001b[0m\u001b[0munit\u001b[0m\u001b[0;34m)\u001b[0m\u001b[0;34m\u001b[0m\u001b[0;34m\u001b[0m\u001b[0m\n\u001b[0m\u001b[1;32m    748\u001b[0m             \u001b[0;32mexcept\u001b[0m \u001b[0mException\u001b[0m\u001b[0;34m:\u001b[0m\u001b[0;34m\u001b[0m\u001b[0;34m\u001b[0m\u001b[0m\n",
      "\u001b[0;32m~/opt/anaconda3/envs/fipy/lib/python3.8/site-packages/astropy/units/core.py\u001b[0m in \u001b[0;36m_to\u001b[0;34m(self, other)\u001b[0m\n\u001b[1;32m   1095\u001b[0m \u001b[0;34m\u001b[0m\u001b[0m\n\u001b[0;32m-> 1096\u001b[0;31m         raise UnitConversionError(\n\u001b[0m\u001b[1;32m   1097\u001b[0m             f\"'{self!r}' is not a scaled version of '{other!r}'\")\n",
      "\u001b[0;31mUnitConversionError\u001b[0m: 'Unit(\"K\")' is not a scaled version of 'Unit(\"yr\")'",
      "\nDuring handling of the above exception, another exception occurred:\n",
      "\u001b[0;31mUnitConversionError\u001b[0m                       Traceback (most recent call last)",
      "\u001b[0;32m~/opt/anaconda3/envs/fipy/lib/python3.8/site-packages/astropy/units/quantity.py\u001b[0m in \u001b[0;36m_to_own_unit\u001b[0;34m(self, value, check_precision)\u001b[0m\n\u001b[1;32m   1370\u001b[0m             \u001b[0;32mtry\u001b[0m\u001b[0;34m:\u001b[0m\u001b[0;34m\u001b[0m\u001b[0;34m\u001b[0m\u001b[0m\n\u001b[0;32m-> 1371\u001b[0;31m                 \u001b[0mas_quantity\u001b[0m \u001b[0;34m=\u001b[0m \u001b[0mQuantity\u001b[0m\u001b[0;34m(\u001b[0m\u001b[0mvalue\u001b[0m\u001b[0;34m)\u001b[0m\u001b[0;34m\u001b[0m\u001b[0;34m\u001b[0m\u001b[0m\n\u001b[0m\u001b[1;32m   1372\u001b[0m                 \u001b[0m_value\u001b[0m \u001b[0;34m=\u001b[0m \u001b[0mas_quantity\u001b[0m\u001b[0;34m.\u001b[0m\u001b[0mto_value\u001b[0m\u001b[0;34m(\u001b[0m\u001b[0mself\u001b[0m\u001b[0;34m.\u001b[0m\u001b[0munit\u001b[0m\u001b[0;34m)\u001b[0m\u001b[0;34m\u001b[0m\u001b[0;34m\u001b[0m\u001b[0m\n",
      "\u001b[0;32m~/opt/anaconda3/envs/fipy/lib/python3.8/site-packages/astropy/units/quantity.py\u001b[0m in \u001b[0;36m__new__\u001b[0;34m(cls, value, unit, dtype, copy, order, subok, ndmin)\u001b[0m\n\u001b[1;32m    350\u001b[0m                     \u001b[0munit\u001b[0m \u001b[0;34m=\u001b[0m \u001b[0mvalue\u001b[0m\u001b[0;34m[\u001b[0m\u001b[0;36m0\u001b[0m\u001b[0;34m]\u001b[0m\u001b[0;34m.\u001b[0m\u001b[0munit\u001b[0m\u001b[0;34m\u001b[0m\u001b[0;34m\u001b[0m\u001b[0m\n\u001b[0;32m--> 351\u001b[0;31m                 \u001b[0mvalue\u001b[0m \u001b[0;34m=\u001b[0m \u001b[0;34m[\u001b[0m\u001b[0mq\u001b[0m\u001b[0;34m.\u001b[0m\u001b[0mto_value\u001b[0m\u001b[0;34m(\u001b[0m\u001b[0munit\u001b[0m\u001b[0;34m)\u001b[0m \u001b[0;32mfor\u001b[0m \u001b[0mq\u001b[0m \u001b[0;32min\u001b[0m \u001b[0mvalue\u001b[0m\u001b[0;34m]\u001b[0m\u001b[0;34m\u001b[0m\u001b[0;34m\u001b[0m\u001b[0m\n\u001b[0m\u001b[1;32m    352\u001b[0m                 \u001b[0mvalue_unit\u001b[0m \u001b[0;34m=\u001b[0m \u001b[0munit\u001b[0m  \u001b[0;31m# signal below that conversion has been done\u001b[0m\u001b[0;34m\u001b[0m\u001b[0;34m\u001b[0m\u001b[0m\n",
      "\u001b[0;32m~/opt/anaconda3/envs/fipy/lib/python3.8/site-packages/astropy/units/quantity.py\u001b[0m in \u001b[0;36m<listcomp>\u001b[0;34m(.0)\u001b[0m\n\u001b[1;32m    350\u001b[0m                     \u001b[0munit\u001b[0m \u001b[0;34m=\u001b[0m \u001b[0mvalue\u001b[0m\u001b[0;34m[\u001b[0m\u001b[0;36m0\u001b[0m\u001b[0;34m]\u001b[0m\u001b[0;34m.\u001b[0m\u001b[0munit\u001b[0m\u001b[0;34m\u001b[0m\u001b[0;34m\u001b[0m\u001b[0m\n\u001b[0;32m--> 351\u001b[0;31m                 \u001b[0mvalue\u001b[0m \u001b[0;34m=\u001b[0m \u001b[0;34m[\u001b[0m\u001b[0mq\u001b[0m\u001b[0;34m.\u001b[0m\u001b[0mto_value\u001b[0m\u001b[0;34m(\u001b[0m\u001b[0munit\u001b[0m\u001b[0;34m)\u001b[0m \u001b[0;32mfor\u001b[0m \u001b[0mq\u001b[0m \u001b[0;32min\u001b[0m \u001b[0mvalue\u001b[0m\u001b[0;34m]\u001b[0m\u001b[0;34m\u001b[0m\u001b[0;34m\u001b[0m\u001b[0m\n\u001b[0m\u001b[1;32m    352\u001b[0m                 \u001b[0mvalue_unit\u001b[0m \u001b[0;34m=\u001b[0m \u001b[0munit\u001b[0m  \u001b[0;31m# signal below that conversion has been done\u001b[0m\u001b[0;34m\u001b[0m\u001b[0;34m\u001b[0m\u001b[0m\n",
      "\u001b[0;32m~/opt/anaconda3/envs/fipy/lib/python3.8/site-packages/astropy/units/quantity.py\u001b[0m in \u001b[0;36mto_value\u001b[0;34m(self, unit, equivalencies)\u001b[0m\n\u001b[1;32m    749\u001b[0m                 \u001b[0;31m# Short-cut failed; try default (maybe equivalencies help).\u001b[0m\u001b[0;34m\u001b[0m\u001b[0;34m\u001b[0m\u001b[0;34m\u001b[0m\u001b[0m\n\u001b[0;32m--> 750\u001b[0;31m                 \u001b[0mvalue\u001b[0m \u001b[0;34m=\u001b[0m \u001b[0mself\u001b[0m\u001b[0;34m.\u001b[0m\u001b[0m_to_value\u001b[0m\u001b[0;34m(\u001b[0m\u001b[0munit\u001b[0m\u001b[0;34m,\u001b[0m \u001b[0mequivalencies\u001b[0m\u001b[0;34m)\u001b[0m\u001b[0;34m\u001b[0m\u001b[0;34m\u001b[0m\u001b[0m\n\u001b[0m\u001b[1;32m    751\u001b[0m             \u001b[0;32melse\u001b[0m\u001b[0;34m:\u001b[0m\u001b[0;34m\u001b[0m\u001b[0;34m\u001b[0m\u001b[0m\n",
      "\u001b[0;32m~/opt/anaconda3/envs/fipy/lib/python3.8/site-packages/astropy/units/quantity.py\u001b[0m in \u001b[0;36m_to_value\u001b[0;34m(self, unit, equivalencies)\u001b[0m\n\u001b[1;32m    668\u001b[0m             \u001b[0mequivalencies\u001b[0m \u001b[0;34m=\u001b[0m \u001b[0mself\u001b[0m\u001b[0;34m.\u001b[0m\u001b[0m_equivalencies\u001b[0m\u001b[0;34m\u001b[0m\u001b[0;34m\u001b[0m\u001b[0m\n\u001b[0;32m--> 669\u001b[0;31m         return self.unit.to(unit, self.view(np.ndarray),\n\u001b[0m\u001b[1;32m    670\u001b[0m                             equivalencies=equivalencies)\n",
      "\u001b[0;32m~/opt/anaconda3/envs/fipy/lib/python3.8/site-packages/astropy/units/core.py\u001b[0m in \u001b[0;36mto\u001b[0;34m(self, other, value, equivalencies)\u001b[0m\n\u001b[1;32m   1132\u001b[0m         \u001b[0;32melse\u001b[0m\u001b[0;34m:\u001b[0m\u001b[0;34m\u001b[0m\u001b[0;34m\u001b[0m\u001b[0m\n\u001b[0;32m-> 1133\u001b[0;31m             return self._get_converter(Unit(other),\n\u001b[0m\u001b[1;32m   1134\u001b[0m                                        equivalencies=equivalencies)(value)\n",
      "\u001b[0;32m~/opt/anaconda3/envs/fipy/lib/python3.8/site-packages/astropy/units/core.py\u001b[0m in \u001b[0;36m_get_converter\u001b[0;34m(self, other, equivalencies)\u001b[0m\n\u001b[1;32m   1063\u001b[0m \u001b[0;34m\u001b[0m\u001b[0m\n\u001b[0;32m-> 1064\u001b[0;31m             \u001b[0;32mraise\u001b[0m \u001b[0mexc\u001b[0m\u001b[0;34m\u001b[0m\u001b[0;34m\u001b[0m\u001b[0m\n\u001b[0m\u001b[1;32m   1065\u001b[0m \u001b[0;34m\u001b[0m\u001b[0m\n",
      "\u001b[0;32m~/opt/anaconda3/envs/fipy/lib/python3.8/site-packages/astropy/units/core.py\u001b[0m in \u001b[0;36m_get_converter\u001b[0;34m(self, other, equivalencies)\u001b[0m\n\u001b[1;32m   1048\u001b[0m         \u001b[0;32mtry\u001b[0m\u001b[0;34m:\u001b[0m\u001b[0;34m\u001b[0m\u001b[0;34m\u001b[0m\u001b[0m\n\u001b[0;32m-> 1049\u001b[0;31m             return self._apply_equivalencies(\n\u001b[0m\u001b[1;32m   1050\u001b[0m                 self, other, self._normalize_equivalencies(equivalencies))\n",
      "\u001b[0;32m~/opt/anaconda3/envs/fipy/lib/python3.8/site-packages/astropy/units/core.py\u001b[0m in \u001b[0;36m_apply_equivalencies\u001b[0;34m(self, unit, other, equivalencies)\u001b[0m\n\u001b[1;32m   1024\u001b[0m \u001b[0;34m\u001b[0m\u001b[0m\n\u001b[0;32m-> 1025\u001b[0;31m         raise UnitConversionError(\n\u001b[0m\u001b[1;32m   1026\u001b[0m             f\"{unit_str} and {other_str} are not convertible\")\n",
      "\u001b[0;31mUnitConversionError\u001b[0m: 'K' (temperature) and 'yr' (time) are not convertible",
      "\nDuring handling of the above exception, another exception occurred:\n",
      "\u001b[0;31mUnboundLocalError\u001b[0m                         Traceback (most recent call last)",
      "\u001b[0;32m<ipython-input-11-470636c93f08>\u001b[0m in \u001b[0;36m<module>\u001b[0;34m\u001b[0m\n\u001b[1;32m     27\u001b[0m \u001b[0;34m\u001b[0m\u001b[0m\n\u001b[1;32m     28\u001b[0m \u001b[0mprint\u001b[0m\u001b[0;34m(\u001b[0m\u001b[0;34m'starting optimization, this may take a while....'\u001b[0m\u001b[0;34m)\u001b[0m\u001b[0;34m\u001b[0m\u001b[0;34m\u001b[0m\u001b[0m\n\u001b[0;32m---> 29\u001b[0;31m opt_results = scipy.optimize.fmin(wedgex_model_functions.compare_modelled_and_measured_ages, \n\u001b[0m\u001b[1;32m     30\u001b[0m                                   \u001b[0mparams_\u001b[0m\u001b[0;34m,\u001b[0m \u001b[0margs\u001b[0m\u001b[0;34m=\u001b[0m\u001b[0margs\u001b[0m\u001b[0;34m,\u001b[0m\u001b[0;34m\u001b[0m\u001b[0;34m\u001b[0m\u001b[0m\n\u001b[1;32m     31\u001b[0m                                   maxiter=maxiter, xtol=xtol, ftol=ftol, full_output=True)\n",
      "\u001b[0;32m~/opt/anaconda3/envs/fipy/lib/python3.8/site-packages/scipy/optimize/optimize.py\u001b[0m in \u001b[0;36mfmin\u001b[0;34m(func, x0, args, xtol, ftol, maxiter, maxfun, full_output, disp, retall, callback, initial_simplex)\u001b[0m\n\u001b[1;32m    575\u001b[0m             'initial_simplex': initial_simplex}\n\u001b[1;32m    576\u001b[0m \u001b[0;34m\u001b[0m\u001b[0m\n\u001b[0;32m--> 577\u001b[0;31m     \u001b[0mres\u001b[0m \u001b[0;34m=\u001b[0m \u001b[0m_minimize_neldermead\u001b[0m\u001b[0;34m(\u001b[0m\u001b[0mfunc\u001b[0m\u001b[0;34m,\u001b[0m \u001b[0mx0\u001b[0m\u001b[0;34m,\u001b[0m \u001b[0margs\u001b[0m\u001b[0;34m,\u001b[0m \u001b[0mcallback\u001b[0m\u001b[0;34m=\u001b[0m\u001b[0mcallback\u001b[0m\u001b[0;34m,\u001b[0m \u001b[0;34m**\u001b[0m\u001b[0mopts\u001b[0m\u001b[0;34m)\u001b[0m\u001b[0;34m\u001b[0m\u001b[0;34m\u001b[0m\u001b[0m\n\u001b[0m\u001b[1;32m    578\u001b[0m     \u001b[0;32mif\u001b[0m \u001b[0mfull_output\u001b[0m\u001b[0;34m:\u001b[0m\u001b[0;34m\u001b[0m\u001b[0;34m\u001b[0m\u001b[0m\n\u001b[1;32m    579\u001b[0m         \u001b[0mretlist\u001b[0m \u001b[0;34m=\u001b[0m \u001b[0mres\u001b[0m\u001b[0;34m[\u001b[0m\u001b[0;34m'x'\u001b[0m\u001b[0;34m]\u001b[0m\u001b[0;34m,\u001b[0m \u001b[0mres\u001b[0m\u001b[0;34m[\u001b[0m\u001b[0;34m'fun'\u001b[0m\u001b[0;34m]\u001b[0m\u001b[0;34m,\u001b[0m \u001b[0mres\u001b[0m\u001b[0;34m[\u001b[0m\u001b[0;34m'nit'\u001b[0m\u001b[0;34m]\u001b[0m\u001b[0;34m,\u001b[0m \u001b[0mres\u001b[0m\u001b[0;34m[\u001b[0m\u001b[0;34m'nfev'\u001b[0m\u001b[0;34m]\u001b[0m\u001b[0;34m,\u001b[0m \u001b[0mres\u001b[0m\u001b[0;34m[\u001b[0m\u001b[0;34m'status'\u001b[0m\u001b[0;34m]\u001b[0m\u001b[0;34m\u001b[0m\u001b[0;34m\u001b[0m\u001b[0m\n",
      "\u001b[0;32m~/opt/anaconda3/envs/fipy/lib/python3.8/site-packages/scipy/optimize/optimize.py\u001b[0m in \u001b[0;36m_minimize_neldermead\u001b[0;34m(func, x0, args, callback, maxiter, maxfev, disp, return_all, initial_simplex, xatol, fatol, adaptive, **unknown_options)\u001b[0m\n\u001b[1;32m    721\u001b[0m \u001b[0;34m\u001b[0m\u001b[0m\n\u001b[1;32m    722\u001b[0m     \u001b[0;32mfor\u001b[0m \u001b[0mk\u001b[0m \u001b[0;32min\u001b[0m \u001b[0mrange\u001b[0m\u001b[0;34m(\u001b[0m\u001b[0mN\u001b[0m \u001b[0;34m+\u001b[0m \u001b[0;36m1\u001b[0m\u001b[0;34m)\u001b[0m\u001b[0;34m:\u001b[0m\u001b[0;34m\u001b[0m\u001b[0;34m\u001b[0m\u001b[0m\n\u001b[0;32m--> 723\u001b[0;31m         \u001b[0mfsim\u001b[0m\u001b[0;34m[\u001b[0m\u001b[0mk\u001b[0m\u001b[0;34m]\u001b[0m \u001b[0;34m=\u001b[0m \u001b[0mfunc\u001b[0m\u001b[0;34m(\u001b[0m\u001b[0msim\u001b[0m\u001b[0;34m[\u001b[0m\u001b[0mk\u001b[0m\u001b[0;34m]\u001b[0m\u001b[0;34m)\u001b[0m\u001b[0;34m\u001b[0m\u001b[0;34m\u001b[0m\u001b[0m\n\u001b[0m\u001b[1;32m    724\u001b[0m \u001b[0;34m\u001b[0m\u001b[0m\n\u001b[1;32m    725\u001b[0m     \u001b[0mind\u001b[0m \u001b[0;34m=\u001b[0m \u001b[0mnp\u001b[0m\u001b[0;34m.\u001b[0m\u001b[0margsort\u001b[0m\u001b[0;34m(\u001b[0m\u001b[0mfsim\u001b[0m\u001b[0;34m)\u001b[0m\u001b[0;34m\u001b[0m\u001b[0;34m\u001b[0m\u001b[0m\n",
      "\u001b[0;32m~/opt/anaconda3/envs/fipy/lib/python3.8/site-packages/scipy/optimize/optimize.py\u001b[0m in \u001b[0;36mfunction_wrapper\u001b[0;34m(*wrapper_args)\u001b[0m\n\u001b[1;32m    459\u001b[0m     \u001b[0;32mdef\u001b[0m \u001b[0mfunction_wrapper\u001b[0m\u001b[0;34m(\u001b[0m\u001b[0;34m*\u001b[0m\u001b[0mwrapper_args\u001b[0m\u001b[0;34m)\u001b[0m\u001b[0;34m:\u001b[0m\u001b[0;34m\u001b[0m\u001b[0;34m\u001b[0m\u001b[0m\n\u001b[1;32m    460\u001b[0m         \u001b[0mncalls\u001b[0m\u001b[0;34m[\u001b[0m\u001b[0;36m0\u001b[0m\u001b[0;34m]\u001b[0m \u001b[0;34m+=\u001b[0m \u001b[0;36m1\u001b[0m\u001b[0;34m\u001b[0m\u001b[0;34m\u001b[0m\u001b[0m\n\u001b[0;32m--> 461\u001b[0;31m         \u001b[0;32mreturn\u001b[0m \u001b[0mfunction\u001b[0m\u001b[0;34m(\u001b[0m\u001b[0;34m*\u001b[0m\u001b[0;34m(\u001b[0m\u001b[0mwrapper_args\u001b[0m \u001b[0;34m+\u001b[0m \u001b[0margs\u001b[0m\u001b[0;34m)\u001b[0m\u001b[0;34m)\u001b[0m\u001b[0;34m\u001b[0m\u001b[0;34m\u001b[0m\u001b[0m\n\u001b[0m\u001b[1;32m    462\u001b[0m \u001b[0;34m\u001b[0m\u001b[0m\n\u001b[1;32m    463\u001b[0m     \u001b[0;32mreturn\u001b[0m \u001b[0mncalls\u001b[0m\u001b[0;34m,\u001b[0m \u001b[0mfunction_wrapper\u001b[0m\u001b[0;34m\u001b[0m\u001b[0;34m\u001b[0m\u001b[0m\n",
      "\u001b[0;32m~/werk/published_code/wedgex_git/wedgex_model_functions.py\u001b[0m in \u001b[0;36mcompare_modelled_and_measured_ages\u001b[0;34m(params, params_to_change, limit_params, t, x0_samples, alpha, beta, L, vc, vd, vxa, vya, surface_temperature_sea_lvl, lapse_rate, geothermal_gradient, measured_ages, age_uncertainty, default_exhumation_rate, metric_to_return, thermal_history_model, Ly, Lxmin, cellsize_wedge, cellsize_footwall, lab_temp, K, rho, c, H0, e_folding_depth, v_downgoing, thermochron_model, thermochron_systems, thermochron_system_samples, resetting_temperatures, return_all, verbose)\u001b[0m\n\u001b[1;32m    673\u001b[0m                         \u001b[0;31m#modelled_ages_samples[j], ct = wedgex_model_functions.calculate_closure_age(-t[ind], Tpi[ind], tcs)\u001b[0m\u001b[0;34m\u001b[0m\u001b[0;34m\u001b[0m\u001b[0;34m\u001b[0m\u001b[0m\n\u001b[1;32m    674\u001b[0m \u001b[0;34m\u001b[0m\u001b[0m\n\u001b[0;32m--> 675\u001b[0;31m                         \u001b[0mmodelled_ages\u001b[0m\u001b[0;34m[\u001b[0m\u001b[0mj\u001b[0m\u001b[0;34m]\u001b[0m \u001b[0;34m=\u001b[0m \u001b[0mcalculate_closure_age\u001b[0m\u001b[0;34m(\u001b[0m\u001b[0mti\u001b[0m\u001b[0;34m.\u001b[0m\u001b[0mto\u001b[0m\u001b[0;34m(\u001b[0m\u001b[0mu\u001b[0m\u001b[0;34m.\u001b[0m\u001b[0ms\u001b[0m\u001b[0;34m)\u001b[0m\u001b[0;34m,\u001b[0m \u001b[0mTpi\u001b[0m\u001b[0;34m[\u001b[0m\u001b[0mind_ok\u001b[0m\u001b[0;34m]\u001b[0m\u001b[0;34m,\u001b[0m \u001b[0mtcs\u001b[0m\u001b[0;34m)\u001b[0m\u001b[0;34m\u001b[0m\u001b[0;34m\u001b[0m\u001b[0m\n\u001b[0m\u001b[1;32m    676\u001b[0m                     \u001b[0;31m#modelled_ages[j] = a\u001b[0m\u001b[0;34m\u001b[0m\u001b[0;34m\u001b[0m\u001b[0;34m\u001b[0m\u001b[0m\n\u001b[1;32m    677\u001b[0m                 \u001b[0;32melse\u001b[0m\u001b[0;34m:\u001b[0m\u001b[0;34m\u001b[0m\u001b[0;34m\u001b[0m\u001b[0m\n",
      "\u001b[0;32m~/opt/anaconda3/envs/fipy/lib/python3.8/site-packages/astropy/units/quantity.py\u001b[0m in \u001b[0;36m__setitem__\u001b[0;34m(self, i, value)\u001b[0m\n\u001b[1;32m   1065\u001b[0m         \u001b[0;32mif\u001b[0m \u001b[0;32mnot\u001b[0m \u001b[0mself\u001b[0m\u001b[0;34m.\u001b[0m\u001b[0misscalar\u001b[0m \u001b[0;32mand\u001b[0m \u001b[0;34m'info'\u001b[0m \u001b[0;32min\u001b[0m \u001b[0mself\u001b[0m\u001b[0;34m.\u001b[0m\u001b[0m__dict__\u001b[0m\u001b[0;34m:\u001b[0m\u001b[0;34m\u001b[0m\u001b[0;34m\u001b[0m\u001b[0m\n\u001b[1;32m   1066\u001b[0m             \u001b[0mself\u001b[0m\u001b[0;34m.\u001b[0m\u001b[0minfo\u001b[0m\u001b[0;34m.\u001b[0m\u001b[0madjust_indices\u001b[0m\u001b[0;34m(\u001b[0m\u001b[0mi\u001b[0m\u001b[0;34m,\u001b[0m \u001b[0mvalue\u001b[0m\u001b[0;34m,\u001b[0m \u001b[0mlen\u001b[0m\u001b[0;34m(\u001b[0m\u001b[0mself\u001b[0m\u001b[0;34m)\u001b[0m\u001b[0;34m)\u001b[0m\u001b[0;34m\u001b[0m\u001b[0;34m\u001b[0m\u001b[0m\n\u001b[0;32m-> 1067\u001b[0;31m         \u001b[0mself\u001b[0m\u001b[0;34m.\u001b[0m\u001b[0mview\u001b[0m\u001b[0;34m(\u001b[0m\u001b[0mnp\u001b[0m\u001b[0;34m.\u001b[0m\u001b[0mndarray\u001b[0m\u001b[0;34m)\u001b[0m\u001b[0;34m.\u001b[0m\u001b[0m__setitem__\u001b[0m\u001b[0;34m(\u001b[0m\u001b[0mi\u001b[0m\u001b[0;34m,\u001b[0m \u001b[0mself\u001b[0m\u001b[0;34m.\u001b[0m\u001b[0m_to_own_unit\u001b[0m\u001b[0;34m(\u001b[0m\u001b[0mvalue\u001b[0m\u001b[0;34m)\u001b[0m\u001b[0;34m)\u001b[0m\u001b[0;34m\u001b[0m\u001b[0;34m\u001b[0m\u001b[0m\n\u001b[0m\u001b[1;32m   1068\u001b[0m \u001b[0;34m\u001b[0m\u001b[0m\n\u001b[1;32m   1069\u001b[0m     \u001b[0;31m# __contains__ is OK\u001b[0m\u001b[0;34m\u001b[0m\u001b[0;34m\u001b[0m\u001b[0;34m\u001b[0m\u001b[0m\n",
      "\u001b[0;32m~/opt/anaconda3/envs/fipy/lib/python3.8/site-packages/astropy/units/quantity.py\u001b[0m in \u001b[0;36m_to_own_unit\u001b[0;34m(self, value, check_precision)\u001b[0m\n\u001b[1;32m   1375\u001b[0m                 \u001b[0;31m# and is all 0, inf, or nan, we treat it as arbitrary unit.\u001b[0m\u001b[0;34m\u001b[0m\u001b[0;34m\u001b[0m\u001b[0;34m\u001b[0m\u001b[0m\n\u001b[1;32m   1376\u001b[0m                 if (not hasattr(value, 'unit') and\n\u001b[0;32m-> 1377\u001b[0;31m                         can_have_arbitrary_unit(as_quantity.value)):\n\u001b[0m\u001b[1;32m   1378\u001b[0m                     \u001b[0m_value\u001b[0m \u001b[0;34m=\u001b[0m \u001b[0mas_quantity\u001b[0m\u001b[0;34m.\u001b[0m\u001b[0mvalue\u001b[0m\u001b[0;34m\u001b[0m\u001b[0;34m\u001b[0m\u001b[0m\n\u001b[1;32m   1379\u001b[0m                 \u001b[0;32melse\u001b[0m\u001b[0;34m:\u001b[0m\u001b[0;34m\u001b[0m\u001b[0;34m\u001b[0m\u001b[0m\n",
      "\u001b[0;31mUnboundLocalError\u001b[0m: local variable 'as_quantity' referenced before assignment"
     ]
    }
   ],
   "source": [
    "import imp\n",
    "imp.reload(wedgex_model_functions)\n",
    "\n",
    "import warnings\n",
    "warnings.filterwarnings('ignore')\n",
    "\n",
    "params_ = []\n",
    "\n",
    "for p in params:\n",
    "    if type(p) == u.quantity.Quantity:\n",
    "        params_.append(p.value)\n",
    "    else:\n",
    "        params_.append(p)\n",
    "        \n",
    "#params_ = [p.value for p in params]\n",
    "#params_ = params\n",
    "\n",
    "args = (params_to_change, limit_params, t, x0_samples, alpha, beta, L, vc, vd, vxa, vya, \n",
    "        surface_temperature_sea_lvl, lapse_rate, geothermal_gradient,\n",
    "        measured_ages, measured_ages_sigma, default_exhumation_rate,\n",
    "        calibration_metric, \n",
    "        thermal_history_model, Ly, Lxmin, cellsize_wedge, cellsize_footwall, \n",
    "        lab_temp, K, rho, c, H0, e_folding_depth, v_downgoing, thermochron_model, thermochron_systems, thermochron_system_samples,\n",
    "        resetting_temperatures)\n",
    "\n",
    "print('using %s metric to calibrate model ' % calibration_metric)\n",
    "\n",
    "print('starting optimization, this may take a while....')\n",
    "opt_results = scipy.optimize.fmin(wedgex_model_functions.compare_modelled_and_measured_ages, \n",
    "                                  params_, args=args, \n",
    "                                  maxiter=maxiter, xtol=xtol, ftol=ftol, full_output=True)\n",
    "\n",
    "print('done optimizing')\n",
    "params = opt_results[0]\n",
    "opt_error = opt_results[1]\n",
    "\n",
    "print('optimized parameter values ', params)\n",
    "print('optimized model error ', opt_error)\n",
    "\n",
    "# update parameters with calibrated values\n",
    "if 'alpha' in params_to_change:\n",
    "    alpha = params[params_to_change.index('alpha')]\n",
    "if 'beta' in params_to_change:\n",
    "    beta = params[params_to_change.index('beta')]\n",
    "if 'geothermal_gradient' in params_to_change:\n",
    "    geothermal_gradient = params[params_to_change.index('geothermal_gradient')]\n",
    "if 'vc' in params_to_change:\n",
    "    vc = params[params_to_change.index('vc')] * u.m / u.s\n",
    "if 'vd' in params_to_change:\n",
    "    vd = params[params_to_change.index('vd')] * u.m / u.s\n",
    "if 'vxa' in params_to_change:\n",
    "    vxa = params[params_to_change.index('vxa')] * u.m / u.s\n",
    "if 'vya' in params_to_change:\n",
    "    vya = params[params_to_change.index('vya')] * u.m / u.s\n",
    "\n",
    "if limit_params is True:\n",
    "    # enforce same conditions as imposed during optimization\n",
    "    # make sure params have correct sign\n",
    "    # negative for vc, vd and positive for vxa, vya\n",
    "    if vc >= 0:\n",
    "        vc = -1e-7\n",
    "    if vd >= 0:\n",
    "        vd = -1e-7\n",
    "    if vxa < 0:\n",
    "        vxa = 0\n",
    "    if vya <0:\n",
    "        vya = 0\n",
    "\n",
    "print('done with model calibration')"
   ]
  },
  {
   "cell_type": "code",
   "execution_count": null,
   "metadata": {},
   "outputs": [],
   "source": [
    "## Save calibration results "
   ]
  },
  {
   "cell_type": "code",
   "execution_count": null,
   "metadata": {},
   "outputs": [],
   "source": [
    "dfr = pd.DataFrame(index=params_to_change, columns=['calibrated_value']"
   ]
  }
 ],
 "metadata": {
  "kernelspec": {
   "display_name": "Python 3",
   "language": "python",
   "name": "python3"
  },
  "language_info": {
   "codemirror_mode": {
    "name": "ipython",
    "version": 3
   },
   "file_extension": ".py",
   "mimetype": "text/x-python",
   "name": "python",
   "nbconvert_exporter": "python",
   "pygments_lexer": "ipython3",
   "version": "3.8.8"
  }
 },
 "nbformat": 4,
 "nbformat_minor": 4
}
