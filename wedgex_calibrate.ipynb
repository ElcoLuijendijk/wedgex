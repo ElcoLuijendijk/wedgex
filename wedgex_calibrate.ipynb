{
 "cells": [
  {
   "cell_type": "markdown",
   "metadata": {},
   "source": [
    "# Wedgex\n",
    "\n",
    "Use an analytical solution for particle trajectories in an orogenic wedge, use the particle depths to calculate thermochronometer cooling ages and compare to thermochronology data. \n",
    "\n",
    "\n",
    "## Workflow:\n",
    "\n",
    "* This notebook was designed to calibrate the wedge exhumation model, i.e. let the model find the parameter values that provides the best fit to thermochronology data. \n",
    "* To change the parameters to calibrate or the starting values adjust the `params_to_change` and `params` variables, see the examples below.\n",
    "\n",
    "The default parameters and data are based on the Kuru Chu cross-section in the Himalayas, a well studied cross section which was explored Long et al. (2012, https://doi.org/10.1029/2012TC003155), Coutand et al. (2014, https://doi.org/10.1002/2013JB010891) and McQuarrie and Ehlers (2015, https://doi.org/10.1002/2014TC003783).\n",
    "\n",
    "The thermochronology data that are used are located in the file [data/thermochron_data_projected.csv](data/thermochron_data_projected.csv). This file was created by a separate notebook [utilities/extract_xsection_data.ipynb](utilities/extract_xsection_data.ipynb), which automatically extracts thermochronology data along a cross-section."
   ]
  },
  {
   "cell_type": "markdown",
   "metadata": {},
   "source": [
    "## Import modules"
   ]
  },
  {
   "cell_type": "code",
   "execution_count": 1,
   "metadata": {},
   "outputs": [
    {
     "name": "stderr",
     "output_type": "stream",
     "text": [
      "/Users/elcopone/werk/published_code/wedgex_git/lib/wedgex_model_functions.py:508: SyntaxWarning: \"is\" with a literal. Did you mean \"==\"?\n",
      "  if thermal_history_model is 'numerical':\n"
     ]
    }
   ],
   "source": [
    "import string\n",
    "import itertools\n",
    "import datetime\n",
    "import pickle\n",
    "import numpy as np\n",
    "import matplotlib.pyplot as pl\n",
    "import pandas as pd\n",
    "\n",
    "import sklearn.metrics\n",
    "\n",
    "import scipy.optimize\n",
    "\n",
    "import astropy.units as u\n",
    "\n",
    "# equations for particle trajectories\n",
    "import lib.wedgeqs as wedgeqs\n",
    "\n",
    "# function wrappers to run multiple models and compare modelled and measured thermochron ages\n",
    "import lib.wedgex_model_functions as wedgex_model_functions\n",
    "\n",
    "# optional: advective-conductive heat flow model\n",
    "import lib.heat_flow_model as hf"
   ]
  },
  {
   "cell_type": "code",
   "execution_count": 2,
   "metadata": {},
   "outputs": [],
   "source": [
    "pl.rcParams['mathtext.default'] = 'regular'"
   ]
  },
  {
   "cell_type": "code",
   "execution_count": 3,
   "metadata": {},
   "outputs": [],
   "source": [
    "try:\n",
    "    from cmcrameri import cm\n",
    "    cmap = cm.batlow\n",
    "except:\n",
    "    cmap = 'viridis'"
   ]
  },
  {
   "cell_type": "markdown",
   "metadata": {},
   "source": [
    "## Filenames"
   ]
  },
  {
   "cell_type": "code",
   "execution_count": 4,
   "metadata": {},
   "outputs": [],
   "source": [
    "# name of file with thermochron data\n",
    "thermochron_data_file = 'data/thermochron_data_projected.csv'\n",
    "\n",
    "# column with distance\n",
    "distance_column = 'projected_distance_along_xsection'\n",
    "thermochronometer_col = 'system'\n",
    "\n",
    "# filename for output file with modelled ages thermochron samples\n",
    "thermochron_output_file = 'data/modelled_thermochron_data.csv'\n",
    "\n",
    "# output file with modelled ages vs distance\n",
    "thermochron_profile_file = 'data/modelled_thermochron_profiles.csv'"
   ]
  },
  {
   "cell_type": "markdown",
   "metadata": {},
   "source": [
    "## Model parameters"
   ]
  },
  {
   "cell_type": "code",
   "execution_count": 5,
   "metadata": {},
   "outputs": [],
   "source": [
    "year = 365.25 * 24 * 3600.\n",
    "\n",
    "model_run_name = 'default'\n",
    "\n",
    "# compressional, transport and accretion velocity\n",
    "vc = -5e-3 * u.m / u.year\n",
    "vd = -5e-3 * u.m / u.year\n",
    "vxa = 1e-9 * u.m / u.year\n",
    "vya = 1e-9 * u.m / u.year\n",
    "\n",
    "# convergence velocity of the downgoing plate\n",
    "# note this is the horizontal component, the downgoing component is calculated usign the wedge slope\n",
    "v_downgoing = 1.0e-3 * u.m / u.year\n",
    "\n",
    "# option to calibrate parameters or to run the model with default parameters\n",
    "calibrate_parameters = False\n",
    "\n",
    "# parameters to optimize and starting values \n",
    "#model_run_name = 'calibrated'\n",
    "\n",
    "params_to_change = ['convergence', 'conv_part', 'deform_part', 'vxa', 'vya']\n",
    "params = [20e-3 * u.m / u.year, 0.5, 0.5, 1e-5, 1e-5]\n",
    "\n",
    "#params_to_change = ['vc', 'vd']#, 'vxa', 'vya']\n",
    "#params = [2e-3 * u.m / u.year, -8e-3 * u.m / u.year]#, 1e-5 * u.m / u.year, 1e-5 * u.m / u.year]\n",
    "\n",
    "#params_to_change = ['vc', 'vd']#, 'vxa', 'vya']\n",
    "#params = [-2e-3 * u.m / u.year, -8e-3 * u.m / u.year]#, 1e-5 * u.m / u.year, 1e-5 * u.m / u.year]\n",
    "\n",
    "#model_run_name = 'detachment_cal'\n",
    "#params_to_change = ['vd']\n",
    "#params = [-3e-3]\n",
    "\n",
    "#model_run_name = 'compression_cal'\n",
    "#params_to_change = ['vc']\n",
    "#params = [-3e-3]\n",
    "\n",
    "#model_run_name = 'accretion_cal'\n",
    "#params_to_change = ['vxa', 'vya']\n",
    "#params = [1e-5, 1e-5]\n",
    "\n",
    "\n",
    "# lenght of wedge (m)\n",
    "L = 200e3 * u.m\n",
    "\n",
    "# slope of topography (m/m)\n",
    "# for McQuarrie & Ehlers: ~ 4km over 117 km \n",
    "alpha = 0.034\n",
    "\n",
    "# slope of bottom of wedge (m/m)\n",
    "# for McQuarrie & Ehlers: detachment depth at N edge xsection (117 km) = ~20 km\n",
    "beta = -0.17\n",
    "\n",
    "# disctance between surface points (m)\n",
    "x_interval = 5e3 * u.m\n",
    "\n",
    "x_first_pt = 1e3 * u.m\n",
    "\n",
    "# number of rows in the orogenic wedge. Used for figures only, no function in the actual model\n",
    "n_rows = 100\n",
    "\n",
    "# modelled timespan (years)\n",
    "max_time = 2e8 * u.year\n",
    "\n",
    "# timestep size (years)\n",
    "dt = 1e4 * u.year\n",
    "\n",
    "# thermochronology model. choose between 'simple', 'Dodson'\n",
    "#thermochron_model = 'simple'\n",
    "thermochron_model = 'Dodson'\n",
    "\n",
    "# names of thermochronometers, should match the names in your input file\n",
    "thermochron_systems = ['AFT', 'ZHe', 'MAr']\n",
    "\n",
    "# only low-T thermochron\n",
    "#thermochron_systems = ['AHe', 'AFT', 'ZHe', 'ZFT']\n",
    "\n",
    "# excluding low-T\n",
    "#thermochron_systems = ['ZHe', 'ZFT', 'MAr']\n",
    "\n",
    "# resetting temperatures (degr. C)\n",
    "resetting_temperatures = [70.0 * u.deg_C, 110.0 * u.deg_C, 180.0 * u.deg_C, 230.0 * u.deg_C, 325.0 * u.deg_C]\n",
    "\n",
    "# default exhumation rate, used to calculate ages from the undeformed foreland \n",
    "# that have not been reset inside the wedge (m/yr)\n",
    "default_exhumation_rate = 1e-4 * u.m / u.year\n",
    "\n",
    "# option to remove non-reset ages from database\n",
    "remove_non_reset_ages = True\n",
    "\n",
    "# limit for estimating which ages are reset or not (Ma)\n",
    "reset_age_limit =  100.0 \n",
    "\n",
    "# thermal history model. options: 'numerical' for numeircal steady-state model, 'fixed_gradient' for fixed geothermal gradient\n",
    "thermal_history_model = 'numerical'\n",
    "\n",
    "# geothermal gradient, used to convert resetting temp to depth (degr. C/m) in the case of a fixed_gradient thermal model\n",
    "geothermal_gradient = 0.015 * u.deg_C / u.m\n",
    "\n",
    "# surface temperature at sea lvl (degr. C)\n",
    "surface_temperature_sea_lvl = 24.0 * u.deg_C\n",
    "\n",
    "# adiabatic lapse rate (C/m), used to calculate surface temperatures\n",
    "lapse_rate = -7.0 / 1e3 * u.deg_C / u.m\n",
    "\n",
    "# model domain length of downgoing plate\n",
    "Lxmin = 100e3 * u.m\n",
    "\n",
    "# cellsizes\n",
    "#cellsize_wedge = 2000.0 * u.m\n",
    "#cellsize_footwall = 5000.0 * u.m\n",
    "\n",
    "# cellsizes for the numerical mesh that is used for the numerical heat flow model\n",
    "cellsize_wedge_top = 250.0 * u.m\n",
    "cellsize_wedge_bottom = 2000.0 * u.m\n",
    "cellsize_footwall = 5000.0 * u.m\n",
    "\n",
    "# vertical size downgoing plate\n",
    "Ly = 110e3 * u.m\n",
    "\n",
    "# temperature boundary conditions\n",
    "lab_temp = 1300 * u.deg_C\n",
    "\n",
    "# thermal parameters\n",
    "K = 2.5 * u.W / (u.m * u.K)\n",
    "rho = 2700.0 * u.kg / u.m**3\n",
    "c = 800.0 * u.J / (u.kg * u.K)\n",
    "\n",
    "# heat prod at surface\n",
    "#H0 = 2.25e-6 * u.W / u.m**3\n",
    "H0 = 2.75e-6 * u.W / u.m**3\n",
    "\n",
    "# e-folding depth heat prod\n",
    "e_folding_depth = 17500.0"
   ]
  },
  {
   "cell_type": "code",
   "execution_count": null,
   "metadata": {},
   "outputs": [],
   "source": []
  },
  {
   "cell_type": "markdown",
   "metadata": {},
   "source": [
    "## Additional model calibration options"
   ]
  },
  {
   "cell_type": "code",
   "execution_count": 6,
   "metadata": {},
   "outputs": [],
   "source": [
    "calibration_params = {'calibration_metric': 'RMSE', 'limit_params': True, 'xtol': 1e-8, 'ftol': 1e-8}\n",
    "\n",
    "# metric to calibrate the models. use 'MAE' or 'chisq'\n",
    "calibration_metric = 'RMSE'\n",
    "\n",
    "# https://docs.scipy.org/doc/scipy/reference/generated/scipy.optimize.minimize.html\n",
    "opt_method = \"Nelder-Mead\"\n",
    "\n",
    "# limit parameters to realistic limits\n",
    "# if True the model will limit vc <= 0, vd <= 0, vxa >= 0, vya >=0\n",
    "limit_params = True\n",
    "\n",
    "# convergence criteria for optimization algorithm\n",
    "# see https://docs.scipy.org/doc/scipy/reference/generated/scipy.optimize.fmin.html for more info\n",
    "xtol = 1e-8\n",
    "ftol = 1e-8\n",
    "\n",
    "# max number of iterations\n",
    "maxiter = 100"
   ]
  },
  {
   "cell_type": "markdown",
   "metadata": {
    "editable": true
   },
   "source": [
    "## Set up initial particle positions and timesteps"
   ]
  },
  {
   "cell_type": "code",
   "execution_count": 7,
   "metadata": {
    "collapsed": false,
    "editable": true,
    "jupyter": {
     "outputs_hidden": false
    }
   },
   "outputs": [
    {
     "name": "stdout",
     "output_type": "stream",
     "text": [
      "particle starting points (m from tip of wedge):\n",
      " [  1000.   5000.  10000.  15000.  20000.  25000.  30000.  35000.  40000.\n",
      "  45000.  50000.  55000.  60000.  65000.  70000.  75000.  80000.  85000.\n",
      "  90000.  95000. 100000. 105000. 110000. 115000. 120000. 125000. 130000.\n",
      " 135000. 140000. 145000. 150000. 155000. 160000. 165000. 170000. 175000.\n",
      " 180000. 185000. 190000. 195000. 200000.] m\n",
      "timesteps (yr):\n",
      " [ 0.0000e+00 -1.0000e-02 -2.0000e-02 ... -1.9998e+02 -1.9999e+02\n",
      " -2.0000e+02] yr\n"
     ]
    }
   ],
   "source": [
    "# x-coordinates of starting points:\n",
    "x0s = np.arange(0, L.to(u.m).value + x_interval.to(u.m).value, x_interval.to(u.m).value) * u.m\n",
    "x0s[0] = x_first_pt\n",
    "\n",
    "# timesteps (years)\n",
    "t = np.arange(0, -max_time.to(u.year).value - dt.to(u.year).value, -dt.to(u.year).value) * u.year\n",
    "\n",
    "print('particle starting points (m from tip of wedge):\\n', x0s)\n",
    "\n",
    "print('timesteps (yr):\\n', t / 1e6)"
   ]
  },
  {
   "cell_type": "markdown",
   "metadata": {},
   "source": [
    "## Load thermochron data"
   ]
  },
  {
   "cell_type": "code",
   "execution_count": 8,
   "metadata": {},
   "outputs": [
    {
     "name": "stdout",
     "output_type": "stream",
     "text": [
      "thermochron data systems in file:  ['ZHe' 'AFT' 'MAr']\n"
     ]
    }
   ],
   "source": [
    "df = pd.read_csv(thermochron_data_file)\n",
    "\n",
    "df[thermochronometer_col].unique()\n",
    "\n",
    "print('thermochron data systems in file: ', df[thermochronometer_col].unique())"
   ]
  },
  {
   "cell_type": "markdown",
   "metadata": {},
   "source": [
    "## Remove anomalously old ages"
   ]
  },
  {
   "cell_type": "code",
   "execution_count": 9,
   "metadata": {},
   "outputs": [
    {
     "name": "stdout",
     "output_type": "stream",
     "text": [
      "ages before removing non-reset ages:\n",
      " count      48.000000\n",
      "mean       56.973812\n",
      "std       245.686577\n",
      "min         2.700000\n",
      "25%         4.222500\n",
      "50%         6.930000\n",
      "75%         8.940000\n",
      "max      1395.700000\n",
      "Name: age, dtype: float64\n",
      "ages after removing non-reset ages:\n",
      " count    46.000000\n",
      "mean      6.915935\n",
      "std       2.913004\n",
      "min       2.700000\n",
      "25%       4.207500\n",
      "50%       6.600000\n",
      "75%       8.615000\n",
      "max      14.780000\n",
      "Name: age, dtype: float64\n"
     ]
    }
   ],
   "source": [
    "if remove_non_reset_ages is True:\n",
    "\n",
    "    print('ages before removing non-reset ages:\\n', df['age'].describe())\n",
    "    \n",
    "    df = df[df['age'] < reset_age_limit]\n",
    "    \n",
    "    print('ages after removing non-reset ages:\\n', df['age'].describe())"
   ]
  },
  {
   "cell_type": "markdown",
   "metadata": {},
   "source": [
    "## Get sample data"
   ]
  },
  {
   "cell_type": "code",
   "execution_count": 10,
   "metadata": {},
   "outputs": [],
   "source": [
    "# get sample positions from dataframe\n",
    "x0_samples = df[distance_column].values * u.m\n",
    "\n",
    "# calculate surface temperature\n",
    "#df['surface_T'] = surface_temperature_sea_lvl - lapse_rate * df['elevation']\n",
    "#df['resetting_depth'] = (df['resetting_temp'] - df['surface_T']) / geothermal_gradient\n",
    "\n",
    "#df.head()\n",
    "\n",
    "measured_ages = df['age'].values * 1e6 * u.year\n",
    "#data_distance = df['age'].values\n",
    "measured_ages_sigma = df['age_error_1s'].values * 1e6 * u.year\n",
    "#resetting_temperatures_samples = df['resetting_temp'].values\n",
    "\n",
    "thermochron_system_samples = df[thermochronometer_col].values"
   ]
  },
  {
   "cell_type": "markdown",
   "metadata": {},
   "source": [
    "## Parameter calibration"
   ]
  },
  {
   "cell_type": "code",
   "execution_count": 11,
   "metadata": {},
   "outputs": [
    {
     "name": "stdout",
     "output_type": "stream",
     "text": [
      "using RMSE metric to calibrate model \n",
      "starting optimization, this may take a while, especially in combination with the numerical heat flow model ....\n",
      "parameters that were changed:  ['convergence', 'conv_part', 'deform_part', 'vxa', 'vya']\n",
      "parameter values:  [2.e-02 5.e-01 5.e-01 1.e-05 1.e-05]\n",
      "modelled temps  269.51168527489193 -20.722360037560158 1301.9407047515515\n",
      ".modelled ages, min., mean, max.:  1324619.9293884581 yr 4251791.386890881 yr 14799839.83197869 yr\n",
      "\tME =  2.664143395717815 yr\n",
      "\tMAE =  2.7133089915313393\n",
      "\tRMSE =  3.0752795941653828\n",
      "\tR2 =  -0.13928522579474767\n",
      "\tmisfit =  129.5194153784426\n",
      "\tchi squared =  16775.27895997356\n",
      "-----\n",
      "parameters that were changed:  ['convergence', 'conv_part', 'deform_part', 'vxa', 'vya']\n",
      "parameter values:  [2.1e-02 5.0e-01 5.0e-01 1.0e-05 1.0e-05]\n",
      "modelled temps  271.69640123287337 -20.633782285412902 1303.3780488865484\n",
      ".modelled ages, min., mean, max.:  1233493.0431331578 yr 3992990.9045180916 yr 13932005.690654816 yr\n",
      "\tME =  2.9229438780906034 yr\n",
      "\tMAE =  2.962825190391724\n",
      "\tRMSE =  3.2819221685666524\n",
      "\tR2 =  -0.29753716894695037\n",
      "\tmisfit =  139.31468386806856\n",
      "\tchi squared =  19408.581141259885\n",
      "-----\n",
      "parameters that were changed:  ['convergence', 'conv_part', 'deform_part', 'vxa', 'vya']\n",
      "parameter values:  [2.00e-02 5.25e-01 5.00e-01 1.00e-05 1.00e-05]\n",
      "modelled temps  265.29756223780475 -20.845412635473945 1303.378048873515\n",
      ".modelled ages, min., mean, max.:  1479377.673757279 yr 4629691.986383871 yr 16092019.343350334 yr\n",
      "\tME =  2.2862427962248235 yr\n",
      "\tMAE =  2.453180111785118\n",
      "\tRMSE =  2.8094213250642257\n",
      "\tR2 =  0.04918286051246179\n",
      "\tmisfit =  116.71212757331874\n",
      "\tchi squared =  13621.72072269063\n",
      "-----\n",
      "parameters that were changed:  ['convergence', 'conv_part', 'deform_part', 'vxa', 'vya']\n",
      "parameter values:  [2.00e-02 5.00e-01 5.25e-01 1.00e-05 1.00e-05]\n",
      "modelled temps  269.55020833526385 -20.69579285747108 1301.9407047416005\n",
      ".modelled ages, min., mean, max.:  1318645.9301034615 yr 4331494.080901889 yr 15173534.047561908 yr\n",
      "\tME =  2.5844407017068063 yr\n",
      "\tMAE =  2.6608819968969226\n",
      "\tRMSE =  3.016687438244623\n",
      "\tR2 =  -0.09628603573286476\n",
      "\tmisfit =  128.11797802319523\n",
      "\tchi squared =  16414.21629275194\n",
      "-----\n",
      "parameters that were changed:  ['convergence', 'conv_part', 'deform_part', 'vxa', 'vya']\n",
      "parameter values:  [2.00e-02 5.00e-01 5.00e-01 1.05e-05 1.00e-05]\n",
      "modelled temps  269.5065456813942 -20.722449693380725 1301.9407047514972\n",
      ".modelled ages, min., mean, max.:  1324674.0424153502 yr 4252087.673023078 yr 14801580.796147188 yr\n",
      "\tME =  2.6638471095856175 yr\n",
      "\tMAE =  2.7131107043453135\n",
      "\tRMSE =  3.075054492203437\n",
      "\tR2 =  -0.1391184468429294\n",
      "\tmisfit =  129.5093972256806\n",
      "\tchi squared =  16772.683969759128\n",
      "-----\n",
      "parameters that were changed:  ['convergence', 'conv_part', 'deform_part', 'vxa', 'vya']\n",
      "parameter values:  [2.00e-02 5.00e-01 5.00e-01 1.00e-05 1.05e-05]\n",
      "modelled temps  269.50041489407226 -20.72241291125121 1301.94070475136\n",
      ".modelled ages, min., mean, max.:  1324466.0501205577 yr 4250131.661750428 yr 14801495.901262889 yr\n",
      "\tME =  2.6658031208582678 yr\n",
      "\tMAE =  2.714957312717435\n",
      "\tRMSE =  3.0762642131508517\n",
      "\tR2 =  -0.1400148774620522\n",
      "\tmisfit =  129.5999995318294\n",
      "\tchi squared =  16796.15987865018\n",
      "-----\n",
      "parameters that were changed:  ['convergence', 'conv_part', 'deform_part', 'vxa', 'vya']\n",
      "parameter values:  [1.90e-02 5.10e-01 5.10e-01 1.02e-05 1.02e-05]\n",
      "modelled temps  265.70102780992784 -20.84725715765891 1301.0397395679354\n",
      ".modelled ages, min., mean, max.:  1498976.2948363174 yr 4715757.289230925 yr 16407644.68473198 yr\n",
      "\tME =  2.200177493377771 yr\n",
      "\tMAE =  2.3955815921553616\n",
      "\tRMSE =  2.74837417044199\n",
      "\tR2 =  0.09005536417566307\n",
      "\tmisfit =  114.19291977373267\n",
      "\tchi squared =  13040.022926450145\n",
      "-----\n",
      "parameters that were changed:  ['convergence', 'conv_part', 'deform_part', 'vxa', 'vya']\n",
      "parameter values:  [1.80e-02 5.15e-01 5.15e-01 1.03e-05 1.03e-05]\n"
     ]
    },
    {
     "ename": "KeyboardInterrupt",
     "evalue": "",
     "output_type": "error",
     "traceback": [
      "\u001b[0;31m---------------------------------------------------------------------------\u001b[0m",
      "\u001b[0;31mKeyboardInterrupt\u001b[0m                         Traceback (most recent call last)",
      "\u001b[0;32m<ipython-input-11-2b24361aa556>\u001b[0m in \u001b[0;36m<module>\u001b[0;34m\u001b[0m\n\u001b[1;32m     35\u001b[0m \u001b[0mopt_options\u001b[0m \u001b[0;34m=\u001b[0m \u001b[0;34m{\u001b[0m\u001b[0;34m\"full_output\"\u001b[0m\u001b[0;34m:\u001b[0m \u001b[0;32mTrue\u001b[0m\u001b[0;34m,\u001b[0m \u001b[0;34m\"maxiter\"\u001b[0m\u001b[0;34m:\u001b[0m \u001b[0mmaxiter\u001b[0m\u001b[0;34m}\u001b[0m\u001b[0;34m\u001b[0m\u001b[0;34m\u001b[0m\u001b[0m\n\u001b[1;32m     36\u001b[0m \u001b[0;34m\u001b[0m\u001b[0m\n\u001b[0;32m---> 37\u001b[0;31m opt_results = scipy.optimize.minimize(wedgex_model_functions.compare_modelled_and_measured_ages, \n\u001b[0m\u001b[1;32m     38\u001b[0m                                       params_, args=args, method=opt_method, options=opt_options)\n\u001b[1;32m     39\u001b[0m \u001b[0;34m\u001b[0m\u001b[0m\n",
      "\u001b[0;32m~/opt/anaconda3/envs/fipy/lib/python3.8/site-packages/scipy/optimize/_minimize.py\u001b[0m in \u001b[0;36mminimize\u001b[0;34m(fun, x0, args, method, jac, hess, hessp, bounds, constraints, tol, callback, options)\u001b[0m\n\u001b[1;32m    606\u001b[0m \u001b[0;34m\u001b[0m\u001b[0m\n\u001b[1;32m    607\u001b[0m     \u001b[0;32mif\u001b[0m \u001b[0mmeth\u001b[0m \u001b[0;34m==\u001b[0m \u001b[0;34m'nelder-mead'\u001b[0m\u001b[0;34m:\u001b[0m\u001b[0;34m\u001b[0m\u001b[0;34m\u001b[0m\u001b[0m\n\u001b[0;32m--> 608\u001b[0;31m         \u001b[0;32mreturn\u001b[0m \u001b[0m_minimize_neldermead\u001b[0m\u001b[0;34m(\u001b[0m\u001b[0mfun\u001b[0m\u001b[0;34m,\u001b[0m \u001b[0mx0\u001b[0m\u001b[0;34m,\u001b[0m \u001b[0margs\u001b[0m\u001b[0;34m,\u001b[0m \u001b[0mcallback\u001b[0m\u001b[0;34m,\u001b[0m \u001b[0;34m**\u001b[0m\u001b[0moptions\u001b[0m\u001b[0;34m)\u001b[0m\u001b[0;34m\u001b[0m\u001b[0;34m\u001b[0m\u001b[0m\n\u001b[0m\u001b[1;32m    609\u001b[0m     \u001b[0;32melif\u001b[0m \u001b[0mmeth\u001b[0m \u001b[0;34m==\u001b[0m \u001b[0;34m'powell'\u001b[0m\u001b[0;34m:\u001b[0m\u001b[0;34m\u001b[0m\u001b[0;34m\u001b[0m\u001b[0m\n\u001b[1;32m    610\u001b[0m         \u001b[0;32mreturn\u001b[0m \u001b[0m_minimize_powell\u001b[0m\u001b[0;34m(\u001b[0m\u001b[0mfun\u001b[0m\u001b[0;34m,\u001b[0m \u001b[0mx0\u001b[0m\u001b[0;34m,\u001b[0m \u001b[0margs\u001b[0m\u001b[0;34m,\u001b[0m \u001b[0mcallback\u001b[0m\u001b[0;34m,\u001b[0m \u001b[0mbounds\u001b[0m\u001b[0;34m,\u001b[0m \u001b[0;34m**\u001b[0m\u001b[0moptions\u001b[0m\u001b[0;34m)\u001b[0m\u001b[0;34m\u001b[0m\u001b[0;34m\u001b[0m\u001b[0m\n",
      "\u001b[0;32m~/opt/anaconda3/envs/fipy/lib/python3.8/site-packages/scipy/optimize/optimize.py\u001b[0m in \u001b[0;36m_minimize_neldermead\u001b[0;34m(func, x0, args, callback, maxiter, maxfev, disp, return_all, initial_simplex, xatol, fatol, adaptive, **unknown_options)\u001b[0m\n\u001b[1;32m    742\u001b[0m         \u001b[0;32mif\u001b[0m \u001b[0mfxr\u001b[0m \u001b[0;34m<\u001b[0m \u001b[0mfsim\u001b[0m\u001b[0;34m[\u001b[0m\u001b[0;36m0\u001b[0m\u001b[0;34m]\u001b[0m\u001b[0;34m:\u001b[0m\u001b[0;34m\u001b[0m\u001b[0;34m\u001b[0m\u001b[0m\n\u001b[1;32m    743\u001b[0m             \u001b[0mxe\u001b[0m \u001b[0;34m=\u001b[0m \u001b[0;34m(\u001b[0m\u001b[0;36m1\u001b[0m \u001b[0;34m+\u001b[0m \u001b[0mrho\u001b[0m \u001b[0;34m*\u001b[0m \u001b[0mchi\u001b[0m\u001b[0;34m)\u001b[0m \u001b[0;34m*\u001b[0m \u001b[0mxbar\u001b[0m \u001b[0;34m-\u001b[0m \u001b[0mrho\u001b[0m \u001b[0;34m*\u001b[0m \u001b[0mchi\u001b[0m \u001b[0;34m*\u001b[0m \u001b[0msim\u001b[0m\u001b[0;34m[\u001b[0m\u001b[0;34m-\u001b[0m\u001b[0;36m1\u001b[0m\u001b[0;34m]\u001b[0m\u001b[0;34m\u001b[0m\u001b[0;34m\u001b[0m\u001b[0m\n\u001b[0;32m--> 744\u001b[0;31m             \u001b[0mfxe\u001b[0m \u001b[0;34m=\u001b[0m \u001b[0mfunc\u001b[0m\u001b[0;34m(\u001b[0m\u001b[0mxe\u001b[0m\u001b[0;34m)\u001b[0m\u001b[0;34m\u001b[0m\u001b[0;34m\u001b[0m\u001b[0m\n\u001b[0m\u001b[1;32m    745\u001b[0m \u001b[0;34m\u001b[0m\u001b[0m\n\u001b[1;32m    746\u001b[0m             \u001b[0;32mif\u001b[0m \u001b[0mfxe\u001b[0m \u001b[0;34m<\u001b[0m \u001b[0mfxr\u001b[0m\u001b[0;34m:\u001b[0m\u001b[0;34m\u001b[0m\u001b[0;34m\u001b[0m\u001b[0m\n",
      "\u001b[0;32m~/opt/anaconda3/envs/fipy/lib/python3.8/site-packages/scipy/optimize/optimize.py\u001b[0m in \u001b[0;36mfunction_wrapper\u001b[0;34m(*wrapper_args)\u001b[0m\n\u001b[1;32m    459\u001b[0m     \u001b[0;32mdef\u001b[0m \u001b[0mfunction_wrapper\u001b[0m\u001b[0;34m(\u001b[0m\u001b[0;34m*\u001b[0m\u001b[0mwrapper_args\u001b[0m\u001b[0;34m)\u001b[0m\u001b[0;34m:\u001b[0m\u001b[0;34m\u001b[0m\u001b[0;34m\u001b[0m\u001b[0m\n\u001b[1;32m    460\u001b[0m         \u001b[0mncalls\u001b[0m\u001b[0;34m[\u001b[0m\u001b[0;36m0\u001b[0m\u001b[0;34m]\u001b[0m \u001b[0;34m+=\u001b[0m \u001b[0;36m1\u001b[0m\u001b[0;34m\u001b[0m\u001b[0;34m\u001b[0m\u001b[0m\n\u001b[0;32m--> 461\u001b[0;31m         \u001b[0;32mreturn\u001b[0m \u001b[0mfunction\u001b[0m\u001b[0;34m(\u001b[0m\u001b[0;34m*\u001b[0m\u001b[0;34m(\u001b[0m\u001b[0mwrapper_args\u001b[0m \u001b[0;34m+\u001b[0m \u001b[0margs\u001b[0m\u001b[0;34m)\u001b[0m\u001b[0;34m)\u001b[0m\u001b[0;34m\u001b[0m\u001b[0;34m\u001b[0m\u001b[0m\n\u001b[0m\u001b[1;32m    462\u001b[0m \u001b[0;34m\u001b[0m\u001b[0m\n\u001b[1;32m    463\u001b[0m     \u001b[0;32mreturn\u001b[0m \u001b[0mncalls\u001b[0m\u001b[0;34m,\u001b[0m \u001b[0mfunction_wrapper\u001b[0m\u001b[0;34m\u001b[0m\u001b[0;34m\u001b[0m\u001b[0m\n",
      "\u001b[0;32m~/werk/published_code/wedgex_git/lib/wedgex_model_functions.py\u001b[0m in \u001b[0;36mcompare_modelled_and_measured_ages\u001b[0;34m(params, params_to_change, limit_params, t, x0_samples, alpha, beta, L, vc, vd, vxa, vya, surface_temperature_sea_lvl, lapse_rate, geothermal_gradient, measured_ages, age_uncertainty, default_exhumation_rate, metric_to_return, thermal_history_model, Ly, Lxmin, cellsize_wedge_top, cellsize_wedge_bottom, cellsize_footwall, lab_temp, K, rho, c, H0, e_folding_depth, v_downgoing, thermochron_model, thermochron_systems, thermochron_system_samples, resetting_temperatures, return_all, verbose)\u001b[0m\n\u001b[1;32m    481\u001b[0m     \u001b[0;32mif\u001b[0m \u001b[0mthermal_history_model\u001b[0m \u001b[0;34m==\u001b[0m \u001b[0;34m'numerical'\u001b[0m\u001b[0;34m:\u001b[0m\u001b[0;34m\u001b[0m\u001b[0;34m\u001b[0m\u001b[0m\n\u001b[1;32m    482\u001b[0m \u001b[0;34m\u001b[0m\u001b[0m\n\u001b[0;32m--> 483\u001b[0;31m         Tx_, Ty_, T_, q, mesh = hf.model_heat_transport(L_, Ly_, alpha, beta, Lxmin_, \n\u001b[0m\u001b[1;32m    484\u001b[0m                                                         \u001b[0mcellsize_wedge_top_\u001b[0m\u001b[0;34m,\u001b[0m \u001b[0mcellsize_wedge_bottom_\u001b[0m\u001b[0;34m,\u001b[0m \u001b[0mcellsize_footwall_\u001b[0m\u001b[0;34m,\u001b[0m\u001b[0;34m\u001b[0m\u001b[0;34m\u001b[0m\u001b[0m\n\u001b[1;32m    485\u001b[0m                                                         \u001b[0mvd_\u001b[0m\u001b[0;34m,\u001b[0m \u001b[0mvc_\u001b[0m\u001b[0;34m,\u001b[0m \u001b[0mvxa_\u001b[0m\u001b[0;34m,\u001b[0m \u001b[0mvya_\u001b[0m\u001b[0;34m,\u001b[0m \u001b[0mv_downgoing_\u001b[0m\u001b[0;34m,\u001b[0m \u001b[0msurface_temperature_sea_lvl\u001b[0m\u001b[0;34m.\u001b[0m\u001b[0mvalue\u001b[0m\u001b[0;34m,\u001b[0m\u001b[0;34m\u001b[0m\u001b[0;34m\u001b[0m\u001b[0m\n",
      "\u001b[0;32m~/werk/published_code/wedgex_git/lib/heat_flow_model.py\u001b[0m in \u001b[0;36mmodel_heat_transport\u001b[0;34m(Lx, Ly, alpha, beta, Lxmin, cellsize_wedge_top, cellsize_wedge_bottom, cellsize_footwall, vd, vc, vxa, vya, v_downgoing, sea_lvl_temp, lapse_rate, lab_temp, K, rho, c, H0, e_folding_depth)\u001b[0m\n\u001b[1;32m    234\u001b[0m \u001b[0;34m\u001b[0m\u001b[0m\n\u001b[1;32m    235\u001b[0m     \u001b[0;31m# convert result to arrays\u001b[0m\u001b[0;34m\u001b[0m\u001b[0;34m\u001b[0m\u001b[0;34m\u001b[0m\u001b[0m\n\u001b[0;32m--> 236\u001b[0;31m     \u001b[0mT_array\u001b[0m \u001b[0;34m=\u001b[0m \u001b[0mT\u001b[0m\u001b[0;34m(\u001b[0m\u001b[0mmesh\u001b[0m\u001b[0;34m.\u001b[0m\u001b[0mcellCenters\u001b[0m\u001b[0;34m.\u001b[0m\u001b[0mglobalValue\u001b[0m\u001b[0;34m)\u001b[0m\u001b[0;34m\u001b[0m\u001b[0;34m\u001b[0m\u001b[0m\n\u001b[0m\u001b[1;32m    237\u001b[0m     \u001b[0mx\u001b[0m\u001b[0;34m,\u001b[0m \u001b[0my\u001b[0m \u001b[0;34m=\u001b[0m \u001b[0mmesh\u001b[0m\u001b[0;34m.\u001b[0m\u001b[0mcellCenters\u001b[0m\u001b[0;34m.\u001b[0m\u001b[0mglobalValue\u001b[0m\u001b[0;34m\u001b[0m\u001b[0;34m\u001b[0m\u001b[0m\n\u001b[1;32m    238\u001b[0m \u001b[0;34m\u001b[0m\u001b[0m\n",
      "\u001b[0;32m~/opt/anaconda3/envs/fipy/lib/python3.8/site-packages/fipy/variables/cellVariable.py\u001b[0m in \u001b[0;36m__call__\u001b[0;34m(self, points, order, nearestCellIDs)\u001b[0m\n\u001b[1;32m    174\u001b[0m \u001b[0;34m\u001b[0m\u001b[0m\n\u001b[1;32m    175\u001b[0m             \u001b[0;32mif\u001b[0m \u001b[0mnearestCellIDs\u001b[0m \u001b[0;32mis\u001b[0m \u001b[0;32mNone\u001b[0m\u001b[0;34m:\u001b[0m\u001b[0;34m\u001b[0m\u001b[0;34m\u001b[0m\u001b[0m\n\u001b[0;32m--> 176\u001b[0;31m                 \u001b[0mnearestCellIDs\u001b[0m \u001b[0;34m=\u001b[0m \u001b[0mself\u001b[0m\u001b[0;34m.\u001b[0m\u001b[0mmesh\u001b[0m\u001b[0;34m.\u001b[0m\u001b[0m_getNearestCellID\u001b[0m\u001b[0;34m(\u001b[0m\u001b[0mpoints\u001b[0m\u001b[0;34m)\u001b[0m\u001b[0;34m\u001b[0m\u001b[0;34m\u001b[0m\u001b[0m\n\u001b[0m\u001b[1;32m    177\u001b[0m \u001b[0;34m\u001b[0m\u001b[0m\n\u001b[1;32m    178\u001b[0m             \u001b[0;32mif\u001b[0m \u001b[0morder\u001b[0m \u001b[0;34m==\u001b[0m \u001b[0;36m0\u001b[0m\u001b[0;34m:\u001b[0m\u001b[0;34m\u001b[0m\u001b[0;34m\u001b[0m\u001b[0m\n",
      "\u001b[0;32m~/opt/anaconda3/envs/fipy/lib/python3.8/site-packages/fipy/meshes/mesh.py\u001b[0m in \u001b[0;36m_getNearestCellID\u001b[0;34m(self, points)\u001b[0m\n\u001b[1;32m    546\u001b[0m \u001b[0;34m\u001b[0m\u001b[0m\n\u001b[1;32m    547\u001b[0m         \"\"\"\n\u001b[0;32m--> 548\u001b[0;31m         \u001b[0;32mreturn\u001b[0m \u001b[0mnumerix\u001b[0m\u001b[0;34m.\u001b[0m\u001b[0mnearest\u001b[0m\u001b[0;34m(\u001b[0m\u001b[0mdata\u001b[0m\u001b[0;34m=\u001b[0m\u001b[0mself\u001b[0m\u001b[0;34m.\u001b[0m\u001b[0mcellCenters\u001b[0m\u001b[0;34m.\u001b[0m\u001b[0mglobalValue\u001b[0m\u001b[0;34m,\u001b[0m \u001b[0mpoints\u001b[0m\u001b[0;34m=\u001b[0m\u001b[0mpoints\u001b[0m\u001b[0;34m)\u001b[0m\u001b[0;34m\u001b[0m\u001b[0;34m\u001b[0m\u001b[0m\n\u001b[0m\u001b[1;32m    549\u001b[0m \u001b[0;34m\u001b[0m\u001b[0m\n\u001b[1;32m    550\u001b[0m     \u001b[0;32mdef\u001b[0m \u001b[0m_test\u001b[0m\u001b[0;34m(\u001b[0m\u001b[0mself\u001b[0m\u001b[0;34m)\u001b[0m\u001b[0;34m:\u001b[0m\u001b[0;34m\u001b[0m\u001b[0;34m\u001b[0m\u001b[0m\n",
      "\u001b[0;32m~/opt/anaconda3/envs/fipy/lib/python3.8/site-packages/fipy/tools/numerix.py\u001b[0m in \u001b[0;36mnearest\u001b[0;34m(data, points, max_mem)\u001b[0m\n\u001b[1;32m    525\u001b[0m \u001b[0;34m\u001b[0m\u001b[0m\n\u001b[1;32m    526\u001b[0m         \u001b[0;31m# (N, C) -> C\u001b[0m\u001b[0;34m\u001b[0m\u001b[0;34m\u001b[0m\u001b[0;34m\u001b[0m\u001b[0m\n\u001b[0;32m--> 527\u001b[0;31m         \u001b[0mnearestIndices\u001b[0m\u001b[0;34m[\u001b[0m\u001b[0mchunk\u001b[0m\u001b[0;34m]\u001b[0m \u001b[0;34m=\u001b[0m \u001b[0margmin\u001b[0m\u001b[0;34m(\u001b[0m\u001b[0mtmp\u001b[0m\u001b[0;34m,\u001b[0m \u001b[0maxis\u001b[0m\u001b[0;34m=\u001b[0m\u001b[0;36m0\u001b[0m\u001b[0;34m)\u001b[0m\u001b[0;34m\u001b[0m\u001b[0;34m\u001b[0m\u001b[0m\n\u001b[0m\u001b[1;32m    528\u001b[0m \u001b[0;34m\u001b[0m\u001b[0m\n\u001b[1;32m    529\u001b[0m     \u001b[0;32mreturn\u001b[0m \u001b[0mnearestIndices\u001b[0m\u001b[0;34m\u001b[0m\u001b[0;34m\u001b[0m\u001b[0m\n",
      "\u001b[0;32m<__array_function__ internals>\u001b[0m in \u001b[0;36margmin\u001b[0;34m(*args, **kwargs)\u001b[0m\n",
      "\u001b[0;32m~/opt/anaconda3/envs/fipy/lib/python3.8/site-packages/numpy/core/fromnumeric.py\u001b[0m in \u001b[0;36margmin\u001b[0;34m(a, axis, out)\u001b[0m\n\u001b[1;32m   1272\u001b[0m \u001b[0;34m\u001b[0m\u001b[0m\n\u001b[1;32m   1273\u001b[0m     \"\"\"\n\u001b[0;32m-> 1274\u001b[0;31m     \u001b[0;32mreturn\u001b[0m \u001b[0m_wrapfunc\u001b[0m\u001b[0;34m(\u001b[0m\u001b[0ma\u001b[0m\u001b[0;34m,\u001b[0m \u001b[0;34m'argmin'\u001b[0m\u001b[0;34m,\u001b[0m \u001b[0maxis\u001b[0m\u001b[0;34m=\u001b[0m\u001b[0maxis\u001b[0m\u001b[0;34m,\u001b[0m \u001b[0mout\u001b[0m\u001b[0;34m=\u001b[0m\u001b[0mout\u001b[0m\u001b[0;34m)\u001b[0m\u001b[0;34m\u001b[0m\u001b[0;34m\u001b[0m\u001b[0m\n\u001b[0m\u001b[1;32m   1275\u001b[0m \u001b[0;34m\u001b[0m\u001b[0m\n\u001b[1;32m   1276\u001b[0m \u001b[0;34m\u001b[0m\u001b[0m\n",
      "\u001b[0;32m~/opt/anaconda3/envs/fipy/lib/python3.8/site-packages/numpy/core/fromnumeric.py\u001b[0m in \u001b[0;36m_wrapfunc\u001b[0;34m(obj, method, *args, **kwds)\u001b[0m\n\u001b[1;32m     56\u001b[0m \u001b[0;34m\u001b[0m\u001b[0m\n\u001b[1;32m     57\u001b[0m     \u001b[0;32mtry\u001b[0m\u001b[0;34m:\u001b[0m\u001b[0;34m\u001b[0m\u001b[0;34m\u001b[0m\u001b[0m\n\u001b[0;32m---> 58\u001b[0;31m         \u001b[0;32mreturn\u001b[0m \u001b[0mbound\u001b[0m\u001b[0;34m(\u001b[0m\u001b[0;34m*\u001b[0m\u001b[0margs\u001b[0m\u001b[0;34m,\u001b[0m \u001b[0;34m**\u001b[0m\u001b[0mkwds\u001b[0m\u001b[0;34m)\u001b[0m\u001b[0;34m\u001b[0m\u001b[0;34m\u001b[0m\u001b[0m\n\u001b[0m\u001b[1;32m     59\u001b[0m     \u001b[0;32mexcept\u001b[0m \u001b[0mTypeError\u001b[0m\u001b[0;34m:\u001b[0m\u001b[0;34m\u001b[0m\u001b[0;34m\u001b[0m\u001b[0m\n\u001b[1;32m     60\u001b[0m         \u001b[0;31m# A TypeError occurs if the object does have such a method in its\u001b[0m\u001b[0;34m\u001b[0m\u001b[0;34m\u001b[0m\u001b[0;34m\u001b[0m\u001b[0m\n",
      "\u001b[0;31mKeyboardInterrupt\u001b[0m: "
     ]
    }
   ],
   "source": [
    "import imp\n",
    "imp.reload(wedgex_model_functions)\n",
    "\n",
    "import warnings\n",
    "warnings.filterwarnings('ignore')\n",
    "\n",
    "params_ = []\n",
    "\n",
    "for p in params:\n",
    "    if type(p) == u.quantity.Quantity:\n",
    "        params_.append(p.value)\n",
    "    else:\n",
    "        params_.append(p)\n",
    "        \n",
    "#params_ = [p.value for p in params]\n",
    "#params_ = params\n",
    "\n",
    "args = (params_to_change, limit_params, t, x0_samples, alpha, beta, L, vc, vd, vxa, vya, \n",
    "        surface_temperature_sea_lvl, lapse_rate, geothermal_gradient,\n",
    "        measured_ages, measured_ages_sigma, default_exhumation_rate,\n",
    "        calibration_metric, \n",
    "        thermal_history_model, Ly, Lxmin, cellsize_wedge_top, cellsize_wedge_bottom, cellsize_footwall, \n",
    "        lab_temp, K, rho, c, H0, e_folding_depth, v_downgoing, thermochron_model, thermochron_systems, thermochron_system_samples,\n",
    "        resetting_temperatures)\n",
    "\n",
    "# test run\n",
    "#init_results = wedgex_model_functions.compare_modelled_and_measured_ages(params_, *args)\n",
    "\n",
    "print('using %s metric to calibrate model ' % calibration_metric)\n",
    "\n",
    "print('starting optimization, this may take a while, especially in combination with the numerical heat flow model ....')\n",
    "#opt_results = scipy.optimize.fmin(wedgex_model_functions.compare_modelled_and_measured_ages, \n",
    "#                                  params_, args=args, \n",
    "#                                  maxiter=maxiter, xtol=xtol, ftol=ftol, full_output=True)\n",
    "opt_options = {\"full_output\": True, \"maxiter\": maxiter}\n",
    "\n",
    "opt_results = scipy.optimize.minimize(wedgex_model_functions.compare_modelled_and_measured_ages, \n",
    "                                      params_, args=args, method=opt_method, options=opt_options)\n",
    "\n",
    "print('done optimizing')\n"
   ]
  },
  {
   "cell_type": "code",
   "execution_count": null,
   "metadata": {},
   "outputs": [],
   "source": [
    "params = opt_results.x\n",
    "opt_error = opt_results.fun\n",
    "\n",
    "print('optimized parameter values ', params)\n",
    "print('optimized model error ', opt_error)"
   ]
  },
  {
   "cell_type": "markdown",
   "metadata": {},
   "source": [
    "## Save calibration results "
   ]
  },
  {
   "cell_type": "code",
   "execution_count": null,
   "metadata": {},
   "outputs": [],
   "source": [
    "param_tries, model_errors = opt_results.final_simplex\n",
    "\n",
    "dfr = pd.DataFrame(index=np.arange(len(model_errors)), columns=params_to_change + ['model_error'])\n",
    "\n",
    "for i, p in enumerate(params_to_change):\n",
    "    dfr[p] = param_tries[:, i]\n",
    "    \n",
    "dfr[\"model_error\"] = model_errors\n",
    "\n",
    "today = datetime.datetime.now()\n",
    "today_str = '%i-%i-%i' % (today.day, today.month, today.year)\n",
    "fn = f\"data/calibrated_parameters_{len(model_errors)}_tries_{today_str}.csv\"\n",
    "dfr.to_csv(fn, index_label=\"calibrated_parameter\")\n",
    "\n",
    "dfr"
   ]
  },
  {
   "cell_type": "markdown",
   "metadata": {},
   "source": [
    "## Save input data as pickle file"
   ]
  },
  {
   "cell_type": "code",
   "execution_count": null,
   "metadata": {},
   "outputs": [],
   "source": [
    "fnp = f\"data/calibrated_parameters_{len(model_errors)}_tries_{today_str}.pck\"\n",
    "fout = open(fnp, \"wb\")\n",
    "pickle.dump(args, fout)\n",
    "fout.close()"
   ]
  },
  {
   "cell_type": "code",
   "execution_count": null,
   "metadata": {},
   "outputs": [],
   "source": [
    "lapse_rate, c"
   ]
  },
  {
   "cell_type": "code",
   "execution_count": null,
   "metadata": {},
   "outputs": [],
   "source": []
  }
 ],
 "metadata": {
  "kernelspec": {
   "display_name": "Python 3",
   "language": "python",
   "name": "python3"
  },
  "language_info": {
   "codemirror_mode": {
    "name": "ipython",
    "version": 3
   },
   "file_extension": ".py",
   "mimetype": "text/x-python",
   "name": "python",
   "nbconvert_exporter": "python",
   "pygments_lexer": "ipython3",
   "version": "3.8.8"
  }
 },
 "nbformat": 4,
 "nbformat_minor": 4
}
