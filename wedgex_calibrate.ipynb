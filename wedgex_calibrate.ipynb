{
 "cells": [
  {
   "cell_type": "markdown",
   "metadata": {},
   "source": [
    "# Wedgex\n",
    "\n",
    "Use an analytical solution for particle trajectories in an orogenic wedge, use the particle depths to calculate thermochronometer cooling ages and compare to thermochronology data. \n",
    "\n",
    "\n",
    "## Workflow:\n",
    "\n",
    "* This notebook was designed to calibrate the wedge exhumation model, i.e. let the model find the parameter values that provides the best fit to thermochronology data. \n",
    "* To change the parameters to calibrate or the starting values adjust the `params_to_change` and `params` variables, see the examples below.\n",
    "\n",
    "The default parameters and data are based on the Kuru Chu cross-section in the Himalayas, a well studied cross section which was explored Long et al. (2012, https://doi.org/10.1029/2012TC003155), Coutand et al. (2014, https://doi.org/10.1002/2013JB010891) and McQuarrie and Ehlers (2015, https://doi.org/10.1002/2014TC003783).\n",
    "\n",
    "The thermochronology data that are used are located in the file [data/thermochron_data_projected.csv](data/thermochron_data_projected.csv). This file was created by a separate notebook [utilities/extract_xsection_data.ipynb](utilities/extract_xsection_data.ipynb), which automatically extracts thermochronology data along a cross-section."
   ]
  },
  {
   "cell_type": "markdown",
   "metadata": {},
   "source": [
    "## Import modules"
   ]
  },
  {
   "cell_type": "code",
   "execution_count": 24,
   "metadata": {},
   "outputs": [],
   "source": [
    "import string\n",
    "import itertools\n",
    "import datetime\n",
    "import pickle\n",
    "import numpy as np\n",
    "import matplotlib.pyplot as pl\n",
    "import pandas as pd\n",
    "\n",
    "import sklearn.metrics\n",
    "\n",
    "import scipy.optimize\n",
    "\n",
    "import astropy.units as u\n",
    "\n",
    "# equations for particle trajectories\n",
    "import wedgeqs\n",
    "\n",
    "# function wrappers to run multiple models and compare modelled and measured thermochron ages\n",
    "import wedgex_model_functions\n",
    "\n",
    "# optional: advective-conductive heat flow model\n",
    "import lib.heat_flow_model as hf"
   ]
  },
  {
   "cell_type": "code",
   "execution_count": 2,
   "metadata": {},
   "outputs": [],
   "source": [
    "pl.rcParams['mathtext.default'] = 'regular'"
   ]
  },
  {
   "cell_type": "code",
   "execution_count": 3,
   "metadata": {},
   "outputs": [],
   "source": [
    "try:\n",
    "    from cmcrameri import cm\n",
    "    cmap = cm.batlow\n",
    "except:\n",
    "    cmap = 'viridis'"
   ]
  },
  {
   "cell_type": "markdown",
   "metadata": {},
   "source": [
    "## Filenames"
   ]
  },
  {
   "cell_type": "code",
   "execution_count": 4,
   "metadata": {},
   "outputs": [],
   "source": [
    "# name of file with thermochron data\n",
    "thermochron_data_file = 'data/thermochron_data_projected.csv'\n",
    "\n",
    "# column with distance\n",
    "distance_column = 'projected_distance_along_xsection'\n",
    "thermochronometer_col = 'system'\n",
    "\n",
    "# filename for output file with modelled ages thermochron samples\n",
    "thermochron_output_file = 'data/modelled_thermochron_data.csv'\n",
    "\n",
    "# output file with modelled ages vs distance\n",
    "thermochron_profile_file = 'data/modelled_thermochron_profiles.csv'"
   ]
  },
  {
   "cell_type": "markdown",
   "metadata": {},
   "source": [
    "## Model parameters"
   ]
  },
  {
   "cell_type": "code",
   "execution_count": 5,
   "metadata": {},
   "outputs": [],
   "source": [
    "year = 365.25 * 24 * 3600.\n",
    "\n",
    "model_run_name = 'default'\n",
    "\n",
    "# compressional, transport and accretion velocity\n",
    "vc = -5e-3 * u.m / u.year\n",
    "vd = -5e-3 * u.m / u.year\n",
    "vxa = 1e-9 * u.m / u.year\n",
    "vya = 1e-9 * u.m / u.year\n",
    "\n",
    "# convergence velocity of the downgoing plate\n",
    "# note this is the horizontal component, the downgoing component is calculated usign the wedge slope\n",
    "v_downgoing = 1.0e-3 * u.m / u.year\n",
    "\n",
    "# option to calibrate parameters or to run the model with default parameters\n",
    "calibrate_parameters = False\n",
    "\n",
    "# parameters to optimize and starting values \n",
    "#model_run_name = 'calibrated'\n",
    "\n",
    "params_to_change = ['convergence', 'conv_part', 'deform_part', 'vxa', 'vya']\n",
    "params = [20e-3 * u.m / u.year, 0.5, 0.5, 1e-5, 1e-5]\n",
    "\n",
    "#params_to_change = ['vc', 'vd']#, 'vxa', 'vya']\n",
    "#params = [2e-3 * u.m / u.year, -8e-3 * u.m / u.year]#, 1e-5 * u.m / u.year, 1e-5 * u.m / u.year]\n",
    "\n",
    "#params_to_change = ['vc', 'vd']#, 'vxa', 'vya']\n",
    "#params = [-2e-3 * u.m / u.year, -8e-3 * u.m / u.year]#, 1e-5 * u.m / u.year, 1e-5 * u.m / u.year]\n",
    "\n",
    "#model_run_name = 'detachment_cal'\n",
    "#params_to_change = ['vd']\n",
    "#params = [-3e-3]\n",
    "\n",
    "#model_run_name = 'compression_cal'\n",
    "#params_to_change = ['vc']\n",
    "#params = [-3e-3]\n",
    "\n",
    "#model_run_name = 'accretion_cal'\n",
    "#params_to_change = ['vxa', 'vya']\n",
    "#params = [1e-5, 1e-5]\n",
    "\n",
    "\n",
    "# lenght of wedge (m)\n",
    "L = 200e3 * u.m\n",
    "\n",
    "# slope of topography (m/m)\n",
    "# for McQuarrie & Ehlers: ~ 4km over 117 km \n",
    "alpha = 0.034\n",
    "\n",
    "# slope of bottom of wedge (m/m)\n",
    "# for McQuarrie & Ehlers: detachment depth at N edge xsection (117 km) = ~20 km\n",
    "beta = -0.17\n",
    "\n",
    "# disctance between surface points (m)\n",
    "x_interval = 5e3 * u.m\n",
    "\n",
    "x_first_pt = 1e3 * u.m\n",
    "\n",
    "# number of rows in the orogenic wedge. Used for figures only, no function in the actual model\n",
    "n_rows = 100\n",
    "\n",
    "# modelled timespan (years)\n",
    "max_time = 2e8 * u.year\n",
    "\n",
    "# timestep size (years)\n",
    "dt = 1e4 * u.year\n",
    "\n",
    "# thermochronology model. choose between 'simple', 'Dodson'\n",
    "#thermochron_model = 'simple'\n",
    "thermochron_model = 'Dodson'\n",
    "\n",
    "# names of thermochronometers, should match the names in your input file\n",
    "thermochron_systems = ['AHe', 'AFT', 'ZHe', 'ZFT', 'MAr']\n",
    "\n",
    "# only low-T thermochron\n",
    "#thermochron_systems = ['AHe', 'AFT', 'ZHe', 'ZFT']\n",
    "\n",
    "# excluding low-T\n",
    "#thermochron_systems = ['ZHe', 'ZFT', 'MAr']\n",
    "\n",
    "# resetting temperatures (degr. C)\n",
    "resetting_temperatures = [70.0 * u.deg_C, 110.0 * u.deg_C, 180.0 * u.deg_C, 230.0 * u.deg_C, 325.0 * u.deg_C]\n",
    "\n",
    "# default exhumation rate, used to calculate ages from the undeformed foreland \n",
    "# that have not been reset inside the wedge (m/yr)\n",
    "default_exhumation_rate = 1e-4 * u.m / u.year\n",
    "\n",
    "# option to remove non-reset ages from database\n",
    "remove_non_reset_ages = True\n",
    "\n",
    "# limit for estimating which ages are reset or not (Ma)\n",
    "reset_age_limit =  100.0 \n",
    "\n",
    "# thermal history model. options: 'numerical' for numeircal steady-state model, 'fixed_gradient' for fixed geothermal gradient\n",
    "thermal_history_model = 'numerical'\n",
    "\n",
    "# geothermal gradient, used to convert resetting temp to depth (degr. C/m) in the case of a fixed_gradient thermal model\n",
    "geothermal_gradient = 0.015 * u.deg_C / u.m\n",
    "\n",
    "# surface temperature at sea lvl (degr. C)\n",
    "surface_temperature_sea_lvl = 24.0 * u.deg_C\n",
    "\n",
    "# adiabatic lapse rate (C/m), used to calculate surface temperatures\n",
    "lapse_rate = -7.0 / 1e3 * u.deg_C / u.m\n",
    "\n",
    "# model domain length of downgoing plate\n",
    "Lxmin = 100e3 * u.m\n",
    "\n",
    "# cellsizes\n",
    "#cellsize_wedge = 2000.0 * u.m\n",
    "#cellsize_footwall = 5000.0 * u.m\n",
    "\n",
    "# cellsizes for the numerical mesh that is used for the numerical heat flow model\n",
    "cellsize_wedge_top = 250.0 * u.m\n",
    "cellsize_wedge_bottom = 2000.0 * u.m\n",
    "cellsize_footwall = 5000.0 * u.m\n",
    "\n",
    "# vertical size downgoing plate\n",
    "Ly = 110e3 * u.m\n",
    "\n",
    "# temperature boundary conditions\n",
    "lab_temp = 1300 * u.deg_C\n",
    "\n",
    "# thermal parameters\n",
    "K = 2.5 * u.W / (u.m * u.K)\n",
    "rho = 2700.0 * u.kg / u.m**3\n",
    "c = 800.0 * u.J / (u.kg * u.K)\n",
    "\n",
    "# heat prod at surface\n",
    "#H0 = 2.25e-6 * u.W / u.m**3\n",
    "H0 = 2.75e-6 * u.W / u.m**3\n",
    "\n",
    "# e-folding depth heat prod\n",
    "e_folding_depth = 17500.0"
   ]
  },
  {
   "cell_type": "code",
   "execution_count": null,
   "metadata": {},
   "outputs": [],
   "source": []
  },
  {
   "cell_type": "markdown",
   "metadata": {},
   "source": [
    "## Additional model calibration options"
   ]
  },
  {
   "cell_type": "code",
   "execution_count": 6,
   "metadata": {},
   "outputs": [],
   "source": [
    "calibration_params = {'calibration_metric': 'RMSE', 'limit_params': True, 'xtol': 1e-8, 'ftol': 1e-8}\n",
    "\n",
    "# metric to calibrate the models. use 'MAE' or 'chisq'\n",
    "calibration_metric = 'RMSE'\n",
    "\n",
    "# https://docs.scipy.org/doc/scipy/reference/generated/scipy.optimize.minimize.html\n",
    "opt_method = \"Nelder-Mead\"\n",
    "\n",
    "# limit parameters to realistic limits\n",
    "# if True the model will limit vc <= 0, vd <= 0, vxa >= 0, vya >=0\n",
    "limit_params = True\n",
    "\n",
    "# convergence criteria for optimization algorithm\n",
    "# see https://docs.scipy.org/doc/scipy/reference/generated/scipy.optimize.fmin.html for more info\n",
    "xtol = 1e-8\n",
    "ftol = 1e-8\n",
    "\n",
    "# max number of iterations\n",
    "maxiter = 100"
   ]
  },
  {
   "cell_type": "markdown",
   "metadata": {
    "editable": true
   },
   "source": [
    "## Set up initial particle positions and timesteps"
   ]
  },
  {
   "cell_type": "code",
   "execution_count": 7,
   "metadata": {
    "collapsed": false,
    "editable": true,
    "jupyter": {
     "outputs_hidden": false
    }
   },
   "outputs": [
    {
     "name": "stdout",
     "output_type": "stream",
     "text": [
      "particle starting points (m from tip of wedge):\n",
      " [  1000.   5000.  10000.  15000.  20000.  25000.  30000.  35000.  40000.\n",
      "  45000.  50000.  55000.  60000.  65000.  70000.  75000.  80000.  85000.\n",
      "  90000.  95000. 100000. 105000. 110000. 115000. 120000. 125000. 130000.\n",
      " 135000. 140000. 145000. 150000. 155000. 160000. 165000. 170000. 175000.\n",
      " 180000. 185000. 190000. 195000. 200000.] m\n",
      "timesteps (yr):\n",
      " [ 0.0000e+00 -1.0000e-02 -2.0000e-02 ... -1.9998e+02 -1.9999e+02\n",
      " -2.0000e+02] yr\n"
     ]
    }
   ],
   "source": [
    "# x-coordinates of starting points:\n",
    "x0s = np.arange(0, L.to(u.m).value + x_interval.to(u.m).value, x_interval.to(u.m).value) * u.m\n",
    "x0s[0] = x_first_pt\n",
    "\n",
    "# timesteps (years)\n",
    "t = np.arange(0, -max_time.to(u.year).value - dt.to(u.year).value, -dt.to(u.year).value) * u.year\n",
    "\n",
    "print('particle starting points (m from tip of wedge):\\n', x0s)\n",
    "\n",
    "print('timesteps (yr):\\n', t / 1e6)"
   ]
  },
  {
   "cell_type": "markdown",
   "metadata": {},
   "source": [
    "## Load thermochron data"
   ]
  },
  {
   "cell_type": "code",
   "execution_count": 8,
   "metadata": {},
   "outputs": [
    {
     "name": "stdout",
     "output_type": "stream",
     "text": [
      "thermochron data systems in file:  ['ZHe' 'AFT' 'MAr']\n"
     ]
    }
   ],
   "source": [
    "df = pd.read_csv(thermochron_data_file)\n",
    "\n",
    "df[thermochronometer_col].unique()\n",
    "\n",
    "print('thermochron data systems in file: ', df[thermochronometer_col].unique())"
   ]
  },
  {
   "cell_type": "markdown",
   "metadata": {},
   "source": [
    "## Remove anomalously old ages"
   ]
  },
  {
   "cell_type": "code",
   "execution_count": 9,
   "metadata": {},
   "outputs": [
    {
     "name": "stdout",
     "output_type": "stream",
     "text": [
      "ages before removing non-reset ages:\n",
      " count      48.000000\n",
      "mean       56.973812\n",
      "std       245.686577\n",
      "min         2.700000\n",
      "25%         4.222500\n",
      "50%         6.930000\n",
      "75%         8.940000\n",
      "max      1395.700000\n",
      "Name: age, dtype: float64\n",
      "ages after removing non-reset ages:\n",
      " count    46.000000\n",
      "mean      6.915935\n",
      "std       2.913004\n",
      "min       2.700000\n",
      "25%       4.207500\n",
      "50%       6.600000\n",
      "75%       8.615000\n",
      "max      14.780000\n",
      "Name: age, dtype: float64\n"
     ]
    }
   ],
   "source": [
    "if remove_non_reset_ages is True:\n",
    "\n",
    "    print('ages before removing non-reset ages:\\n', df['age'].describe())\n",
    "    \n",
    "    df = df[df['age'] < reset_age_limit]\n",
    "    \n",
    "    print('ages after removing non-reset ages:\\n', df['age'].describe())"
   ]
  },
  {
   "cell_type": "markdown",
   "metadata": {},
   "source": [
    "## Get sample data"
   ]
  },
  {
   "cell_type": "code",
   "execution_count": 10,
   "metadata": {},
   "outputs": [],
   "source": [
    "# get sample positions from dataframe\n",
    "x0_samples = df[distance_column].values * u.m\n",
    "\n",
    "# calculate surface temperature\n",
    "#df['surface_T'] = surface_temperature_sea_lvl - lapse_rate * df['elevation']\n",
    "#df['resetting_depth'] = (df['resetting_temp'] - df['surface_T']) / geothermal_gradient\n",
    "\n",
    "#df.head()\n",
    "\n",
    "measured_ages = df['age'].values * 1e6 * u.year\n",
    "#data_distance = df['age'].values\n",
    "measured_ages_sigma = df['age_error_1s'].values * 1e6 * u.year\n",
    "#resetting_temperatures_samples = df['resetting_temp'].values\n",
    "\n",
    "thermochron_system_samples = df[thermochronometer_col].values"
   ]
  },
  {
   "cell_type": "markdown",
   "metadata": {},
   "source": [
    "## Parameter calibration"
   ]
  },
  {
   "cell_type": "code",
   "execution_count": 11,
   "metadata": {},
   "outputs": [
    {
     "name": "stdout",
     "output_type": "stream",
     "text": [
      "using RMSE metric to calibrate model \n",
      "starting optimization, this may take a while, especially in combination with the numerical heat flow model ....\n",
      "parameters that were changed:  ['convergence', 'conv_part', 'deform_part', 'vxa', 'vya']\n",
      "parameter values:  [2.e-02 5.e-01 5.e-01 1.e-05 1.e-05]\n",
      ".modelled ages, min., mean, max.:  1324619.9293884581 yr 4086919.0497313193 yr 13197777.229483346 yr\n",
      "\tME =  2.8290157328773766 yr\n",
      "\tMAE =  2.8773187273005223\n",
      "\tRMSE =  3.179762034541339\n",
      "\tR2 =  -0.21801459369828868\n",
      "\tmisfit =  132.990754220087\n",
      "\tchi squared =  17686.540708027598\n",
      "parameters that were changed:  ['convergence', 'conv_part', 'deform_part', 'vxa', 'vya']\n",
      "parameter values:  [2.1e-02 5.0e-01 5.0e-01 1.0e-05 1.0e-05]\n",
      ".modelled ages, min., mean, max.:  1233493.0431331578 yr 3849038.9603697346 yr 12535894.260404062 yr\n",
      "\tME =  3.06689582223896 yr\n",
      "\tMAE =  3.1067771345400805\n",
      "\tRMSE =  3.3950540708144614\n",
      "\tR2 =  -0.38853439904118026\n",
      "\tmisfit =  143.28271132615734\n",
      "\tchi squared =  20529.935364974932\n",
      "parameters that were changed:  ['convergence', 'conv_part', 'deform_part', 'vxa', 'vya']\n",
      "parameter values:  [2.00e-02 5.25e-01 5.00e-01 1.00e-05 1.00e-05]\n",
      ".modelled ages, min., mean, max.:  1479377.673757279 yr 4442267.12260538 yr 14418196.11494697 yr\n",
      "\tME =  2.4736676600033145 yr\n",
      "\tMAE =  2.543552244191776\n",
      "\tRMSE =  2.8698576770992013\n",
      "\tR2 =  0.007834842267835374\n",
      "\tmisfit =  118.31175590090757\n",
      "\tchi squared =  13997.671584355943\n",
      "parameters that were changed:  ['convergence', 'conv_part', 'deform_part', 'vxa', 'vya']\n",
      "parameter values:  [2.00e-02 5.00e-01 5.25e-01 1.00e-05 1.00e-05]\n",
      ".modelled ages, min., mean, max.:  1318645.9301034615 yr 4165415.1923525585 yr 13548750.965776108 yr\n",
      "\tME =  2.750519590256137 yr\n",
      "\tMAE =  2.809850709465301\n",
      "\tRMSE =  3.116645877095725\n",
      "\tR2 =  -0.1701409305901227\n",
      "\tmisfit =  131.30357441639705\n",
      "\tchi squared =  17240.628654522323\n",
      "parameters that were changed:  ['convergence', 'conv_part', 'deform_part', 'vxa', 'vya']\n",
      "parameter values:  [2.00e-02 5.00e-01 5.00e-01 1.05e-05 1.00e-05]\n",
      ".modelled ages, min., mean, max.:  1324674.0424153502 yr 4087144.525173351 yr 13197912.754068112 yr\n",
      "\tME =  2.8287902574353443 yr\n",
      "\tMAE =  2.87711555671038\n",
      "\tRMSE =  3.1795503133384595\n",
      "\tR2 =  -0.21785239858634053\n",
      "\tmisfit =  132.98057749550273\n",
      "\tchi squared =  17683.83399103741\n",
      "parameters that were changed:  ['convergence', 'conv_part', 'deform_part', 'vxa', 'vya']\n",
      "parameter values:  [2.00e-02 5.00e-01 5.00e-01 1.00e-05 1.05e-05]\n",
      ".modelled ages, min., mean, max.:  1324466.0501205577 yr 4085210.8028318067 yr 13197582.395593185 yr\n",
      "\tME =  2.83072397977689 yr\n",
      "\tMAE =  2.8789435672333226\n",
      "\tRMSE =  3.1807092969899515\n",
      "\tR2 =  -0.21874040357427926\n",
      "\tmisfit =  133.06955431198955\n",
      "\tchi squared =  17707.506284791532\n",
      "parameters that were changed:  ['convergence', 'conv_part', 'deform_part', 'vxa', 'vya']\n",
      "parameter values:  [1.90e-02 5.10e-01 5.10e-01 1.02e-05 1.02e-05]\n",
      ".modelled ages, min., mean, max.:  1498976.2948363174 yr 4532533.13358305 yr 14570549.263210783 yr\n",
      "\tME =  2.3834016490256458 yr\n",
      "\tMAE =  2.4597546370852443\n",
      "\tRMSE =  2.7989149472148367\n",
      "\tR2 =  0.05628109454016206\n",
      "\tmisfit =  115.2978907555829\n",
      "\tchi squared =  13293.603612686331\n",
      "parameters that were changed:  ['convergence', 'conv_part', 'deform_part', 'vxa', 'vya']\n",
      "parameter values:  [1.80e-02 5.15e-01 5.15e-01 1.03e-05 1.03e-05]\n",
      ".modelled ages, min., mean, max.:  1664665.5055719118 yr 4914223.760995854 yr 15969967.809633676 yr\n",
      "\tME =  2.0017110216128424 yr\n",
      "\tMAE =  2.170724600472242\n",
      "\tRMSE =  2.5372118223110176\n",
      "\tR2 =  0.22450910136140623\n",
      "\tmisfit =  102.78096638494422\n",
      "\tchi squared =  10563.927051023036\n",
      "done optimizing\n"
     ]
    },
    {
     "ename": "KeyError",
     "evalue": "0",
     "output_type": "error",
     "traceback": [
      "\u001b[0;31m---------------------------------------------------------------------------\u001b[0m",
      "\u001b[0;31mKeyError\u001b[0m                                  Traceback (most recent call last)",
      "\u001b[0;32m<ipython-input-11-d48170484b94>\u001b[0m in \u001b[0;36m<module>\u001b[0;34m\u001b[0m\n\u001b[1;32m     39\u001b[0m \u001b[0;34m\u001b[0m\u001b[0m\n\u001b[1;32m     40\u001b[0m \u001b[0mprint\u001b[0m\u001b[0;34m(\u001b[0m\u001b[0;34m'done optimizing'\u001b[0m\u001b[0;34m)\u001b[0m\u001b[0;34m\u001b[0m\u001b[0;34m\u001b[0m\u001b[0m\n\u001b[0;32m---> 41\u001b[0;31m \u001b[0mparams\u001b[0m \u001b[0;34m=\u001b[0m \u001b[0mopt_results\u001b[0m\u001b[0;34m[\u001b[0m\u001b[0;36m0\u001b[0m\u001b[0;34m]\u001b[0m\u001b[0;34m\u001b[0m\u001b[0;34m\u001b[0m\u001b[0m\n\u001b[0m\u001b[1;32m     42\u001b[0m \u001b[0mopt_error\u001b[0m \u001b[0;34m=\u001b[0m \u001b[0mopt_results\u001b[0m\u001b[0;34m[\u001b[0m\u001b[0;36m1\u001b[0m\u001b[0;34m]\u001b[0m\u001b[0;34m\u001b[0m\u001b[0;34m\u001b[0m\u001b[0m\n\u001b[1;32m     43\u001b[0m \u001b[0;34m\u001b[0m\u001b[0m\n",
      "\u001b[0;31mKeyError\u001b[0m: 0"
     ]
    }
   ],
   "source": [
    "import imp\n",
    "imp.reload(wedgex_model_functions)\n",
    "\n",
    "import warnings\n",
    "warnings.filterwarnings('ignore')\n",
    "\n",
    "params_ = []\n",
    "\n",
    "for p in params:\n",
    "    if type(p) == u.quantity.Quantity:\n",
    "        params_.append(p.value)\n",
    "    else:\n",
    "        params_.append(p)\n",
    "        \n",
    "#params_ = [p.value for p in params]\n",
    "#params_ = params\n",
    "\n",
    "args = (params_to_change, limit_params, t, x0_samples, alpha, beta, L, vc, vd, vxa, vya, \n",
    "        surface_temperature_sea_lvl, lapse_rate, geothermal_gradient,\n",
    "        measured_ages, measured_ages_sigma, default_exhumation_rate,\n",
    "        calibration_metric, \n",
    "        thermal_history_model, Ly, Lxmin, cellsize_wedge_top, cellsize_wedge_bottom, cellsize_footwall, \n",
    "        lab_temp, K, rho, c, H0, e_folding_depth, v_downgoing, thermochron_model, thermochron_systems, thermochron_system_samples,\n",
    "        resetting_temperatures)\n",
    "\n",
    "# test run\n",
    "#init_results = wedgex_model_functions.compare_modelled_and_measured_ages(params_, *args)\n",
    "\n",
    "print('using %s metric to calibrate model ' % calibration_metric)\n",
    "\n",
    "print('starting optimization, this may take a while, especially in combination with the numerical heat flow model ....')\n",
    "#opt_results = scipy.optimize.fmin(wedgex_model_functions.compare_modelled_and_measured_ages, \n",
    "#                                  params_, args=args, \n",
    "#                                  maxiter=maxiter, xtol=xtol, ftol=ftol, full_output=True)\n",
    "opt_options = {\"full_output\": True, \"maxiter\": maxiter}\n",
    "\n",
    "opt_results = scipy.optimize.minimize(wedgex_model_functions.compare_modelled_and_measured_ages, \n",
    "                                      params_, args=args, method=opt_method, options=opt_options)\n",
    "\n",
    "print('done optimizing')\n"
   ]
  },
  {
   "cell_type": "code",
   "execution_count": 16,
   "metadata": {},
   "outputs": [
    {
     "name": "stdout",
     "output_type": "stream",
     "text": [
      "optimized parameter values  [1.80e-02 5.15e-01 5.15e-01 1.03e-05 1.03e-05]\n",
      "optimized model error  2537211.8223110177\n"
     ]
    }
   ],
   "source": [
    "params = opt_results.x\n",
    "opt_error = opt_results.fun\n",
    "\n",
    "print('optimized parameter values ', params)\n",
    "print('optimized model error ', opt_error)"
   ]
  },
  {
   "cell_type": "markdown",
   "metadata": {},
   "source": [
    "## Save calibration results "
   ]
  },
  {
   "cell_type": "code",
   "execution_count": 26,
   "metadata": {},
   "outputs": [
    {
     "data": {
      "text/html": [
       "<div>\n",
       "<style scoped>\n",
       "    .dataframe tbody tr th:only-of-type {\n",
       "        vertical-align: middle;\n",
       "    }\n",
       "\n",
       "    .dataframe tbody tr th {\n",
       "        vertical-align: top;\n",
       "    }\n",
       "\n",
       "    .dataframe thead th {\n",
       "        text-align: right;\n",
       "    }\n",
       "</style>\n",
       "<table border=\"1\" class=\"dataframe\">\n",
       "  <thead>\n",
       "    <tr style=\"text-align: right;\">\n",
       "      <th></th>\n",
       "      <th>convergence</th>\n",
       "      <th>conv_part</th>\n",
       "      <th>deform_part</th>\n",
       "      <th>vxa</th>\n",
       "      <th>vya</th>\n",
       "      <th>model_error</th>\n",
       "    </tr>\n",
       "  </thead>\n",
       "  <tbody>\n",
       "    <tr>\n",
       "      <th>0</th>\n",
       "      <td>0.018</td>\n",
       "      <td>0.515</td>\n",
       "      <td>0.515</td>\n",
       "      <td>0.000010</td>\n",
       "      <td>0.000010</td>\n",
       "      <td>2.537212e+06</td>\n",
       "    </tr>\n",
       "    <tr>\n",
       "      <th>1</th>\n",
       "      <td>0.020</td>\n",
       "      <td>0.525</td>\n",
       "      <td>0.500</td>\n",
       "      <td>0.000010</td>\n",
       "      <td>0.000010</td>\n",
       "      <td>2.869858e+06</td>\n",
       "    </tr>\n",
       "    <tr>\n",
       "      <th>2</th>\n",
       "      <td>0.020</td>\n",
       "      <td>0.500</td>\n",
       "      <td>0.525</td>\n",
       "      <td>0.000010</td>\n",
       "      <td>0.000010</td>\n",
       "      <td>3.116646e+06</td>\n",
       "    </tr>\n",
       "    <tr>\n",
       "      <th>3</th>\n",
       "      <td>0.020</td>\n",
       "      <td>0.500</td>\n",
       "      <td>0.500</td>\n",
       "      <td>0.000011</td>\n",
       "      <td>0.000010</td>\n",
       "      <td>3.179550e+06</td>\n",
       "    </tr>\n",
       "    <tr>\n",
       "      <th>4</th>\n",
       "      <td>0.020</td>\n",
       "      <td>0.500</td>\n",
       "      <td>0.500</td>\n",
       "      <td>0.000010</td>\n",
       "      <td>0.000010</td>\n",
       "      <td>3.179762e+06</td>\n",
       "    </tr>\n",
       "    <tr>\n",
       "      <th>5</th>\n",
       "      <td>0.020</td>\n",
       "      <td>0.500</td>\n",
       "      <td>0.500</td>\n",
       "      <td>0.000010</td>\n",
       "      <td>0.000011</td>\n",
       "      <td>3.180709e+06</td>\n",
       "    </tr>\n",
       "  </tbody>\n",
       "</table>\n",
       "</div>"
      ],
      "text/plain": [
       "   convergence  conv_part  deform_part       vxa       vya   model_error\n",
       "0        0.018      0.515        0.515  0.000010  0.000010  2.537212e+06\n",
       "1        0.020      0.525        0.500  0.000010  0.000010  2.869858e+06\n",
       "2        0.020      0.500        0.525  0.000010  0.000010  3.116646e+06\n",
       "3        0.020      0.500        0.500  0.000011  0.000010  3.179550e+06\n",
       "4        0.020      0.500        0.500  0.000010  0.000010  3.179762e+06\n",
       "5        0.020      0.500        0.500  0.000010  0.000011  3.180709e+06"
      ]
     },
     "execution_count": 26,
     "metadata": {},
     "output_type": "execute_result"
    }
   ],
   "source": [
    "param_tries, model_errors = opt_results.final_simplex\n",
    "\n",
    "dfr = pd.DataFrame(index=np.arange(len(model_errors)), columns=params_to_change + ['model_error'])\n",
    "\n",
    "for i, p in enumerate(params_to_change):\n",
    "    dfr[p] = param_tries[:, i]\n",
    "    \n",
    "dfr[\"model_error\"] = model_errors\n",
    "\n",
    "today = datetime.datetime.now()\n",
    "today_str = '%i-%i-%i' % (today.day, today.month, today.year)\n",
    "fn = f\"calibrated_parameters_{len(model_errors)}_tries_{today_str}.csv\"\n",
    "dfr.to_csv(fn, index_label=\"calibrated_parameter\")\n",
    "\n",
    "dfr"
   ]
  },
  {
   "cell_type": "markdown",
   "metadata": {},
   "source": [
    "## Save input data as pickle file"
   ]
  },
  {
   "cell_type": "code",
   "execution_count": 27,
   "metadata": {},
   "outputs": [],
   "source": [
    "fnp = f\"calibrated_parameters_{len(model_errors)}_tries_{today_str}.pck\"\n",
    "fout = open(fnp, \"wb\")\n",
    "pickle.dump(args, fout)\n",
    "fout.close()"
   ]
  },
  {
   "cell_type": "code",
   "execution_count": 29,
   "metadata": {},
   "outputs": [
    {
     "data": {
      "text/plain": [
       "(<Quantity -0.007 deg_C / m>, <Quantity 800. J / (K kg)>)"
      ]
     },
     "execution_count": 29,
     "metadata": {},
     "output_type": "execute_result"
    }
   ],
   "source": [
    "lapse_rate, c"
   ]
  },
  {
   "cell_type": "code",
   "execution_count": null,
   "metadata": {},
   "outputs": [],
   "source": []
  }
 ],
 "metadata": {
  "kernelspec": {
   "display_name": "Python 3",
   "language": "python",
   "name": "python3"
  },
  "language_info": {
   "codemirror_mode": {
    "name": "ipython",
    "version": 3
   },
   "file_extension": ".py",
   "mimetype": "text/x-python",
   "name": "python",
   "nbconvert_exporter": "python",
   "pygments_lexer": "ipython3",
   "version": "3.8.8"
  }
 },
 "nbformat": 4,
 "nbformat_minor": 4
}
